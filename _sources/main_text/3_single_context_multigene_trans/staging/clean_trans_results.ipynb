{
 "cells": [
  {
   "cell_type": "code",
   "execution_count": null,
   "id": "f20aa145-db20-4232-b9fd-d273ed6cec41",
   "metadata": {},
   "outputs": [],
   "source": []
  },
  {
   "cell_type": "markdown",
   "id": "b148ac40-1995-46da-9b67-acaf628252fd",
   "metadata": {},
   "source": [
    "# Clean trans results"
   ]
  },
  {
   "cell_type": "markdown",
   "id": "0aeff722-c273-4c88-b1f0-69a49d930962",
   "metadata": {},
   "source": [
    "This notebook filters the trans results by retaining variants with MAF > 0.05 and p < 1×10⁻⁵, and removes trans loci that are explained solely by AD loci but whose signals originate from block boundaries. The filtering criterion is defined as having signals in a neighboring block located within 100 kb of the boundary.\n",
    "\n",
    "The filtered trans results are stored at: s3://statfungen/ftp_fgc_xqtl/analysis_result/trans/FunGen_xQTL.trans.exported.toploci.bed.gz."
   ]
  },
  {
   "cell_type": "markdown",
   "id": "e19a4558-52b5-48f3-8fc9-03eae1dcf304",
   "metadata": {},
   "source": [
    "## Check Boundry"
   ]
  },
  {
   "cell_type": "code",
   "execution_count": 1,
   "id": "df74c706-1fa5-4d54-802c-a1633562adf1",
   "metadata": {},
   "outputs": [
    {
     "name": "stderr",
     "output_type": "stream",
     "text": [
      "── \u001b[1mAttaching core tidyverse packages\u001b[22m ──────────────────────── tidyverse 2.0.0 ──\n",
      "\u001b[32m✔\u001b[39m \u001b[34mdplyr    \u001b[39m 1.1.4     \u001b[32m✔\u001b[39m \u001b[34mreadr    \u001b[39m 2.1.5\n",
      "\u001b[32m✔\u001b[39m \u001b[34mforcats  \u001b[39m 1.0.0     \u001b[32m✔\u001b[39m \u001b[34mstringr  \u001b[39m 1.5.1\n",
      "\u001b[32m✔\u001b[39m \u001b[34mggplot2  \u001b[39m 3.5.2     \u001b[32m✔\u001b[39m \u001b[34mtibble   \u001b[39m 3.3.0\n",
      "\u001b[32m✔\u001b[39m \u001b[34mlubridate\u001b[39m 1.9.4     \u001b[32m✔\u001b[39m \u001b[34mtidyr    \u001b[39m 1.3.1\n",
      "\u001b[32m✔\u001b[39m \u001b[34mpurrr    \u001b[39m 1.1.0     \n",
      "── \u001b[1mConflicts\u001b[22m ────────────────────────────────────────── tidyverse_conflicts() ──\n",
      "\u001b[31m✖\u001b[39m \u001b[34mdplyr\u001b[39m::\u001b[32mfilter()\u001b[39m masks \u001b[34mstats\u001b[39m::filter()\n",
      "\u001b[31m✖\u001b[39m \u001b[34mdplyr\u001b[39m::\u001b[32mlag()\u001b[39m    masks \u001b[34mstats\u001b[39m::lag()\n",
      "\u001b[36mℹ\u001b[39m Use the conflicted package (\u001b[3m\u001b[34m<http://conflicted.r-lib.org/>\u001b[39m\u001b[23m) to force all conflicts to become errors\n",
      "\n",
      "Attaching package: ‘data.table’\n",
      "\n",
      "\n",
      "The following objects are masked from ‘package:lubridate’:\n",
      "\n",
      "    hour, isoweek, mday, minute, month, quarter, second, wday, week,\n",
      "    yday, year\n",
      "\n",
      "\n",
      "The following objects are masked from ‘package:dplyr’:\n",
      "\n",
      "    between, first, last\n",
      "\n",
      "\n",
      "The following object is masked from ‘package:purrr’:\n",
      "\n",
      "    transpose\n",
      "\n",
      "\n"
     ]
    }
   ],
   "source": [
    "library(tidyverse)\n",
    "library(data.table)"
   ]
  },
  {
   "cell_type": "code",
   "execution_count": 2,
   "id": "684a40de-109f-4cde-a7ba-f6b9b2e0f8aa",
   "metadata": {},
   "outputs": [],
   "source": [
    "trans <- fread('~/Work/trans/TensorQTL_post/FunGen_xQTL.trans.nofiltered.exported.toploci.bed.gz')"
   ]
  },
  {
   "cell_type": "code",
   "execution_count": 3,
   "id": "20730092-3c3c-46d0-ad31-4d8181b1b959",
   "metadata": {},
   "outputs": [
    {
     "data": {
      "text/html": [
       "<table class=\"dataframe\">\n",
       "<caption>A data.table: 6 × 18</caption>\n",
       "<thead>\n",
       "\t<tr><th scope=col>#chr</th><th scope=col>start</th><th scope=col>end</th><th scope=col>a1</th><th scope=col>a2</th><th scope=col>variant_ID</th><th scope=col>MAF</th><th scope=col>betahat</th><th scope=col>sebetahat</th><th scope=col>z</th><th scope=col>gene_ID</th><th scope=col>event_ID</th><th scope=col>cs_coverage_0.95</th><th scope=col>cs_coverage_0.7</th><th scope=col>cs_coverage_0.5</th><th scope=col>PIP</th><th scope=col>conditional_effect</th><th scope=col>resource</th></tr>\n",
       "\t<tr><th scope=col>&lt;int&gt;</th><th scope=col>&lt;dbl&gt;</th><th scope=col>&lt;int&gt;</th><th scope=col>&lt;chr&gt;</th><th scope=col>&lt;chr&gt;</th><th scope=col>&lt;chr&gt;</th><th scope=col>&lt;dbl&gt;</th><th scope=col>&lt;dbl&gt;</th><th scope=col>&lt;dbl&gt;</th><th scope=col>&lt;dbl&gt;</th><th scope=col>&lt;chr&gt;</th><th scope=col>&lt;chr&gt;</th><th scope=col>&lt;int&gt;</th><th scope=col>&lt;int&gt;</th><th scope=col>&lt;int&gt;</th><th scope=col>&lt;dbl&gt;</th><th scope=col>&lt;dbl&gt;</th><th scope=col>&lt;chr&gt;</th></tr>\n",
       "</thead>\n",
       "<tbody>\n",
       "\t<tr><td>1</td><td>896978</td><td>896979</td><td>T</td><td>C</td><td>chr1:896979:C:T</td><td>0.02463768</td><td>0.6624651</td><td>0.1094392</td><td>6.053272</td><td>chr1_16103_2888443</td><td>Knight_eQTL_ENSG00000168496</td><td>2</td><td>2</td><td>2</td><td>0.38040437</td><td>0.5381642</td><td>Knight_eQTL</td></tr>\n",
       "\t<tr><td>1</td><td>898882</td><td>898883</td><td>T</td><td>C</td><td>chr1:898883:C:T</td><td>0.01906158</td><td>0.7379140</td><td>0.1179395</td><td>6.256717</td><td>chr1_16103_2888443</td><td>Knight_eQTL_ENSG00000168496</td><td>2</td><td>2</td><td>2</td><td>0.23974357</td><td>0.5723862</td><td>Knight_eQTL</td></tr>\n",
       "\t<tr><td>1</td><td>903284</td><td>903285</td><td>C</td><td>T</td><td>chr1:903285:T:C</td><td>0.02052786</td><td>0.6586505</td><td>0.1138062</td><td>5.787474</td><td>chr1_16103_2888443</td><td>Knight_eQTL_ENSG00000168496</td><td>2</td><td>2</td><td>0</td><td>0.04172245</td><td>0.5084460</td><td>Knight_eQTL</td></tr>\n",
       "\t<tr><td>1</td><td>903351</td><td>903352</td><td>A</td><td>G</td><td>chr1:903352:G:A</td><td>0.02052786</td><td>0.6586505</td><td>0.1138062</td><td>5.787474</td><td>chr1_16103_2888443</td><td>Knight_eQTL_ENSG00000168496</td><td>2</td><td>0</td><td>0</td><td>0.04172245</td><td>0.5084460</td><td>Knight_eQTL</td></tr>\n",
       "\t<tr><td>1</td><td>903509</td><td>903510</td><td>G</td><td>A</td><td>chr1:903510:A:G</td><td>0.02052786</td><td>0.6586505</td><td>0.1138062</td><td>5.787474</td><td>chr1_16103_2888443</td><td>Knight_eQTL_ENSG00000168496</td><td>2</td><td>0</td><td>0</td><td>0.04172245</td><td>0.5084460</td><td>Knight_eQTL</td></tr>\n",
       "\t<tr><td>1</td><td>903535</td><td>903536</td><td>T</td><td>A</td><td>chr1:903536:A:T</td><td>0.02052786</td><td>0.6586505</td><td>0.1138062</td><td>5.787474</td><td>chr1_16103_2888443</td><td>Knight_eQTL_ENSG00000168496</td><td>2</td><td>0</td><td>0</td><td>0.04172245</td><td>0.5084460</td><td>Knight_eQTL</td></tr>\n",
       "</tbody>\n",
       "</table>\n"
      ],
      "text/latex": [
       "A data.table: 6 × 18\n",
       "\\begin{tabular}{llllllllllllllllll}\n",
       " \\#chr & start & end & a1 & a2 & variant\\_ID & MAF & betahat & sebetahat & z & gene\\_ID & event\\_ID & cs\\_coverage\\_0.95 & cs\\_coverage\\_0.7 & cs\\_coverage\\_0.5 & PIP & conditional\\_effect & resource\\\\\n",
       " <int> & <dbl> & <int> & <chr> & <chr> & <chr> & <dbl> & <dbl> & <dbl> & <dbl> & <chr> & <chr> & <int> & <int> & <int> & <dbl> & <dbl> & <chr>\\\\\n",
       "\\hline\n",
       "\t 1 & 896978 & 896979 & T & C & chr1:896979:C:T & 0.02463768 & 0.6624651 & 0.1094392 & 6.053272 & chr1\\_16103\\_2888443 & Knight\\_eQTL\\_ENSG00000168496 & 2 & 2 & 2 & 0.38040437 & 0.5381642 & Knight\\_eQTL\\\\\n",
       "\t 1 & 898882 & 898883 & T & C & chr1:898883:C:T & 0.01906158 & 0.7379140 & 0.1179395 & 6.256717 & chr1\\_16103\\_2888443 & Knight\\_eQTL\\_ENSG00000168496 & 2 & 2 & 2 & 0.23974357 & 0.5723862 & Knight\\_eQTL\\\\\n",
       "\t 1 & 903284 & 903285 & C & T & chr1:903285:T:C & 0.02052786 & 0.6586505 & 0.1138062 & 5.787474 & chr1\\_16103\\_2888443 & Knight\\_eQTL\\_ENSG00000168496 & 2 & 2 & 0 & 0.04172245 & 0.5084460 & Knight\\_eQTL\\\\\n",
       "\t 1 & 903351 & 903352 & A & G & chr1:903352:G:A & 0.02052786 & 0.6586505 & 0.1138062 & 5.787474 & chr1\\_16103\\_2888443 & Knight\\_eQTL\\_ENSG00000168496 & 2 & 0 & 0 & 0.04172245 & 0.5084460 & Knight\\_eQTL\\\\\n",
       "\t 1 & 903509 & 903510 & G & A & chr1:903510:A:G & 0.02052786 & 0.6586505 & 0.1138062 & 5.787474 & chr1\\_16103\\_2888443 & Knight\\_eQTL\\_ENSG00000168496 & 2 & 0 & 0 & 0.04172245 & 0.5084460 & Knight\\_eQTL\\\\\n",
       "\t 1 & 903535 & 903536 & T & A & chr1:903536:A:T & 0.02052786 & 0.6586505 & 0.1138062 & 5.787474 & chr1\\_16103\\_2888443 & Knight\\_eQTL\\_ENSG00000168496 & 2 & 0 & 0 & 0.04172245 & 0.5084460 & Knight\\_eQTL\\\\\n",
       "\\end{tabular}\n"
      ],
      "text/markdown": [
       "\n",
       "A data.table: 6 × 18\n",
       "\n",
       "| #chr &lt;int&gt; | start &lt;dbl&gt; | end &lt;int&gt; | a1 &lt;chr&gt; | a2 &lt;chr&gt; | variant_ID &lt;chr&gt; | MAF &lt;dbl&gt; | betahat &lt;dbl&gt; | sebetahat &lt;dbl&gt; | z &lt;dbl&gt; | gene_ID &lt;chr&gt; | event_ID &lt;chr&gt; | cs_coverage_0.95 &lt;int&gt; | cs_coverage_0.7 &lt;int&gt; | cs_coverage_0.5 &lt;int&gt; | PIP &lt;dbl&gt; | conditional_effect &lt;dbl&gt; | resource &lt;chr&gt; |\n",
       "|---|---|---|---|---|---|---|---|---|---|---|---|---|---|---|---|---|---|\n",
       "| 1 | 896978 | 896979 | T | C | chr1:896979:C:T | 0.02463768 | 0.6624651 | 0.1094392 | 6.053272 | chr1_16103_2888443 | Knight_eQTL_ENSG00000168496 | 2 | 2 | 2 | 0.38040437 | 0.5381642 | Knight_eQTL |\n",
       "| 1 | 898882 | 898883 | T | C | chr1:898883:C:T | 0.01906158 | 0.7379140 | 0.1179395 | 6.256717 | chr1_16103_2888443 | Knight_eQTL_ENSG00000168496 | 2 | 2 | 2 | 0.23974357 | 0.5723862 | Knight_eQTL |\n",
       "| 1 | 903284 | 903285 | C | T | chr1:903285:T:C | 0.02052786 | 0.6586505 | 0.1138062 | 5.787474 | chr1_16103_2888443 | Knight_eQTL_ENSG00000168496 | 2 | 2 | 0 | 0.04172245 | 0.5084460 | Knight_eQTL |\n",
       "| 1 | 903351 | 903352 | A | G | chr1:903352:G:A | 0.02052786 | 0.6586505 | 0.1138062 | 5.787474 | chr1_16103_2888443 | Knight_eQTL_ENSG00000168496 | 2 | 0 | 0 | 0.04172245 | 0.5084460 | Knight_eQTL |\n",
       "| 1 | 903509 | 903510 | G | A | chr1:903510:A:G | 0.02052786 | 0.6586505 | 0.1138062 | 5.787474 | chr1_16103_2888443 | Knight_eQTL_ENSG00000168496 | 2 | 0 | 0 | 0.04172245 | 0.5084460 | Knight_eQTL |\n",
       "| 1 | 903535 | 903536 | T | A | chr1:903536:A:T | 0.02052786 | 0.6586505 | 0.1138062 | 5.787474 | chr1_16103_2888443 | Knight_eQTL_ENSG00000168496 | 2 | 0 | 0 | 0.04172245 | 0.5084460 | Knight_eQTL |\n",
       "\n"
      ],
      "text/plain": [
       "  #chr start  end    a1 a2 variant_ID      MAF        betahat   sebetahat\n",
       "1 1    896978 896979 T  C  chr1:896979:C:T 0.02463768 0.6624651 0.1094392\n",
       "2 1    898882 898883 T  C  chr1:898883:C:T 0.01906158 0.7379140 0.1179395\n",
       "3 1    903284 903285 C  T  chr1:903285:T:C 0.02052786 0.6586505 0.1138062\n",
       "4 1    903351 903352 A  G  chr1:903352:G:A 0.02052786 0.6586505 0.1138062\n",
       "5 1    903509 903510 G  A  chr1:903510:A:G 0.02052786 0.6586505 0.1138062\n",
       "6 1    903535 903536 T  A  chr1:903536:A:T 0.02052786 0.6586505 0.1138062\n",
       "  z        gene_ID            event_ID                    cs_coverage_0.95\n",
       "1 6.053272 chr1_16103_2888443 Knight_eQTL_ENSG00000168496 2               \n",
       "2 6.256717 chr1_16103_2888443 Knight_eQTL_ENSG00000168496 2               \n",
       "3 5.787474 chr1_16103_2888443 Knight_eQTL_ENSG00000168496 2               \n",
       "4 5.787474 chr1_16103_2888443 Knight_eQTL_ENSG00000168496 2               \n",
       "5 5.787474 chr1_16103_2888443 Knight_eQTL_ENSG00000168496 2               \n",
       "6 5.787474 chr1_16103_2888443 Knight_eQTL_ENSG00000168496 2               \n",
       "  cs_coverage_0.7 cs_coverage_0.5 PIP        conditional_effect resource   \n",
       "1 2               2               0.38040437 0.5381642          Knight_eQTL\n",
       "2 2               2               0.23974357 0.5723862          Knight_eQTL\n",
       "3 2               0               0.04172245 0.5084460          Knight_eQTL\n",
       "4 0               0               0.04172245 0.5084460          Knight_eQTL\n",
       "5 0               0               0.04172245 0.5084460          Knight_eQTL\n",
       "6 0               0               0.04172245 0.5084460          Knight_eQTL"
      ]
     },
     "metadata": {},
     "output_type": "display_data"
    }
   ],
   "source": [
    "trans %>% head"
   ]
  },
  {
   "cell_type": "code",
   "execution_count": 4,
   "id": "89c52548-3521-4d30-9793-5f5254c6fa6d",
   "metadata": {},
   "outputs": [],
   "source": [
    "trans_only_gwas_cs_sum_raw <- readRDS('trans_only.loci.info.rds')\n",
    "trans_only_gwas_cs_sum <- trans_only_gwas_cs_sum_raw %>% \n",
    "  separate_rows(events, sep = \",\") %>% \n",
    "    mutate(resource = str_remove(events, '_ENSG.+|_gp_.+'), \n",
    "          gene = str_extract(events, 'ENSG.+'))"
   ]
  },
  {
   "cell_type": "code",
   "execution_count": 24,
   "id": "b1c4ff4f-8ee9-41ca-91b2-f599dcf52de5",
   "metadata": {},
   "outputs": [
    {
     "data": {
      "text/html": [
       "<style>\n",
       ".list-inline {list-style: none; margin:0; padding: 0}\n",
       ".list-inline>li {display: inline-block}\n",
       ".list-inline>li:not(:last-child)::after {content: \"\\00b7\"; padding: 0 .5ex}\n",
       "</style>\n",
       "<ol class=list-inline><li>'chr11_119829118_122612025'</li><li>'chr15_47690138_49901356'</li><li>'chr15_49901356_51733753'</li><li>'chr16_78676505_80260790'</li><li>'chr16_88382277_90220225'</li><li>'chr1_158933969_162352348'</li><li>'chr20_40697409_42726168'</li><li>'chr2_125689597_127728648'</li><li>'chr2_158720603_160577800'</li><li>'chr3_154360351_156292136'</li><li>'chr5_139769624_142619401'</li><li>'chr5_149895776_152257891'</li><li>'chr8_26225312_27515963'</li></ol>\n"
      ],
      "text/latex": [
       "\\begin{enumerate*}\n",
       "\\item 'chr11\\_119829118\\_122612025'\n",
       "\\item 'chr15\\_47690138\\_49901356'\n",
       "\\item 'chr15\\_49901356\\_51733753'\n",
       "\\item 'chr16\\_78676505\\_80260790'\n",
       "\\item 'chr16\\_88382277\\_90220225'\n",
       "\\item 'chr1\\_158933969\\_162352348'\n",
       "\\item 'chr20\\_40697409\\_42726168'\n",
       "\\item 'chr2\\_125689597\\_127728648'\n",
       "\\item 'chr2\\_158720603\\_160577800'\n",
       "\\item 'chr3\\_154360351\\_156292136'\n",
       "\\item 'chr5\\_139769624\\_142619401'\n",
       "\\item 'chr5\\_149895776\\_152257891'\n",
       "\\item 'chr8\\_26225312\\_27515963'\n",
       "\\end{enumerate*}\n"
      ],
      "text/markdown": [
       "1. 'chr11_119829118_122612025'\n",
       "2. 'chr15_47690138_49901356'\n",
       "3. 'chr15_49901356_51733753'\n",
       "4. 'chr16_78676505_80260790'\n",
       "5. 'chr16_88382277_90220225'\n",
       "6. 'chr1_158933969_162352348'\n",
       "7. 'chr20_40697409_42726168'\n",
       "8. 'chr2_125689597_127728648'\n",
       "9. 'chr2_158720603_160577800'\n",
       "10. 'chr3_154360351_156292136'\n",
       "11. 'chr5_139769624_142619401'\n",
       "12. 'chr5_149895776_152257891'\n",
       "13. 'chr8_26225312_27515963'\n",
       "\n",
       "\n"
      ],
      "text/plain": [
       " [1] \"chr11_119829118_122612025\" \"chr15_47690138_49901356\"  \n",
       " [3] \"chr15_49901356_51733753\"   \"chr16_78676505_80260790\"  \n",
       " [5] \"chr16_88382277_90220225\"   \"chr1_158933969_162352348\" \n",
       " [7] \"chr20_40697409_42726168\"   \"chr2_125689597_127728648\" \n",
       " [9] \"chr2_158720603_160577800\"  \"chr3_154360351_156292136\" \n",
       "[11] \"chr5_139769624_142619401\"  \"chr5_149895776_152257891\" \n",
       "[13] \"chr8_26225312_27515963\"   "
      ]
     },
     "metadata": {},
     "output_type": "display_data"
    }
   ],
   "source": [
    "trans_only_gwas_cs_sum_raw %>% pull(region) %>% unique "
   ]
  },
  {
   "cell_type": "code",
   "execution_count": 5,
   "id": "8b7cb889-6a4b-474b-8222-39d57c52de41",
   "metadata": {},
   "outputs": [
    {
     "data": {
      "text/html": [
       "21"
      ],
      "text/latex": [
       "21"
      ],
      "text/markdown": [
       "21"
      ],
      "text/plain": [
       "[1] 21"
      ]
     },
     "metadata": {},
     "output_type": "display_data"
    }
   ],
   "source": [
    "nrow(trans_only_gwas_cs_sum)"
   ]
  },
  {
   "cell_type": "code",
   "execution_count": 6,
   "id": "5b72c130-e0d6-4c8e-b619-b0dbcd33be8b",
   "metadata": {},
   "outputs": [
    {
     "data": {
      "image/png": "[encoded data removed]",
      "text/plain": [
       "plot without title"
      ]
     },
     "metadata": {
      "image/png": {
       "height": 420,
       "width": 420
      }
     },
     "output_type": "display_data"
    },
    {
     "data": {
      "image/png": "[encoded data removed]",
      "text/plain": [
       "plot without title"
      ]
     },
     "metadata": {
      "image/png": {
       "height": 420,
       "width": 420
      }
     },
     "output_type": "display_data"
    },
    {
     "data": {
      "image/png": "[encoded data removed]",
      "text/plain": [
       "plot without title"
      ]
     },
     "metadata": {
      "image/png": {
       "height": 420,
       "width": 420
      }
     },
     "output_type": "display_data"
    },
    {
     "data": {
      "image/png": "[encoded data removed]",
      "text/plain": [
       "plot without title"
      ]
     },
     "metadata": {
      "image/png": {
       "height": 420,
       "width": 420
      }
     },
     "output_type": "display_data"
    },
    {
     "data": {
      "image/png": "[encoded data removed]",
      "text/plain": [
       "plot without title"
      ]
     },
     "metadata": {
      "image/png": {
       "height": 420,
       "width": 420
      }
     },
     "output_type": "display_data"
    },
    {
     "data": {
      "image/png": "[encoded data removed]",
      "text/plain": [
       "plot without title"
      ]
     },
     "metadata": {
      "image/png": {
       "height": 420,
       "width": 420
      }
     },
     "output_type": "display_data"
    },
    {
     "data": {
      "image/png": "[encoded data removed]",
      "text/plain": [
       "plot without title"
      ]
     },
     "metadata": {
      "image/png": {
       "height": 420,
       "width": 420
      }
     },
     "output_type": "display_data"
    },
    {
     "data": {
      "image/png": "[encoded data removed]",
      "text/plain": [
       "plot without title"
      ]
     },
     "metadata": {
      "image/png": {
       "height": 420,
       "width": 420
      }
     },
     "output_type": "display_data"
    },
    {
     "data": {
      "image/png": "[encoded data removed]",
      "text/plain": [
       "plot without title"
      ]
     },
     "metadata": {
      "image/png": {
       "height": 420,
       "width": 420
      }
     },
     "output_type": "display_data"
    },
    {
     "data": {
      "image/png": "[encoded data removed]",
      "text/plain": [
       "plot without title"
      ]
     },
     "metadata": {
      "image/png": {
       "height": 420,
       "width": 420
      }
     },
     "output_type": "display_data"
    }
   ],
   "source": [
    "# i=7\n",
    "library(susieR)\n",
    "trans_path <- '/home/fengr1/Work/trans/TensorQTL_post/'\n",
    "boundry_indexs <- c(2, 3, 6, 10, 11, 12, 16, 19, 20, 21)\n",
    "for(i in boundry_indexs){\n",
    "    sob_files <- list.files(paste0(trans_path, trans_only_gwas_cs_sum$resource[i], '/fine_mapping'), '.univariate_bvsr.rds', full.names = T)\n",
    "\n",
    "    sob_file <- sob_files %>% .[str_detect(sob_files, trans_only_gwas_cs_sum$region[i])]\n",
    "\n",
    "    sob <- readRDS(sob_file)\n",
    "    susie_plot(sob[[1]][[trans_only_gwas_cs_sum$events[i]]][['susie_result_trimmed']],\"PIP\")\n",
    "\n",
    "}\n"
   ]
  },
  {
   "cell_type": "code",
   "execution_count": 25,
   "id": "39d15c76-79fd-4724-9e40-997b80589baa",
   "metadata": {},
   "outputs": [
    {
     "data": {
      "text/html": [
       "<style>\n",
       ".list-inline {list-style: none; margin:0; padding: 0}\n",
       ".list-inline>li {display: inline-block}\n",
       ".list-inline>li:not(:last-child)::after {content: \"\\00b7\"; padding: 0 .5ex}\n",
       "</style>\n",
       "<ol class=list-inline><li>'chr15_47690138_49901356'</li><li>'chr15_49901356_51733753'</li><li>'chr16_88382277_90220225'</li><li>'chr2_158720603_160577800'</li><li>'chr5_139769624_142619401'</li><li>'chr8_26225312_27515963'</li></ol>\n"
      ],
      "text/latex": [
       "\\begin{enumerate*}\n",
       "\\item 'chr15\\_47690138\\_49901356'\n",
       "\\item 'chr15\\_49901356\\_51733753'\n",
       "\\item 'chr16\\_88382277\\_90220225'\n",
       "\\item 'chr2\\_158720603\\_160577800'\n",
       "\\item 'chr5\\_139769624\\_142619401'\n",
       "\\item 'chr8\\_26225312\\_27515963'\n",
       "\\end{enumerate*}\n"
      ],
      "text/markdown": [
       "1. 'chr15_47690138_49901356'\n",
       "2. 'chr15_49901356_51733753'\n",
       "3. 'chr16_88382277_90220225'\n",
       "4. 'chr2_158720603_160577800'\n",
       "5. 'chr5_139769624_142619401'\n",
       "6. 'chr8_26225312_27515963'\n",
       "\n",
       "\n"
      ],
      "text/plain": [
       "[1] \"chr15_47690138_49901356\"  \"chr15_49901356_51733753\" \n",
       "[3] \"chr16_88382277_90220225\"  \"chr2_158720603_160577800\"\n",
       "[5] \"chr5_139769624_142619401\" \"chr8_26225312_27515963\"  "
      ]
     },
     "metadata": {},
     "output_type": "display_data"
    }
   ],
   "source": [
    "trans_only_gwas_cs_sum[boundry_indexs, ] %>% pull(region) %>% unique "
   ]
  },
  {
   "cell_type": "code",
   "execution_count": 7,
   "id": "db213d72-86c3-415b-a679-4a4f59ec7a88",
   "metadata": {},
   "outputs": [],
   "source": [
    "trans_only_gwas_cs_sum_boundry <- trans_only_gwas_cs_sum[boundry_indexs,]"
   ]
  },
  {
   "cell_type": "code",
   "execution_count": 8,
   "id": "2c833456-62a2-4875-9b10-f9a7ee4b2183",
   "metadata": {},
   "outputs": [
    {
     "data": {
      "text/html": [
       "<table class=\"dataframe\">\n",
       "<caption>A tibble: 10 × 6</caption>\n",
       "<thead>\n",
       "\t<tr><th scope=col>region</th><th scope=col>n_event</th><th scope=col>events</th><th scope=col>studies</th><th scope=col>resource</th><th scope=col>gene</th></tr>\n",
       "\t<tr><th scope=col>&lt;chr&gt;</th><th scope=col>&lt;int&gt;</th><th scope=col>&lt;chr&gt;</th><th scope=col>&lt;chr&gt;</th><th scope=col>&lt;chr&gt;</th><th scope=col>&lt;chr&gt;</th></tr>\n",
       "</thead>\n",
       "<tbody>\n",
       "\t<tr><td>chr15_47690138_49901356 </td><td>1</td><td>ROSMAP_DeJager_eQTL_Monocyte_ENSG00000087263</td><td>AD_Bellenguez_2022   </td><td>ROSMAP_DeJager_eQTL_Monocyte</td><td>ENSG00000087263</td></tr>\n",
       "\t<tr><td>chr15_49901356_51733753 </td><td>1</td><td>ROSMAP_DeJager_eQTL_Monocyte_ENSG00000087263</td><td>AD_Bellenguez_2022   </td><td>ROSMAP_DeJager_eQTL_Monocyte</td><td>ENSG00000087263</td></tr>\n",
       "\t<tr><td>chr16_88382277_90220225 </td><td>1</td><td>ROSMAP_gpQTL_gp_2508                        </td><td>AD_Bellenguez_2022   </td><td>ROSMAP_gpQTL                </td><td>NA             </td></tr>\n",
       "\t<tr><td>chr2_158720603_160577800</td><td>3</td><td>MSBB_eQTL_BM10_ENSG00000213579              </td><td>AD_Bellenguez_2022   </td><td>MSBB_eQTL_BM10              </td><td>ENSG00000213579</td></tr>\n",
       "\t<tr><td>chr2_158720603_160577800</td><td>3</td><td>ROSMAP_DeJager_eQTL_Monocyte_ENSG00000179611</td><td>AD_Bellenguez_2022   </td><td>ROSMAP_DeJager_eQTL_Monocyte</td><td>ENSG00000179611</td></tr>\n",
       "\t<tr><td>chr2_158720603_160577800</td><td>3</td><td>ROSMAP_DeJager_eQTL_Monocyte_ENSG00000105220</td><td>AD_Bellenguez_2022   </td><td>ROSMAP_DeJager_eQTL_Monocyte</td><td>ENSG00000105220</td></tr>\n",
       "\t<tr><td>chr5_139769624_142619401</td><td>1</td><td>MSBB_eQTL_BM10_ENSG00000136840              </td><td>AD_Kunkle_Stage1_2019</td><td>MSBB_eQTL_BM10              </td><td>ENSG00000136840</td></tr>\n",
       "\t<tr><td>chr8_26225312_27515963  </td><td>3</td><td>MSBB_eQTL_BM36_ENSG00000140987              </td><td>AD_Wightman_Full_2021</td><td>MSBB_eQTL_BM36              </td><td>ENSG00000140987</td></tr>\n",
       "\t<tr><td>chr8_26225312_27515963  </td><td>3</td><td>ROSMAP_gpQTL_gp_7827                        </td><td>AD_Wightman_Full_2021</td><td>ROSMAP_gpQTL                </td><td>NA             </td></tr>\n",
       "\t<tr><td>chr8_26225312_27515963  </td><td>3</td><td>MSBB_eQTL_BM22_ENSG00000137270              </td><td>AD_Wightman_Full_2021</td><td>MSBB_eQTL_BM22              </td><td>ENSG00000137270</td></tr>\n",
       "</tbody>\n",
       "</table>\n"
      ],
      "text/latex": [
       "A tibble: 10 × 6\n",
       "\\begin{tabular}{llllll}\n",
       " region & n\\_event & events & studies & resource & gene\\\\\n",
       " <chr> & <int> & <chr> & <chr> & <chr> & <chr>\\\\\n",
       "\\hline\n",
       "\t chr15\\_47690138\\_49901356  & 1 & ROSMAP\\_DeJager\\_eQTL\\_Monocyte\\_ENSG00000087263 & AD\\_Bellenguez\\_2022    & ROSMAP\\_DeJager\\_eQTL\\_Monocyte & ENSG00000087263\\\\\n",
       "\t chr15\\_49901356\\_51733753  & 1 & ROSMAP\\_DeJager\\_eQTL\\_Monocyte\\_ENSG00000087263 & AD\\_Bellenguez\\_2022    & ROSMAP\\_DeJager\\_eQTL\\_Monocyte & ENSG00000087263\\\\\n",
       "\t chr16\\_88382277\\_90220225  & 1 & ROSMAP\\_gpQTL\\_gp\\_2508                         & AD\\_Bellenguez\\_2022    & ROSMAP\\_gpQTL                 & NA             \\\\\n",
       "\t chr2\\_158720603\\_160577800 & 3 & MSBB\\_eQTL\\_BM10\\_ENSG00000213579               & AD\\_Bellenguez\\_2022    & MSBB\\_eQTL\\_BM10               & ENSG00000213579\\\\\n",
       "\t chr2\\_158720603\\_160577800 & 3 & ROSMAP\\_DeJager\\_eQTL\\_Monocyte\\_ENSG00000179611 & AD\\_Bellenguez\\_2022    & ROSMAP\\_DeJager\\_eQTL\\_Monocyte & ENSG00000179611\\\\\n",
       "\t chr2\\_158720603\\_160577800 & 3 & ROSMAP\\_DeJager\\_eQTL\\_Monocyte\\_ENSG00000105220 & AD\\_Bellenguez\\_2022    & ROSMAP\\_DeJager\\_eQTL\\_Monocyte & ENSG00000105220\\\\\n",
       "\t chr5\\_139769624\\_142619401 & 1 & MSBB\\_eQTL\\_BM10\\_ENSG00000136840               & AD\\_Kunkle\\_Stage1\\_2019 & MSBB\\_eQTL\\_BM10               & ENSG00000136840\\\\\n",
       "\t chr8\\_26225312\\_27515963   & 3 & MSBB\\_eQTL\\_BM36\\_ENSG00000140987               & AD\\_Wightman\\_Full\\_2021 & MSBB\\_eQTL\\_BM36               & ENSG00000140987\\\\\n",
       "\t chr8\\_26225312\\_27515963   & 3 & ROSMAP\\_gpQTL\\_gp\\_7827                         & AD\\_Wightman\\_Full\\_2021 & ROSMAP\\_gpQTL                 & NA             \\\\\n",
       "\t chr8\\_26225312\\_27515963   & 3 & MSBB\\_eQTL\\_BM22\\_ENSG00000137270               & AD\\_Wightman\\_Full\\_2021 & MSBB\\_eQTL\\_BM22               & ENSG00000137270\\\\\n",
       "\\end{tabular}\n"
      ],
      "text/markdown": [
       "\n",
       "A tibble: 10 × 6\n",
       "\n",
       "| region &lt;chr&gt; | n_event &lt;int&gt; | events &lt;chr&gt; | studies &lt;chr&gt; | resource &lt;chr&gt; | gene &lt;chr&gt; |\n",
       "|---|---|---|---|---|---|\n",
       "| chr15_47690138_49901356  | 1 | ROSMAP_DeJager_eQTL_Monocyte_ENSG00000087263 | AD_Bellenguez_2022    | ROSMAP_DeJager_eQTL_Monocyte | ENSG00000087263 |\n",
       "| chr15_49901356_51733753  | 1 | ROSMAP_DeJager_eQTL_Monocyte_ENSG00000087263 | AD_Bellenguez_2022    | ROSMAP_DeJager_eQTL_Monocyte | ENSG00000087263 |\n",
       "| chr16_88382277_90220225  | 1 | ROSMAP_gpQTL_gp_2508                         | AD_Bellenguez_2022    | ROSMAP_gpQTL                 | NA              |\n",
       "| chr2_158720603_160577800 | 3 | MSBB_eQTL_BM10_ENSG00000213579               | AD_Bellenguez_2022    | MSBB_eQTL_BM10               | ENSG00000213579 |\n",
       "| chr2_158720603_160577800 | 3 | ROSMAP_DeJager_eQTL_Monocyte_ENSG00000179611 | AD_Bellenguez_2022    | ROSMAP_DeJager_eQTL_Monocyte | ENSG00000179611 |\n",
       "| chr2_158720603_160577800 | 3 | ROSMAP_DeJager_eQTL_Monocyte_ENSG00000105220 | AD_Bellenguez_2022    | ROSMAP_DeJager_eQTL_Monocyte | ENSG00000105220 |\n",
       "| chr5_139769624_142619401 | 1 | MSBB_eQTL_BM10_ENSG00000136840               | AD_Kunkle_Stage1_2019 | MSBB_eQTL_BM10               | ENSG00000136840 |\n",
       "| chr8_26225312_27515963   | 3 | MSBB_eQTL_BM36_ENSG00000140987               | AD_Wightman_Full_2021 | MSBB_eQTL_BM36               | ENSG00000140987 |\n",
       "| chr8_26225312_27515963   | 3 | ROSMAP_gpQTL_gp_7827                         | AD_Wightman_Full_2021 | ROSMAP_gpQTL                 | NA              |\n",
       "| chr8_26225312_27515963   | 3 | MSBB_eQTL_BM22_ENSG00000137270               | AD_Wightman_Full_2021 | MSBB_eQTL_BM22               | ENSG00000137270 |\n",
       "\n"
      ],
      "text/plain": [
       "   region                   n_event\n",
       "1  chr15_47690138_49901356  1      \n",
       "2  chr15_49901356_51733753  1      \n",
       "3  chr16_88382277_90220225  1      \n",
       "4  chr2_158720603_160577800 3      \n",
       "5  chr2_158720603_160577800 3      \n",
       "6  chr2_158720603_160577800 3      \n",
       "7  chr5_139769624_142619401 1      \n",
       "8  chr8_26225312_27515963   3      \n",
       "9  chr8_26225312_27515963   3      \n",
       "10 chr8_26225312_27515963   3      \n",
       "   events                                       studies              \n",
       "1  ROSMAP_DeJager_eQTL_Monocyte_ENSG00000087263 AD_Bellenguez_2022   \n",
       "2  ROSMAP_DeJager_eQTL_Monocyte_ENSG00000087263 AD_Bellenguez_2022   \n",
       "3  ROSMAP_gpQTL_gp_2508                         AD_Bellenguez_2022   \n",
       "4  MSBB_eQTL_BM10_ENSG00000213579               AD_Bellenguez_2022   \n",
       "5  ROSMAP_DeJager_eQTL_Monocyte_ENSG00000179611 AD_Bellenguez_2022   \n",
       "6  ROSMAP_DeJager_eQTL_Monocyte_ENSG00000105220 AD_Bellenguez_2022   \n",
       "7  MSBB_eQTL_BM10_ENSG00000136840               AD_Kunkle_Stage1_2019\n",
       "8  MSBB_eQTL_BM36_ENSG00000140987               AD_Wightman_Full_2021\n",
       "9  ROSMAP_gpQTL_gp_7827                         AD_Wightman_Full_2021\n",
       "10 MSBB_eQTL_BM22_ENSG00000137270               AD_Wightman_Full_2021\n",
       "   resource                     gene           \n",
       "1  ROSMAP_DeJager_eQTL_Monocyte ENSG00000087263\n",
       "2  ROSMAP_DeJager_eQTL_Monocyte ENSG00000087263\n",
       "3  ROSMAP_gpQTL                 NA             \n",
       "4  MSBB_eQTL_BM10               ENSG00000213579\n",
       "5  ROSMAP_DeJager_eQTL_Monocyte ENSG00000179611\n",
       "6  ROSMAP_DeJager_eQTL_Monocyte ENSG00000105220\n",
       "7  MSBB_eQTL_BM10               ENSG00000136840\n",
       "8  MSBB_eQTL_BM36               ENSG00000140987\n",
       "9  ROSMAP_gpQTL                 NA             \n",
       "10 MSBB_eQTL_BM22               ENSG00000137270"
      ]
     },
     "metadata": {},
     "output_type": "display_data"
    }
   ],
   "source": [
    "trans_only_gwas_cs_sum_boundry"
   ]
  },
  {
   "cell_type": "code",
   "execution_count": 9,
   "id": "1afda4a8-4545-4234-86e4-4131d68949e6",
   "metadata": {},
   "outputs": [
    {
     "name": "stdout",
     "output_type": "stream",
     "text": [
      "ROSMAP_DeJager_eQTL_Monocyte_ENSG00000087263 have neighbor block in exported results"
     ]
    },
    {
     "name": "stderr",
     "output_type": "stream",
     "text": [
      "Warning message:\n",
      "“Unknown or uninitialised column: `filter_decision`.”\n"
     ]
    },
    {
     "name": "stdout",
     "output_type": "stream",
     "text": [
      " and closest signal to boundary is at: 0 \n",
      "ROSMAP_DeJager_eQTL_Monocyte_ENSG00000087263 have neighbor block in exported results and closest signal to boundary is at: 0 \n",
      "ROSMAP_gpQTL_gp_2508 no neighbor block in exported results\n",
      "MSBB_eQTL_BM10_ENSG00000213579 no neighbor block in exported results\n",
      "ROSMAP_DeJager_eQTL_Monocyte_ENSG00000179611 no neighbor block in exported results\n",
      "ROSMAP_DeJager_eQTL_Monocyte_ENSG00000105220 no neighbor block in exported results\n",
      "MSBB_eQTL_BM10_ENSG00000136840 no neighbor block in exported results\n",
      "MSBB_eQTL_BM36_ENSG00000140987 no neighbor block in exported results\n",
      "ROSMAP_gpQTL_gp_7827 no neighbor block in exported results\n",
      "MSBB_eQTL_BM22_ENSG00000137270 no neighbor block in exported results\n"
     ]
    }
   ],
   "source": [
    "# assumes: trans_only_gwas_cs_sum_boundry, trans, safe_min(), dplyr, stringr are available\n",
    "\n",
    "# helper: safe minimum (Inf if empty or all NA)\n",
    "safe_min <- function(x) {\n",
    "  if (length(x) == 0 || all(is.na(x))) return(Inf)\n",
    "  suppressWarnings(min(x, na.rm = TRUE))\n",
    "}\n",
    "\n",
    "for (i in seq_len(nrow(trans_only_gwas_cs_sum_boundry))) {\n",
    "  # parse target block info\n",
    "  target_blocks       <- trans_only_gwas_cs_sum_boundry$region[i]\n",
    "  target_blocks_chr   <- str_split(target_blocks, \"_\", simplify = TRUE)[, 1]\n",
    "  target_blocks_start <- str_split(target_blocks, \"_\", simplify = TRUE)[, 2] %>% as.numeric()\n",
    "  target_blocks_end   <- str_split(target_blocks, \"_\", simplify = TRUE)[, 3] %>% as.numeric()\n",
    "\n",
    "  # find neighbor blocks that share a boundary with target (but exclude the target itself)\n",
    "  trans_neighbors <- trans %>%\n",
    "    filter(event_ID == trans_only_gwas_cs_sum_boundry$events[i]) %>%\n",
    "    mutate(\n",
    "      block_chr   = str_split(gene_ID, \"_\", simplify = TRUE)[, 1],\n",
    "      block_start = str_split(gene_ID, \"_\", simplify = TRUE)[, 2] %>% as.numeric(),\n",
    "      block_end   = str_split(gene_ID, \"_\", simplify = TRUE)[, 3] %>% as.numeric()\n",
    "    ) %>%\n",
    "    filter(\n",
    "      block_chr == target_blocks_chr &\n",
    "        (\n",
    "          block_start == target_blocks_start |\n",
    "            block_end == target_blocks_start |\n",
    "            block_start == target_blocks_end |\n",
    "            block_end == target_blocks_end\n",
    "        )\n",
    "    ) %>%\n",
    "    filter(!(block_chr == target_blocks_chr &\n",
    "               block_start == target_blocks_start &\n",
    "               block_end == target_blocks_end)) %>%\n",
    "    # compute distance from variant end to neighbor block boundaries\n",
    "    mutate(\n",
    "      end_num = suppressWarnings(as.numeric(end)),\n",
    "      dis = pmin(\n",
    "        abs(end_num - block_start),\n",
    "        abs(end_num - block_end),\n",
    "        na.rm = TRUE\n",
    "      )\n",
    "    )\n",
    "\n",
    "  if (nrow(trans_neighbors) > 0) {\n",
    "    cat(trans_only_gwas_cs_sum_boundry$events[i], \"have neighbor block in exported results\")\n",
    "\n",
    "    # decision based on closest signal to boundary (100 kb threshold)\n",
    "    min_dis <- safe_min(trans_neighbors$dis)\n",
    "\n",
    "    if (min_dis < 1e6) {\n",
    "      trans_only_gwas_cs_sum_boundry$filter_decision[i] <- TRUE\n",
    "      cat(\" and closest signal to boundary is at:\", min_dis, \"\\n\")\n",
    "    } else {\n",
    "      trans_only_gwas_cs_sum_boundry$filter_decision[i] <- FALSE\n",
    "      if (is.infinite(min_dis)) {\n",
    "        cat(\" no neighbor signals found; DO NOT have signal in 100k of boundary\\n\")\n",
    "      } else {\n",
    "        cat(\" but DO NOT have signal in 100k of boundary (closest:\", min_dis, \")\\n\")\n",
    "      }\n",
    "    }\n",
    "  } else {\n",
    "    # no neighbor blocks matched; mark as not filtered\n",
    "    trans_only_gwas_cs_sum_boundry$filter_decision[i] <- FALSE\n",
    "    cat(trans_only_gwas_cs_sum_boundry$events[i], \"no neighbor block in exported results\\n\")\n",
    "  }\n",
    "}"
   ]
  },
  {
   "cell_type": "code",
   "execution_count": null,
   "id": "7cdc954d-0d73-4d49-adb4-1febc033937a",
   "metadata": {},
   "outputs": [
    {
     "name": "stderr",
     "output_type": "stream",
     "text": [
      "target block: chr15_47690138_49901356 in ROSMAP_DeJager_eQTL_Monocyte_ENSG00000087263\n",
      "\n"
     ]
    },
    {
     "name": "stdout",
     "output_type": "stream",
     "text": [
      "block on same chromosome are  chr15_47690138_49901356 chr15_49901356_51733753 \n"
     ]
    },
    {
     "name": "stderr",
     "output_type": "stream",
     "text": [
      "target block: chr15_49901356_51733753 in ROSMAP_DeJager_eQTL_Monocyte_ENSG00000087263\n",
      "\n"
     ]
    },
    {
     "name": "stdout",
     "output_type": "stream",
     "text": [
      "block on same chromosome are  chr15_47690138_49901356 chr15_49901356_51733753 \n"
     ]
    },
    {
     "name": "stderr",
     "output_type": "stream",
     "text": [
      "target block: chr16_88382277_90220225 in ROSMAP_gpQTL_gp_2508\n",
      "\n"
     ]
    },
    {
     "name": "stdout",
     "output_type": "stream",
     "text": [
      "block on same chromosome are  chr16_88382277_90220225 \n"
     ]
    },
    {
     "name": "stderr",
     "output_type": "stream",
     "text": [
      "target block: chr2_158720603_160577800 in MSBB_eQTL_BM10_ENSG00000213579\n",
      "\n"
     ]
    },
    {
     "name": "stdout",
     "output_type": "stream",
     "text": [
      "block on same chromosome are  chr2_158720603_160577800 \n"
     ]
    },
    {
     "name": "stderr",
     "output_type": "stream",
     "text": [
      "target block: chr2_158720603_160577800 in ROSMAP_DeJager_eQTL_Monocyte_ENSG00000179611\n",
      "\n"
     ]
    },
    {
     "name": "stdout",
     "output_type": "stream",
     "text": [
      "block on same chromosome are  chr2_158720603_160577800 \n"
     ]
    },
    {
     "name": "stderr",
     "output_type": "stream",
     "text": [
      "target block: chr2_158720603_160577800 in ROSMAP_DeJager_eQTL_Monocyte_ENSG00000105220\n",
      "\n"
     ]
    },
    {
     "name": "stdout",
     "output_type": "stream",
     "text": [
      "block on same chromosome are  chr2_158720603_160577800 chr2_176462474_179338809 \n"
     ]
    },
    {
     "name": "stderr",
     "output_type": "stream",
     "text": [
      "target block: chr5_139769624_142619401 in MSBB_eQTL_BM10_ENSG00000136840\n",
      "\n"
     ]
    },
    {
     "name": "stdout",
     "output_type": "stream",
     "text": [
      "block on same chromosome are  chr5_139769624_142619401 \n"
     ]
    },
    {
     "name": "stderr",
     "output_type": "stream",
     "text": [
      "target block: chr8_26225312_27515963 in MSBB_eQTL_BM36_ENSG00000140987\n",
      "\n"
     ]
    },
    {
     "name": "stdout",
     "output_type": "stream",
     "text": [
      "block on same chromosome are  chr8_26225312_27515963 \n"
     ]
    },
    {
     "name": "stderr",
     "output_type": "stream",
     "text": [
      "target block: chr8_26225312_27515963 in ROSMAP_gpQTL_gp_7827\n",
      "\n"
     ]
    },
    {
     "name": "stdout",
     "output_type": "stream",
     "text": [
      "block on same chromosome are  chr8_26225312_27515963 \n"
     ]
    },
    {
     "name": "stderr",
     "output_type": "stream",
     "text": [
      "target block: chr8_26225312_27515963 in MSBB_eQTL_BM22_ENSG00000137270\n",
      "\n"
     ]
    },
    {
     "name": "stdout",
     "output_type": "stream",
     "text": [
      "block on same chromosome are  chr8_26225312_27515963 \n"
     ]
    }
   ],
   "source": [
    "for (i in seq_len(nrow(trans_only_gwas_cs_sum_boundry))) {\n",
    "    target_blocks <- trans_only_gwas_cs_sum_boundry$region[i]\n",
    "    message(\"target block: \",  target_blocks, ' in ', trans_only_gwas_cs_sum_boundry$events[i])\n",
    "    target_blocks_chr   <- str_split(target_blocks, \"_\", simplify = TRUE)[, 1]\n",
    "    cat(\"block on same chromosome are \", trans %>% filter(event_ID == trans_only_gwas_cs_sum_boundry$events[i]) %>% pull(gene_ID ) %>% unique  %>% .[str_detect(., target_blocks_chr)], '\\n' )\n",
    "}"
   ]
  },
  {
   "cell_type": "code",
   "execution_count": 27,
   "id": "4af8c150-43c7-40b8-8c97-a2f691be1c7b",
   "metadata": {},
   "outputs": [
    {
     "data": {
      "text/html": [
       "'chr15_47690138_49901356'"
      ],
      "text/latex": [
       "'chr15\\_47690138\\_49901356'"
      ],
      "text/markdown": [
       "'chr15_47690138_49901356'"
      ],
      "text/plain": [
       "[1] \"chr15_47690138_49901356\""
      ]
     },
     "metadata": {},
     "output_type": "display_data"
    },
    {
     "data": {
      "text/html": [
       "<table class=\"dataframe\">\n",
       "<caption>A data.table: 12 × 2</caption>\n",
       "<thead>\n",
       "\t<tr><th scope=col>event_ID</th><th scope=col>gene_ID</th></tr>\n",
       "\t<tr><th scope=col>&lt;chr&gt;</th><th scope=col>&lt;chr&gt;</th></tr>\n",
       "</thead>\n",
       "<tbody>\n",
       "\t<tr><td>ROSMAP_DeJager_eQTL_Monocyte_ENSG00000087263</td><td>chr1_29689521_31147701  </td></tr>\n",
       "\t<tr><td>ROSMAP_DeJager_eQTL_Monocyte_ENSG00000087263</td><td>chr1_170228106_172965199</td></tr>\n",
       "\t<tr><td>ROSMAP_DeJager_eQTL_Monocyte_ENSG00000087263</td><td>chr3_10633421_12819971  </td></tr>\n",
       "\t<tr><td>ROSMAP_DeJager_eQTL_Monocyte_ENSG00000087263</td><td>chr6_166767544_167981705</td></tr>\n",
       "\t<tr><td>ROSMAP_DeJager_eQTL_Monocyte_ENSG00000087263</td><td>chr7_71528863_73724576  </td></tr>\n",
       "\t<tr><td>ROSMAP_DeJager_eQTL_Monocyte_ENSG00000087263</td><td>chr8_3113856_3646595    </td></tr>\n",
       "\t<tr><td>ROSMAP_DeJager_eQTL_Monocyte_ENSG00000087263</td><td>chr8_136512469_140094718</td></tr>\n",
       "\t<tr><td>ROSMAP_DeJager_eQTL_Monocyte_ENSG00000087263</td><td>chr15_47690138_49901356 </td></tr>\n",
       "\t<tr><td>ROSMAP_DeJager_eQTL_Monocyte_ENSG00000087263</td><td>chr15_49901356_51733753 </td></tr>\n",
       "\t<tr><td>ROSMAP_DeJager_eQTL_Monocyte_ENSG00000087263</td><td>chr17_57489969_60570445 </td></tr>\n",
       "\t<tr><td>ROSMAP_DeJager_eQTL_Monocyte_ENSG00000087263</td><td>chr17_65149278_67025568 </td></tr>\n",
       "\t<tr><td>ROSMAP_DeJager_eQTL_Monocyte_ENSG00000087263</td><td>chr19_16707045_20110504 </td></tr>\n",
       "</tbody>\n",
       "</table>\n"
      ],
      "text/latex": [
       "A data.table: 12 × 2\n",
       "\\begin{tabular}{ll}\n",
       " event\\_ID & gene\\_ID\\\\\n",
       " <chr> & <chr>\\\\\n",
       "\\hline\n",
       "\t ROSMAP\\_DeJager\\_eQTL\\_Monocyte\\_ENSG00000087263 & chr1\\_29689521\\_31147701  \\\\\n",
       "\t ROSMAP\\_DeJager\\_eQTL\\_Monocyte\\_ENSG00000087263 & chr1\\_170228106\\_172965199\\\\\n",
       "\t ROSMAP\\_DeJager\\_eQTL\\_Monocyte\\_ENSG00000087263 & chr3\\_10633421\\_12819971  \\\\\n",
       "\t ROSMAP\\_DeJager\\_eQTL\\_Monocyte\\_ENSG00000087263 & chr6\\_166767544\\_167981705\\\\\n",
       "\t ROSMAP\\_DeJager\\_eQTL\\_Monocyte\\_ENSG00000087263 & chr7\\_71528863\\_73724576  \\\\\n",
       "\t ROSMAP\\_DeJager\\_eQTL\\_Monocyte\\_ENSG00000087263 & chr8\\_3113856\\_3646595    \\\\\n",
       "\t ROSMAP\\_DeJager\\_eQTL\\_Monocyte\\_ENSG00000087263 & chr8\\_136512469\\_140094718\\\\\n",
       "\t ROSMAP\\_DeJager\\_eQTL\\_Monocyte\\_ENSG00000087263 & chr15\\_47690138\\_49901356 \\\\\n",
       "\t ROSMAP\\_DeJager\\_eQTL\\_Monocyte\\_ENSG00000087263 & chr15\\_49901356\\_51733753 \\\\\n",
       "\t ROSMAP\\_DeJager\\_eQTL\\_Monocyte\\_ENSG00000087263 & chr17\\_57489969\\_60570445 \\\\\n",
       "\t ROSMAP\\_DeJager\\_eQTL\\_Monocyte\\_ENSG00000087263 & chr17\\_65149278\\_67025568 \\\\\n",
       "\t ROSMAP\\_DeJager\\_eQTL\\_Monocyte\\_ENSG00000087263 & chr19\\_16707045\\_20110504 \\\\\n",
       "\\end{tabular}\n"
      ],
      "text/markdown": [
       "\n",
       "A data.table: 12 × 2\n",
       "\n",
       "| event_ID &lt;chr&gt; | gene_ID &lt;chr&gt; |\n",
       "|---|---|\n",
       "| ROSMAP_DeJager_eQTL_Monocyte_ENSG00000087263 | chr1_29689521_31147701   |\n",
       "| ROSMAP_DeJager_eQTL_Monocyte_ENSG00000087263 | chr1_170228106_172965199 |\n",
       "| ROSMAP_DeJager_eQTL_Monocyte_ENSG00000087263 | chr3_10633421_12819971   |\n",
       "| ROSMAP_DeJager_eQTL_Monocyte_ENSG00000087263 | chr6_166767544_167981705 |\n",
       "| ROSMAP_DeJager_eQTL_Monocyte_ENSG00000087263 | chr7_71528863_73724576   |\n",
       "| ROSMAP_DeJager_eQTL_Monocyte_ENSG00000087263 | chr8_3113856_3646595     |\n",
       "| ROSMAP_DeJager_eQTL_Monocyte_ENSG00000087263 | chr8_136512469_140094718 |\n",
       "| ROSMAP_DeJager_eQTL_Monocyte_ENSG00000087263 | chr15_47690138_49901356  |\n",
       "| ROSMAP_DeJager_eQTL_Monocyte_ENSG00000087263 | chr15_49901356_51733753  |\n",
       "| ROSMAP_DeJager_eQTL_Monocyte_ENSG00000087263 | chr17_57489969_60570445  |\n",
       "| ROSMAP_DeJager_eQTL_Monocyte_ENSG00000087263 | chr17_65149278_67025568  |\n",
       "| ROSMAP_DeJager_eQTL_Monocyte_ENSG00000087263 | chr19_16707045_20110504  |\n",
       "\n"
      ],
      "text/plain": [
       "   event_ID                                     gene_ID                 \n",
       "1  ROSMAP_DeJager_eQTL_Monocyte_ENSG00000087263 chr1_29689521_31147701  \n",
       "2  ROSMAP_DeJager_eQTL_Monocyte_ENSG00000087263 chr1_170228106_172965199\n",
       "3  ROSMAP_DeJager_eQTL_Monocyte_ENSG00000087263 chr3_10633421_12819971  \n",
       "4  ROSMAP_DeJager_eQTL_Monocyte_ENSG00000087263 chr6_166767544_167981705\n",
       "5  ROSMAP_DeJager_eQTL_Monocyte_ENSG00000087263 chr7_71528863_73724576  \n",
       "6  ROSMAP_DeJager_eQTL_Monocyte_ENSG00000087263 chr8_3113856_3646595    \n",
       "7  ROSMAP_DeJager_eQTL_Monocyte_ENSG00000087263 chr8_136512469_140094718\n",
       "8  ROSMAP_DeJager_eQTL_Monocyte_ENSG00000087263 chr15_47690138_49901356 \n",
       "9  ROSMAP_DeJager_eQTL_Monocyte_ENSG00000087263 chr15_49901356_51733753 \n",
       "10 ROSMAP_DeJager_eQTL_Monocyte_ENSG00000087263 chr17_57489969_60570445 \n",
       "11 ROSMAP_DeJager_eQTL_Monocyte_ENSG00000087263 chr17_65149278_67025568 \n",
       "12 ROSMAP_DeJager_eQTL_Monocyte_ENSG00000087263 chr19_16707045_20110504 "
      ]
     },
     "metadata": {},
     "output_type": "display_data"
    }
   ],
   "source": [
    "i=1\n",
    "trans_only_gwas_cs_sum_boundry$region[i]\n",
    "trans %>% filter(event_ID == trans_only_gwas_cs_sum_boundry$events[i]) %>% arrange(`#chr`) %>% select(event_ID, gene_ID) %>% distinct"
   ]
  },
  {
   "cell_type": "code",
   "execution_count": 28,
   "id": "7e8a15d2-29a6-43a8-8867-a11a0ec64d04",
   "metadata": {},
   "outputs": [
    {
     "data": {
      "text/html": [
       "'chr15_49901356_51733753'"
      ],
      "text/latex": [
       "'chr15\\_49901356\\_51733753'"
      ],
      "text/markdown": [
       "'chr15_49901356_51733753'"
      ],
      "text/plain": [
       "[1] \"chr15_49901356_51733753\""
      ]
     },
     "metadata": {},
     "output_type": "display_data"
    },
    {
     "data": {
      "text/html": [
       "<table class=\"dataframe\">\n",
       "<caption>A data.table: 12 × 2</caption>\n",
       "<thead>\n",
       "\t<tr><th scope=col>event_ID</th><th scope=col>gene_ID</th></tr>\n",
       "\t<tr><th scope=col>&lt;chr&gt;</th><th scope=col>&lt;chr&gt;</th></tr>\n",
       "</thead>\n",
       "<tbody>\n",
       "\t<tr><td>ROSMAP_DeJager_eQTL_Monocyte_ENSG00000087263</td><td>chr1_29689521_31147701  </td></tr>\n",
       "\t<tr><td>ROSMAP_DeJager_eQTL_Monocyte_ENSG00000087263</td><td>chr1_170228106_172965199</td></tr>\n",
       "\t<tr><td>ROSMAP_DeJager_eQTL_Monocyte_ENSG00000087263</td><td>chr3_10633421_12819971  </td></tr>\n",
       "\t<tr><td>ROSMAP_DeJager_eQTL_Monocyte_ENSG00000087263</td><td>chr6_166767544_167981705</td></tr>\n",
       "\t<tr><td>ROSMAP_DeJager_eQTL_Monocyte_ENSG00000087263</td><td>chr7_71528863_73724576  </td></tr>\n",
       "\t<tr><td>ROSMAP_DeJager_eQTL_Monocyte_ENSG00000087263</td><td>chr8_3113856_3646595    </td></tr>\n",
       "\t<tr><td>ROSMAP_DeJager_eQTL_Monocyte_ENSG00000087263</td><td>chr8_136512469_140094718</td></tr>\n",
       "\t<tr><td>ROSMAP_DeJager_eQTL_Monocyte_ENSG00000087263</td><td>chr15_47690138_49901356 </td></tr>\n",
       "\t<tr><td>ROSMAP_DeJager_eQTL_Monocyte_ENSG00000087263</td><td>chr15_49901356_51733753 </td></tr>\n",
       "\t<tr><td>ROSMAP_DeJager_eQTL_Monocyte_ENSG00000087263</td><td>chr17_57489969_60570445 </td></tr>\n",
       "\t<tr><td>ROSMAP_DeJager_eQTL_Monocyte_ENSG00000087263</td><td>chr17_65149278_67025568 </td></tr>\n",
       "\t<tr><td>ROSMAP_DeJager_eQTL_Monocyte_ENSG00000087263</td><td>chr19_16707045_20110504 </td></tr>\n",
       "</tbody>\n",
       "</table>\n"
      ],
      "text/latex": [
       "A data.table: 12 × 2\n",
       "\\begin{tabular}{ll}\n",
       " event\\_ID & gene\\_ID\\\\\n",
       " <chr> & <chr>\\\\\n",
       "\\hline\n",
       "\t ROSMAP\\_DeJager\\_eQTL\\_Monocyte\\_ENSG00000087263 & chr1\\_29689521\\_31147701  \\\\\n",
       "\t ROSMAP\\_DeJager\\_eQTL\\_Monocyte\\_ENSG00000087263 & chr1\\_170228106\\_172965199\\\\\n",
       "\t ROSMAP\\_DeJager\\_eQTL\\_Monocyte\\_ENSG00000087263 & chr3\\_10633421\\_12819971  \\\\\n",
       "\t ROSMAP\\_DeJager\\_eQTL\\_Monocyte\\_ENSG00000087263 & chr6\\_166767544\\_167981705\\\\\n",
       "\t ROSMAP\\_DeJager\\_eQTL\\_Monocyte\\_ENSG00000087263 & chr7\\_71528863\\_73724576  \\\\\n",
       "\t ROSMAP\\_DeJager\\_eQTL\\_Monocyte\\_ENSG00000087263 & chr8\\_3113856\\_3646595    \\\\\n",
       "\t ROSMAP\\_DeJager\\_eQTL\\_Monocyte\\_ENSG00000087263 & chr8\\_136512469\\_140094718\\\\\n",
       "\t ROSMAP\\_DeJager\\_eQTL\\_Monocyte\\_ENSG00000087263 & chr15\\_47690138\\_49901356 \\\\\n",
       "\t ROSMAP\\_DeJager\\_eQTL\\_Monocyte\\_ENSG00000087263 & chr15\\_49901356\\_51733753 \\\\\n",
       "\t ROSMAP\\_DeJager\\_eQTL\\_Monocyte\\_ENSG00000087263 & chr17\\_57489969\\_60570445 \\\\\n",
       "\t ROSMAP\\_DeJager\\_eQTL\\_Monocyte\\_ENSG00000087263 & chr17\\_65149278\\_67025568 \\\\\n",
       "\t ROSMAP\\_DeJager\\_eQTL\\_Monocyte\\_ENSG00000087263 & chr19\\_16707045\\_20110504 \\\\\n",
       "\\end{tabular}\n"
      ],
      "text/markdown": [
       "\n",
       "A data.table: 12 × 2\n",
       "\n",
       "| event_ID &lt;chr&gt; | gene_ID &lt;chr&gt; |\n",
       "|---|---|\n",
       "| ROSMAP_DeJager_eQTL_Monocyte_ENSG00000087263 | chr1_29689521_31147701   |\n",
       "| ROSMAP_DeJager_eQTL_Monocyte_ENSG00000087263 | chr1_170228106_172965199 |\n",
       "| ROSMAP_DeJager_eQTL_Monocyte_ENSG00000087263 | chr3_10633421_12819971   |\n",
       "| ROSMAP_DeJager_eQTL_Monocyte_ENSG00000087263 | chr6_166767544_167981705 |\n",
       "| ROSMAP_DeJager_eQTL_Monocyte_ENSG00000087263 | chr7_71528863_73724576   |\n",
       "| ROSMAP_DeJager_eQTL_Monocyte_ENSG00000087263 | chr8_3113856_3646595     |\n",
       "| ROSMAP_DeJager_eQTL_Monocyte_ENSG00000087263 | chr8_136512469_140094718 |\n",
       "| ROSMAP_DeJager_eQTL_Monocyte_ENSG00000087263 | chr15_47690138_49901356  |\n",
       "| ROSMAP_DeJager_eQTL_Monocyte_ENSG00000087263 | chr15_49901356_51733753  |\n",
       "| ROSMAP_DeJager_eQTL_Monocyte_ENSG00000087263 | chr17_57489969_60570445  |\n",
       "| ROSMAP_DeJager_eQTL_Monocyte_ENSG00000087263 | chr17_65149278_67025568  |\n",
       "| ROSMAP_DeJager_eQTL_Monocyte_ENSG00000087263 | chr19_16707045_20110504  |\n",
       "\n"
      ],
      "text/plain": [
       "   event_ID                                     gene_ID                 \n",
       "1  ROSMAP_DeJager_eQTL_Monocyte_ENSG00000087263 chr1_29689521_31147701  \n",
       "2  ROSMAP_DeJager_eQTL_Monocyte_ENSG00000087263 chr1_170228106_172965199\n",
       "3  ROSMAP_DeJager_eQTL_Monocyte_ENSG00000087263 chr3_10633421_12819971  \n",
       "4  ROSMAP_DeJager_eQTL_Monocyte_ENSG00000087263 chr6_166767544_167981705\n",
       "5  ROSMAP_DeJager_eQTL_Monocyte_ENSG00000087263 chr7_71528863_73724576  \n",
       "6  ROSMAP_DeJager_eQTL_Monocyte_ENSG00000087263 chr8_3113856_3646595    \n",
       "7  ROSMAP_DeJager_eQTL_Monocyte_ENSG00000087263 chr8_136512469_140094718\n",
       "8  ROSMAP_DeJager_eQTL_Monocyte_ENSG00000087263 chr15_47690138_49901356 \n",
       "9  ROSMAP_DeJager_eQTL_Monocyte_ENSG00000087263 chr15_49901356_51733753 \n",
       "10 ROSMAP_DeJager_eQTL_Monocyte_ENSG00000087263 chr17_57489969_60570445 \n",
       "11 ROSMAP_DeJager_eQTL_Monocyte_ENSG00000087263 chr17_65149278_67025568 \n",
       "12 ROSMAP_DeJager_eQTL_Monocyte_ENSG00000087263 chr19_16707045_20110504 "
      ]
     },
     "metadata": {},
     "output_type": "display_data"
    }
   ],
   "source": [
    "i=2\n",
    "trans_only_gwas_cs_sum_boundry$region[i]\n",
    "trans %>% filter(event_ID == trans_only_gwas_cs_sum_boundry$events[i]) %>% arrange(`#chr`) %>% select(event_ID, gene_ID) %>% distinct"
   ]
  },
  {
   "cell_type": "code",
   "execution_count": 29,
   "id": "f418b3e7-42eb-4d7b-bbaa-da04af86c088",
   "metadata": {},
   "outputs": [
    {
     "data": {
      "text/html": [
       "'chr16_88382277_90220225'"
      ],
      "text/latex": [
       "'chr16\\_88382277\\_90220225'"
      ],
      "text/markdown": [
       "'chr16_88382277_90220225'"
      ],
      "text/plain": [
       "[1] \"chr16_88382277_90220225\""
      ]
     },
     "metadata": {},
     "output_type": "display_data"
    },
    {
     "data": {
      "text/html": [
       "<table class=\"dataframe\">\n",
       "<caption>A data.table: 14 × 2</caption>\n",
       "<thead>\n",
       "\t<tr><th scope=col>event_ID</th><th scope=col>gene_ID</th></tr>\n",
       "\t<tr><th scope=col>&lt;chr&gt;</th><th scope=col>&lt;chr&gt;</th></tr>\n",
       "</thead>\n",
       "<tbody>\n",
       "\t<tr><td>ROSMAP_gpQTL_gp_2508</td><td>chr1_12710318_15244493  </td></tr>\n",
       "\t<tr><td>ROSMAP_gpQTL_gp_2508</td><td>chr1_50179506_54277735  </td></tr>\n",
       "\t<tr><td>ROSMAP_gpQTL_gp_2508</td><td>chr1_234364329_235656952</td></tr>\n",
       "\t<tr><td>ROSMAP_gpQTL_gp_2508</td><td>chr2_81393717_85666618  </td></tr>\n",
       "\t<tr><td>ROSMAP_gpQTL_gp_2508</td><td>chr3_52179438_54975538  </td></tr>\n",
       "\t<tr><td>ROSMAP_gpQTL_gp_2508</td><td>chr4_43205452_47542521  </td></tr>\n",
       "\t<tr><td>ROSMAP_gpQTL_gp_2508</td><td>chr5_50868828_54641088  </td></tr>\n",
       "\t<tr><td>ROSMAP_gpQTL_gp_2508</td><td>chr5_135495886_137607787</td></tr>\n",
       "\t<tr><td>ROSMAP_gpQTL_gp_2508</td><td>chr6_31604117_32714947  </td></tr>\n",
       "\t<tr><td>ROSMAP_gpQTL_gp_2508</td><td>chr7_130784338_133120345</td></tr>\n",
       "\t<tr><td>ROSMAP_gpQTL_gp_2508</td><td>chr14_16038675_21164036 </td></tr>\n",
       "\t<tr><td>ROSMAP_gpQTL_gp_2508</td><td>chr15_91547103_93020382 </td></tr>\n",
       "\t<tr><td>ROSMAP_gpQTL_gp_2508</td><td>chr16_88382277_90220225 </td></tr>\n",
       "\t<tr><td>ROSMAP_gpQTL_gp_2508</td><td>chr19_9354363_11569122  </td></tr>\n",
       "</tbody>\n",
       "</table>\n"
      ],
      "text/latex": [
       "A data.table: 14 × 2\n",
       "\\begin{tabular}{ll}\n",
       " event\\_ID & gene\\_ID\\\\\n",
       " <chr> & <chr>\\\\\n",
       "\\hline\n",
       "\t ROSMAP\\_gpQTL\\_gp\\_2508 & chr1\\_12710318\\_15244493  \\\\\n",
       "\t ROSMAP\\_gpQTL\\_gp\\_2508 & chr1\\_50179506\\_54277735  \\\\\n",
       "\t ROSMAP\\_gpQTL\\_gp\\_2508 & chr1\\_234364329\\_235656952\\\\\n",
       "\t ROSMAP\\_gpQTL\\_gp\\_2508 & chr2\\_81393717\\_85666618  \\\\\n",
       "\t ROSMAP\\_gpQTL\\_gp\\_2508 & chr3\\_52179438\\_54975538  \\\\\n",
       "\t ROSMAP\\_gpQTL\\_gp\\_2508 & chr4\\_43205452\\_47542521  \\\\\n",
       "\t ROSMAP\\_gpQTL\\_gp\\_2508 & chr5\\_50868828\\_54641088  \\\\\n",
       "\t ROSMAP\\_gpQTL\\_gp\\_2508 & chr5\\_135495886\\_137607787\\\\\n",
       "\t ROSMAP\\_gpQTL\\_gp\\_2508 & chr6\\_31604117\\_32714947  \\\\\n",
       "\t ROSMAP\\_gpQTL\\_gp\\_2508 & chr7\\_130784338\\_133120345\\\\\n",
       "\t ROSMAP\\_gpQTL\\_gp\\_2508 & chr14\\_16038675\\_21164036 \\\\\n",
       "\t ROSMAP\\_gpQTL\\_gp\\_2508 & chr15\\_91547103\\_93020382 \\\\\n",
       "\t ROSMAP\\_gpQTL\\_gp\\_2508 & chr16\\_88382277\\_90220225 \\\\\n",
       "\t ROSMAP\\_gpQTL\\_gp\\_2508 & chr19\\_9354363\\_11569122  \\\\\n",
       "\\end{tabular}\n"
      ],
      "text/markdown": [
       "\n",
       "A data.table: 14 × 2\n",
       "\n",
       "| event_ID &lt;chr&gt; | gene_ID &lt;chr&gt; |\n",
       "|---|---|\n",
       "| ROSMAP_gpQTL_gp_2508 | chr1_12710318_15244493   |\n",
       "| ROSMAP_gpQTL_gp_2508 | chr1_50179506_54277735   |\n",
       "| ROSMAP_gpQTL_gp_2508 | chr1_234364329_235656952 |\n",
       "| ROSMAP_gpQTL_gp_2508 | chr2_81393717_85666618   |\n",
       "| ROSMAP_gpQTL_gp_2508 | chr3_52179438_54975538   |\n",
       "| ROSMAP_gpQTL_gp_2508 | chr4_43205452_47542521   |\n",
       "| ROSMAP_gpQTL_gp_2508 | chr5_50868828_54641088   |\n",
       "| ROSMAP_gpQTL_gp_2508 | chr5_135495886_137607787 |\n",
       "| ROSMAP_gpQTL_gp_2508 | chr6_31604117_32714947   |\n",
       "| ROSMAP_gpQTL_gp_2508 | chr7_130784338_133120345 |\n",
       "| ROSMAP_gpQTL_gp_2508 | chr14_16038675_21164036  |\n",
       "| ROSMAP_gpQTL_gp_2508 | chr15_91547103_93020382  |\n",
       "| ROSMAP_gpQTL_gp_2508 | chr16_88382277_90220225  |\n",
       "| ROSMAP_gpQTL_gp_2508 | chr19_9354363_11569122   |\n",
       "\n"
      ],
      "text/plain": [
       "   event_ID             gene_ID                 \n",
       "1  ROSMAP_gpQTL_gp_2508 chr1_12710318_15244493  \n",
       "2  ROSMAP_gpQTL_gp_2508 chr1_50179506_54277735  \n",
       "3  ROSMAP_gpQTL_gp_2508 chr1_234364329_235656952\n",
       "4  ROSMAP_gpQTL_gp_2508 chr2_81393717_85666618  \n",
       "5  ROSMAP_gpQTL_gp_2508 chr3_52179438_54975538  \n",
       "6  ROSMAP_gpQTL_gp_2508 chr4_43205452_47542521  \n",
       "7  ROSMAP_gpQTL_gp_2508 chr5_50868828_54641088  \n",
       "8  ROSMAP_gpQTL_gp_2508 chr5_135495886_137607787\n",
       "9  ROSMAP_gpQTL_gp_2508 chr6_31604117_32714947  \n",
       "10 ROSMAP_gpQTL_gp_2508 chr7_130784338_133120345\n",
       "11 ROSMAP_gpQTL_gp_2508 chr14_16038675_21164036 \n",
       "12 ROSMAP_gpQTL_gp_2508 chr15_91547103_93020382 \n",
       "13 ROSMAP_gpQTL_gp_2508 chr16_88382277_90220225 \n",
       "14 ROSMAP_gpQTL_gp_2508 chr19_9354363_11569122  "
      ]
     },
     "metadata": {},
     "output_type": "display_data"
    }
   ],
   "source": [
    "i=3\n",
    "trans_only_gwas_cs_sum_boundry$region[i]\n",
    "trans %>% filter(event_ID == trans_only_gwas_cs_sum_boundry$events[i]) %>% arrange(`#chr`) %>% select(event_ID, gene_ID) %>% distinct"
   ]
  },
  {
   "cell_type": "code",
   "execution_count": 30,
   "id": "8e78456d-a637-4b04-a1c3-64408157844c",
   "metadata": {},
   "outputs": [
    {
     "data": {
      "text/html": [
       "'chr2_158720603_160577800'"
      ],
      "text/latex": [
       "'chr2\\_158720603\\_160577800'"
      ],
      "text/markdown": [
       "'chr2_158720603_160577800'"
      ],
      "text/plain": [
       "[1] \"chr2_158720603_160577800\""
      ]
     },
     "metadata": {},
     "output_type": "display_data"
    },
    {
     "data": {
      "text/html": [
       "<table class=\"dataframe\">\n",
       "<caption>A data.table: 1 × 2</caption>\n",
       "<thead>\n",
       "\t<tr><th scope=col>event_ID</th><th scope=col>gene_ID</th></tr>\n",
       "\t<tr><th scope=col>&lt;chr&gt;</th><th scope=col>&lt;chr&gt;</th></tr>\n",
       "</thead>\n",
       "<tbody>\n",
       "\t<tr><td>MSBB_eQTL_BM10_ENSG00000213579</td><td>chr2_158720603_160577800</td></tr>\n",
       "</tbody>\n",
       "</table>\n"
      ],
      "text/latex": [
       "A data.table: 1 × 2\n",
       "\\begin{tabular}{ll}\n",
       " event\\_ID & gene\\_ID\\\\\n",
       " <chr> & <chr>\\\\\n",
       "\\hline\n",
       "\t MSBB\\_eQTL\\_BM10\\_ENSG00000213579 & chr2\\_158720603\\_160577800\\\\\n",
       "\\end{tabular}\n"
      ],
      "text/markdown": [
       "\n",
       "A data.table: 1 × 2\n",
       "\n",
       "| event_ID &lt;chr&gt; | gene_ID &lt;chr&gt; |\n",
       "|---|---|\n",
       "| MSBB_eQTL_BM10_ENSG00000213579 | chr2_158720603_160577800 |\n",
       "\n"
      ],
      "text/plain": [
       "  event_ID                       gene_ID                 \n",
       "1 MSBB_eQTL_BM10_ENSG00000213579 chr2_158720603_160577800"
      ]
     },
     "metadata": {},
     "output_type": "display_data"
    }
   ],
   "source": [
    "i=4\n",
    "trans_only_gwas_cs_sum_boundry$region[i]\n",
    "trans %>% filter(event_ID == trans_only_gwas_cs_sum_boundry$events[i]) %>% arrange(`#chr`) %>% select(event_ID, gene_ID) %>% distinct"
   ]
  },
  {
   "cell_type": "code",
   "execution_count": 31,
   "id": "3e5e3ee0-21bb-490c-b317-08e2a75811c4",
   "metadata": {},
   "outputs": [
    {
     "data": {
      "text/html": [
       "'chr2_158720603_160577800'"
      ],
      "text/latex": [
       "'chr2\\_158720603\\_160577800'"
      ],
      "text/markdown": [
       "'chr2_158720603_160577800'"
      ],
      "text/plain": [
       "[1] \"chr2_158720603_160577800\""
      ]
     },
     "metadata": {},
     "output_type": "display_data"
    },
    {
     "data": {
      "text/html": [
       "<table class=\"dataframe\">\n",
       "<caption>A data.table: 2 × 2</caption>\n",
       "<thead>\n",
       "\t<tr><th scope=col>event_ID</th><th scope=col>gene_ID</th></tr>\n",
       "\t<tr><th scope=col>&lt;chr&gt;</th><th scope=col>&lt;chr&gt;</th></tr>\n",
       "</thead>\n",
       "<tbody>\n",
       "\t<tr><td>ROSMAP_DeJager_eQTL_Monocyte_ENSG00000179611</td><td>chr2_158720603_160577800</td></tr>\n",
       "\t<tr><td>ROSMAP_DeJager_eQTL_Monocyte_ENSG00000179611</td><td>chr5_29715047_31868737  </td></tr>\n",
       "</tbody>\n",
       "</table>\n"
      ],
      "text/latex": [
       "A data.table: 2 × 2\n",
       "\\begin{tabular}{ll}\n",
       " event\\_ID & gene\\_ID\\\\\n",
       " <chr> & <chr>\\\\\n",
       "\\hline\n",
       "\t ROSMAP\\_DeJager\\_eQTL\\_Monocyte\\_ENSG00000179611 & chr2\\_158720603\\_160577800\\\\\n",
       "\t ROSMAP\\_DeJager\\_eQTL\\_Monocyte\\_ENSG00000179611 & chr5\\_29715047\\_31868737  \\\\\n",
       "\\end{tabular}\n"
      ],
      "text/markdown": [
       "\n",
       "A data.table: 2 × 2\n",
       "\n",
       "| event_ID &lt;chr&gt; | gene_ID &lt;chr&gt; |\n",
       "|---|---|\n",
       "| ROSMAP_DeJager_eQTL_Monocyte_ENSG00000179611 | chr2_158720603_160577800 |\n",
       "| ROSMAP_DeJager_eQTL_Monocyte_ENSG00000179611 | chr5_29715047_31868737   |\n",
       "\n"
      ],
      "text/plain": [
       "  event_ID                                     gene_ID                 \n",
       "1 ROSMAP_DeJager_eQTL_Monocyte_ENSG00000179611 chr2_158720603_160577800\n",
       "2 ROSMAP_DeJager_eQTL_Monocyte_ENSG00000179611 chr5_29715047_31868737  "
      ]
     },
     "metadata": {},
     "output_type": "display_data"
    }
   ],
   "source": [
    "i=5\n",
    "trans_only_gwas_cs_sum_boundry$region[i]\n",
    "trans %>% filter(event_ID == trans_only_gwas_cs_sum_boundry$events[i]) %>% arrange(`#chr`) %>% select(event_ID, gene_ID) %>% distinct"
   ]
  },
  {
   "cell_type": "code",
   "execution_count": 32,
   "id": "f99b23b2-195d-4ee4-a6dd-3400a9ff8a4d",
   "metadata": {},
   "outputs": [
    {
     "data": {
      "text/html": [
       "'chr2_158720603_160577800'"
      ],
      "text/latex": [
       "'chr2\\_158720603\\_160577800'"
      ],
      "text/markdown": [
       "'chr2_158720603_160577800'"
      ],
      "text/plain": [
       "[1] \"chr2_158720603_160577800\""
      ]
     },
     "metadata": {},
     "output_type": "display_data"
    },
    {
     "data": {
      "text/html": [
       "<table class=\"dataframe\">\n",
       "<caption>A data.table: 7 × 2</caption>\n",
       "<thead>\n",
       "\t<tr><th scope=col>event_ID</th><th scope=col>gene_ID</th></tr>\n",
       "\t<tr><th scope=col>&lt;chr&gt;</th><th scope=col>&lt;chr&gt;</th></tr>\n",
       "</thead>\n",
       "<tbody>\n",
       "\t<tr><td>ROSMAP_DeJager_eQTL_Monocyte_ENSG00000105220</td><td>chr1_154829663_158933969</td></tr>\n",
       "\t<tr><td>ROSMAP_DeJager_eQTL_Monocyte_ENSG00000105220</td><td>chr2_158720603_160577800</td></tr>\n",
       "\t<tr><td>ROSMAP_DeJager_eQTL_Monocyte_ENSG00000105220</td><td>chr2_176462474_179338809</td></tr>\n",
       "\t<tr><td>ROSMAP_DeJager_eQTL_Monocyte_ENSG00000105220</td><td>chr3_54975538_56922208  </td></tr>\n",
       "\t<tr><td>ROSMAP_DeJager_eQTL_Monocyte_ENSG00000105220</td><td>chr16_10031_1157592     </td></tr>\n",
       "\t<tr><td>ROSMAP_DeJager_eQTL_Monocyte_ENSG00000105220</td><td>chr17_81070897_83242554 </td></tr>\n",
       "\t<tr><td>ROSMAP_DeJager_eQTL_Monocyte_ENSG00000105220</td><td>chr18_75159731_76625474 </td></tr>\n",
       "</tbody>\n",
       "</table>\n"
      ],
      "text/latex": [
       "A data.table: 7 × 2\n",
       "\\begin{tabular}{ll}\n",
       " event\\_ID & gene\\_ID\\\\\n",
       " <chr> & <chr>\\\\\n",
       "\\hline\n",
       "\t ROSMAP\\_DeJager\\_eQTL\\_Monocyte\\_ENSG00000105220 & chr1\\_154829663\\_158933969\\\\\n",
       "\t ROSMAP\\_DeJager\\_eQTL\\_Monocyte\\_ENSG00000105220 & chr2\\_158720603\\_160577800\\\\\n",
       "\t ROSMAP\\_DeJager\\_eQTL\\_Monocyte\\_ENSG00000105220 & chr2\\_176462474\\_179338809\\\\\n",
       "\t ROSMAP\\_DeJager\\_eQTL\\_Monocyte\\_ENSG00000105220 & chr3\\_54975538\\_56922208  \\\\\n",
       "\t ROSMAP\\_DeJager\\_eQTL\\_Monocyte\\_ENSG00000105220 & chr16\\_10031\\_1157592     \\\\\n",
       "\t ROSMAP\\_DeJager\\_eQTL\\_Monocyte\\_ENSG00000105220 & chr17\\_81070897\\_83242554 \\\\\n",
       "\t ROSMAP\\_DeJager\\_eQTL\\_Monocyte\\_ENSG00000105220 & chr18\\_75159731\\_76625474 \\\\\n",
       "\\end{tabular}\n"
      ],
      "text/markdown": [
       "\n",
       "A data.table: 7 × 2\n",
       "\n",
       "| event_ID &lt;chr&gt; | gene_ID &lt;chr&gt; |\n",
       "|---|---|\n",
       "| ROSMAP_DeJager_eQTL_Monocyte_ENSG00000105220 | chr1_154829663_158933969 |\n",
       "| ROSMAP_DeJager_eQTL_Monocyte_ENSG00000105220 | chr2_158720603_160577800 |\n",
       "| ROSMAP_DeJager_eQTL_Monocyte_ENSG00000105220 | chr2_176462474_179338809 |\n",
       "| ROSMAP_DeJager_eQTL_Monocyte_ENSG00000105220 | chr3_54975538_56922208   |\n",
       "| ROSMAP_DeJager_eQTL_Monocyte_ENSG00000105220 | chr16_10031_1157592      |\n",
       "| ROSMAP_DeJager_eQTL_Monocyte_ENSG00000105220 | chr17_81070897_83242554  |\n",
       "| ROSMAP_DeJager_eQTL_Monocyte_ENSG00000105220 | chr18_75159731_76625474  |\n",
       "\n"
      ],
      "text/plain": [
       "  event_ID                                     gene_ID                 \n",
       "1 ROSMAP_DeJager_eQTL_Monocyte_ENSG00000105220 chr1_154829663_158933969\n",
       "2 ROSMAP_DeJager_eQTL_Monocyte_ENSG00000105220 chr2_158720603_160577800\n",
       "3 ROSMAP_DeJager_eQTL_Monocyte_ENSG00000105220 chr2_176462474_179338809\n",
       "4 ROSMAP_DeJager_eQTL_Monocyte_ENSG00000105220 chr3_54975538_56922208  \n",
       "5 ROSMAP_DeJager_eQTL_Monocyte_ENSG00000105220 chr16_10031_1157592     \n",
       "6 ROSMAP_DeJager_eQTL_Monocyte_ENSG00000105220 chr17_81070897_83242554 \n",
       "7 ROSMAP_DeJager_eQTL_Monocyte_ENSG00000105220 chr18_75159731_76625474 "
      ]
     },
     "metadata": {},
     "output_type": "display_data"
    }
   ],
   "source": [
    "i=6\n",
    "trans_only_gwas_cs_sum_boundry$region[i]\n",
    "trans %>% filter(event_ID == trans_only_gwas_cs_sum_boundry$events[i]) %>% arrange(`#chr`) %>% select(event_ID, gene_ID) %>% distinct"
   ]
  },
  {
   "cell_type": "code",
   "execution_count": 33,
   "id": "675c8efa-b516-467f-9d16-4706f0e6a298",
   "metadata": {},
   "outputs": [
    {
     "data": {
      "text/html": [
       "'chr5_139769624_142619401'"
      ],
      "text/latex": [
       "'chr5\\_139769624\\_142619401'"
      ],
      "text/markdown": [
       "'chr5_139769624_142619401'"
      ],
      "text/plain": [
       "[1] \"chr5_139769624_142619401\""
      ]
     },
     "metadata": {},
     "output_type": "display_data"
    },
    {
     "data": {
      "text/html": [
       "<table class=\"dataframe\">\n",
       "<caption>A data.table: 1 × 2</caption>\n",
       "<thead>\n",
       "\t<tr><th scope=col>event_ID</th><th scope=col>gene_ID</th></tr>\n",
       "\t<tr><th scope=col>&lt;chr&gt;</th><th scope=col>&lt;chr&gt;</th></tr>\n",
       "</thead>\n",
       "<tbody>\n",
       "\t<tr><td>MSBB_eQTL_BM10_ENSG00000136840</td><td>chr5_139769624_142619401</td></tr>\n",
       "</tbody>\n",
       "</table>\n"
      ],
      "text/latex": [
       "A data.table: 1 × 2\n",
       "\\begin{tabular}{ll}\n",
       " event\\_ID & gene\\_ID\\\\\n",
       " <chr> & <chr>\\\\\n",
       "\\hline\n",
       "\t MSBB\\_eQTL\\_BM10\\_ENSG00000136840 & chr5\\_139769624\\_142619401\\\\\n",
       "\\end{tabular}\n"
      ],
      "text/markdown": [
       "\n",
       "A data.table: 1 × 2\n",
       "\n",
       "| event_ID &lt;chr&gt; | gene_ID &lt;chr&gt; |\n",
       "|---|---|\n",
       "| MSBB_eQTL_BM10_ENSG00000136840 | chr5_139769624_142619401 |\n",
       "\n"
      ],
      "text/plain": [
       "  event_ID                       gene_ID                 \n",
       "1 MSBB_eQTL_BM10_ENSG00000136840 chr5_139769624_142619401"
      ]
     },
     "metadata": {},
     "output_type": "display_data"
    }
   ],
   "source": [
    "i=7\n",
    "trans_only_gwas_cs_sum_boundry$region[i]\n",
    "trans %>% filter(event_ID == trans_only_gwas_cs_sum_boundry$events[i]) %>% arrange(`#chr`) %>% select(event_ID, gene_ID) %>% distinct"
   ]
  },
  {
   "cell_type": "code",
   "execution_count": 34,
   "id": "73c85bda-90fc-4d0a-9214-2f05d586e80d",
   "metadata": {},
   "outputs": [
    {
     "data": {
      "text/html": [
       "'chr8_26225312_27515963'"
      ],
      "text/latex": [
       "'chr8\\_26225312\\_27515963'"
      ],
      "text/markdown": [
       "'chr8_26225312_27515963'"
      ],
      "text/plain": [
       "[1] \"chr8_26225312_27515963\""
      ]
     },
     "metadata": {},
     "output_type": "display_data"
    },
    {
     "data": {
      "text/html": [
       "<table class=\"dataframe\">\n",
       "<caption>A data.table: 1 × 2</caption>\n",
       "<thead>\n",
       "\t<tr><th scope=col>event_ID</th><th scope=col>gene_ID</th></tr>\n",
       "\t<tr><th scope=col>&lt;chr&gt;</th><th scope=col>&lt;chr&gt;</th></tr>\n",
       "</thead>\n",
       "<tbody>\n",
       "\t<tr><td>MSBB_eQTL_BM36_ENSG00000140987</td><td>chr8_26225312_27515963</td></tr>\n",
       "</tbody>\n",
       "</table>\n"
      ],
      "text/latex": [
       "A data.table: 1 × 2\n",
       "\\begin{tabular}{ll}\n",
       " event\\_ID & gene\\_ID\\\\\n",
       " <chr> & <chr>\\\\\n",
       "\\hline\n",
       "\t MSBB\\_eQTL\\_BM36\\_ENSG00000140987 & chr8\\_26225312\\_27515963\\\\\n",
       "\\end{tabular}\n"
      ],
      "text/markdown": [
       "\n",
       "A data.table: 1 × 2\n",
       "\n",
       "| event_ID &lt;chr&gt; | gene_ID &lt;chr&gt; |\n",
       "|---|---|\n",
       "| MSBB_eQTL_BM36_ENSG00000140987 | chr8_26225312_27515963 |\n",
       "\n"
      ],
      "text/plain": [
       "  event_ID                       gene_ID               \n",
       "1 MSBB_eQTL_BM36_ENSG00000140987 chr8_26225312_27515963"
      ]
     },
     "metadata": {},
     "output_type": "display_data"
    }
   ],
   "source": [
    "i=8\n",
    "trans_only_gwas_cs_sum_boundry$region[i]\n",
    "trans %>% filter(event_ID == trans_only_gwas_cs_sum_boundry$events[i]) %>% arrange(`#chr`) %>% select(event_ID, gene_ID) %>% distinct"
   ]
  },
  {
   "cell_type": "code",
   "execution_count": 35,
   "id": "4dd8271e-a2a0-49fd-93d5-25303586b41c",
   "metadata": {},
   "outputs": [
    {
     "data": {
      "text/html": [
       "'chr8_26225312_27515963'"
      ],
      "text/latex": [
       "'chr8\\_26225312\\_27515963'"
      ],
      "text/markdown": [
       "'chr8_26225312_27515963'"
      ],
      "text/plain": [
       "[1] \"chr8_26225312_27515963\""
      ]
     },
     "metadata": {},
     "output_type": "display_data"
    },
    {
     "data": {
      "text/html": [
       "<table class=\"dataframe\">\n",
       "<caption>A data.table: 1 × 2</caption>\n",
       "<thead>\n",
       "\t<tr><th scope=col>event_ID</th><th scope=col>gene_ID</th></tr>\n",
       "\t<tr><th scope=col>&lt;chr&gt;</th><th scope=col>&lt;chr&gt;</th></tr>\n",
       "</thead>\n",
       "<tbody>\n",
       "\t<tr><td>ROSMAP_gpQTL_gp_7827</td><td>chr8_26225312_27515963</td></tr>\n",
       "</tbody>\n",
       "</table>\n"
      ],
      "text/latex": [
       "A data.table: 1 × 2\n",
       "\\begin{tabular}{ll}\n",
       " event\\_ID & gene\\_ID\\\\\n",
       " <chr> & <chr>\\\\\n",
       "\\hline\n",
       "\t ROSMAP\\_gpQTL\\_gp\\_7827 & chr8\\_26225312\\_27515963\\\\\n",
       "\\end{tabular}\n"
      ],
      "text/markdown": [
       "\n",
       "A data.table: 1 × 2\n",
       "\n",
       "| event_ID &lt;chr&gt; | gene_ID &lt;chr&gt; |\n",
       "|---|---|\n",
       "| ROSMAP_gpQTL_gp_7827 | chr8_26225312_27515963 |\n",
       "\n"
      ],
      "text/plain": [
       "  event_ID             gene_ID               \n",
       "1 ROSMAP_gpQTL_gp_7827 chr8_26225312_27515963"
      ]
     },
     "metadata": {},
     "output_type": "display_data"
    }
   ],
   "source": [
    "i=9\n",
    "trans_only_gwas_cs_sum_boundry$region[i]\n",
    "trans %>% filter(event_ID == trans_only_gwas_cs_sum_boundry$events[i]) %>% arrange(`#chr`) %>% select(event_ID, gene_ID) %>% distinct"
   ]
  },
  {
   "cell_type": "code",
   "execution_count": 36,
   "id": "34584539-5361-484d-950e-b6cbe5914bc3",
   "metadata": {},
   "outputs": [
    {
     "data": {
      "text/html": [
       "'chr8_26225312_27515963'"
      ],
      "text/latex": [
       "'chr8\\_26225312\\_27515963'"
      ],
      "text/markdown": [
       "'chr8_26225312_27515963'"
      ],
      "text/plain": [
       "[1] \"chr8_26225312_27515963\""
      ]
     },
     "metadata": {},
     "output_type": "display_data"
    },
    {
     "data": {
      "text/html": [
       "<table class=\"dataframe\">\n",
       "<caption>A data.table: 1 × 2</caption>\n",
       "<thead>\n",
       "\t<tr><th scope=col>event_ID</th><th scope=col>gene_ID</th></tr>\n",
       "\t<tr><th scope=col>&lt;chr&gt;</th><th scope=col>&lt;chr&gt;</th></tr>\n",
       "</thead>\n",
       "<tbody>\n",
       "\t<tr><td>MSBB_eQTL_BM22_ENSG00000137270</td><td>chr8_26225312_27515963</td></tr>\n",
       "</tbody>\n",
       "</table>\n"
      ],
      "text/latex": [
       "A data.table: 1 × 2\n",
       "\\begin{tabular}{ll}\n",
       " event\\_ID & gene\\_ID\\\\\n",
       " <chr> & <chr>\\\\\n",
       "\\hline\n",
       "\t MSBB\\_eQTL\\_BM22\\_ENSG00000137270 & chr8\\_26225312\\_27515963\\\\\n",
       "\\end{tabular}\n"
      ],
      "text/markdown": [
       "\n",
       "A data.table: 1 × 2\n",
       "\n",
       "| event_ID &lt;chr&gt; | gene_ID &lt;chr&gt; |\n",
       "|---|---|\n",
       "| MSBB_eQTL_BM22_ENSG00000137270 | chr8_26225312_27515963 |\n",
       "\n"
      ],
      "text/plain": [
       "  event_ID                       gene_ID               \n",
       "1 MSBB_eQTL_BM22_ENSG00000137270 chr8_26225312_27515963"
      ]
     },
     "metadata": {},
     "output_type": "display_data"
    }
   ],
   "source": [
    "i=10\n",
    "trans_only_gwas_cs_sum_boundry$region[i]\n",
    "trans %>% filter(event_ID == trans_only_gwas_cs_sum_boundry$events[i]) %>% arrange(`#chr`) %>% select(event_ID, gene_ID) %>% distinct"
   ]
  },
  {
   "cell_type": "code",
   "execution_count": null,
   "id": "2cedd60e-150a-46b9-b476-6e789f565386",
   "metadata": {},
   "outputs": [],
   "source": []
  },
  {
   "cell_type": "markdown",
   "id": "fd51235d-fbe1-4c44-ba59-90a37fd01149",
   "metadata": {},
   "source": [
    "### Check one special case:"
   ]
  },
  {
   "cell_type": "code",
   "execution_count": 37,
   "id": "dee41c17-aab1-4f16-9683-2e6b98d60d4f",
   "metadata": {},
   "outputs": [
    {
     "data": {
      "text/html": [
       "<table class=\"dataframe\">\n",
       "<caption>A tibble: 10 × 7</caption>\n",
       "<thead>\n",
       "\t<tr><th scope=col>region</th><th scope=col>n_event</th><th scope=col>events</th><th scope=col>studies</th><th scope=col>resource</th><th scope=col>gene</th><th scope=col>filter_decision</th></tr>\n",
       "\t<tr><th scope=col>&lt;chr&gt;</th><th scope=col>&lt;int&gt;</th><th scope=col>&lt;chr&gt;</th><th scope=col>&lt;chr&gt;</th><th scope=col>&lt;chr&gt;</th><th scope=col>&lt;chr&gt;</th><th scope=col>&lt;lgl&gt;</th></tr>\n",
       "</thead>\n",
       "<tbody>\n",
       "\t<tr><td>chr15_47690138_49901356 </td><td>1</td><td>ROSMAP_DeJager_eQTL_Monocyte_ENSG00000087263</td><td>AD_Bellenguez_2022   </td><td>ROSMAP_DeJager_eQTL_Monocyte</td><td>ENSG00000087263</td><td> TRUE</td></tr>\n",
       "\t<tr><td>chr15_49901356_51733753 </td><td>1</td><td>ROSMAP_DeJager_eQTL_Monocyte_ENSG00000087263</td><td>AD_Bellenguez_2022   </td><td>ROSMAP_DeJager_eQTL_Monocyte</td><td>ENSG00000087263</td><td> TRUE</td></tr>\n",
       "\t<tr><td>chr16_88382277_90220225 </td><td>1</td><td>ROSMAP_gpQTL_gp_2508                        </td><td>AD_Bellenguez_2022   </td><td>ROSMAP_gpQTL                </td><td>NA             </td><td>FALSE</td></tr>\n",
       "\t<tr><td>chr2_158720603_160577800</td><td>3</td><td>MSBB_eQTL_BM10_ENSG00000213579              </td><td>AD_Bellenguez_2022   </td><td>MSBB_eQTL_BM10              </td><td>ENSG00000213579</td><td>FALSE</td></tr>\n",
       "\t<tr><td>chr2_158720603_160577800</td><td>3</td><td>ROSMAP_DeJager_eQTL_Monocyte_ENSG00000179611</td><td>AD_Bellenguez_2022   </td><td>ROSMAP_DeJager_eQTL_Monocyte</td><td>ENSG00000179611</td><td>FALSE</td></tr>\n",
       "\t<tr><td>chr2_158720603_160577800</td><td>3</td><td>ROSMAP_DeJager_eQTL_Monocyte_ENSG00000105220</td><td>AD_Bellenguez_2022   </td><td>ROSMAP_DeJager_eQTL_Monocyte</td><td>ENSG00000105220</td><td>FALSE</td></tr>\n",
       "\t<tr><td>chr5_139769624_142619401</td><td>1</td><td>MSBB_eQTL_BM10_ENSG00000136840              </td><td>AD_Kunkle_Stage1_2019</td><td>MSBB_eQTL_BM10              </td><td>ENSG00000136840</td><td>FALSE</td></tr>\n",
       "\t<tr><td>chr8_26225312_27515963  </td><td>3</td><td>MSBB_eQTL_BM36_ENSG00000140987              </td><td>AD_Wightman_Full_2021</td><td>MSBB_eQTL_BM36              </td><td>ENSG00000140987</td><td>FALSE</td></tr>\n",
       "\t<tr><td>chr8_26225312_27515963  </td><td>3</td><td>ROSMAP_gpQTL_gp_7827                        </td><td>AD_Wightman_Full_2021</td><td>ROSMAP_gpQTL                </td><td>NA             </td><td>FALSE</td></tr>\n",
       "\t<tr><td>chr8_26225312_27515963  </td><td>3</td><td>MSBB_eQTL_BM22_ENSG00000137270              </td><td>AD_Wightman_Full_2021</td><td>MSBB_eQTL_BM22              </td><td>ENSG00000137270</td><td>FALSE</td></tr>\n",
       "</tbody>\n",
       "</table>\n"
      ],
      "text/latex": [
       "A tibble: 10 × 7\n",
       "\\begin{tabular}{lllllll}\n",
       " region & n\\_event & events & studies & resource & gene & filter\\_decision\\\\\n",
       " <chr> & <int> & <chr> & <chr> & <chr> & <chr> & <lgl>\\\\\n",
       "\\hline\n",
       "\t chr15\\_47690138\\_49901356  & 1 & ROSMAP\\_DeJager\\_eQTL\\_Monocyte\\_ENSG00000087263 & AD\\_Bellenguez\\_2022    & ROSMAP\\_DeJager\\_eQTL\\_Monocyte & ENSG00000087263 &  TRUE\\\\\n",
       "\t chr15\\_49901356\\_51733753  & 1 & ROSMAP\\_DeJager\\_eQTL\\_Monocyte\\_ENSG00000087263 & AD\\_Bellenguez\\_2022    & ROSMAP\\_DeJager\\_eQTL\\_Monocyte & ENSG00000087263 &  TRUE\\\\\n",
       "\t chr16\\_88382277\\_90220225  & 1 & ROSMAP\\_gpQTL\\_gp\\_2508                         & AD\\_Bellenguez\\_2022    & ROSMAP\\_gpQTL                 & NA              & FALSE\\\\\n",
       "\t chr2\\_158720603\\_160577800 & 3 & MSBB\\_eQTL\\_BM10\\_ENSG00000213579               & AD\\_Bellenguez\\_2022    & MSBB\\_eQTL\\_BM10               & ENSG00000213579 & FALSE\\\\\n",
       "\t chr2\\_158720603\\_160577800 & 3 & ROSMAP\\_DeJager\\_eQTL\\_Monocyte\\_ENSG00000179611 & AD\\_Bellenguez\\_2022    & ROSMAP\\_DeJager\\_eQTL\\_Monocyte & ENSG00000179611 & FALSE\\\\\n",
       "\t chr2\\_158720603\\_160577800 & 3 & ROSMAP\\_DeJager\\_eQTL\\_Monocyte\\_ENSG00000105220 & AD\\_Bellenguez\\_2022    & ROSMAP\\_DeJager\\_eQTL\\_Monocyte & ENSG00000105220 & FALSE\\\\\n",
       "\t chr5\\_139769624\\_142619401 & 1 & MSBB\\_eQTL\\_BM10\\_ENSG00000136840               & AD\\_Kunkle\\_Stage1\\_2019 & MSBB\\_eQTL\\_BM10               & ENSG00000136840 & FALSE\\\\\n",
       "\t chr8\\_26225312\\_27515963   & 3 & MSBB\\_eQTL\\_BM36\\_ENSG00000140987               & AD\\_Wightman\\_Full\\_2021 & MSBB\\_eQTL\\_BM36               & ENSG00000140987 & FALSE\\\\\n",
       "\t chr8\\_26225312\\_27515963   & 3 & ROSMAP\\_gpQTL\\_gp\\_7827                         & AD\\_Wightman\\_Full\\_2021 & ROSMAP\\_gpQTL                 & NA              & FALSE\\\\\n",
       "\t chr8\\_26225312\\_27515963   & 3 & MSBB\\_eQTL\\_BM22\\_ENSG00000137270               & AD\\_Wightman\\_Full\\_2021 & MSBB\\_eQTL\\_BM22               & ENSG00000137270 & FALSE\\\\\n",
       "\\end{tabular}\n"
      ],
      "text/markdown": [
       "\n",
       "A tibble: 10 × 7\n",
       "\n",
       "| region &lt;chr&gt; | n_event &lt;int&gt; | events &lt;chr&gt; | studies &lt;chr&gt; | resource &lt;chr&gt; | gene &lt;chr&gt; | filter_decision &lt;lgl&gt; |\n",
       "|---|---|---|---|---|---|---|\n",
       "| chr15_47690138_49901356  | 1 | ROSMAP_DeJager_eQTL_Monocyte_ENSG00000087263 | AD_Bellenguez_2022    | ROSMAP_DeJager_eQTL_Monocyte | ENSG00000087263 |  TRUE |\n",
       "| chr15_49901356_51733753  | 1 | ROSMAP_DeJager_eQTL_Monocyte_ENSG00000087263 | AD_Bellenguez_2022    | ROSMAP_DeJager_eQTL_Monocyte | ENSG00000087263 |  TRUE |\n",
       "| chr16_88382277_90220225  | 1 | ROSMAP_gpQTL_gp_2508                         | AD_Bellenguez_2022    | ROSMAP_gpQTL                 | NA              | FALSE |\n",
       "| chr2_158720603_160577800 | 3 | MSBB_eQTL_BM10_ENSG00000213579               | AD_Bellenguez_2022    | MSBB_eQTL_BM10               | ENSG00000213579 | FALSE |\n",
       "| chr2_158720603_160577800 | 3 | ROSMAP_DeJager_eQTL_Monocyte_ENSG00000179611 | AD_Bellenguez_2022    | ROSMAP_DeJager_eQTL_Monocyte | ENSG00000179611 | FALSE |\n",
       "| chr2_158720603_160577800 | 3 | ROSMAP_DeJager_eQTL_Monocyte_ENSG00000105220 | AD_Bellenguez_2022    | ROSMAP_DeJager_eQTL_Monocyte | ENSG00000105220 | FALSE |\n",
       "| chr5_139769624_142619401 | 1 | MSBB_eQTL_BM10_ENSG00000136840               | AD_Kunkle_Stage1_2019 | MSBB_eQTL_BM10               | ENSG00000136840 | FALSE |\n",
       "| chr8_26225312_27515963   | 3 | MSBB_eQTL_BM36_ENSG00000140987               | AD_Wightman_Full_2021 | MSBB_eQTL_BM36               | ENSG00000140987 | FALSE |\n",
       "| chr8_26225312_27515963   | 3 | ROSMAP_gpQTL_gp_7827                         | AD_Wightman_Full_2021 | ROSMAP_gpQTL                 | NA              | FALSE |\n",
       "| chr8_26225312_27515963   | 3 | MSBB_eQTL_BM22_ENSG00000137270               | AD_Wightman_Full_2021 | MSBB_eQTL_BM22               | ENSG00000137270 | FALSE |\n",
       "\n"
      ],
      "text/plain": [
       "   region                   n_event\n",
       "1  chr15_47690138_49901356  1      \n",
       "2  chr15_49901356_51733753  1      \n",
       "3  chr16_88382277_90220225  1      \n",
       "4  chr2_158720603_160577800 3      \n",
       "5  chr2_158720603_160577800 3      \n",
       "6  chr2_158720603_160577800 3      \n",
       "7  chr5_139769624_142619401 1      \n",
       "8  chr8_26225312_27515963   3      \n",
       "9  chr8_26225312_27515963   3      \n",
       "10 chr8_26225312_27515963   3      \n",
       "   events                                       studies              \n",
       "1  ROSMAP_DeJager_eQTL_Monocyte_ENSG00000087263 AD_Bellenguez_2022   \n",
       "2  ROSMAP_DeJager_eQTL_Monocyte_ENSG00000087263 AD_Bellenguez_2022   \n",
       "3  ROSMAP_gpQTL_gp_2508                         AD_Bellenguez_2022   \n",
       "4  MSBB_eQTL_BM10_ENSG00000213579               AD_Bellenguez_2022   \n",
       "5  ROSMAP_DeJager_eQTL_Monocyte_ENSG00000179611 AD_Bellenguez_2022   \n",
       "6  ROSMAP_DeJager_eQTL_Monocyte_ENSG00000105220 AD_Bellenguez_2022   \n",
       "7  MSBB_eQTL_BM10_ENSG00000136840               AD_Kunkle_Stage1_2019\n",
       "8  MSBB_eQTL_BM36_ENSG00000140987               AD_Wightman_Full_2021\n",
       "9  ROSMAP_gpQTL_gp_7827                         AD_Wightman_Full_2021\n",
       "10 MSBB_eQTL_BM22_ENSG00000137270               AD_Wightman_Full_2021\n",
       "   resource                     gene            filter_decision\n",
       "1  ROSMAP_DeJager_eQTL_Monocyte ENSG00000087263  TRUE          \n",
       "2  ROSMAP_DeJager_eQTL_Monocyte ENSG00000087263  TRUE          \n",
       "3  ROSMAP_gpQTL                 NA              FALSE          \n",
       "4  MSBB_eQTL_BM10               ENSG00000213579 FALSE          \n",
       "5  ROSMAP_DeJager_eQTL_Monocyte ENSG00000179611 FALSE          \n",
       "6  ROSMAP_DeJager_eQTL_Monocyte ENSG00000105220 FALSE          \n",
       "7  MSBB_eQTL_BM10               ENSG00000136840 FALSE          \n",
       "8  MSBB_eQTL_BM36               ENSG00000140987 FALSE          \n",
       "9  ROSMAP_gpQTL                 NA              FALSE          \n",
       "10 MSBB_eQTL_BM22               ENSG00000137270 FALSE          "
      ]
     },
     "metadata": {},
     "output_type": "display_data"
    }
   ],
   "source": [
    "trans_only_gwas_cs_sum_boundry"
   ]
  },
  {
   "cell_type": "code",
   "execution_count": 38,
   "id": "5738daf1-1dfe-4156-8f94-a1918409546e",
   "metadata": {},
   "outputs": [
    {
     "data": {
      "text/html": [
       "<table class=\"dataframe\">\n",
       "<caption>A data.table: 1 × 18</caption>\n",
       "<thead>\n",
       "\t<tr><th scope=col>#chr</th><th scope=col>start</th><th scope=col>end</th><th scope=col>a1</th><th scope=col>a2</th><th scope=col>variant_ID</th><th scope=col>MAF</th><th scope=col>betahat</th><th scope=col>sebetahat</th><th scope=col>z</th><th scope=col>gene_ID</th><th scope=col>event_ID</th><th scope=col>cs_coverage_0.95</th><th scope=col>cs_coverage_0.7</th><th scope=col>cs_coverage_0.5</th><th scope=col>PIP</th><th scope=col>conditional_effect</th><th scope=col>resource</th></tr>\n",
       "\t<tr><th scope=col>&lt;int&gt;</th><th scope=col>&lt;dbl&gt;</th><th scope=col>&lt;int&gt;</th><th scope=col>&lt;chr&gt;</th><th scope=col>&lt;chr&gt;</th><th scope=col>&lt;chr&gt;</th><th scope=col>&lt;dbl&gt;</th><th scope=col>&lt;dbl&gt;</th><th scope=col>&lt;dbl&gt;</th><th scope=col>&lt;dbl&gt;</th><th scope=col>&lt;chr&gt;</th><th scope=col>&lt;chr&gt;</th><th scope=col>&lt;int&gt;</th><th scope=col>&lt;int&gt;</th><th scope=col>&lt;int&gt;</th><th scope=col>&lt;dbl&gt;</th><th scope=col>&lt;dbl&gt;</th><th scope=col>&lt;chr&gt;</th></tr>\n",
       "</thead>\n",
       "<tbody>\n",
       "\t<tr><td>15</td><td>49901355</td><td>49901356</td><td>A</td><td>G</td><td>chr15:49901356:G:A</td><td>0.3761062</td><td>-0.1233689</td><td>0.02158984</td><td>-5.714214</td><td>chr15_47690138_49901356</td><td>ROSMAP_DeJager_eQTL_Monocyte_ENSG00000087263</td><td>1</td><td>1</td><td>1</td><td>0.9957963</td><td>-0.1191877</td><td>ROSMAP_DeJager_eQTL_Monocyte</td></tr>\n",
       "</tbody>\n",
       "</table>\n"
      ],
      "text/latex": [
       "A data.table: 1 × 18\n",
       "\\begin{tabular}{llllllllllllllllll}\n",
       " \\#chr & start & end & a1 & a2 & variant\\_ID & MAF & betahat & sebetahat & z & gene\\_ID & event\\_ID & cs\\_coverage\\_0.95 & cs\\_coverage\\_0.7 & cs\\_coverage\\_0.5 & PIP & conditional\\_effect & resource\\\\\n",
       " <int> & <dbl> & <int> & <chr> & <chr> & <chr> & <dbl> & <dbl> & <dbl> & <dbl> & <chr> & <chr> & <int> & <int> & <int> & <dbl> & <dbl> & <chr>\\\\\n",
       "\\hline\n",
       "\t 15 & 49901355 & 49901356 & A & G & chr15:49901356:G:A & 0.3761062 & -0.1233689 & 0.02158984 & -5.714214 & chr15\\_47690138\\_49901356 & ROSMAP\\_DeJager\\_eQTL\\_Monocyte\\_ENSG00000087263 & 1 & 1 & 1 & 0.9957963 & -0.1191877 & ROSMAP\\_DeJager\\_eQTL\\_Monocyte\\\\\n",
       "\\end{tabular}\n"
      ],
      "text/markdown": [
       "\n",
       "A data.table: 1 × 18\n",
       "\n",
       "| #chr &lt;int&gt; | start &lt;dbl&gt; | end &lt;int&gt; | a1 &lt;chr&gt; | a2 &lt;chr&gt; | variant_ID &lt;chr&gt; | MAF &lt;dbl&gt; | betahat &lt;dbl&gt; | sebetahat &lt;dbl&gt; | z &lt;dbl&gt; | gene_ID &lt;chr&gt; | event_ID &lt;chr&gt; | cs_coverage_0.95 &lt;int&gt; | cs_coverage_0.7 &lt;int&gt; | cs_coverage_0.5 &lt;int&gt; | PIP &lt;dbl&gt; | conditional_effect &lt;dbl&gt; | resource &lt;chr&gt; |\n",
       "|---|---|---|---|---|---|---|---|---|---|---|---|---|---|---|---|---|---|\n",
       "| 15 | 49901355 | 49901356 | A | G | chr15:49901356:G:A | 0.3761062 | -0.1233689 | 0.02158984 | -5.714214 | chr15_47690138_49901356 | ROSMAP_DeJager_eQTL_Monocyte_ENSG00000087263 | 1 | 1 | 1 | 0.9957963 | -0.1191877 | ROSMAP_DeJager_eQTL_Monocyte |\n",
       "\n"
      ],
      "text/plain": [
       "  #chr start    end      a1 a2 variant_ID         MAF       betahat   \n",
       "1 15   49901355 49901356 A  G  chr15:49901356:G:A 0.3761062 -0.1233689\n",
       "  sebetahat  z         gene_ID                \n",
       "1 0.02158984 -5.714214 chr15_47690138_49901356\n",
       "  event_ID                                     cs_coverage_0.95 cs_coverage_0.7\n",
       "1 ROSMAP_DeJager_eQTL_Monocyte_ENSG00000087263 1                1              \n",
       "  cs_coverage_0.5 PIP       conditional_effect resource                    \n",
       "1 1               0.9957963 -0.1191877         ROSMAP_DeJager_eQTL_Monocyte"
      ]
     },
     "metadata": {},
     "output_type": "display_data"
    },
    {
     "data": {
      "text/html": [
       "<table class=\"dataframe\">\n",
       "<caption>A data.table: 16 × 18</caption>\n",
       "<thead>\n",
       "\t<tr><th scope=col>#chr</th><th scope=col>start</th><th scope=col>end</th><th scope=col>a1</th><th scope=col>a2</th><th scope=col>variant_ID</th><th scope=col>MAF</th><th scope=col>betahat</th><th scope=col>sebetahat</th><th scope=col>z</th><th scope=col>gene_ID</th><th scope=col>event_ID</th><th scope=col>cs_coverage_0.95</th><th scope=col>cs_coverage_0.7</th><th scope=col>cs_coverage_0.5</th><th scope=col>PIP</th><th scope=col>conditional_effect</th><th scope=col>resource</th></tr>\n",
       "\t<tr><th scope=col>&lt;int&gt;</th><th scope=col>&lt;dbl&gt;</th><th scope=col>&lt;int&gt;</th><th scope=col>&lt;chr&gt;</th><th scope=col>&lt;chr&gt;</th><th scope=col>&lt;chr&gt;</th><th scope=col>&lt;dbl&gt;</th><th scope=col>&lt;dbl&gt;</th><th scope=col>&lt;dbl&gt;</th><th scope=col>&lt;dbl&gt;</th><th scope=col>&lt;chr&gt;</th><th scope=col>&lt;chr&gt;</th><th scope=col>&lt;int&gt;</th><th scope=col>&lt;int&gt;</th><th scope=col>&lt;int&gt;</th><th scope=col>&lt;dbl&gt;</th><th scope=col>&lt;dbl&gt;</th><th scope=col>&lt;chr&gt;</th></tr>\n",
       "</thead>\n",
       "<tbody>\n",
       "\t<tr><td>15</td><td>49901355</td><td>49901356</td><td>A                               </td><td>G                                           </td><td>chr15:49901356:G:A                                                                          </td><td>0.37610619</td><td>-0.12336894</td><td>0.02158984</td><td>-5.714214</td><td>chr15_49901356_51733753</td><td>ROSMAP_DeJager_eQTL_Monocyte_ENSG00000087263</td><td>1</td><td>1</td><td>1</td><td>0.98668799</td><td>-0.12683928</td><td>ROSMAP_DeJager_eQTL_Monocyte</td></tr>\n",
       "\t<tr><td>15</td><td>50073014</td><td>50073015</td><td>TACACACACACACACACACACACACACTATAC</td><td>TATATACACACACACACACACACACACACACACACACACTATAC</td><td>chr15:50073015:TATATACACACACACACACACACACACACACACACACACTATAC:TACACACACACACACACACACACACACTATAC</td><td>0.01408451</td><td>-0.37831351</td><td>0.09582880</td><td>-3.947806</td><td>chr15_49901356_51733753</td><td>ROSMAP_DeJager_eQTL_Monocyte_ENSG00000087263</td><td>0</td><td>0</td><td>0</td><td>0.03239422</td><td>-0.27423309</td><td>ROSMAP_DeJager_eQTL_Monocyte</td></tr>\n",
       "\t<tr><td>15</td><td>50358603</td><td>50358604</td><td>C                               </td><td>G                                           </td><td>chr15:50358604:G:C                                                                          </td><td>0.48008850</td><td>-0.09723475</td><td>0.02247218</td><td>-4.326894</td><td>chr15_49901356_51733753</td><td>ROSMAP_DeJager_eQTL_Monocyte_ENSG00000087263</td><td>0</td><td>0</td><td>0</td><td>0.03421522</td><td>-0.06487435</td><td>ROSMAP_DeJager_eQTL_Monocyte</td></tr>\n",
       "\t<tr><td>15</td><td>51211944</td><td>51211945</td><td>T                               </td><td>TC                                          </td><td>chr15:51211945:TC:T                                                                         </td><td>0.02433628</td><td> 0.27124096</td><td>0.08276378</td><td> 3.277291</td><td>chr15_49901356_51733753</td><td>ROSMAP_DeJager_eQTL_Monocyte_ENSG00000087263</td><td>0</td><td>0</td><td>3</td><td>0.05657956</td><td> 0.31211535</td><td>ROSMAP_DeJager_eQTL_Monocyte</td></tr>\n",
       "\t<tr><td>15</td><td>51215596</td><td>51215597</td><td>C                               </td><td>T                                           </td><td>chr15:51215597:T:C                                                                          </td><td>0.02433628</td><td> 0.27124096</td><td>0.08276378</td><td> 3.277291</td><td>chr15_49901356_51733753</td><td>ROSMAP_DeJager_eQTL_Monocyte_ENSG00000087263</td><td>0</td><td>0</td><td>3</td><td>0.05657956</td><td> 0.31211535</td><td>ROSMAP_DeJager_eQTL_Monocyte</td></tr>\n",
       "\t<tr><td>15</td><td>51215770</td><td>51215771</td><td>A                               </td><td>G                                           </td><td>chr15:51215771:G:A                                                                          </td><td>0.02433628</td><td> 0.27124096</td><td>0.08276378</td><td> 3.277291</td><td>chr15_49901356_51733753</td><td>ROSMAP_DeJager_eQTL_Monocyte_ENSG00000087263</td><td>0</td><td>0</td><td>3</td><td>0.05657956</td><td> 0.31211535</td><td>ROSMAP_DeJager_eQTL_Monocyte</td></tr>\n",
       "\t<tr><td>15</td><td>51219573</td><td>51219574</td><td>A                               </td><td>G                                           </td><td>chr15:51219574:G:A                                                                          </td><td>0.02433628</td><td> 0.27124096</td><td>0.08276378</td><td> 3.277291</td><td>chr15_49901356_51733753</td><td>ROSMAP_DeJager_eQTL_Monocyte_ENSG00000087263</td><td>0</td><td>0</td><td>3</td><td>0.05657956</td><td> 0.31211535</td><td>ROSMAP_DeJager_eQTL_Monocyte</td></tr>\n",
       "\t<tr><td>15</td><td>51223153</td><td>51223154</td><td>T                               </td><td>C                                           </td><td>chr15:51223154:C:T                                                                          </td><td>0.02433628</td><td> 0.27124096</td><td>0.08276378</td><td> 3.277291</td><td>chr15_49901356_51733753</td><td>ROSMAP_DeJager_eQTL_Monocyte_ENSG00000087263</td><td>0</td><td>0</td><td>3</td><td>0.05657956</td><td> 0.31211535</td><td>ROSMAP_DeJager_eQTL_Monocyte</td></tr>\n",
       "\t<tr><td>15</td><td>51223180</td><td>51223181</td><td>A                               </td><td>AC                                          </td><td>chr15:51223181:AC:A                                                                         </td><td>0.02433628</td><td> 0.27124096</td><td>0.08276378</td><td> 3.277291</td><td>chr15_49901356_51733753</td><td>ROSMAP_DeJager_eQTL_Monocyte_ENSG00000087263</td><td>0</td><td>0</td><td>3</td><td>0.05657956</td><td> 0.31211535</td><td>ROSMAP_DeJager_eQTL_Monocyte</td></tr>\n",
       "\t<tr><td>15</td><td>51226571</td><td>51226572</td><td>T                               </td><td>C                                           </td><td>chr15:51226572:C:T                                                                          </td><td>0.02433628</td><td>-0.27124096</td><td>0.08276378</td><td>-3.277291</td><td>chr15_49901356_51733753</td><td>ROSMAP_DeJager_eQTL_Monocyte_ENSG00000087263</td><td>0</td><td>0</td><td>3</td><td>0.05657956</td><td>-0.31211535</td><td>ROSMAP_DeJager_eQTL_Monocyte</td></tr>\n",
       "\t<tr><td>15</td><td>51226875</td><td>51226876</td><td>T                               </td><td>C                                           </td><td>chr15:51226876:C:T                                                                          </td><td>0.02433628</td><td> 0.27124096</td><td>0.08276378</td><td> 3.277291</td><td>chr15_49901356_51733753</td><td>ROSMAP_DeJager_eQTL_Monocyte_ENSG00000087263</td><td>0</td><td>0</td><td>0</td><td>0.05657956</td><td> 0.31211535</td><td>ROSMAP_DeJager_eQTL_Monocyte</td></tr>\n",
       "\t<tr><td>15</td><td>51268090</td><td>51268091</td><td>G                               </td><td>C                                           </td><td>chr15:51268091:C:G                                                                          </td><td>0.02654867</td><td> 0.25312681</td><td>0.07797047</td><td> 3.246445</td><td>chr15_49901356_51733753</td><td>ROSMAP_DeJager_eQTL_Monocyte_ENSG00000087263</td><td>0</td><td>0</td><td>3</td><td>0.06307690</td><td> 0.29567053</td><td>ROSMAP_DeJager_eQTL_Monocyte</td></tr>\n",
       "\t<tr><td>15</td><td>51275822</td><td>51275823</td><td>T                               </td><td>G                                           </td><td>chr15:51275823:G:T                                                                          </td><td>0.02433628</td><td> 0.25777334</td><td>0.07805715</td><td> 3.302367</td><td>chr15_49901356_51733753</td><td>ROSMAP_DeJager_eQTL_Monocyte_ENSG00000087263</td><td>0</td><td>0</td><td>3</td><td>0.07349745</td><td> 0.29873509</td><td>ROSMAP_DeJager_eQTL_Monocyte</td></tr>\n",
       "\t<tr><td>15</td><td>51643436</td><td>51643437</td><td>CT                              </td><td>CTT                                         </td><td>chr15:51643437:CTT:CT                                                                       </td><td>0.14159292</td><td>-0.11421215</td><td>0.03326146</td><td>-3.433769</td><td>chr15_49901356_51733753</td><td>ROSMAP_DeJager_eQTL_Monocyte_ENSG00000087263</td><td>0</td><td>0</td><td>0</td><td>0.03869577</td><td>-0.09434792</td><td>ROSMAP_DeJager_eQTL_Monocyte</td></tr>\n",
       "\t<tr><td>15</td><td>51692878</td><td>51692879</td><td>T                               </td><td>TTC                                         </td><td>chr15:51692879:TTC:T                                                                        </td><td>0.20353982</td><td>-0.09919673</td><td>0.02834196</td><td>-3.499995</td><td>chr15_49901356_51733753</td><td>ROSMAP_DeJager_eQTL_Monocyte_ENSG00000087263</td><td>0</td><td>0</td><td>0</td><td>0.02708230</td><td>-0.07776071</td><td>ROSMAP_DeJager_eQTL_Monocyte</td></tr>\n",
       "\t<tr><td>15</td><td>51692879</td><td>51692880</td><td>*                               </td><td>TC                                          </td><td>chr15:51692880:TC:*                                                                         </td><td>0.20353982</td><td>-0.09919673</td><td>0.02834196</td><td>-3.499995</td><td>chr15_49901356_51733753</td><td>ROSMAP_DeJager_eQTL_Monocyte_ENSG00000087263</td><td>0</td><td>0</td><td>0</td><td>0.02708230</td><td>-0.07776071</td><td>ROSMAP_DeJager_eQTL_Monocyte</td></tr>\n",
       "</tbody>\n",
       "</table>\n"
      ],
      "text/latex": [
       "A data.table: 16 × 18\n",
       "\\begin{tabular}{llllllllllllllllll}\n",
       " \\#chr & start & end & a1 & a2 & variant\\_ID & MAF & betahat & sebetahat & z & gene\\_ID & event\\_ID & cs\\_coverage\\_0.95 & cs\\_coverage\\_0.7 & cs\\_coverage\\_0.5 & PIP & conditional\\_effect & resource\\\\\n",
       " <int> & <dbl> & <int> & <chr> & <chr> & <chr> & <dbl> & <dbl> & <dbl> & <dbl> & <chr> & <chr> & <int> & <int> & <int> & <dbl> & <dbl> & <chr>\\\\\n",
       "\\hline\n",
       "\t 15 & 49901355 & 49901356 & A                                & G                                            & chr15:49901356:G:A                                                                           & 0.37610619 & -0.12336894 & 0.02158984 & -5.714214 & chr15\\_49901356\\_51733753 & ROSMAP\\_DeJager\\_eQTL\\_Monocyte\\_ENSG00000087263 & 1 & 1 & 1 & 0.98668799 & -0.12683928 & ROSMAP\\_DeJager\\_eQTL\\_Monocyte\\\\\n",
       "\t 15 & 50073014 & 50073015 & TACACACACACACACACACACACACACTATAC & TATATACACACACACACACACACACACACACACACACACTATAC & chr15:50073015:TATATACACACACACACACACACACACACACACACACACTATAC:TACACACACACACACACACACACACACTATAC & 0.01408451 & -0.37831351 & 0.09582880 & -3.947806 & chr15\\_49901356\\_51733753 & ROSMAP\\_DeJager\\_eQTL\\_Monocyte\\_ENSG00000087263 & 0 & 0 & 0 & 0.03239422 & -0.27423309 & ROSMAP\\_DeJager\\_eQTL\\_Monocyte\\\\\n",
       "\t 15 & 50358603 & 50358604 & C                                & G                                            & chr15:50358604:G:C                                                                           & 0.48008850 & -0.09723475 & 0.02247218 & -4.326894 & chr15\\_49901356\\_51733753 & ROSMAP\\_DeJager\\_eQTL\\_Monocyte\\_ENSG00000087263 & 0 & 0 & 0 & 0.03421522 & -0.06487435 & ROSMAP\\_DeJager\\_eQTL\\_Monocyte\\\\\n",
       "\t 15 & 51211944 & 51211945 & T                                & TC                                           & chr15:51211945:TC:T                                                                          & 0.02433628 &  0.27124096 & 0.08276378 &  3.277291 & chr15\\_49901356\\_51733753 & ROSMAP\\_DeJager\\_eQTL\\_Monocyte\\_ENSG00000087263 & 0 & 0 & 3 & 0.05657956 &  0.31211535 & ROSMAP\\_DeJager\\_eQTL\\_Monocyte\\\\\n",
       "\t 15 & 51215596 & 51215597 & C                                & T                                            & chr15:51215597:T:C                                                                           & 0.02433628 &  0.27124096 & 0.08276378 &  3.277291 & chr15\\_49901356\\_51733753 & ROSMAP\\_DeJager\\_eQTL\\_Monocyte\\_ENSG00000087263 & 0 & 0 & 3 & 0.05657956 &  0.31211535 & ROSMAP\\_DeJager\\_eQTL\\_Monocyte\\\\\n",
       "\t 15 & 51215770 & 51215771 & A                                & G                                            & chr15:51215771:G:A                                                                           & 0.02433628 &  0.27124096 & 0.08276378 &  3.277291 & chr15\\_49901356\\_51733753 & ROSMAP\\_DeJager\\_eQTL\\_Monocyte\\_ENSG00000087263 & 0 & 0 & 3 & 0.05657956 &  0.31211535 & ROSMAP\\_DeJager\\_eQTL\\_Monocyte\\\\\n",
       "\t 15 & 51219573 & 51219574 & A                                & G                                            & chr15:51219574:G:A                                                                           & 0.02433628 &  0.27124096 & 0.08276378 &  3.277291 & chr15\\_49901356\\_51733753 & ROSMAP\\_DeJager\\_eQTL\\_Monocyte\\_ENSG00000087263 & 0 & 0 & 3 & 0.05657956 &  0.31211535 & ROSMAP\\_DeJager\\_eQTL\\_Monocyte\\\\\n",
       "\t 15 & 51223153 & 51223154 & T                                & C                                            & chr15:51223154:C:T                                                                           & 0.02433628 &  0.27124096 & 0.08276378 &  3.277291 & chr15\\_49901356\\_51733753 & ROSMAP\\_DeJager\\_eQTL\\_Monocyte\\_ENSG00000087263 & 0 & 0 & 3 & 0.05657956 &  0.31211535 & ROSMAP\\_DeJager\\_eQTL\\_Monocyte\\\\\n",
       "\t 15 & 51223180 & 51223181 & A                                & AC                                           & chr15:51223181:AC:A                                                                          & 0.02433628 &  0.27124096 & 0.08276378 &  3.277291 & chr15\\_49901356\\_51733753 & ROSMAP\\_DeJager\\_eQTL\\_Monocyte\\_ENSG00000087263 & 0 & 0 & 3 & 0.05657956 &  0.31211535 & ROSMAP\\_DeJager\\_eQTL\\_Monocyte\\\\\n",
       "\t 15 & 51226571 & 51226572 & T                                & C                                            & chr15:51226572:C:T                                                                           & 0.02433628 & -0.27124096 & 0.08276378 & -3.277291 & chr15\\_49901356\\_51733753 & ROSMAP\\_DeJager\\_eQTL\\_Monocyte\\_ENSG00000087263 & 0 & 0 & 3 & 0.05657956 & -0.31211535 & ROSMAP\\_DeJager\\_eQTL\\_Monocyte\\\\\n",
       "\t 15 & 51226875 & 51226876 & T                                & C                                            & chr15:51226876:C:T                                                                           & 0.02433628 &  0.27124096 & 0.08276378 &  3.277291 & chr15\\_49901356\\_51733753 & ROSMAP\\_DeJager\\_eQTL\\_Monocyte\\_ENSG00000087263 & 0 & 0 & 0 & 0.05657956 &  0.31211535 & ROSMAP\\_DeJager\\_eQTL\\_Monocyte\\\\\n",
       "\t 15 & 51268090 & 51268091 & G                                & C                                            & chr15:51268091:C:G                                                                           & 0.02654867 &  0.25312681 & 0.07797047 &  3.246445 & chr15\\_49901356\\_51733753 & ROSMAP\\_DeJager\\_eQTL\\_Monocyte\\_ENSG00000087263 & 0 & 0 & 3 & 0.06307690 &  0.29567053 & ROSMAP\\_DeJager\\_eQTL\\_Monocyte\\\\\n",
       "\t 15 & 51275822 & 51275823 & T                                & G                                            & chr15:51275823:G:T                                                                           & 0.02433628 &  0.25777334 & 0.07805715 &  3.302367 & chr15\\_49901356\\_51733753 & ROSMAP\\_DeJager\\_eQTL\\_Monocyte\\_ENSG00000087263 & 0 & 0 & 3 & 0.07349745 &  0.29873509 & ROSMAP\\_DeJager\\_eQTL\\_Monocyte\\\\\n",
       "\t 15 & 51643436 & 51643437 & CT                               & CTT                                          & chr15:51643437:CTT:CT                                                                        & 0.14159292 & -0.11421215 & 0.03326146 & -3.433769 & chr15\\_49901356\\_51733753 & ROSMAP\\_DeJager\\_eQTL\\_Monocyte\\_ENSG00000087263 & 0 & 0 & 0 & 0.03869577 & -0.09434792 & ROSMAP\\_DeJager\\_eQTL\\_Monocyte\\\\\n",
       "\t 15 & 51692878 & 51692879 & T                                & TTC                                          & chr15:51692879:TTC:T                                                                         & 0.20353982 & -0.09919673 & 0.02834196 & -3.499995 & chr15\\_49901356\\_51733753 & ROSMAP\\_DeJager\\_eQTL\\_Monocyte\\_ENSG00000087263 & 0 & 0 & 0 & 0.02708230 & -0.07776071 & ROSMAP\\_DeJager\\_eQTL\\_Monocyte\\\\\n",
       "\t 15 & 51692879 & 51692880 & *                                & TC                                           & chr15:51692880:TC:*                                                                          & 0.20353982 & -0.09919673 & 0.02834196 & -3.499995 & chr15\\_49901356\\_51733753 & ROSMAP\\_DeJager\\_eQTL\\_Monocyte\\_ENSG00000087263 & 0 & 0 & 0 & 0.02708230 & -0.07776071 & ROSMAP\\_DeJager\\_eQTL\\_Monocyte\\\\\n",
       "\\end{tabular}\n"
      ],
      "text/markdown": [
       "\n",
       "A data.table: 16 × 18\n",
       "\n",
       "| #chr &lt;int&gt; | start &lt;dbl&gt; | end &lt;int&gt; | a1 &lt;chr&gt; | a2 &lt;chr&gt; | variant_ID &lt;chr&gt; | MAF &lt;dbl&gt; | betahat &lt;dbl&gt; | sebetahat &lt;dbl&gt; | z &lt;dbl&gt; | gene_ID &lt;chr&gt; | event_ID &lt;chr&gt; | cs_coverage_0.95 &lt;int&gt; | cs_coverage_0.7 &lt;int&gt; | cs_coverage_0.5 &lt;int&gt; | PIP &lt;dbl&gt; | conditional_effect &lt;dbl&gt; | resource &lt;chr&gt; |\n",
       "|---|---|---|---|---|---|---|---|---|---|---|---|---|---|---|---|---|---|\n",
       "| 15 | 49901355 | 49901356 | A                                | G                                            | chr15:49901356:G:A                                                                           | 0.37610619 | -0.12336894 | 0.02158984 | -5.714214 | chr15_49901356_51733753 | ROSMAP_DeJager_eQTL_Monocyte_ENSG00000087263 | 1 | 1 | 1 | 0.98668799 | -0.12683928 | ROSMAP_DeJager_eQTL_Monocyte |\n",
       "| 15 | 50073014 | 50073015 | TACACACACACACACACACACACACACTATAC | TATATACACACACACACACACACACACACACACACACACTATAC | chr15:50073015:TATATACACACACACACACACACACACACACACACACACTATAC:TACACACACACACACACACACACACACTATAC | 0.01408451 | -0.37831351 | 0.09582880 | -3.947806 | chr15_49901356_51733753 | ROSMAP_DeJager_eQTL_Monocyte_ENSG00000087263 | 0 | 0 | 0 | 0.03239422 | -0.27423309 | ROSMAP_DeJager_eQTL_Monocyte |\n",
       "| 15 | 50358603 | 50358604 | C                                | G                                            | chr15:50358604:G:C                                                                           | 0.48008850 | -0.09723475 | 0.02247218 | -4.326894 | chr15_49901356_51733753 | ROSMAP_DeJager_eQTL_Monocyte_ENSG00000087263 | 0 | 0 | 0 | 0.03421522 | -0.06487435 | ROSMAP_DeJager_eQTL_Monocyte |\n",
       "| 15 | 51211944 | 51211945 | T                                | TC                                           | chr15:51211945:TC:T                                                                          | 0.02433628 |  0.27124096 | 0.08276378 |  3.277291 | chr15_49901356_51733753 | ROSMAP_DeJager_eQTL_Monocyte_ENSG00000087263 | 0 | 0 | 3 | 0.05657956 |  0.31211535 | ROSMAP_DeJager_eQTL_Monocyte |\n",
       "| 15 | 51215596 | 51215597 | C                                | T                                            | chr15:51215597:T:C                                                                           | 0.02433628 |  0.27124096 | 0.08276378 |  3.277291 | chr15_49901356_51733753 | ROSMAP_DeJager_eQTL_Monocyte_ENSG00000087263 | 0 | 0 | 3 | 0.05657956 |  0.31211535 | ROSMAP_DeJager_eQTL_Monocyte |\n",
       "| 15 | 51215770 | 51215771 | A                                | G                                            | chr15:51215771:G:A                                                                           | 0.02433628 |  0.27124096 | 0.08276378 |  3.277291 | chr15_49901356_51733753 | ROSMAP_DeJager_eQTL_Monocyte_ENSG00000087263 | 0 | 0 | 3 | 0.05657956 |  0.31211535 | ROSMAP_DeJager_eQTL_Monocyte |\n",
       "| 15 | 51219573 | 51219574 | A                                | G                                            | chr15:51219574:G:A                                                                           | 0.02433628 |  0.27124096 | 0.08276378 |  3.277291 | chr15_49901356_51733753 | ROSMAP_DeJager_eQTL_Monocyte_ENSG00000087263 | 0 | 0 | 3 | 0.05657956 |  0.31211535 | ROSMAP_DeJager_eQTL_Monocyte |\n",
       "| 15 | 51223153 | 51223154 | T                                | C                                            | chr15:51223154:C:T                                                                           | 0.02433628 |  0.27124096 | 0.08276378 |  3.277291 | chr15_49901356_51733753 | ROSMAP_DeJager_eQTL_Monocyte_ENSG00000087263 | 0 | 0 | 3 | 0.05657956 |  0.31211535 | ROSMAP_DeJager_eQTL_Monocyte |\n",
       "| 15 | 51223180 | 51223181 | A                                | AC                                           | chr15:51223181:AC:A                                                                          | 0.02433628 |  0.27124096 | 0.08276378 |  3.277291 | chr15_49901356_51733753 | ROSMAP_DeJager_eQTL_Monocyte_ENSG00000087263 | 0 | 0 | 3 | 0.05657956 |  0.31211535 | ROSMAP_DeJager_eQTL_Monocyte |\n",
       "| 15 | 51226571 | 51226572 | T                                | C                                            | chr15:51226572:C:T                                                                           | 0.02433628 | -0.27124096 | 0.08276378 | -3.277291 | chr15_49901356_51733753 | ROSMAP_DeJager_eQTL_Monocyte_ENSG00000087263 | 0 | 0 | 3 | 0.05657956 | -0.31211535 | ROSMAP_DeJager_eQTL_Monocyte |\n",
       "| 15 | 51226875 | 51226876 | T                                | C                                            | chr15:51226876:C:T                                                                           | 0.02433628 |  0.27124096 | 0.08276378 |  3.277291 | chr15_49901356_51733753 | ROSMAP_DeJager_eQTL_Monocyte_ENSG00000087263 | 0 | 0 | 0 | 0.05657956 |  0.31211535 | ROSMAP_DeJager_eQTL_Monocyte |\n",
       "| 15 | 51268090 | 51268091 | G                                | C                                            | chr15:51268091:C:G                                                                           | 0.02654867 |  0.25312681 | 0.07797047 |  3.246445 | chr15_49901356_51733753 | ROSMAP_DeJager_eQTL_Monocyte_ENSG00000087263 | 0 | 0 | 3 | 0.06307690 |  0.29567053 | ROSMAP_DeJager_eQTL_Monocyte |\n",
       "| 15 | 51275822 | 51275823 | T                                | G                                            | chr15:51275823:G:T                                                                           | 0.02433628 |  0.25777334 | 0.07805715 |  3.302367 | chr15_49901356_51733753 | ROSMAP_DeJager_eQTL_Monocyte_ENSG00000087263 | 0 | 0 | 3 | 0.07349745 |  0.29873509 | ROSMAP_DeJager_eQTL_Monocyte |\n",
       "| 15 | 51643436 | 51643437 | CT                               | CTT                                          | chr15:51643437:CTT:CT                                                                        | 0.14159292 | -0.11421215 | 0.03326146 | -3.433769 | chr15_49901356_51733753 | ROSMAP_DeJager_eQTL_Monocyte_ENSG00000087263 | 0 | 0 | 0 | 0.03869577 | -0.09434792 | ROSMAP_DeJager_eQTL_Monocyte |\n",
       "| 15 | 51692878 | 51692879 | T                                | TTC                                          | chr15:51692879:TTC:T                                                                         | 0.20353982 | -0.09919673 | 0.02834196 | -3.499995 | chr15_49901356_51733753 | ROSMAP_DeJager_eQTL_Monocyte_ENSG00000087263 | 0 | 0 | 0 | 0.02708230 | -0.07776071 | ROSMAP_DeJager_eQTL_Monocyte |\n",
       "| 15 | 51692879 | 51692880 | *                                | TC                                           | chr15:51692880:TC:*                                                                          | 0.20353982 | -0.09919673 | 0.02834196 | -3.499995 | chr15_49901356_51733753 | ROSMAP_DeJager_eQTL_Monocyte_ENSG00000087263 | 0 | 0 | 0 | 0.02708230 | -0.07776071 | ROSMAP_DeJager_eQTL_Monocyte |\n",
       "\n"
      ],
      "text/plain": [
       "   #chr start    end      a1                              \n",
       "1  15   49901355 49901356 A                               \n",
       "2  15   50073014 50073015 TACACACACACACACACACACACACACTATAC\n",
       "3  15   50358603 50358604 C                               \n",
       "4  15   51211944 51211945 T                               \n",
       "5  15   51215596 51215597 C                               \n",
       "6  15   51215770 51215771 A                               \n",
       "7  15   51219573 51219574 A                               \n",
       "8  15   51223153 51223154 T                               \n",
       "9  15   51223180 51223181 A                               \n",
       "10 15   51226571 51226572 T                               \n",
       "11 15   51226875 51226876 T                               \n",
       "12 15   51268090 51268091 G                               \n",
       "13 15   51275822 51275823 T                               \n",
       "14 15   51643436 51643437 CT                              \n",
       "15 15   51692878 51692879 T                               \n",
       "16 15   51692879 51692880 *                               \n",
       "   a2                                          \n",
       "1  G                                           \n",
       "2  TATATACACACACACACACACACACACACACACACACACTATAC\n",
       "3  G                                           \n",
       "4  TC                                          \n",
       "5  T                                           \n",
       "6  G                                           \n",
       "7  G                                           \n",
       "8  C                                           \n",
       "9  AC                                          \n",
       "10 C                                           \n",
       "11 C                                           \n",
       "12 C                                           \n",
       "13 G                                           \n",
       "14 CTT                                         \n",
       "15 TTC                                         \n",
       "16 TC                                          \n",
       "   variant_ID                                                                                  \n",
       "1  chr15:49901356:G:A                                                                          \n",
       "2  chr15:50073015:TATATACACACACACACACACACACACACACACACACACTATAC:TACACACACACACACACACACACACACTATAC\n",
       "3  chr15:50358604:G:C                                                                          \n",
       "4  chr15:51211945:TC:T                                                                         \n",
       "5  chr15:51215597:T:C                                                                          \n",
       "6  chr15:51215771:G:A                                                                          \n",
       "7  chr15:51219574:G:A                                                                          \n",
       "8  chr15:51223154:C:T                                                                          \n",
       "9  chr15:51223181:AC:A                                                                         \n",
       "10 chr15:51226572:C:T                                                                          \n",
       "11 chr15:51226876:C:T                                                                          \n",
       "12 chr15:51268091:C:G                                                                          \n",
       "13 chr15:51275823:G:T                                                                          \n",
       "14 chr15:51643437:CTT:CT                                                                       \n",
       "15 chr15:51692879:TTC:T                                                                        \n",
       "16 chr15:51692880:TC:*                                                                         \n",
       "   MAF        betahat     sebetahat  z         gene_ID                \n",
       "1  0.37610619 -0.12336894 0.02158984 -5.714214 chr15_49901356_51733753\n",
       "2  0.01408451 -0.37831351 0.09582880 -3.947806 chr15_49901356_51733753\n",
       "3  0.48008850 -0.09723475 0.02247218 -4.326894 chr15_49901356_51733753\n",
       "4  0.02433628  0.27124096 0.08276378  3.277291 chr15_49901356_51733753\n",
       "5  0.02433628  0.27124096 0.08276378  3.277291 chr15_49901356_51733753\n",
       "6  0.02433628  0.27124096 0.08276378  3.277291 chr15_49901356_51733753\n",
       "7  0.02433628  0.27124096 0.08276378  3.277291 chr15_49901356_51733753\n",
       "8  0.02433628  0.27124096 0.08276378  3.277291 chr15_49901356_51733753\n",
       "9  0.02433628  0.27124096 0.08276378  3.277291 chr15_49901356_51733753\n",
       "10 0.02433628 -0.27124096 0.08276378 -3.277291 chr15_49901356_51733753\n",
       "11 0.02433628  0.27124096 0.08276378  3.277291 chr15_49901356_51733753\n",
       "12 0.02654867  0.25312681 0.07797047  3.246445 chr15_49901356_51733753\n",
       "13 0.02433628  0.25777334 0.07805715  3.302367 chr15_49901356_51733753\n",
       "14 0.14159292 -0.11421215 0.03326146 -3.433769 chr15_49901356_51733753\n",
       "15 0.20353982 -0.09919673 0.02834196 -3.499995 chr15_49901356_51733753\n",
       "16 0.20353982 -0.09919673 0.02834196 -3.499995 chr15_49901356_51733753\n",
       "   event_ID                                     cs_coverage_0.95\n",
       "1  ROSMAP_DeJager_eQTL_Monocyte_ENSG00000087263 1               \n",
       "2  ROSMAP_DeJager_eQTL_Monocyte_ENSG00000087263 0               \n",
       "3  ROSMAP_DeJager_eQTL_Monocyte_ENSG00000087263 0               \n",
       "4  ROSMAP_DeJager_eQTL_Monocyte_ENSG00000087263 0               \n",
       "5  ROSMAP_DeJager_eQTL_Monocyte_ENSG00000087263 0               \n",
       "6  ROSMAP_DeJager_eQTL_Monocyte_ENSG00000087263 0               \n",
       "7  ROSMAP_DeJager_eQTL_Monocyte_ENSG00000087263 0               \n",
       "8  ROSMAP_DeJager_eQTL_Monocyte_ENSG00000087263 0               \n",
       "9  ROSMAP_DeJager_eQTL_Monocyte_ENSG00000087263 0               \n",
       "10 ROSMAP_DeJager_eQTL_Monocyte_ENSG00000087263 0               \n",
       "11 ROSMAP_DeJager_eQTL_Monocyte_ENSG00000087263 0               \n",
       "12 ROSMAP_DeJager_eQTL_Monocyte_ENSG00000087263 0               \n",
       "13 ROSMAP_DeJager_eQTL_Monocyte_ENSG00000087263 0               \n",
       "14 ROSMAP_DeJager_eQTL_Monocyte_ENSG00000087263 0               \n",
       "15 ROSMAP_DeJager_eQTL_Monocyte_ENSG00000087263 0               \n",
       "16 ROSMAP_DeJager_eQTL_Monocyte_ENSG00000087263 0               \n",
       "   cs_coverage_0.7 cs_coverage_0.5 PIP        conditional_effect\n",
       "1  1               1               0.98668799 -0.12683928       \n",
       "2  0               0               0.03239422 -0.27423309       \n",
       "3  0               0               0.03421522 -0.06487435       \n",
       "4  0               3               0.05657956  0.31211535       \n",
       "5  0               3               0.05657956  0.31211535       \n",
       "6  0               3               0.05657956  0.31211535       \n",
       "7  0               3               0.05657956  0.31211535       \n",
       "8  0               3               0.05657956  0.31211535       \n",
       "9  0               3               0.05657956  0.31211535       \n",
       "10 0               3               0.05657956 -0.31211535       \n",
       "11 0               0               0.05657956  0.31211535       \n",
       "12 0               3               0.06307690  0.29567053       \n",
       "13 0               3               0.07349745  0.29873509       \n",
       "14 0               0               0.03869577 -0.09434792       \n",
       "15 0               0               0.02708230 -0.07776071       \n",
       "16 0               0               0.02708230 -0.07776071       \n",
       "   resource                    \n",
       "1  ROSMAP_DeJager_eQTL_Monocyte\n",
       "2  ROSMAP_DeJager_eQTL_Monocyte\n",
       "3  ROSMAP_DeJager_eQTL_Monocyte\n",
       "4  ROSMAP_DeJager_eQTL_Monocyte\n",
       "5  ROSMAP_DeJager_eQTL_Monocyte\n",
       "6  ROSMAP_DeJager_eQTL_Monocyte\n",
       "7  ROSMAP_DeJager_eQTL_Monocyte\n",
       "8  ROSMAP_DeJager_eQTL_Monocyte\n",
       "9  ROSMAP_DeJager_eQTL_Monocyte\n",
       "10 ROSMAP_DeJager_eQTL_Monocyte\n",
       "11 ROSMAP_DeJager_eQTL_Monocyte\n",
       "12 ROSMAP_DeJager_eQTL_Monocyte\n",
       "13 ROSMAP_DeJager_eQTL_Monocyte\n",
       "14 ROSMAP_DeJager_eQTL_Monocyte\n",
       "15 ROSMAP_DeJager_eQTL_Monocyte\n",
       "16 ROSMAP_DeJager_eQTL_Monocyte"
      ]
     },
     "metadata": {},
     "output_type": "display_data"
    }
   ],
   "source": [
    "trans %>% filter(event_ID =='ROSMAP_DeJager_eQTL_Monocyte_ENSG00000087263', gene_ID =='chr15_47690138_49901356')\n",
    "trans %>% filter(event_ID =='ROSMAP_DeJager_eQTL_Monocyte_ENSG00000087263', gene_ID =='chr15_49901356_51733753')"
   ]
  },
  {
   "cell_type": "code",
   "execution_count": 39,
   "id": "5c704533-f722-4697-85ea-ab452c7a0c89",
   "metadata": {},
   "outputs": [
    {
     "data": {
      "text/html": [
       "<table class=\"dataframe\">\n",
       "<caption>A tibble: 10 × 7</caption>\n",
       "<thead>\n",
       "\t<tr><th scope=col>region</th><th scope=col>n_event</th><th scope=col>events</th><th scope=col>studies</th><th scope=col>resource</th><th scope=col>gene</th><th scope=col>filter_decision</th></tr>\n",
       "\t<tr><th scope=col>&lt;chr&gt;</th><th scope=col>&lt;int&gt;</th><th scope=col>&lt;chr&gt;</th><th scope=col>&lt;chr&gt;</th><th scope=col>&lt;chr&gt;</th><th scope=col>&lt;chr&gt;</th><th scope=col>&lt;lgl&gt;</th></tr>\n",
       "</thead>\n",
       "<tbody>\n",
       "\t<tr><td>chr15_47690138_49901356 </td><td>1</td><td>ROSMAP_DeJager_eQTL_Monocyte_ENSG00000087263</td><td>AD_Bellenguez_2022   </td><td>ROSMAP_DeJager_eQTL_Monocyte</td><td>ENSG00000087263</td><td>FALSE</td></tr>\n",
       "\t<tr><td>chr15_49901356_51733753 </td><td>1</td><td>ROSMAP_DeJager_eQTL_Monocyte_ENSG00000087263</td><td>AD_Bellenguez_2022   </td><td>ROSMAP_DeJager_eQTL_Monocyte</td><td>ENSG00000087263</td><td>FALSE</td></tr>\n",
       "\t<tr><td>chr16_88382277_90220225 </td><td>1</td><td>ROSMAP_gpQTL_gp_2508                        </td><td>AD_Bellenguez_2022   </td><td>ROSMAP_gpQTL                </td><td>NA             </td><td>FALSE</td></tr>\n",
       "\t<tr><td>chr2_158720603_160577800</td><td>3</td><td>MSBB_eQTL_BM10_ENSG00000213579              </td><td>AD_Bellenguez_2022   </td><td>MSBB_eQTL_BM10              </td><td>ENSG00000213579</td><td>FALSE</td></tr>\n",
       "\t<tr><td>chr2_158720603_160577800</td><td>3</td><td>ROSMAP_DeJager_eQTL_Monocyte_ENSG00000179611</td><td>AD_Bellenguez_2022   </td><td>ROSMAP_DeJager_eQTL_Monocyte</td><td>ENSG00000179611</td><td>FALSE</td></tr>\n",
       "\t<tr><td>chr2_158720603_160577800</td><td>3</td><td>ROSMAP_DeJager_eQTL_Monocyte_ENSG00000105220</td><td>AD_Bellenguez_2022   </td><td>ROSMAP_DeJager_eQTL_Monocyte</td><td>ENSG00000105220</td><td>FALSE</td></tr>\n",
       "\t<tr><td>chr5_139769624_142619401</td><td>1</td><td>MSBB_eQTL_BM10_ENSG00000136840              </td><td>AD_Kunkle_Stage1_2019</td><td>MSBB_eQTL_BM10              </td><td>ENSG00000136840</td><td>FALSE</td></tr>\n",
       "\t<tr><td>chr8_26225312_27515963  </td><td>3</td><td>MSBB_eQTL_BM36_ENSG00000140987              </td><td>AD_Wightman_Full_2021</td><td>MSBB_eQTL_BM36              </td><td>ENSG00000140987</td><td>FALSE</td></tr>\n",
       "\t<tr><td>chr8_26225312_27515963  </td><td>3</td><td>ROSMAP_gpQTL_gp_7827                        </td><td>AD_Wightman_Full_2021</td><td>ROSMAP_gpQTL                </td><td>NA             </td><td>FALSE</td></tr>\n",
       "\t<tr><td>chr8_26225312_27515963  </td><td>3</td><td>MSBB_eQTL_BM22_ENSG00000137270              </td><td>AD_Wightman_Full_2021</td><td>MSBB_eQTL_BM22              </td><td>ENSG00000137270</td><td>FALSE</td></tr>\n",
       "</tbody>\n",
       "</table>\n"
      ],
      "text/latex": [
       "A tibble: 10 × 7\n",
       "\\begin{tabular}{lllllll}\n",
       " region & n\\_event & events & studies & resource & gene & filter\\_decision\\\\\n",
       " <chr> & <int> & <chr> & <chr> & <chr> & <chr> & <lgl>\\\\\n",
       "\\hline\n",
       "\t chr15\\_47690138\\_49901356  & 1 & ROSMAP\\_DeJager\\_eQTL\\_Monocyte\\_ENSG00000087263 & AD\\_Bellenguez\\_2022    & ROSMAP\\_DeJager\\_eQTL\\_Monocyte & ENSG00000087263 & FALSE\\\\\n",
       "\t chr15\\_49901356\\_51733753  & 1 & ROSMAP\\_DeJager\\_eQTL\\_Monocyte\\_ENSG00000087263 & AD\\_Bellenguez\\_2022    & ROSMAP\\_DeJager\\_eQTL\\_Monocyte & ENSG00000087263 & FALSE\\\\\n",
       "\t chr16\\_88382277\\_90220225  & 1 & ROSMAP\\_gpQTL\\_gp\\_2508                         & AD\\_Bellenguez\\_2022    & ROSMAP\\_gpQTL                 & NA              & FALSE\\\\\n",
       "\t chr2\\_158720603\\_160577800 & 3 & MSBB\\_eQTL\\_BM10\\_ENSG00000213579               & AD\\_Bellenguez\\_2022    & MSBB\\_eQTL\\_BM10               & ENSG00000213579 & FALSE\\\\\n",
       "\t chr2\\_158720603\\_160577800 & 3 & ROSMAP\\_DeJager\\_eQTL\\_Monocyte\\_ENSG00000179611 & AD\\_Bellenguez\\_2022    & ROSMAP\\_DeJager\\_eQTL\\_Monocyte & ENSG00000179611 & FALSE\\\\\n",
       "\t chr2\\_158720603\\_160577800 & 3 & ROSMAP\\_DeJager\\_eQTL\\_Monocyte\\_ENSG00000105220 & AD\\_Bellenguez\\_2022    & ROSMAP\\_DeJager\\_eQTL\\_Monocyte & ENSG00000105220 & FALSE\\\\\n",
       "\t chr5\\_139769624\\_142619401 & 1 & MSBB\\_eQTL\\_BM10\\_ENSG00000136840               & AD\\_Kunkle\\_Stage1\\_2019 & MSBB\\_eQTL\\_BM10               & ENSG00000136840 & FALSE\\\\\n",
       "\t chr8\\_26225312\\_27515963   & 3 & MSBB\\_eQTL\\_BM36\\_ENSG00000140987               & AD\\_Wightman\\_Full\\_2021 & MSBB\\_eQTL\\_BM36               & ENSG00000140987 & FALSE\\\\\n",
       "\t chr8\\_26225312\\_27515963   & 3 & ROSMAP\\_gpQTL\\_gp\\_7827                         & AD\\_Wightman\\_Full\\_2021 & ROSMAP\\_gpQTL                 & NA              & FALSE\\\\\n",
       "\t chr8\\_26225312\\_27515963   & 3 & MSBB\\_eQTL\\_BM22\\_ENSG00000137270               & AD\\_Wightman\\_Full\\_2021 & MSBB\\_eQTL\\_BM22               & ENSG00000137270 & FALSE\\\\\n",
       "\\end{tabular}\n"
      ],
      "text/markdown": [
       "\n",
       "A tibble: 10 × 7\n",
       "\n",
       "| region &lt;chr&gt; | n_event &lt;int&gt; | events &lt;chr&gt; | studies &lt;chr&gt; | resource &lt;chr&gt; | gene &lt;chr&gt; | filter_decision &lt;lgl&gt; |\n",
       "|---|---|---|---|---|---|---|\n",
       "| chr15_47690138_49901356  | 1 | ROSMAP_DeJager_eQTL_Monocyte_ENSG00000087263 | AD_Bellenguez_2022    | ROSMAP_DeJager_eQTL_Monocyte | ENSG00000087263 | FALSE |\n",
       "| chr15_49901356_51733753  | 1 | ROSMAP_DeJager_eQTL_Monocyte_ENSG00000087263 | AD_Bellenguez_2022    | ROSMAP_DeJager_eQTL_Monocyte | ENSG00000087263 | FALSE |\n",
       "| chr16_88382277_90220225  | 1 | ROSMAP_gpQTL_gp_2508                         | AD_Bellenguez_2022    | ROSMAP_gpQTL                 | NA              | FALSE |\n",
       "| chr2_158720603_160577800 | 3 | MSBB_eQTL_BM10_ENSG00000213579               | AD_Bellenguez_2022    | MSBB_eQTL_BM10               | ENSG00000213579 | FALSE |\n",
       "| chr2_158720603_160577800 | 3 | ROSMAP_DeJager_eQTL_Monocyte_ENSG00000179611 | AD_Bellenguez_2022    | ROSMAP_DeJager_eQTL_Monocyte | ENSG00000179611 | FALSE |\n",
       "| chr2_158720603_160577800 | 3 | ROSMAP_DeJager_eQTL_Monocyte_ENSG00000105220 | AD_Bellenguez_2022    | ROSMAP_DeJager_eQTL_Monocyte | ENSG00000105220 | FALSE |\n",
       "| chr5_139769624_142619401 | 1 | MSBB_eQTL_BM10_ENSG00000136840               | AD_Kunkle_Stage1_2019 | MSBB_eQTL_BM10               | ENSG00000136840 | FALSE |\n",
       "| chr8_26225312_27515963   | 3 | MSBB_eQTL_BM36_ENSG00000140987               | AD_Wightman_Full_2021 | MSBB_eQTL_BM36               | ENSG00000140987 | FALSE |\n",
       "| chr8_26225312_27515963   | 3 | ROSMAP_gpQTL_gp_7827                         | AD_Wightman_Full_2021 | ROSMAP_gpQTL                 | NA              | FALSE |\n",
       "| chr8_26225312_27515963   | 3 | MSBB_eQTL_BM22_ENSG00000137270               | AD_Wightman_Full_2021 | MSBB_eQTL_BM22               | ENSG00000137270 | FALSE |\n",
       "\n"
      ],
      "text/plain": [
       "   region                   n_event\n",
       "1  chr15_47690138_49901356  1      \n",
       "2  chr15_49901356_51733753  1      \n",
       "3  chr16_88382277_90220225  1      \n",
       "4  chr2_158720603_160577800 3      \n",
       "5  chr2_158720603_160577800 3      \n",
       "6  chr2_158720603_160577800 3      \n",
       "7  chr5_139769624_142619401 1      \n",
       "8  chr8_26225312_27515963   3      \n",
       "9  chr8_26225312_27515963   3      \n",
       "10 chr8_26225312_27515963   3      \n",
       "   events                                       studies              \n",
       "1  ROSMAP_DeJager_eQTL_Monocyte_ENSG00000087263 AD_Bellenguez_2022   \n",
       "2  ROSMAP_DeJager_eQTL_Monocyte_ENSG00000087263 AD_Bellenguez_2022   \n",
       "3  ROSMAP_gpQTL_gp_2508                         AD_Bellenguez_2022   \n",
       "4  MSBB_eQTL_BM10_ENSG00000213579               AD_Bellenguez_2022   \n",
       "5  ROSMAP_DeJager_eQTL_Monocyte_ENSG00000179611 AD_Bellenguez_2022   \n",
       "6  ROSMAP_DeJager_eQTL_Monocyte_ENSG00000105220 AD_Bellenguez_2022   \n",
       "7  MSBB_eQTL_BM10_ENSG00000136840               AD_Kunkle_Stage1_2019\n",
       "8  MSBB_eQTL_BM36_ENSG00000140987               AD_Wightman_Full_2021\n",
       "9  ROSMAP_gpQTL_gp_7827                         AD_Wightman_Full_2021\n",
       "10 MSBB_eQTL_BM22_ENSG00000137270               AD_Wightman_Full_2021\n",
       "   resource                     gene            filter_decision\n",
       "1  ROSMAP_DeJager_eQTL_Monocyte ENSG00000087263 FALSE          \n",
       "2  ROSMAP_DeJager_eQTL_Monocyte ENSG00000087263 FALSE          \n",
       "3  ROSMAP_gpQTL                 NA              FALSE          \n",
       "4  MSBB_eQTL_BM10               ENSG00000213579 FALSE          \n",
       "5  ROSMAP_DeJager_eQTL_Monocyte ENSG00000179611 FALSE          \n",
       "6  ROSMAP_DeJager_eQTL_Monocyte ENSG00000105220 FALSE          \n",
       "7  MSBB_eQTL_BM10               ENSG00000136840 FALSE          \n",
       "8  MSBB_eQTL_BM36               ENSG00000140987 FALSE          \n",
       "9  ROSMAP_gpQTL                 NA              FALSE          \n",
       "10 MSBB_eQTL_BM22               ENSG00000137270 FALSE          "
      ]
     },
     "metadata": {},
     "output_type": "display_data"
    }
   ],
   "source": [
    "trans_only_gwas_cs_sum_boundry <- trans_only_gwas_cs_sum_boundry %>% mutate(filter_decision = ifelse(events == 'ROSMAP_DeJager_eQTL_Monocyte_ENSG00000087263', FALSE, filter_decision))\n",
    "trans_only_gwas_cs_sum_boundry"
   ]
  },
  {
   "cell_type": "markdown",
   "id": "d6d5b995-aef9-443d-bf0a-0ed361f0e06c",
   "metadata": {
    "tags": []
   },
   "source": [
    "### Summary\n",
    "Among the 21 unique trans contexts that are exclusively explained by AD loci (i.e., those AD loci are not explained by any other resources), visual inspection suggests that 10 have signals close to the block boundary.\n",
    "\n",
    "By examining the exported trans results table—which includes all variants within all coverage credible sets as well as strong signals outside credible sets—we identified 2 cases with signals in the neighboring block, where the signal lies within 100 kb of the boundary.\n",
    "\n",
    "**Note:**\n",
    "In ROSMAP_DeJager_eQTL_Monocyte, there is a signal precisely at the boundary between blocks chr15_47690138_49901356 and chr15_49901356_51733753. Both blocks show strong colocalization with AD, driven by the same variant (chr15:49901356:G:A) with PIP = 1. The suggestion for this case is keeping it as is. "
   ]
  },
  {
   "cell_type": "markdown",
   "id": "24c2dd7b-944a-4dc2-9548-eab8796faa09",
   "metadata": {},
   "source": [
    "## Filter trans results"
   ]
  },
  {
   "cell_type": "code",
   "execution_count": 40,
   "id": "8d3e465b-b8c8-4c8d-b0e0-5c07fb4038d2",
   "metadata": {},
   "outputs": [],
   "source": [
    "trans_sing_df <- trans %>% mutate(p = 2 * pnorm(-abs(z))) %>% filter(MAF > 0.05, p < 1E-05) %>% \n",
    "                mutate(cs_id = paste(gene_ID, event_ID, cs_coverage_0.95, sep = '_'))"
   ]
  },
  {
   "cell_type": "markdown",
   "id": "e8e2b18a-8cf8-4efc-b167-ca0b35f8aa79",
   "metadata": {},
   "source": [
    "### Filter the boudry signals shared with AD "
   ]
  },
  {
   "cell_type": "code",
   "execution_count": 41,
   "id": "48c6cac4-f4cc-4b9c-9089-1c2904ba9c56",
   "metadata": {},
   "outputs": [],
   "source": [
    "gwas <- fread('./AD_GWAS_finemapping_109_blocks_top_loci_unified_any0.8ANDmin0.5.csv.gz')\n",
    "coverage <- \"cs_coverage_0.95_min_corr\"\n",
    "gwas_95 <- gwas %>%\n",
    "  mutate(!!coverage := abs(.data[[coverage]])) %>%\n",
    "  filter(.data[[coverage]] > 0)\n",
    "AD_gwas_df = gwas_95 %>%mutate(gwas_cs = paste(study,region,.data[[coverage]],sep=\":\"))%>% mutate(variant_ID = paste0('chr', variant_id))\n",
    "AD_gwas_df <- AD_gwas_df%>% filter(!(gwas_cs == \"AD_Bellenguez_2022:chr15_47690138_49901356:1\" & pip==0.998973148941477))\n",
    "coverage <- \"cs_coverage_0.95\"\n",
    "trans_AD_GWAS_meta_df <- merge(trans_sing_df %>%\n",
    "                                    filter(.data[[coverage]]>0), AD_gwas_df,  by = 'variant_ID', suffixes = c('QTL', 'GWAS'))"
   ]
  },
  {
   "cell_type": "code",
   "execution_count": 42,
   "id": "460fd436-a51e-4c6d-8e10-e4881b0fe27a",
   "metadata": {},
   "outputs": [],
   "source": [
    "pairs_to_drop <- trans_only_gwas_cs_sum_boundry %>%\n",
    "  filter(filter_decision) %>%\n",
    "  select(region, events)"
   ]
  },
  {
   "cell_type": "code",
   "execution_count": 43,
   "id": "e57b9594-5aba-4883-9111-f5a4ce888996",
   "metadata": {},
   "outputs": [],
   "source": [
    "need_to_filter_cs_id <- trans_AD_GWAS_meta_df %>%\n",
    "  inner_join(pairs_to_drop, by = c(\"gene_ID\" = \"region\", \"event_ID\" = \"events\")) %>% pull(cs_id)"
   ]
  },
  {
   "cell_type": "code",
   "execution_count": 44,
   "id": "56a0af83-2e69-4159-b81c-ad73730c1017",
   "metadata": {},
   "outputs": [
    {
     "data": {
      "text/html": [],
      "text/latex": [],
      "text/markdown": [],
      "text/plain": [
       "character(0)"
      ]
     },
     "metadata": {},
     "output_type": "display_data"
    }
   ],
   "source": [
    "need_to_filter_cs_id %>% unique "
   ]
  },
  {
   "cell_type": "code",
   "execution_count": 48,
   "id": "ab741171-e543-4b80-88d5-d4da36ed4803",
   "metadata": {},
   "outputs": [],
   "source": [
    "trans_sing_df <- trans_sing_df %>% select(-cs_id)"
   ]
  },
  {
   "cell_type": "code",
   "execution_count": 49,
   "id": "b1b77a83-3aca-42e7-8f41-94fecbe52960",
   "metadata": {},
   "outputs": [
    {
     "data": {
      "text/html": [
       "<style>\n",
       ".list-inline {list-style: none; margin:0; padding: 0}\n",
       ".list-inline>li {display: inline-block}\n",
       ".list-inline>li:not(:last-child)::after {content: \"\\00b7\"; padding: 0 .5ex}\n",
       "</style>\n",
       "<ol class=list-inline><li>5491897</li><li>18</li></ol>\n"
      ],
      "text/latex": [
       "\\begin{enumerate*}\n",
       "\\item 5491897\n",
       "\\item 18\n",
       "\\end{enumerate*}\n"
      ],
      "text/markdown": [
       "1. 5491897\n",
       "2. 18\n",
       "\n",
       "\n"
      ],
      "text/plain": [
       "[1] 5491897      18"
      ]
     },
     "metadata": {},
     "output_type": "display_data"
    },
    {
     "data": {
      "text/html": [
       "<style>\n",
       ".list-inline {list-style: none; margin:0; padding: 0}\n",
       ".list-inline>li {display: inline-block}\n",
       ".list-inline>li:not(:last-child)::after {content: \"\\00b7\"; padding: 0 .5ex}\n",
       "</style>\n",
       "<ol class=list-inline><li>3169684</li><li>19</li></ol>\n"
      ],
      "text/latex": [
       "\\begin{enumerate*}\n",
       "\\item 3169684\n",
       "\\item 19\n",
       "\\end{enumerate*}\n"
      ],
      "text/markdown": [
       "1. 3169684\n",
       "2. 19\n",
       "\n",
       "\n"
      ],
      "text/plain": [
       "[1] 3169684      19"
      ]
     },
     "metadata": {},
     "output_type": "display_data"
    }
   ],
   "source": [
    "dim(trans)\n",
    "dim(trans_sing_df)"
   ]
  },
  {
   "cell_type": "code",
   "execution_count": null,
   "id": "a6385ae4-fc81-4519-a0fb-6f03d3e7b955",
   "metadata": {},
   "outputs": [],
   "source": [
    "fwrite(trans_sing_df, '~/Work/trans/TensorQTL_post/FunGen_xQTL.trans.exported.toploci.bed.gz', sep = '\\t')"
   ]
  }
 ],
 "metadata": {
  "kernelspec": {
   "display_name": "R",
   "language": "R",
   "name": "ir"
  },
  "language_info": {
   "codemirror_mode": "r",
   "file_extension": ".r",
   "mimetype": "text/x-r-source",
   "name": "R",
   "pygments_lexer": "r",
   "version": "4.4.3"
  }
 },
 "nbformat": 4,
 "nbformat_minor": 5
}
