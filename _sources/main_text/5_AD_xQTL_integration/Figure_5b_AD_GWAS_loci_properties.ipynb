{
 "cells": [
  {
   "cell_type": "markdown",
   "id": "notebook-title",
   "metadata": {},
   "source": [
    "# Refined AD GWAS loci properties"
   ]
  },
  {
   "cell_type": "markdown",
   "id": "author-header",
   "metadata": {},
   "source": [
    "**Author:** Jenny Empawi"
   ]
  },
  {
   "cell_type": "markdown",
   "id": "motivation-header",
   "metadata": {},
   "source": [
    "## Motivation"
   ]
  },
  {
   "cell_type": "markdown",
   "id": "motivation-content",
   "metadata": {},
   "source": [
    "This analysis serves as a continuation of the previous notebook `Figure_5a_AD_GWAS_loci_harmonized.ipynb` to systematically summarize and characterize the properties of the refined Alzheimer's disease (AD) GWAS loci of interest. Following the harmonization and refinement process, we aim to provide comprehensive insights into the structural and functional characteristics of these loci to better understand their potential roles in AD pathogenesis."
   ]
  },
  {
   "cell_type": "markdown",
   "id": "implementation-header",
   "metadata": {},
   "source": [
    "## Implementation"
   ]
  },
  {
   "cell_type": "markdown",
   "id": "loci-sizes-header",
   "metadata": {},
   "source": [
    "### Loci sizes and purity distribution"
   ]
  },
  {
   "cell_type": "markdown",
   "id": "loci-sizes-content",
   "metadata": {},
   "source": [
    "In this section, we categorize and analyze the refined AD GWAS loci based on their detectability and mappability characteristics. Loci are classified into two main categories:\n\n- **Detectable loci**: Those with 95% coverage, representing loci where fine-mapping can reliably identify causal variants\n- **Mappable loci**: A subset of detectable loci containing ≤ 3 variants, indicating high-confidence, precisely mapped signals\n\nWe present a comprehensive distribution showing the size characteristics and purity metrics of these loci."
   ]
  },
  {
   "cell_type": "markdown",
   "id": "functional-annotation-header",
   "metadata": {},
   "source": [
    "### Proportions of fine-mapped SNPs by functional annotation"
   ]
  },
  {
   "cell_type": "markdown",
   "id": "functional-annotation-content",
   "metadata": {},
   "source": [
    "This analysis examines the functional annotation landscape of fine-mapped SNPs within the refined AD GWAS loci. Using the same bed file-based annotations that were utilized for enrichment analysis, we create a comprehensive bar plot visualization showing the proportions of fine-mapped SNPs that fall into different functional annotation categories.\n\nThis analysis helps identify whether fine-mapped AD-associated variants are enriched in specific regulatory regions, coding sequences, or other functionally relevant genomic elements, providing insights into the potential mechanisms through which these variants may contribute to AD risk."
   ]
  }
 ],
 "metadata": {
  "kernelspec": {
   "display_name": "R",
   "language": "R",
   "name": "ir"
  },
  "language_info": {
   "codemirror_mode": "r",
   "file_extension": ".r",
   "mimetype": "text/x-r-source",
   "name": "R",
   "pygments_lexer": "r",
   "version": "4.1.0"
  }
 },
 "nbformat": 4,
 "nbformat_minor": 5
}