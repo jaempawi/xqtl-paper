{
 "cells": [
  {
   "cell_type": "markdown",
   "id": "notebook-title",
   "metadata": {},
   "source": [
    "# Summary of FunGen-xQTL AD loci table"
   ]
  },
  {
   "cell_type": "markdown",
   "id": "author-header",
   "metadata": {},
   "source": [
    "**Author:** Alexandre Pelletier and Jenny Empawi"
   ]
  },
  {
   "cell_type": "markdown",
   "id": "motivation-header",
   "metadata": {},
   "source": [
    "## Motivation"
   ]
  },
  {
   "cell_type": "markdown",
   "id": "motivation-content",
   "metadata": {},
   "source": [
    "Summarize a comprehensive AD loci table annotated by xQTL and multiomics integration. Include signals from various strategies such as fine-mapping, colocalization, TWAS/cTWAS, MR, and other xQTL contexts and modalities. Highlight the creation of Table 1 in the manuscript, the most comprehensive AD loci table to date, along with supplementary tables."
   ]
  },
  {
   "cell_type": "markdown",
   "id": "implementation-header",
   "metadata": {},
   "source": [
    "## Implementation"
   ]
  },
  {
   "cell_type": "markdown",
   "id": "implementation-content",
   "metadata": {},
   "source": [
    "High-level summary visualization of information in the comprehensive AD loci table."
   ]
  }
 ],
 "metadata": {
  "kernelspec": {
   "display_name": "R",
   "language": "R",
   "name": "ir"
  },
  "language_info": {
   "codemirror_mode": "r",
   "file_extension": ".r",
   "mimetype": "text/x-r-source",
   "name": "R",
   "pygments_lexer": "r",
   "version": "4.1.0"
  }
 },
 "nbformat": 4,
 "nbformat_minor": 5
}