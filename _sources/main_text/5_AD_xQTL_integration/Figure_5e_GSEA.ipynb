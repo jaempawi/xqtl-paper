{
 "cells": [
  {
   "cell_type": "markdown",
   "id": "notebook-title",
   "metadata": {},
   "source": [
    "# Gene Set Enrichment Analysis for AD Risk Genes"
   ]
  },
  {
   "cell_type": "markdown",
   "id": "author-header",
   "metadata": {},
   "source": [
    "**Authors:** Ru Feng and Jenny Empawi"
   ]
  },
  {
   "cell_type": "markdown",
   "id": "motivation-header",
   "metadata": {},
   "source": [
    "## Motivation"
   ]
  },
  {
   "cell_type": "markdown",
   "id": "motivation-content",
   "metadata": {},
   "source": [
    "Perform gene set enrichment analysis for AD risk genes identified via xQTL. Highlight the pathway enrichment for novel genes to uncover new insights."
   ]
  },
  {
   "cell_type": "markdown",
   "id": "implementation-header",
   "metadata": {},
   "source": [
    "## Implementation"
   ]
  },
  {
   "cell_type": "markdown",
   "id": "implementation-content",
   "metadata": {},
   "source": [
    "Outline the steps for performing pathway enrichment analysis for the identified AD risk genes."
   ]
  }
 ],
 "metadata": {
  "kernelspec": {
   "display_name": "R",
   "language": "R",
   "name": "ir"
  },
  "language_info": {
   "codemirror_mode": "r",
   "file_extension": ".r",
   "mimetype": "text/x-r-source",
   "name": "R",
   "pygments_lexer": "r",
   "version": "4.1.0"
  }
 },
 "nbformat": 4,
 "nbformat_minor": 5
}