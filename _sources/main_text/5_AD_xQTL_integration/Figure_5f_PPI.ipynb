{
 "cells": [
  {
   "cell_type": "markdown",
   "id": "notebook-title",
   "metadata": {},
   "source": [
    "# PPI Networks for Selected AD Risk Genes in xQTL Loci"
   ]
  },
  {
   "cell_type": "markdown",
   "id": "author-header",
   "metadata": {},
   "source": [
    "**Authors:** Ru Feng and Jenny Empawi"
   ]
  }
 ],
 "metadata": {
  "kernelspec": {
   "display_name": "R",
   "language": "R",
   "name": "ir"
  },
  "language_info": {
   "codemirror_mode": "r",
   "file_extension": ".r",
   "mimetype": "text/x-r-source",
   "name": "R",
   "pygments_lexer": "r",
   "version": "4.1.0"
  }
 },
 "nbformat": 4,
 "nbformat_minor": 5
}