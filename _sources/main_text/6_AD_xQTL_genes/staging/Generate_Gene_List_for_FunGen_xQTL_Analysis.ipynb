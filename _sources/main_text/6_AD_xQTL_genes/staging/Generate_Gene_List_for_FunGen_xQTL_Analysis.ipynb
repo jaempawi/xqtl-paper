{
 "cells": [
  {
   "cell_type": "markdown",
   "id": "be6ef3ac-71c4-424c-a700-b74484ebbeb2",
   "metadata": {
    "kernel": "R"
   },
   "source": [
    "# Generate Gene List for FunGen xQTL Analysis\n",
    "\n",
    "## Overview\n",
    "This analysis combines genes from multiple resources related to Alzheimer's Disease (AD) to generate a comprehensive gene list for the FunGen xQTL project. We integrate data from:\n",
    "\n",
    "1. **FunGen xQTL** - Including three analytical approaches:\n",
    "   - Single context analysis\n",
    "   - Multi-context analysis (157 genes)\n",
    "   - ColocBoost analysis\n",
    "   \n",
    "   *For detailed methodology, see: [Mar2025_xQTL_modalities_GWAS_Loci.ipynb](https://github.com/cumc/xqtl-paper/blob/main/landscape_analysis/Mar2025_xQTL_modalities_GWAS_Loci.ipynb)*\n",
    "\n",
    "2. **ADSP Alzheimer's Disease Variant Catalog (AVC)** - Genes from Table 2 of the ADSP AVC database\n",
    "   *Source: [NIAGADS GVC Top Hits List](https://adsp.niagads.org/gvc-top-hits-list/)*\n",
    "\n",
    "3. **FunGen AD PI List** - Curated gene list contributed by Principal Investigators of the FunGen project\n",
    "\n",
    "4. **Multi-gene analysis results** - From ROSMAP and MSBB datasets\n",
    "5. **Genome-wide MSBB multi-context results** - Additional contextual analysis\n"
   ]
  },
  {
   "cell_type": "markdown",
   "id": "585687b8-d3d8-467d-83ff-85447ff84b7d",
   "metadata": {
    "kernel": "R"
   },
   "source": [
    "## Setup and Data Loading"
   ]
  },
  {
   "cell_type": "code",
   "execution_count": 42,
   "id": "b51d85c1-c946-4272-a1d1-445c42c53890",
   "metadata": {
    "kernel": "R"
   },
   "outputs": [],
   "source": [
    "#Load required libraries\n",
    "library(tidyverse)\n",
    "library(data.table)\n",
    "\n",
    "#Set paths and load gene reference\n",
    "gene_ref <- fread('/data/resource/references/Homo_sapiens.GRCh38.103.chr.reformatted.collapse_only.gene.region_list')"
   ]
  },
  {
   "cell_type": "markdown",
   "id": "c08d920c-8d1f-464b-b804-8cbb1d9c5568",
   "metadata": {
    "kernel": "R"
   },
   "source": [
    "## Data Source 1: FunGen xQTL Results"
   ]
  },
  {
   "cell_type": "code",
   "execution_count": 43,
   "id": "b032ae85-4821-459f-afcf-9c37fb1f716d",
   "metadata": {
    "kernel": "R",
    "scrolled": true
   },
   "outputs": [
    {
     "data": {
      "text/html": [
       "<table class=\"dataframe\">\n",
       "<caption>A data.table: 6 x 7</caption>\n",
       "<thead>\n",
       "\t<tr><th scope=col>gene_id</th><th scope=col>resources</th><th scope=col>#chr</th><th scope=col>start</th><th scope=col>end</th><th scope=col>gene_name</th><th scope=col>data_resource</th></tr>\n",
       "\t<tr><th scope=col>&lt;chr&gt;</th><th scope=col>&lt;chr&gt;</th><th scope=col>&lt;int&gt;</th><th scope=col>&lt;int&gt;</th><th scope=col>&lt;int&gt;</th><th scope=col>&lt;chr&gt;</th><th scope=col>&lt;chr&gt;</th></tr>\n",
       "</thead>\n",
       "<tbody>\n",
       "\t<tr><td>ENSG00000117322</td><td>ColocBoost,single_context,MetaBrain</td><td>1</td><td>207454229</td><td>207454230</td><td>CR2   </td><td>FunGen_xQTL</td></tr>\n",
       "\t<tr><td>ENSG00000125944</td><td>ColocBoost                         </td><td>1</td><td> 23344335</td><td> 23344336</td><td>HNRNPR</td><td>FunGen_xQTL</td></tr>\n",
       "\t<tr><td>ENSG00000135766</td><td>ColocBoost                         </td><td>1</td><td>231422286</td><td>231422287</td><td>EGLN1 </td><td>FunGen_xQTL</td></tr>\n",
       "\t<tr><td>ENSG00000142798</td><td>ColocBoost                         </td><td>1</td><td> 21937309</td><td> 21937310</td><td>HSPG2 </td><td>FunGen_xQTL</td></tr>\n",
       "\t<tr><td>ENSG00000143321</td><td>ColocBoost                         </td><td>1</td><td>156766924</td><td>156766925</td><td>HDGF  </td><td>FunGen_xQTL</td></tr>\n",
       "\t<tr><td>ENSG00000143771</td><td>ColocBoost                         </td><td>1</td><td>224356857</td><td>224356858</td><td>CNIH4 </td><td>FunGen_xQTL</td></tr>\n",
       "</tbody>\n",
       "</table>\n"
      ],
      "text/latex": [
       "A data.table: 6 x 7\n",
       "\\begin{tabular}{lllllll}\n",
       " gene\\_id & resources & \\#chr & start & end & gene\\_name & data\\_resource\\\\\n",
       " <chr> & <chr> & <int> & <int> & <int> & <chr> & <chr>\\\\\n",
       "\\hline\n",
       "\t ENSG00000117322 & ColocBoost,single\\_context,MetaBrain & 1 & 207454229 & 207454230 & CR2    & FunGen\\_xQTL\\\\\n",
       "\t ENSG00000125944 & ColocBoost                          & 1 &  23344335 &  23344336 & HNRNPR & FunGen\\_xQTL\\\\\n",
       "\t ENSG00000135766 & ColocBoost                          & 1 & 231422286 & 231422287 & EGLN1  & FunGen\\_xQTL\\\\\n",
       "\t ENSG00000142798 & ColocBoost                          & 1 &  21937309 &  21937310 & HSPG2  & FunGen\\_xQTL\\\\\n",
       "\t ENSG00000143321 & ColocBoost                          & 1 & 156766924 & 156766925 & HDGF   & FunGen\\_xQTL\\\\\n",
       "\t ENSG00000143771 & ColocBoost                          & 1 & 224356857 & 224356858 & CNIH4  & FunGen\\_xQTL\\\\\n",
       "\\end{tabular}\n"
      ],
      "text/markdown": [
       "\n",
       "A data.table: 6 x 7\n",
       "\n",
       "| gene_id &lt;chr&gt; | resources &lt;chr&gt; | #chr &lt;int&gt; | start &lt;int&gt; | end &lt;int&gt; | gene_name &lt;chr&gt; | data_resource &lt;chr&gt; |\n",
       "|---|---|---|---|---|---|---|\n",
       "| ENSG00000117322 | ColocBoost,single_context,MetaBrain | 1 | 207454229 | 207454230 | CR2    | FunGen_xQTL |\n",
       "| ENSG00000125944 | ColocBoost                          | 1 |  23344335 |  23344336 | HNRNPR | FunGen_xQTL |\n",
       "| ENSG00000135766 | ColocBoost                          | 1 | 231422286 | 231422287 | EGLN1  | FunGen_xQTL |\n",
       "| ENSG00000142798 | ColocBoost                          | 1 |  21937309 |  21937310 | HSPG2  | FunGen_xQTL |\n",
       "| ENSG00000143321 | ColocBoost                          | 1 | 156766924 | 156766925 | HDGF   | FunGen_xQTL |\n",
       "| ENSG00000143771 | ColocBoost                          | 1 | 224356857 | 224356858 | CNIH4  | FunGen_xQTL |\n",
       "\n"
      ],
      "text/plain": [
       "  gene_id         resources                           #chr start     end      \n",
       "1 ENSG00000117322 ColocBoost,single_context,MetaBrain 1    207454229 207454230\n",
       "2 ENSG00000125944 ColocBoost                          1     23344335  23344336\n",
       "3 ENSG00000135766 ColocBoost                          1    231422286 231422287\n",
       "4 ENSG00000142798 ColocBoost                          1     21937309  21937310\n",
       "5 ENSG00000143321 ColocBoost                          1    156766924 156766925\n",
       "6 ENSG00000143771 ColocBoost                          1    224356857 224356858\n",
       "  gene_name data_resource\n",
       "1 CR2       FunGen_xQTL  \n",
       "2 HNRNPR    FunGen_xQTL  \n",
       "3 EGLN1     FunGen_xQTL  \n",
       "4 HSPG2     FunGen_xQTL  \n",
       "5 HDGF      FunGen_xQTL  \n",
       "6 CNIH4     FunGen_xQTL  "
      ]
     },
     "metadata": {},
     "output_type": "display_data"
    }
   ],
   "source": [
    "# Load FunGen xQTL gene list (single/multi-context and ColocBoost results)\n",
    "tb1 <- fread('~/project/FunGen_xQTL/2025/Mar/Mar19_2025.193genes.single_multicon_colocboost_metabrain.gene_list.tsv') %>% \n",
    "  mutate(data_resource = 'FunGen_xQTL')\n",
    "\n",
    "# Display sample records\n",
    "tb1 %>% head()"
   ]
  },
  {
   "cell_type": "markdown",
   "id": "1430066c-f394-4073-bc15-2be6804c4148",
   "metadata": {
    "kernel": "R"
   },
   "source": [
    "## Data Source 2: ADSP Alzheimer's Variant Catalog"
   ]
  },
  {
   "cell_type": "code",
   "execution_count": 4,
   "id": "4ddb21b8-46af-412a-a7e9-0440e870eafd",
   "metadata": {
    "kernel": "R"
   },
   "outputs": [
    {
     "data": {
      "text/html": [
       "<table class=\"dataframe\">\n",
       "<caption>A data.table: 6 x 4</caption>\n",
       "<thead>\n",
       "\t<tr><th scope=col>Number</th><th scope=col>Gene</th><th scope=col>Source</th><th scope=col>Location (hg38)</th></tr>\n",
       "\t<tr><th scope=col>&lt;chr&gt;</th><th scope=col>&lt;chr&gt;</th><th scope=col>&lt;chr&gt;</th><th scope=col>&lt;chr&gt;</th></tr>\n",
       "</thead>\n",
       "<tbody>\n",
       "\t<tr><td>1</td><td>ABCA7</td><td>GVC         </td><td>chr19:1,039,997-1,065,572   </td></tr>\n",
       "\t<tr><td>2</td><td>ABI3 </td><td>GVC         </td><td>chr17:49,210,411-49,223,225 </td></tr>\n",
       "\t<tr><td>3</td><td>APOE </td><td>GVC         </td><td>chr19:44,905,791-44,909,393 </td></tr>\n",
       "\t<tr><td>4</td><td>APP  </td><td>GVC         </td><td>chr21:25,880,550-26,171,128 </td></tr>\n",
       "\t<tr><td>5</td><td>APBB3</td><td>Novikova    </td><td>chr5:140,558,268-140,564,781</td></tr>\n",
       "\t<tr><td>6</td><td>BIN1 </td><td>GVC/Novikova</td><td>chr2:127,048,023-127,107,288</td></tr>\n",
       "</tbody>\n",
       "</table>\n"
      ],
      "text/latex": [
       "A data.table: 6 x 4\n",
       "\\begin{tabular}{llll}\n",
       " Number & Gene & Source & Location (hg38)\\\\\n",
       " <chr> & <chr> & <chr> & <chr>\\\\\n",
       "\\hline\n",
       "\t 1 & ABCA7 & GVC          & chr19:1,039,997-1,065,572   \\\\\n",
       "\t 2 & ABI3  & GVC          & chr17:49,210,411-49,223,225 \\\\\n",
       "\t 3 & APOE  & GVC          & chr19:44,905,791-44,909,393 \\\\\n",
       "\t 4 & APP   & GVC          & chr21:25,880,550-26,171,128 \\\\\n",
       "\t 5 & APBB3 & Novikova     & chr5:140,558,268-140,564,781\\\\\n",
       "\t 6 & BIN1  & GVC/Novikova & chr2:127,048,023-127,107,288\\\\\n",
       "\\end{tabular}\n"
      ],
      "text/markdown": [
       "\n",
       "A data.table: 6 x 4\n",
       "\n",
       "| Number &lt;chr&gt; | Gene &lt;chr&gt; | Source &lt;chr&gt; | Location (hg38) &lt;chr&gt; |\n",
       "|---|---|---|---|\n",
       "| 1 | ABCA7 | GVC          | chr19:1,039,997-1,065,572    |\n",
       "| 2 | ABI3  | GVC          | chr17:49,210,411-49,223,225  |\n",
       "| 3 | APOE  | GVC          | chr19:44,905,791-44,909,393  |\n",
       "| 4 | APP   | GVC          | chr21:25,880,550-26,171,128  |\n",
       "| 5 | APBB3 | Novikova     | chr5:140,558,268-140,564,781 |\n",
       "| 6 | BIN1  | GVC/Novikova | chr2:127,048,023-127,107,288 |\n",
       "\n"
      ],
      "text/plain": [
       "  Number Gene  Source       Location (hg38)             \n",
       "1 1      ABCA7 GVC          chr19:1,039,997-1,065,572   \n",
       "2 2      ABI3  GVC          chr17:49,210,411-49,223,225 \n",
       "3 3      APOE  GVC          chr19:44,905,791-44,909,393 \n",
       "4 4      APP   GVC          chr21:25,880,550-26,171,128 \n",
       "5 5      APBB3 Novikova     chr5:140,558,268-140,564,781\n",
       "6 6      BIN1  GVC/Novikova chr2:127,048,023-127,107,288"
      ]
     },
     "metadata": {},
     "output_type": "display_data"
    }
   ],
   "source": [
    "# Load ADSP AVC data from Table 2\n",
    "tb2_raw <- fread('~/project/FunGen_xQTL/2025/Mar/GVC - table2.csv', header = F)\n",
    "\n",
    "# Set column names from the second row and remove header rows\n",
    "colnames(tb2_raw) <- tb2_raw[2,] %>% as.character()\n",
    "tb2_raw <- tb2_raw[-c(1:2),]\n",
    "\n",
    "# Display sample records\n",
    "tb2_raw %>% head()\n",
    "\n",
    "# Map gene names to gene reference data and add resource identifier\n",
    "tb2 <- gene_ref %>% \n",
    "  filter(gene_name %in% tb2_raw$Gene) %>% \n",
    "  mutate(data_resource = 'FunGen_ADSP')"
   ]
  },
  {
   "cell_type": "markdown",
   "id": "574fa6a8-dd34-4327-9549-be9955df7b55",
   "metadata": {
    "kernel": "R"
   },
   "source": [
    "## Data Source 3: Principal Investigator Gene List"
   ]
  },
  {
   "cell_type": "code",
   "execution_count": 5,
   "id": "05beb1fe-4ddc-45e0-9bf5-83964198293e",
   "metadata": {
    "kernel": "R"
   },
   "outputs": [
    {
     "data": {
      "text/html": [
       "<table class=\"dataframe\">\n",
       "<caption>A data.table: 6 x 2</caption>\n",
       "<thead>\n",
       "\t<tr><th scope=col>Gene name</th><th scope=col>Projects or PI interested</th></tr>\n",
       "\t<tr><th scope=col>&lt;chr&gt;</th><th scope=col>&lt;chr&gt;</th></tr>\n",
       "</thead>\n",
       "<tbody>\n",
       "\t<tr><td>ABCA7  </td><td>Shulman</td></tr>\n",
       "\t<tr><td>ADAM10 </td><td>Shulman</td></tr>\n",
       "\t<tr><td>AKAP9  </td><td>Shulman</td></tr>\n",
       "\t<tr><td>ALDH1A2</td><td>Shulman</td></tr>\n",
       "\t<tr><td>AP4M1  </td><td>Shulman</td></tr>\n",
       "\t<tr><td>AQP9   </td><td>Shulman</td></tr>\n",
       "</tbody>\n",
       "</table>\n"
      ],
      "text/latex": [
       "A data.table: 6 x 2\n",
       "\\begin{tabular}{ll}\n",
       " Gene name & Projects or PI interested\\\\\n",
       " <chr> & <chr>\\\\\n",
       "\\hline\n",
       "\t ABCA7   & Shulman\\\\\n",
       "\t ADAM10  & Shulman\\\\\n",
       "\t AKAP9   & Shulman\\\\\n",
       "\t ALDH1A2 & Shulman\\\\\n",
       "\t AP4M1   & Shulman\\\\\n",
       "\t AQP9    & Shulman\\\\\n",
       "\\end{tabular}\n"
      ],
      "text/markdown": [
       "\n",
       "A data.table: 6 x 2\n",
       "\n",
       "| Gene name &lt;chr&gt; | Projects or PI interested &lt;chr&gt; |\n",
       "|---|---|\n",
       "| ABCA7   | Shulman |\n",
       "| ADAM10  | Shulman |\n",
       "| AKAP9   | Shulman |\n",
       "| ALDH1A2 | Shulman |\n",
       "| AP4M1   | Shulman |\n",
       "| AQP9    | Shulman |\n",
       "\n"
      ],
      "text/plain": [
       "  Gene name Projects or PI interested\n",
       "1 ABCA7     Shulman                  \n",
       "2 ADAM10    Shulman                  \n",
       "3 AKAP9     Shulman                  \n",
       "4 ALDH1A2   Shulman                  \n",
       "5 AP4M1     Shulman                  \n",
       "6 AQP9      Shulman                  "
      ]
     },
     "metadata": {},
     "output_type": "display_data"
    }
   ],
   "source": [
    "# Load PI-curated gene list\n",
    "tb3_raw <- fread('~/project/FunGen_xQTL/2025/Mar/Josh_list.csv')\n",
    "\n",
    "# Display sample records\n",
    "tb3_raw %>% head()\n",
    "\n",
    "# Map gene names to gene reference data and add resource identifier\n",
    "tb3 <- gene_ref %>% \n",
    "  filter(gene_name %in% tb3_raw$`Gene name`) %>% \n",
    "  mutate(data_resource = 'PI_list')"
   ]
  },
  {
   "cell_type": "markdown",
   "id": "f7141b3f-bbc0-48cb-846d-a7c4b04d4776",
   "metadata": {
    "kernel": "R"
   },
   "source": [
    "## Data Source 4: Multi-gene Analysis Results"
   ]
  },
  {
   "cell_type": "markdown",
   "id": "781566be-6486-41dc-b150-20c5df2c77c5",
   "metadata": {
    "kernel": "R"
   },
   "source": [
    "### Load AD GWAS fine-mapping results from March 25, 2025"
   ]
  },
  {
   "cell_type": "code",
   "execution_count": 6,
   "id": "c04ce597-473d-4b67-9a04-e3bc777bab72",
   "metadata": {
    "kernel": "R"
   },
   "outputs": [],
   "source": [
    "ad <- fread('/data/analysis_result/AD_GWAS_finemapping/export/FunGen_xQTL.ADGWAS.Mar25.exported.toploci.bed.gz')\n",
    "\n",
    "# Filter for significant variants\n",
    "ad_vars <- ad %>% filter(cs_coverage_0.95 > 0)"
   ]
  },
  {
   "cell_type": "code",
   "execution_count": 7,
   "id": "f5931e6b-e649-4aed-8201-54a5dafeb2ac",
   "metadata": {
    "kernel": "R"
   },
   "outputs": [
    {
     "data": {
      "text/html": [
       "<table class=\"dataframe\">\n",
       "<caption>A data.table: 6 x 15</caption>\n",
       "<thead>\n",
       "\t<tr><th scope=col>#chr</th><th scope=col>start</th><th scope=col>end</th><th scope=col>a1</th><th scope=col>a2</th><th scope=col>variant_ID</th><th scope=col>gene_ID</th><th scope=col>event_ID</th><th scope=col>cs_coverage_0.95</th><th scope=col>cs_coverage_0.95_purity0.5</th><th scope=col>PIP</th><th scope=col>conditional_effect</th><th scope=col>lfsr</th><th scope=col>context</th><th scope=col>resource</th></tr>\n",
       "\t<tr><th scope=col>&lt;int&gt;</th><th scope=col>&lt;dbl&gt;</th><th scope=col>&lt;int&gt;</th><th scope=col>&lt;chr&gt;</th><th scope=col>&lt;chr&gt;</th><th scope=col>&lt;chr&gt;</th><th scope=col>&lt;chr&gt;</th><th scope=col>&lt;chr&gt;</th><th scope=col>&lt;int&gt;</th><th scope=col>&lt;int&gt;</th><th scope=col>&lt;dbl&gt;</th><th scope=col>&lt;chr&gt;</th><th scope=col>&lt;chr&gt;</th><th scope=col>&lt;chr&gt;</th><th scope=col>&lt;chr&gt;</th></tr>\n",
       "</thead>\n",
       "<tbody>\n",
       "\t<tr><td>1</td><td>945258</td><td>945259</td><td>T</td><td>TC </td><td>chr1:945259:TC:T </td><td>chr1_0_7520074</td><td>ENSG00000187961</td><td>5</td><td>5</td><td>0.09419357</td><td>0.188749238940897</td><td>7.28999870208797e-07</td><td>ROSMAP_Exc_DeJager_eQTL</td><td>ROSMAP_multi_gene</td></tr>\n",
       "\t<tr><td>1</td><td>954723</td><td>954724</td><td>A</td><td>G  </td><td>chr1:954724:G:A  </td><td>chr1_0_7520074</td><td>ENSG00000187961</td><td>5</td><td>5</td><td>0.57161741</td><td>0.204391161719796</td><td>7.28999870208797e-07</td><td>ROSMAP_Exc_DeJager_eQTL</td><td>ROSMAP_multi_gene</td></tr>\n",
       "\t<tr><td>1</td><td>965124</td><td>965125</td><td>C</td><td>G  </td><td>chr1:965125:G:C  </td><td>chr1_0_7520074</td><td>ENSG00000187961</td><td>5</td><td>5</td><td>0.16732354</td><td>0.188129574826807</td><td>7.28999870208797e-07</td><td>ROSMAP_Exc_DeJager_eQTL</td><td>ROSMAP_multi_gene</td></tr>\n",
       "\t<tr><td>1</td><td>965665</td><td>965666</td><td>A</td><td>ACC</td><td>chr1:965666:ACC:A</td><td>chr1_0_7520074</td><td>ENSG00000187961</td><td>5</td><td>5</td><td>0.13827854</td><td>0.185975987146749</td><td>7.28999870208797e-07</td><td>ROSMAP_Exc_DeJager_eQTL</td><td>ROSMAP_multi_gene</td></tr>\n",
       "\t<tr><td>1</td><td>978508</td><td>978509</td><td>A</td><td>G  </td><td>chr1:978509:G:A  </td><td>chr1_0_7520074</td><td>ENSG00000187642</td><td>5</td><td>5</td><td>0.25836594</td><td>0.484054794439528</td><td>8.7517581088359e-15 </td><td>ROSMAP_PCC_DeJager_eQTL</td><td>ROSMAP_multi_gene</td></tr>\n",
       "\t<tr><td>1</td><td>978952</td><td>978953</td><td>G</td><td>C  </td><td>chr1:978953:C:G  </td><td>chr1_0_7520074</td><td>ENSG00000187642</td><td>5</td><td>5</td><td>0.07840768</td><td>0.480242128208934</td><td>8.7517581088359e-15 </td><td>ROSMAP_PCC_DeJager_eQTL</td><td>ROSMAP_multi_gene</td></tr>\n",
       "</tbody>\n",
       "</table>\n"
      ],
      "text/latex": [
       "A data.table: 6 x 15\n",
       "\\begin{tabular}{lllllllllllllll}\n",
       " \\#chr & start & end & a1 & a2 & variant\\_ID & gene\\_ID & event\\_ID & cs\\_coverage\\_0.95 & cs\\_coverage\\_0.95\\_purity0.5 & PIP & conditional\\_effect & lfsr & context & resource\\\\\n",
       " <int> & <dbl> & <int> & <chr> & <chr> & <chr> & <chr> & <chr> & <int> & <int> & <dbl> & <chr> & <chr> & <chr> & <chr>\\\\\n",
       "\\hline\n",
       "\t 1 & 945258 & 945259 & T & TC  & chr1:945259:TC:T  & chr1\\_0\\_7520074 & ENSG00000187961 & 5 & 5 & 0.09419357 & 0.188749238940897 & 7.28999870208797e-07 & ROSMAP\\_Exc\\_DeJager\\_eQTL & ROSMAP\\_multi\\_gene\\\\\n",
       "\t 1 & 954723 & 954724 & A & G   & chr1:954724:G:A   & chr1\\_0\\_7520074 & ENSG00000187961 & 5 & 5 & 0.57161741 & 0.204391161719796 & 7.28999870208797e-07 & ROSMAP\\_Exc\\_DeJager\\_eQTL & ROSMAP\\_multi\\_gene\\\\\n",
       "\t 1 & 965124 & 965125 & C & G   & chr1:965125:G:C   & chr1\\_0\\_7520074 & ENSG00000187961 & 5 & 5 & 0.16732354 & 0.188129574826807 & 7.28999870208797e-07 & ROSMAP\\_Exc\\_DeJager\\_eQTL & ROSMAP\\_multi\\_gene\\\\\n",
       "\t 1 & 965665 & 965666 & A & ACC & chr1:965666:ACC:A & chr1\\_0\\_7520074 & ENSG00000187961 & 5 & 5 & 0.13827854 & 0.185975987146749 & 7.28999870208797e-07 & ROSMAP\\_Exc\\_DeJager\\_eQTL & ROSMAP\\_multi\\_gene\\\\\n",
       "\t 1 & 978508 & 978509 & A & G   & chr1:978509:G:A   & chr1\\_0\\_7520074 & ENSG00000187642 & 5 & 5 & 0.25836594 & 0.484054794439528 & 8.7517581088359e-15  & ROSMAP\\_PCC\\_DeJager\\_eQTL & ROSMAP\\_multi\\_gene\\\\\n",
       "\t 1 & 978952 & 978953 & G & C   & chr1:978953:C:G   & chr1\\_0\\_7520074 & ENSG00000187642 & 5 & 5 & 0.07840768 & 0.480242128208934 & 8.7517581088359e-15  & ROSMAP\\_PCC\\_DeJager\\_eQTL & ROSMAP\\_multi\\_gene\\\\\n",
       "\\end{tabular}\n"
      ],
      "text/markdown": [
       "\n",
       "A data.table: 6 x 15\n",
       "\n",
       "| #chr &lt;int&gt; | start &lt;dbl&gt; | end &lt;int&gt; | a1 &lt;chr&gt; | a2 &lt;chr&gt; | variant_ID &lt;chr&gt; | gene_ID &lt;chr&gt; | event_ID &lt;chr&gt; | cs_coverage_0.95 &lt;int&gt; | cs_coverage_0.95_purity0.5 &lt;int&gt; | PIP &lt;dbl&gt; | conditional_effect &lt;chr&gt; | lfsr &lt;chr&gt; | context &lt;chr&gt; | resource &lt;chr&gt; |\n",
       "|---|---|---|---|---|---|---|---|---|---|---|---|---|---|---|\n",
       "| 1 | 945258 | 945259 | T | TC  | chr1:945259:TC:T  | chr1_0_7520074 | ENSG00000187961 | 5 | 5 | 0.09419357 | 0.188749238940897 | 7.28999870208797e-07 | ROSMAP_Exc_DeJager_eQTL | ROSMAP_multi_gene |\n",
       "| 1 | 954723 | 954724 | A | G   | chr1:954724:G:A   | chr1_0_7520074 | ENSG00000187961 | 5 | 5 | 0.57161741 | 0.204391161719796 | 7.28999870208797e-07 | ROSMAP_Exc_DeJager_eQTL | ROSMAP_multi_gene |\n",
       "| 1 | 965124 | 965125 | C | G   | chr1:965125:G:C   | chr1_0_7520074 | ENSG00000187961 | 5 | 5 | 0.16732354 | 0.188129574826807 | 7.28999870208797e-07 | ROSMAP_Exc_DeJager_eQTL | ROSMAP_multi_gene |\n",
       "| 1 | 965665 | 965666 | A | ACC | chr1:965666:ACC:A | chr1_0_7520074 | ENSG00000187961 | 5 | 5 | 0.13827854 | 0.185975987146749 | 7.28999870208797e-07 | ROSMAP_Exc_DeJager_eQTL | ROSMAP_multi_gene |\n",
       "| 1 | 978508 | 978509 | A | G   | chr1:978509:G:A   | chr1_0_7520074 | ENSG00000187642 | 5 | 5 | 0.25836594 | 0.484054794439528 | 8.7517581088359e-15  | ROSMAP_PCC_DeJager_eQTL | ROSMAP_multi_gene |\n",
       "| 1 | 978952 | 978953 | G | C   | chr1:978953:C:G   | chr1_0_7520074 | ENSG00000187642 | 5 | 5 | 0.07840768 | 0.480242128208934 | 8.7517581088359e-15  | ROSMAP_PCC_DeJager_eQTL | ROSMAP_multi_gene |\n",
       "\n"
      ],
      "text/plain": [
       "  #chr start  end    a1 a2  variant_ID        gene_ID        event_ID       \n",
       "1 1    945258 945259 T  TC  chr1:945259:TC:T  chr1_0_7520074 ENSG00000187961\n",
       "2 1    954723 954724 A  G   chr1:954724:G:A   chr1_0_7520074 ENSG00000187961\n",
       "3 1    965124 965125 C  G   chr1:965125:G:C   chr1_0_7520074 ENSG00000187961\n",
       "4 1    965665 965666 A  ACC chr1:965666:ACC:A chr1_0_7520074 ENSG00000187961\n",
       "5 1    978508 978509 A  G   chr1:978509:G:A   chr1_0_7520074 ENSG00000187642\n",
       "6 1    978952 978953 G  C   chr1:978953:C:G   chr1_0_7520074 ENSG00000187642\n",
       "  cs_coverage_0.95 cs_coverage_0.95_purity0.5 PIP        conditional_effect\n",
       "1 5                5                          0.09419357 0.188749238940897 \n",
       "2 5                5                          0.57161741 0.204391161719796 \n",
       "3 5                5                          0.16732354 0.188129574826807 \n",
       "4 5                5                          0.13827854 0.185975987146749 \n",
       "5 5                5                          0.25836594 0.484054794439528 \n",
       "6 5                5                          0.07840768 0.480242128208934 \n",
       "  lfsr                 context                 resource         \n",
       "1 7.28999870208797e-07 ROSMAP_Exc_DeJager_eQTL ROSMAP_multi_gene\n",
       "2 7.28999870208797e-07 ROSMAP_Exc_DeJager_eQTL ROSMAP_multi_gene\n",
       "3 7.28999870208797e-07 ROSMAP_Exc_DeJager_eQTL ROSMAP_multi_gene\n",
       "4 7.28999870208797e-07 ROSMAP_Exc_DeJager_eQTL ROSMAP_multi_gene\n",
       "5 8.7517581088359e-15  ROSMAP_PCC_DeJager_eQTL ROSMAP_multi_gene\n",
       "6 8.7517581088359e-15  ROSMAP_PCC_DeJager_eQTL ROSMAP_multi_gene"
      ]
     },
     "metadata": {},
     "output_type": "display_data"
    }
   ],
   "source": [
    "# Load multi-gene analysis results from ROSMAP and MSBB datasets\n",
    "rosmap <- fread('/data/analysis_result/multi_gene/ROSMAP/export/summary/ROSMAP.exported.toploci.bed.gz')\n",
    "msbb <- fread('/data/analysis_result/multi_gene/MSBB/export/summary/MSBB.exported.toploci.bed.gz')\n",
    "\n",
    "# Combine datasets and filter for significant results (credible set coverage > 0.95)\n",
    "multi_gene <- rbind(\n",
    "  rosmap %>% mutate(resource = 'ROSMAP_multi_gene'), \n",
    "  msbb %>% mutate(resource = 'MSBB_multi_gene')\n",
    ") %>% \n",
    "  filter(cs_coverage_0.95 > 0)\n",
    "\n",
    "# Display sample records\n",
    "multi_gene %>% head()"
   ]
  },
  {
   "cell_type": "code",
   "execution_count": 8,
   "id": "648d2031-e36e-4ace-9237-6721ae8f9fd5",
   "metadata": {
    "kernel": "R"
   },
   "outputs": [
    {
     "data": {
      "text/html": [
       "<style>\n",
       ".list-inline {list-style: none; margin:0; padding: 0}\n",
       ".list-inline>li {display: inline-block}\n",
       ".list-inline>li:not(:last-child)::after {content: \"\\00b7\"; padding: 0 .5ex}\n",
       "</style>\n",
       "<ol class=list-inline><li>2885</li><li>15</li></ol>\n"
      ],
      "text/latex": [
       "\\begin{enumerate*}\n",
       "\\item 2885\n",
       "\\item 15\n",
       "\\end{enumerate*}\n"
      ],
      "text/markdown": [
       "1. 2885\n",
       "2. 15\n",
       "\n",
       "\n"
      ],
      "text/plain": [
       "[1] 2885   15"
      ]
     },
     "metadata": {},
     "output_type": "display_data"
    },
    {
     "data": {
      "text/html": [
       "<table class=\"dataframe\">\n",
       "<caption>A data.table: 6 x 7</caption>\n",
       "<thead>\n",
       "\t<tr><th scope=col>#chr</th><th scope=col>start</th><th scope=col>end</th><th scope=col>gene_id</th><th scope=col>gene_name</th><th scope=col>resources</th><th scope=col>data_resource</th></tr>\n",
       "\t<tr><th scope=col>&lt;chr&gt;</th><th scope=col>&lt;int&gt;</th><th scope=col>&lt;int&gt;</th><th scope=col>&lt;chr&gt;</th><th scope=col>&lt;chr&gt;</th><th scope=col>&lt;chr&gt;</th><th scope=col>&lt;chr&gt;</th></tr>\n",
       "</thead>\n",
       "<tbody>\n",
       "\t<tr><td>chr1</td><td>207034365</td><td>207034366</td><td>ENSG00000123836</td><td>PFKFB2 </td><td>multi_gene</td><td>FunGen_xQTL</td></tr>\n",
       "\t<tr><td>chr1</td><td>207052979</td><td>207052980</td><td>ENSG00000180667</td><td>YOD1   </td><td>multi_gene</td><td>FunGen_xQTL</td></tr>\n",
       "\t<tr><td>chr1</td><td>207321531</td><td>207321532</td><td>ENSG00000196352</td><td>CD55   </td><td>multi_gene</td><td>FunGen_xQTL</td></tr>\n",
       "\t<tr><td>chr1</td><td>207454229</td><td>207454230</td><td>ENSG00000117322</td><td>CR2    </td><td>multi_gene</td><td>FunGen_xQTL</td></tr>\n",
       "\t<tr><td>chr1</td><td>207496146</td><td>207496147</td><td>ENSG00000203710</td><td>CR1    </td><td>multi_gene</td><td>FunGen_xQTL</td></tr>\n",
       "\t<tr><td>chr2</td><td>134718999</td><td>134719000</td><td>ENSG00000152128</td><td>TMEM163</td><td>multi_gene</td><td>FunGen_xQTL</td></tr>\n",
       "</tbody>\n",
       "</table>\n"
      ],
      "text/latex": [
       "A data.table: 6 x 7\n",
       "\\begin{tabular}{lllllll}\n",
       " \\#chr & start & end & gene\\_id & gene\\_name & resources & data\\_resource\\\\\n",
       " <chr> & <int> & <int> & <chr> & <chr> & <chr> & <chr>\\\\\n",
       "\\hline\n",
       "\t chr1 & 207034365 & 207034366 & ENSG00000123836 & PFKFB2  & multi\\_gene & FunGen\\_xQTL\\\\\n",
       "\t chr1 & 207052979 & 207052980 & ENSG00000180667 & YOD1    & multi\\_gene & FunGen\\_xQTL\\\\\n",
       "\t chr1 & 207321531 & 207321532 & ENSG00000196352 & CD55    & multi\\_gene & FunGen\\_xQTL\\\\\n",
       "\t chr1 & 207454229 & 207454230 & ENSG00000117322 & CR2     & multi\\_gene & FunGen\\_xQTL\\\\\n",
       "\t chr1 & 207496146 & 207496147 & ENSG00000203710 & CR1     & multi\\_gene & FunGen\\_xQTL\\\\\n",
       "\t chr2 & 134718999 & 134719000 & ENSG00000152128 & TMEM163 & multi\\_gene & FunGen\\_xQTL\\\\\n",
       "\\end{tabular}\n"
      ],
      "text/markdown": [
       "\n",
       "A data.table: 6 x 7\n",
       "\n",
       "| #chr &lt;chr&gt; | start &lt;int&gt; | end &lt;int&gt; | gene_id &lt;chr&gt; | gene_name &lt;chr&gt; | resources &lt;chr&gt; | data_resource &lt;chr&gt; |\n",
       "|---|---|---|---|---|---|---|\n",
       "| chr1 | 207034365 | 207034366 | ENSG00000123836 | PFKFB2  | multi_gene | FunGen_xQTL |\n",
       "| chr1 | 207052979 | 207052980 | ENSG00000180667 | YOD1    | multi_gene | FunGen_xQTL |\n",
       "| chr1 | 207321531 | 207321532 | ENSG00000196352 | CD55    | multi_gene | FunGen_xQTL |\n",
       "| chr1 | 207454229 | 207454230 | ENSG00000117322 | CR2     | multi_gene | FunGen_xQTL |\n",
       "| chr1 | 207496146 | 207496147 | ENSG00000203710 | CR1     | multi_gene | FunGen_xQTL |\n",
       "| chr2 | 134718999 | 134719000 | ENSG00000152128 | TMEM163 | multi_gene | FunGen_xQTL |\n",
       "\n"
      ],
      "text/plain": [
       "  #chr start     end       gene_id         gene_name resources  data_resource\n",
       "1 chr1 207034365 207034366 ENSG00000123836 PFKFB2    multi_gene FunGen_xQTL  \n",
       "2 chr1 207052979 207052980 ENSG00000180667 YOD1      multi_gene FunGen_xQTL  \n",
       "3 chr1 207321531 207321532 ENSG00000196352 CD55      multi_gene FunGen_xQTL  \n",
       "4 chr1 207454229 207454230 ENSG00000117322 CR2       multi_gene FunGen_xQTL  \n",
       "5 chr1 207496146 207496147 ENSG00000203710 CR1       multi_gene FunGen_xQTL  \n",
       "6 chr2 134718999 134719000 ENSG00000152128 TMEM163   multi_gene FunGen_xQTL  "
      ]
     },
     "metadata": {},
     "output_type": "display_data"
    }
   ],
   "source": [
    "# Identify multi-gene results that overlap with AD GWAS variants\n",
    "multi_gene_ad <- multi_gene %>% filter(variant_ID %in% ad_vars$variant_ID)\n",
    "multi_gene_ad %>% dim()\n",
    "\n",
    "# Extract gene IDs from the event_ID field and process\n",
    "tb4 <- multi_gene_ad %>%\n",
    "  filter(!is.na(event_ID) & event_ID != '') %>% \n",
    "  select(event_ID, resource) %>%\n",
    "  separate_rows(event_ID, sep = \";\") %>% \n",
    "  distinct()\n",
    "\n",
    "# Map gene IDs to gene reference data\n",
    "tb4 <- gene_ref %>% \n",
    "  filter(gene_id %in% tb4$event_ID) %>% \n",
    "  mutate(resources = 'multi_gene', data_resource = 'FunGen_xQTL')\n",
    "\n",
    "tb4 %>% head()"
   ]
  },
  {
   "cell_type": "markdown",
   "id": "caa22f84-ea29-4d60-aec6-ab9e99f3cf07",
   "metadata": {
    "kernel": "R"
   },
   "source": [
    "## Data Source 5: Genome-Wide Multi-Context MSBB Results"
   ]
  },
  {
   "cell_type": "code",
   "execution_count": 9,
   "id": "8287a925-e3ba-40cf-81b6-7d960d57c480",
   "metadata": {
    "kernel": "R",
    "scrolled": true
   },
   "outputs": [
    {
     "data": {
      "text/html": [
       "<table class=\"dataframe\">\n",
       "<caption>A data.table: 6 x 14</caption>\n",
       "<thead>\n",
       "\t<tr><th scope=col>#chr</th><th scope=col>start</th><th scope=col>end</th><th scope=col>a1</th><th scope=col>a2</th><th scope=col>variant_ID</th><th scope=col>gene_ID</th><th scope=col>event_ID</th><th scope=col>cs_coverage_0.95</th><th scope=col>cs_coverage_0.7</th><th scope=col>cs_coverage_0.5</th><th scope=col>PIP</th><th scope=col>conditional_effect</th><th scope=col>lfsr</th></tr>\n",
       "\t<tr><th scope=col>&lt;int&gt;</th><th scope=col>&lt;int&gt;</th><th scope=col>&lt;int&gt;</th><th scope=col>&lt;chr&gt;</th><th scope=col>&lt;chr&gt;</th><th scope=col>&lt;chr&gt;</th><th scope=col>&lt;chr&gt;</th><th scope=col>&lt;chr&gt;</th><th scope=col>&lt;int&gt;</th><th scope=col>&lt;int&gt;</th><th scope=col>&lt;int&gt;</th><th scope=col>&lt;dbl&gt;</th><th scope=col>&lt;chr&gt;</th><th scope=col>&lt;chr&gt;</th></tr>\n",
       "</thead>\n",
       "<tbody>\n",
       "\t<tr><td>1</td><td>1023774</td><td>1023775</td><td>A</td><td>G</td><td>chr1:1023775:G:A</td><td>ENSG00000188157</td><td>BM_10_MSBB_eQTL;BM_22_MSBB_eQTL;BM_36_MSBB_eQTL;BM_44_MSBB_eQTL</td><td>1</td><td>1</td><td>1</td><td>0.97210539</td><td>0.104506519939872;0.125894884716484;0.0900918435608349;0.11841837243765</td><td>3.79924606022026e-12;3.84197473318569e-11;7.66144505134629e-11;1.4305998342331e-16 </td></tr>\n",
       "\t<tr><td>1</td><td>1185633</td><td>1185634</td><td>A</td><td>G</td><td>chr1:1185634:G:A</td><td>ENSG00000186891</td><td>BM_10_MSBB_eQTL;BM_22_MSBB_eQTL;BM_36_MSBB_eQTL;BM_44_MSBB_eQTL</td><td>1</td><td>1</td><td>1</td><td>0.14623895</td><td>0.634539886004572;0.51361551629155;0.591478449188189;0.582230552873455 </td><td>6.89576902647313e-13;5.66680716108471e-09;2.71034501950873e-12;9.65056341704484e-13</td></tr>\n",
       "\t<tr><td>1</td><td>1185960</td><td>1185961</td><td>T</td><td>C</td><td>chr1:1185961:C:T</td><td>ENSG00000186891</td><td>BM_10_MSBB_eQTL;BM_22_MSBB_eQTL;BM_36_MSBB_eQTL;BM_44_MSBB_eQTL</td><td>1</td><td>1</td><td>1</td><td>0.07711689</td><td>0.634115468678271;0.516653150656981;0.540331824203107;0.565234066186421</td><td>6.89576902647313e-13;5.66680716108471e-09;2.71034501950873e-12;9.65056341704484e-13</td></tr>\n",
       "\t<tr><td>1</td><td>1186413</td><td>1186414</td><td>A</td><td>G</td><td>chr1:1186414:G:A</td><td>ENSG00000186891</td><td>BM_10_MSBB_eQTL;BM_22_MSBB_eQTL;BM_36_MSBB_eQTL;BM_44_MSBB_eQTL</td><td>1</td><td>1</td><td>1</td><td>0.26701266</td><td>0.641661665800936;0.523696513943397;0.580825918223139;0.582827363955203</td><td>6.89576902647313e-13;5.66680716108471e-09;2.71034501950873e-12;9.65056341704484e-13</td></tr>\n",
       "\t<tr><td>1</td><td>1186643</td><td>1186644</td><td>C</td><td>T</td><td>chr1:1186644:T:C</td><td>ENSG00000186891</td><td>BM_10_MSBB_eQTL;BM_22_MSBB_eQTL;BM_36_MSBB_eQTL;BM_44_MSBB_eQTL</td><td>1</td><td>1</td><td>0</td><td>0.02118090</td><td>0.635804267352963;0.540146604599051;0.57339889758486;0.581141794657505 </td><td>6.89576902647313e-13;5.66680716108471e-09;2.71034501950873e-12;9.65056341704484e-13</td></tr>\n",
       "\t<tr><td>1</td><td>1186938</td><td>1186939</td><td>T</td><td>C</td><td>chr1:1186939:C:T</td><td>ENSG00000186891</td><td>BM_10_MSBB_eQTL;BM_22_MSBB_eQTL;BM_36_MSBB_eQTL;BM_44_MSBB_eQTL</td><td>1</td><td>1</td><td>0</td><td>0.02118090</td><td>0.635804267352963;0.540146604599051;0.57339889758486;0.581141794657505 </td><td>6.89576902647313e-13;5.66680716108471e-09;2.71034501950873e-12;9.65056341704484e-13</td></tr>\n",
       "</tbody>\n",
       "</table>\n"
      ],
      "text/latex": [
       "A data.table: 6 x 14\n",
       "\\begin{tabular}{llllllllllllll}\n",
       " \\#chr & start & end & a1 & a2 & variant\\_ID & gene\\_ID & event\\_ID & cs\\_coverage\\_0.95 & cs\\_coverage\\_0.7 & cs\\_coverage\\_0.5 & PIP & conditional\\_effect & lfsr\\\\\n",
       " <int> & <int> & <int> & <chr> & <chr> & <chr> & <chr> & <chr> & <int> & <int> & <int> & <dbl> & <chr> & <chr>\\\\\n",
       "\\hline\n",
       "\t 1 & 1023774 & 1023775 & A & G & chr1:1023775:G:A & ENSG00000188157 & BM\\_10\\_MSBB\\_eQTL;BM\\_22\\_MSBB\\_eQTL;BM\\_36\\_MSBB\\_eQTL;BM\\_44\\_MSBB\\_eQTL & 1 & 1 & 1 & 0.97210539 & 0.104506519939872;0.125894884716484;0.0900918435608349;0.11841837243765 & 3.79924606022026e-12;3.84197473318569e-11;7.66144505134629e-11;1.4305998342331e-16 \\\\\n",
       "\t 1 & 1185633 & 1185634 & A & G & chr1:1185634:G:A & ENSG00000186891 & BM\\_10\\_MSBB\\_eQTL;BM\\_22\\_MSBB\\_eQTL;BM\\_36\\_MSBB\\_eQTL;BM\\_44\\_MSBB\\_eQTL & 1 & 1 & 1 & 0.14623895 & 0.634539886004572;0.51361551629155;0.591478449188189;0.582230552873455  & 6.89576902647313e-13;5.66680716108471e-09;2.71034501950873e-12;9.65056341704484e-13\\\\\n",
       "\t 1 & 1185960 & 1185961 & T & C & chr1:1185961:C:T & ENSG00000186891 & BM\\_10\\_MSBB\\_eQTL;BM\\_22\\_MSBB\\_eQTL;BM\\_36\\_MSBB\\_eQTL;BM\\_44\\_MSBB\\_eQTL & 1 & 1 & 1 & 0.07711689 & 0.634115468678271;0.516653150656981;0.540331824203107;0.565234066186421 & 6.89576902647313e-13;5.66680716108471e-09;2.71034501950873e-12;9.65056341704484e-13\\\\\n",
       "\t 1 & 1186413 & 1186414 & A & G & chr1:1186414:G:A & ENSG00000186891 & BM\\_10\\_MSBB\\_eQTL;BM\\_22\\_MSBB\\_eQTL;BM\\_36\\_MSBB\\_eQTL;BM\\_44\\_MSBB\\_eQTL & 1 & 1 & 1 & 0.26701266 & 0.641661665800936;0.523696513943397;0.580825918223139;0.582827363955203 & 6.89576902647313e-13;5.66680716108471e-09;2.71034501950873e-12;9.65056341704484e-13\\\\\n",
       "\t 1 & 1186643 & 1186644 & C & T & chr1:1186644:T:C & ENSG00000186891 & BM\\_10\\_MSBB\\_eQTL;BM\\_22\\_MSBB\\_eQTL;BM\\_36\\_MSBB\\_eQTL;BM\\_44\\_MSBB\\_eQTL & 1 & 1 & 0 & 0.02118090 & 0.635804267352963;0.540146604599051;0.57339889758486;0.581141794657505  & 6.89576902647313e-13;5.66680716108471e-09;2.71034501950873e-12;9.65056341704484e-13\\\\\n",
       "\t 1 & 1186938 & 1186939 & T & C & chr1:1186939:C:T & ENSG00000186891 & BM\\_10\\_MSBB\\_eQTL;BM\\_22\\_MSBB\\_eQTL;BM\\_36\\_MSBB\\_eQTL;BM\\_44\\_MSBB\\_eQTL & 1 & 1 & 0 & 0.02118090 & 0.635804267352963;0.540146604599051;0.57339889758486;0.581141794657505  & 6.89576902647313e-13;5.66680716108471e-09;2.71034501950873e-12;9.65056341704484e-13\\\\\n",
       "\\end{tabular}\n"
      ],
      "text/markdown": [
       "\n",
       "A data.table: 6 x 14\n",
       "\n",
       "| #chr &lt;int&gt; | start &lt;int&gt; | end &lt;int&gt; | a1 &lt;chr&gt; | a2 &lt;chr&gt; | variant_ID &lt;chr&gt; | gene_ID &lt;chr&gt; | event_ID &lt;chr&gt; | cs_coverage_0.95 &lt;int&gt; | cs_coverage_0.7 &lt;int&gt; | cs_coverage_0.5 &lt;int&gt; | PIP &lt;dbl&gt; | conditional_effect &lt;chr&gt; | lfsr &lt;chr&gt; |\n",
       "|---|---|---|---|---|---|---|---|---|---|---|---|---|---|\n",
       "| 1 | 1023774 | 1023775 | A | G | chr1:1023775:G:A | ENSG00000188157 | BM_10_MSBB_eQTL;BM_22_MSBB_eQTL;BM_36_MSBB_eQTL;BM_44_MSBB_eQTL | 1 | 1 | 1 | 0.97210539 | 0.104506519939872;0.125894884716484;0.0900918435608349;0.11841837243765 | 3.79924606022026e-12;3.84197473318569e-11;7.66144505134629e-11;1.4305998342331e-16  |\n",
       "| 1 | 1185633 | 1185634 | A | G | chr1:1185634:G:A | ENSG00000186891 | BM_10_MSBB_eQTL;BM_22_MSBB_eQTL;BM_36_MSBB_eQTL;BM_44_MSBB_eQTL | 1 | 1 | 1 | 0.14623895 | 0.634539886004572;0.51361551629155;0.591478449188189;0.582230552873455  | 6.89576902647313e-13;5.66680716108471e-09;2.71034501950873e-12;9.65056341704484e-13 |\n",
       "| 1 | 1185960 | 1185961 | T | C | chr1:1185961:C:T | ENSG00000186891 | BM_10_MSBB_eQTL;BM_22_MSBB_eQTL;BM_36_MSBB_eQTL;BM_44_MSBB_eQTL | 1 | 1 | 1 | 0.07711689 | 0.634115468678271;0.516653150656981;0.540331824203107;0.565234066186421 | 6.89576902647313e-13;5.66680716108471e-09;2.71034501950873e-12;9.65056341704484e-13 |\n",
       "| 1 | 1186413 | 1186414 | A | G | chr1:1186414:G:A | ENSG00000186891 | BM_10_MSBB_eQTL;BM_22_MSBB_eQTL;BM_36_MSBB_eQTL;BM_44_MSBB_eQTL | 1 | 1 | 1 | 0.26701266 | 0.641661665800936;0.523696513943397;0.580825918223139;0.582827363955203 | 6.89576902647313e-13;5.66680716108471e-09;2.71034501950873e-12;9.65056341704484e-13 |\n",
       "| 1 | 1186643 | 1186644 | C | T | chr1:1186644:T:C | ENSG00000186891 | BM_10_MSBB_eQTL;BM_22_MSBB_eQTL;BM_36_MSBB_eQTL;BM_44_MSBB_eQTL | 1 | 1 | 0 | 0.02118090 | 0.635804267352963;0.540146604599051;0.57339889758486;0.581141794657505  | 6.89576902647313e-13;5.66680716108471e-09;2.71034501950873e-12;9.65056341704484e-13 |\n",
       "| 1 | 1186938 | 1186939 | T | C | chr1:1186939:C:T | ENSG00000186891 | BM_10_MSBB_eQTL;BM_22_MSBB_eQTL;BM_36_MSBB_eQTL;BM_44_MSBB_eQTL | 1 | 1 | 0 | 0.02118090 | 0.635804267352963;0.540146604599051;0.57339889758486;0.581141794657505  | 6.89576902647313e-13;5.66680716108471e-09;2.71034501950873e-12;9.65056341704484e-13 |\n",
       "\n"
      ],
      "text/plain": [
       "  #chr start   end     a1 a2 variant_ID       gene_ID        \n",
       "1 1    1023774 1023775 A  G  chr1:1023775:G:A ENSG00000188157\n",
       "2 1    1185633 1185634 A  G  chr1:1185634:G:A ENSG00000186891\n",
       "3 1    1185960 1185961 T  C  chr1:1185961:C:T ENSG00000186891\n",
       "4 1    1186413 1186414 A  G  chr1:1186414:G:A ENSG00000186891\n",
       "5 1    1186643 1186644 C  T  chr1:1186644:T:C ENSG00000186891\n",
       "6 1    1186938 1186939 T  C  chr1:1186939:C:T ENSG00000186891\n",
       "  event_ID                                                       \n",
       "1 BM_10_MSBB_eQTL;BM_22_MSBB_eQTL;BM_36_MSBB_eQTL;BM_44_MSBB_eQTL\n",
       "2 BM_10_MSBB_eQTL;BM_22_MSBB_eQTL;BM_36_MSBB_eQTL;BM_44_MSBB_eQTL\n",
       "3 BM_10_MSBB_eQTL;BM_22_MSBB_eQTL;BM_36_MSBB_eQTL;BM_44_MSBB_eQTL\n",
       "4 BM_10_MSBB_eQTL;BM_22_MSBB_eQTL;BM_36_MSBB_eQTL;BM_44_MSBB_eQTL\n",
       "5 BM_10_MSBB_eQTL;BM_22_MSBB_eQTL;BM_36_MSBB_eQTL;BM_44_MSBB_eQTL\n",
       "6 BM_10_MSBB_eQTL;BM_22_MSBB_eQTL;BM_36_MSBB_eQTL;BM_44_MSBB_eQTL\n",
       "  cs_coverage_0.95 cs_coverage_0.7 cs_coverage_0.5 PIP       \n",
       "1 1                1               1               0.97210539\n",
       "2 1                1               1               0.14623895\n",
       "3 1                1               1               0.07711689\n",
       "4 1                1               1               0.26701266\n",
       "5 1                1               0               0.02118090\n",
       "6 1                1               0               0.02118090\n",
       "  conditional_effect                                                     \n",
       "1 0.104506519939872;0.125894884716484;0.0900918435608349;0.11841837243765\n",
       "2 0.634539886004572;0.51361551629155;0.591478449188189;0.582230552873455 \n",
       "3 0.634115468678271;0.516653150656981;0.540331824203107;0.565234066186421\n",
       "4 0.641661665800936;0.523696513943397;0.580825918223139;0.582827363955203\n",
       "5 0.635804267352963;0.540146604599051;0.57339889758486;0.581141794657505 \n",
       "6 0.635804267352963;0.540146604599051;0.57339889758486;0.581141794657505 \n",
       "  lfsr                                                                               \n",
       "1 3.79924606022026e-12;3.84197473318569e-11;7.66144505134629e-11;1.4305998342331e-16 \n",
       "2 6.89576902647313e-13;5.66680716108471e-09;2.71034501950873e-12;9.65056341704484e-13\n",
       "3 6.89576902647313e-13;5.66680716108471e-09;2.71034501950873e-12;9.65056341704484e-13\n",
       "4 6.89576902647313e-13;5.66680716108471e-09;2.71034501950873e-12;9.65056341704484e-13\n",
       "5 6.89576902647313e-13;5.66680716108471e-09;2.71034501950873e-12;9.65056341704484e-13\n",
       "6 6.89576902647313e-13;5.66680716108471e-09;2.71034501950873e-12;9.65056341704484e-13"
      ]
     },
     "metadata": {},
     "output_type": "display_data"
    },
    {
     "data": {
      "text/html": [
       "<style>\n",
       ".list-inline {list-style: none; margin:0; padding: 0}\n",
       ".list-inline>li {display: inline-block}\n",
       ".list-inline>li:not(:last-child)::after {content: \"\\00b7\"; padding: 0 .5ex}\n",
       "</style>\n",
       "<ol class=list-inline><li>101</li><li>14</li></ol>\n"
      ],
      "text/latex": [
       "\\begin{enumerate*}\n",
       "\\item 101\n",
       "\\item 14\n",
       "\\end{enumerate*}\n"
      ],
      "text/markdown": [
       "1. 101\n",
       "2. 14\n",
       "\n",
       "\n"
      ],
      "text/plain": [
       "[1] 101  14"
      ]
     },
     "metadata": {},
     "output_type": "display_data"
    },
    {
     "data": {
      "text/html": [
       "<table class=\"dataframe\">\n",
       "<caption>A data.table: 6 x 7</caption>\n",
       "<thead>\n",
       "\t<tr><th scope=col>#chr</th><th scope=col>start</th><th scope=col>end</th><th scope=col>gene_id</th><th scope=col>gene_name</th><th scope=col>resources</th><th scope=col>data_resource</th></tr>\n",
       "\t<tr><th scope=col>&lt;chr&gt;</th><th scope=col>&lt;int&gt;</th><th scope=col>&lt;int&gt;</th><th scope=col>&lt;chr&gt;</th><th scope=col>&lt;chr&gt;</th><th scope=col>&lt;chr&gt;</th><th scope=col>&lt;chr&gt;</th></tr>\n",
       "</thead>\n",
       "<tbody>\n",
       "\t<tr><td>chr2 </td><td>202871765</td><td>202871766</td><td>ENSG00000163596</td><td>ICA1L</td><td>multi_context</td><td>FunGen_xQTL</td></tr>\n",
       "\t<tr><td>chr7 </td><td> 55019016</td><td> 55019017</td><td>ENSG00000146648</td><td>EGFR </td><td>multi_context</td><td>FunGen_xQTL</td></tr>\n",
       "\t<tr><td>chr12</td><td>113185525</td><td>113185526</td><td>ENSG00000139405</td><td>RITA1</td><td>multi_context</td><td>FunGen_xQTL</td></tr>\n",
       "\t<tr><td>chr15</td><td> 63276017</td><td> 63276018</td><td>ENSG00000138613</td><td>APH1B</td><td>multi_context</td><td>FunGen_xQTL</td></tr>\n",
       "\t<tr><td>chr17</td><td> 44345261</td><td> 44345262</td><td>ENSG00000030582</td><td>GRN  </td><td>multi_context</td><td>FunGen_xQTL</td></tr>\n",
       "\t<tr><td>chr20</td><td> 44966478</td><td> 44966479</td><td>ENSG00000101109</td><td>STK4 </td><td>multi_context</td><td>FunGen_xQTL</td></tr>\n",
       "</tbody>\n",
       "</table>\n"
      ],
      "text/latex": [
       "A data.table: 6 x 7\n",
       "\\begin{tabular}{lllllll}\n",
       " \\#chr & start & end & gene\\_id & gene\\_name & resources & data\\_resource\\\\\n",
       " <chr> & <int> & <int> & <chr> & <chr> & <chr> & <chr>\\\\\n",
       "\\hline\n",
       "\t chr2  & 202871765 & 202871766 & ENSG00000163596 & ICA1L & multi\\_context & FunGen\\_xQTL\\\\\n",
       "\t chr7  &  55019016 &  55019017 & ENSG00000146648 & EGFR  & multi\\_context & FunGen\\_xQTL\\\\\n",
       "\t chr12 & 113185525 & 113185526 & ENSG00000139405 & RITA1 & multi\\_context & FunGen\\_xQTL\\\\\n",
       "\t chr15 &  63276017 &  63276018 & ENSG00000138613 & APH1B & multi\\_context & FunGen\\_xQTL\\\\\n",
       "\t chr17 &  44345261 &  44345262 & ENSG00000030582 & GRN   & multi\\_context & FunGen\\_xQTL\\\\\n",
       "\t chr20 &  44966478 &  44966479 & ENSG00000101109 & STK4  & multi\\_context & FunGen\\_xQTL\\\\\n",
       "\\end{tabular}\n"
      ],
      "text/markdown": [
       "\n",
       "A data.table: 6 x 7\n",
       "\n",
       "| #chr &lt;chr&gt; | start &lt;int&gt; | end &lt;int&gt; | gene_id &lt;chr&gt; | gene_name &lt;chr&gt; | resources &lt;chr&gt; | data_resource &lt;chr&gt; |\n",
       "|---|---|---|---|---|---|---|\n",
       "| chr2  | 202871765 | 202871766 | ENSG00000163596 | ICA1L | multi_context | FunGen_xQTL |\n",
       "| chr7  |  55019016 |  55019017 | ENSG00000146648 | EGFR  | multi_context | FunGen_xQTL |\n",
       "| chr12 | 113185525 | 113185526 | ENSG00000139405 | RITA1 | multi_context | FunGen_xQTL |\n",
       "| chr15 |  63276017 |  63276018 | ENSG00000138613 | APH1B | multi_context | FunGen_xQTL |\n",
       "| chr17 |  44345261 |  44345262 | ENSG00000030582 | GRN   | multi_context | FunGen_xQTL |\n",
       "| chr20 |  44966478 |  44966479 | ENSG00000101109 | STK4  | multi_context | FunGen_xQTL |\n",
       "\n"
      ],
      "text/plain": [
       "  #chr  start     end       gene_id         gene_name resources    \n",
       "1 chr2  202871765 202871766 ENSG00000163596 ICA1L     multi_context\n",
       "2 chr7   55019016  55019017 ENSG00000146648 EGFR      multi_context\n",
       "3 chr12 113185525 113185526 ENSG00000139405 RITA1     multi_context\n",
       "4 chr15  63276017  63276018 ENSG00000138613 APH1B     multi_context\n",
       "5 chr17  44345261  44345262 ENSG00000030582 GRN       multi_context\n",
       "6 chr20  44966478  44966479 ENSG00000101109 STK4      multi_context\n",
       "  data_resource\n",
       "1 FunGen_xQTL  \n",
       "2 FunGen_xQTL  \n",
       "3 FunGen_xQTL  \n",
       "4 FunGen_xQTL  \n",
       "5 FunGen_xQTL  \n",
       "6 FunGen_xQTL  "
      ]
     },
     "metadata": {},
     "output_type": "display_data"
    }
   ],
   "source": [
    "# Load MSBB multi-context analysis results\n",
    "msbb_multicon <- fread('/data/analysis_result/multi_context/MSBB/export/summary/MSBB.exported.toploci.bed.gz')\n",
    "\n",
    "# Filter for significant results (credible set coverage > 0.95)\n",
    "msbb_multicon <- msbb_multicon %>% filter(cs_coverage_0.95 > 0)\n",
    "msbb_multicon %>% head()\n",
    "\n",
    "# Identify multi-context results that overlap with AD GWAS variants\n",
    "msbb_multicon_ad <- msbb_multicon %>% filter(variant_ID %in% ad_vars$variant_ID)\n",
    "msbb_multicon_ad %>% dim()\n",
    "\n",
    "# Extract gene IDs\n",
    "tb5 <- msbb_multicon_ad %>% select(gene_ID) %>% distinct()\n",
    "\n",
    "# Map gene IDs to gene reference data\n",
    "tb5 <- gene_ref %>% \n",
    "  filter(gene_id %in% tb5$gene_ID) %>% \n",
    "  mutate(resources = 'multi_context', data_resource = 'FunGen_xQTL')\n",
    "\n",
    "tb5 %>% head()"
   ]
  },
  {
   "cell_type": "markdown",
   "id": "bda2f190-4a1e-4bb1-8742-f1b0227cf68c",
   "metadata": {
    "kernel": "R"
   },
   "source": [
    "## Data Source 6: updated ColocBoost list"
   ]
  },
  {
   "cell_type": "code",
   "execution_count": 44,
   "id": "6e77d040-823f-4687-92e1-4ca940108c43",
   "metadata": {
    "kernel": "R"
   },
   "outputs": [],
   "source": [
    "# Load multi-gene analysis results from ROSMAP and MSBB datasets\n",
    "cb_apr25 <- fread('/data/analysis_result//ColocBoost//export//summary//ad_xqtl_colocboost_export_filtered.bed.gz')"
   ]
  },
  {
   "cell_type": "code",
   "execution_count": 45,
   "id": "cf287f6c-b16c-43f9-abd8-54cd76f636b8",
   "metadata": {
    "kernel": "R"
   },
   "outputs": [
    {
     "data": {
      "text/html": [
       "<table class=\"dataframe\">\n",
       "<caption>A data.table: 6 x 7</caption>\n",
       "<thead>\n",
       "\t<tr><th scope=col>#chr</th><th scope=col>start</th><th scope=col>end</th><th scope=col>gene_id</th><th scope=col>gene_name</th><th scope=col>resources</th><th scope=col>data_resource</th></tr>\n",
       "\t<tr><th scope=col>&lt;chr&gt;</th><th scope=col>&lt;int&gt;</th><th scope=col>&lt;int&gt;</th><th scope=col>&lt;chr&gt;</th><th scope=col>&lt;chr&gt;</th><th scope=col>&lt;chr&gt;</th><th scope=col>&lt;chr&gt;</th></tr>\n",
       "</thead>\n",
       "<tbody>\n",
       "\t<tr><td>chr1</td><td> 23980926</td><td> 23980927</td><td>ENSG00000188529</td><td>SRSF10    </td><td>ColocBoost</td><td>FunGen_xQTL</td></tr>\n",
       "\t<tr><td>chr1</td><td>160285129</td><td>160285130</td><td>ENSG00000258465</td><td>AL139011.2</td><td>ColocBoost</td><td>FunGen_xQTL</td></tr>\n",
       "\t<tr><td>chr1</td><td>161215233</td><td>161215234</td><td>ENSG00000158869</td><td>FCER1G    </td><td>ColocBoost</td><td>FunGen_xQTL</td></tr>\n",
       "\t<tr><td>chr1</td><td>207454229</td><td>207454230</td><td>ENSG00000117322</td><td>CR2       </td><td>ColocBoost</td><td>FunGen_xQTL</td></tr>\n",
       "\t<tr><td>chr1</td><td>207496146</td><td>207496147</td><td>ENSG00000203710</td><td>CR1       </td><td>ColocBoost</td><td>FunGen_xQTL</td></tr>\n",
       "\t<tr><td>chr1</td><td>231422286</td><td>231422287</td><td>ENSG00000135766</td><td>EGLN1     </td><td>ColocBoost</td><td>FunGen_xQTL</td></tr>\n",
       "</tbody>\n",
       "</table>\n"
      ],
      "text/latex": [
       "A data.table: 6 x 7\n",
       "\\begin{tabular}{lllllll}\n",
       " \\#chr & start & end & gene\\_id & gene\\_name & resources & data\\_resource\\\\\n",
       " <chr> & <int> & <int> & <chr> & <chr> & <chr> & <chr>\\\\\n",
       "\\hline\n",
       "\t chr1 &  23980926 &  23980927 & ENSG00000188529 & SRSF10     & ColocBoost & FunGen\\_xQTL\\\\\n",
       "\t chr1 & 160285129 & 160285130 & ENSG00000258465 & AL139011.2 & ColocBoost & FunGen\\_xQTL\\\\\n",
       "\t chr1 & 161215233 & 161215234 & ENSG00000158869 & FCER1G     & ColocBoost & FunGen\\_xQTL\\\\\n",
       "\t chr1 & 207454229 & 207454230 & ENSG00000117322 & CR2        & ColocBoost & FunGen\\_xQTL\\\\\n",
       "\t chr1 & 207496146 & 207496147 & ENSG00000203710 & CR1        & ColocBoost & FunGen\\_xQTL\\\\\n",
       "\t chr1 & 231422286 & 231422287 & ENSG00000135766 & EGLN1      & ColocBoost & FunGen\\_xQTL\\\\\n",
       "\\end{tabular}\n"
      ],
      "text/markdown": [
       "\n",
       "A data.table: 6 x 7\n",
       "\n",
       "| #chr &lt;chr&gt; | start &lt;int&gt; | end &lt;int&gt; | gene_id &lt;chr&gt; | gene_name &lt;chr&gt; | resources &lt;chr&gt; | data_resource &lt;chr&gt; |\n",
       "|---|---|---|---|---|---|---|\n",
       "| chr1 |  23980926 |  23980927 | ENSG00000188529 | SRSF10     | ColocBoost | FunGen_xQTL |\n",
       "| chr1 | 160285129 | 160285130 | ENSG00000258465 | AL139011.2 | ColocBoost | FunGen_xQTL |\n",
       "| chr1 | 161215233 | 161215234 | ENSG00000158869 | FCER1G     | ColocBoost | FunGen_xQTL |\n",
       "| chr1 | 207454229 | 207454230 | ENSG00000117322 | CR2        | ColocBoost | FunGen_xQTL |\n",
       "| chr1 | 207496146 | 207496147 | ENSG00000203710 | CR1        | ColocBoost | FunGen_xQTL |\n",
       "| chr1 | 231422286 | 231422287 | ENSG00000135766 | EGLN1      | ColocBoost | FunGen_xQTL |\n",
       "\n"
      ],
      "text/plain": [
       "  #chr start     end       gene_id         gene_name  resources  data_resource\n",
       "1 chr1  23980926  23980927 ENSG00000188529 SRSF10     ColocBoost FunGen_xQTL  \n",
       "2 chr1 160285129 160285130 ENSG00000258465 AL139011.2 ColocBoost FunGen_xQTL  \n",
       "3 chr1 161215233 161215234 ENSG00000158869 FCER1G     ColocBoost FunGen_xQTL  \n",
       "4 chr1 207454229 207454230 ENSG00000117322 CR2        ColocBoost FunGen_xQTL  \n",
       "5 chr1 207496146 207496147 ENSG00000203710 CR1        ColocBoost FunGen_xQTL  \n",
       "6 chr1 231422286 231422287 ENSG00000135766 EGLN1      ColocBoost FunGen_xQTL  "
      ]
     },
     "metadata": {},
     "output_type": "display_data"
    }
   ],
   "source": [
    "# Map gene IDs to gene reference data\n",
    "tb6 <- gene_ref %>% \n",
    "  filter(gene_id %in% cb_apr25$gene_ID) %>% \n",
    "  mutate(resources = 'ColocBoost', data_resource = 'FunGen_xQTL')\n",
    "\n",
    "tb6 %>% head()"
   ]
  },
  {
   "cell_type": "code",
   "execution_count": 46,
   "id": "74ba7455-26e1-4131-8019-ec11d6aa0cee",
   "metadata": {
    "kernel": "R"
   },
   "outputs": [
    {
     "data": {
      "text/html": [
       "<table class=\"dataframe\">\n",
       "<caption>A data.table: 6 x 7</caption>\n",
       "<thead>\n",
       "\t<tr><th scope=col>gene_id</th><th scope=col>resources</th><th scope=col>#chr</th><th scope=col>start</th><th scope=col>end</th><th scope=col>gene_name</th><th scope=col>data_resource</th></tr>\n",
       "\t<tr><th scope=col>&lt;chr&gt;</th><th scope=col>&lt;chr&gt;</th><th scope=col>&lt;int&gt;</th><th scope=col>&lt;int&gt;</th><th scope=col>&lt;int&gt;</th><th scope=col>&lt;chr&gt;</th><th scope=col>&lt;chr&gt;</th></tr>\n",
       "</thead>\n",
       "<tbody>\n",
       "\t<tr><td>ENSG00000117322</td><td>ColocBoost,single_context,MetaBrain</td><td>1</td><td>207454229</td><td>207454230</td><td>CR2   </td><td>FunGen_xQTL</td></tr>\n",
       "\t<tr><td>ENSG00000125944</td><td>ColocBoost                         </td><td>1</td><td> 23344335</td><td> 23344336</td><td>HNRNPR</td><td>FunGen_xQTL</td></tr>\n",
       "\t<tr><td>ENSG00000135766</td><td>ColocBoost                         </td><td>1</td><td>231422286</td><td>231422287</td><td>EGLN1 </td><td>FunGen_xQTL</td></tr>\n",
       "\t<tr><td>ENSG00000142798</td><td>ColocBoost                         </td><td>1</td><td> 21937309</td><td> 21937310</td><td>HSPG2 </td><td>FunGen_xQTL</td></tr>\n",
       "\t<tr><td>ENSG00000143321</td><td>ColocBoost                         </td><td>1</td><td>156766924</td><td>156766925</td><td>HDGF  </td><td>FunGen_xQTL</td></tr>\n",
       "\t<tr><td>ENSG00000143771</td><td>ColocBoost                         </td><td>1</td><td>224356857</td><td>224356858</td><td>CNIH4 </td><td>FunGen_xQTL</td></tr>\n",
       "</tbody>\n",
       "</table>\n"
      ],
      "text/latex": [
       "A data.table: 6 x 7\n",
       "\\begin{tabular}{lllllll}\n",
       " gene\\_id & resources & \\#chr & start & end & gene\\_name & data\\_resource\\\\\n",
       " <chr> & <chr> & <int> & <int> & <int> & <chr> & <chr>\\\\\n",
       "\\hline\n",
       "\t ENSG00000117322 & ColocBoost,single\\_context,MetaBrain & 1 & 207454229 & 207454230 & CR2    & FunGen\\_xQTL\\\\\n",
       "\t ENSG00000125944 & ColocBoost                          & 1 &  23344335 &  23344336 & HNRNPR & FunGen\\_xQTL\\\\\n",
       "\t ENSG00000135766 & ColocBoost                          & 1 & 231422286 & 231422287 & EGLN1  & FunGen\\_xQTL\\\\\n",
       "\t ENSG00000142798 & ColocBoost                          & 1 &  21937309 &  21937310 & HSPG2  & FunGen\\_xQTL\\\\\n",
       "\t ENSG00000143321 & ColocBoost                          & 1 & 156766924 & 156766925 & HDGF   & FunGen\\_xQTL\\\\\n",
       "\t ENSG00000143771 & ColocBoost                          & 1 & 224356857 & 224356858 & CNIH4  & FunGen\\_xQTL\\\\\n",
       "\\end{tabular}\n"
      ],
      "text/markdown": [
       "\n",
       "A data.table: 6 x 7\n",
       "\n",
       "| gene_id &lt;chr&gt; | resources &lt;chr&gt; | #chr &lt;int&gt; | start &lt;int&gt; | end &lt;int&gt; | gene_name &lt;chr&gt; | data_resource &lt;chr&gt; |\n",
       "|---|---|---|---|---|---|---|\n",
       "| ENSG00000117322 | ColocBoost,single_context,MetaBrain | 1 | 207454229 | 207454230 | CR2    | FunGen_xQTL |\n",
       "| ENSG00000125944 | ColocBoost                          | 1 |  23344335 |  23344336 | HNRNPR | FunGen_xQTL |\n",
       "| ENSG00000135766 | ColocBoost                          | 1 | 231422286 | 231422287 | EGLN1  | FunGen_xQTL |\n",
       "| ENSG00000142798 | ColocBoost                          | 1 |  21937309 |  21937310 | HSPG2  | FunGen_xQTL |\n",
       "| ENSG00000143321 | ColocBoost                          | 1 | 156766924 | 156766925 | HDGF   | FunGen_xQTL |\n",
       "| ENSG00000143771 | ColocBoost                          | 1 | 224356857 | 224356858 | CNIH4  | FunGen_xQTL |\n",
       "\n"
      ],
      "text/plain": [
       "  gene_id         resources                           #chr start     end      \n",
       "1 ENSG00000117322 ColocBoost,single_context,MetaBrain 1    207454229 207454230\n",
       "2 ENSG00000125944 ColocBoost                          1     23344335  23344336\n",
       "3 ENSG00000135766 ColocBoost                          1    231422286 231422287\n",
       "4 ENSG00000142798 ColocBoost                          1     21937309  21937310\n",
       "5 ENSG00000143321 ColocBoost                          1    156766924 156766925\n",
       "6 ENSG00000143771 ColocBoost                          1    224356857 224356858\n",
       "  gene_name data_resource\n",
       "1 CR2       FunGen_xQTL  \n",
       "2 HNRNPR    FunGen_xQTL  \n",
       "3 EGLN1     FunGen_xQTL  \n",
       "4 HSPG2     FunGen_xQTL  \n",
       "5 HDGF      FunGen_xQTL  \n",
       "6 CNIH4     FunGen_xQTL  "
      ]
     },
     "metadata": {},
     "output_type": "display_data"
    }
   ],
   "source": [
    "tb1 %>% head"
   ]
  },
  {
   "cell_type": "code",
   "execution_count": 47,
   "id": "260f2ebf-86dc-47aa-9c29-fb30cdebef21",
   "metadata": {
    "kernel": "R"
   },
   "outputs": [
    {
     "data": {
      "text/html": [
       "28"
      ],
      "text/latex": [
       "28"
      ],
      "text/markdown": [
       "28"
      ],
      "text/plain": [
       "[1] 28"
      ]
     },
     "metadata": {},
     "output_type": "display_data"
    }
   ],
   "source": [
    "cb_gene_not_in_tb6 <- setdiff(tb1 %>% filter(str_detect(resources, 'ColocBoost')) %>% pull(gene_id), tb6$gene_id)\n",
    "cb_gene_not_in_tb6 %>% length # those are genes removed from ColocBoost new version"
   ]
  },
  {
   "cell_type": "code",
   "execution_count": 48,
   "id": "af8e7804-0e68-41e4-98e5-181182d4ab8c",
   "metadata": {
    "kernel": "R"
   },
   "outputs": [
    {
     "data": {
      "text/html": [
       "75"
      ],
      "text/latex": [
       "75"
      ],
      "text/markdown": [
       "75"
      ],
      "text/plain": [
       "[1] 75"
      ]
     },
     "metadata": {},
     "output_type": "display_data"
    }
   ],
   "source": [
    "cb_gene_not_in_tb1 <- setdiff(tb6$gene_id, tb1 %>% filter(str_detect(resources, 'ColocBoost')) %>% pull(gene_id))\n",
    "cb_gene_not_in_tb1 %>% length # those are new gene from ColocBoost new version"
   ]
  },
  {
   "cell_type": "markdown",
   "id": "24f52c93-4b94-41d5-a265-fc2ea574881a",
   "metadata": {
    "kernel": "R"
   },
   "source": [
    "remove the 28 CollocBoost genes not showing in tb6 from tb1 "
   ]
  },
  {
   "cell_type": "code",
   "execution_count": 49,
   "id": "ec068b70-e93f-443f-a9e8-b25c7eb3eafc",
   "metadata": {
    "kernel": "R"
   },
   "outputs": [
    {
     "data": {
      "text/html": [
       "193"
      ],
      "text/latex": [
       "193"
      ],
      "text/markdown": [
       "193"
      ],
      "text/plain": [
       "[1] 193"
      ]
     },
     "metadata": {},
     "output_type": "display_data"
    },
    {
     "data": {
      "text/html": [
       "168"
      ],
      "text/latex": [
       "168"
      ],
      "text/markdown": [
       "168"
      ],
      "text/plain": [
       "[1] 168"
      ]
     },
     "metadata": {},
     "output_type": "display_data"
    }
   ],
   "source": [
    "nrow(tb1)\n",
    "tb1 <- tb1 %>%\n",
    "  mutate(\n",
    "    resources = ifelse(gene_id %in% cb_gene_not_in_tb6, sub('ColocBoost', '', resources), resources),\n",
    "  ) %>% filter(resources != '')\n",
    "nrow(tb1)"
   ]
  },
  {
   "cell_type": "code",
   "execution_count": 50,
   "id": "6e17a68e-93d7-4052-9421-d895c63cd18c",
   "metadata": {
    "kernel": "R"
   },
   "outputs": [
    {
     "data": {
      "text/html": [
       "25"
      ],
      "text/latex": [
       "25"
      ],
      "text/markdown": [
       "25"
      ],
      "text/plain": [
       "[1] 25"
      ]
     },
     "metadata": {},
     "output_type": "display_data"
    }
   ],
   "source": [
    "193-168"
   ]
  },
  {
   "cell_type": "markdown",
   "id": "dccb9869-47a6-49f2-b9ac-8c303d5cb186",
   "metadata": {
    "kernel": "R"
   },
   "source": [
    "removed 25 genes, 3 genes are kept because they are not contributed by ColocBoost only"
   ]
  },
  {
   "cell_type": "markdown",
   "id": "d0202fec-6965-4a30-844e-cf338f2450fb",
   "metadata": {
    "kernel": "R"
   },
   "source": [
    "## Data Source 7: TWAS Results"
   ]
  },
  {
   "cell_type": "code",
   "execution_count": 37,
   "id": "2af43ad1-c70b-474a-a506-a2b2150bbe74",
   "metadata": {
    "kernel": "R",
    "scrolled": true
   },
   "outputs": [],
   "source": [
    "# Load twas results\n",
    "twas <- fread('/data/analysis_result/twas/export/summary/FunGen_twas.exported.bed.gz')"
   ]
  },
  {
   "cell_type": "code",
   "execution_count": 55,
   "id": "a4461693-eb0d-475a-ba46-6d29aeb70da9",
   "metadata": {
    "kernel": "R"
   },
   "outputs": [
    {
     "data": {
      "text/html": [
       "<table class=\"dataframe\">\n",
       "<caption>A data.table: 6 x 17</caption>\n",
       "<thead>\n",
       "\t<tr><th scope=col>#chr</th><th scope=col>start</th><th scope=col>end</th><th scope=col>molecular_id</th><th scope=col>TADB_start</th><th scope=col>TADB_end</th><th scope=col>context</th><th scope=col>gwas_study</th><th scope=col>method</th><th scope=col>is_imputable</th><th scope=col>is_selected_method</th><th scope=col>rsq_cv</th><th scope=col>pval_cv</th><th scope=col>twas_z</th><th scope=col>twas_pval</th><th scope=col>type</th><th scope=col>block</th></tr>\n",
       "\t<tr><th scope=col>&lt;int&gt;</th><th scope=col>&lt;int&gt;</th><th scope=col>&lt;int&gt;</th><th scope=col>&lt;chr&gt;</th><th scope=col>&lt;int&gt;</th><th scope=col>&lt;int&gt;</th><th scope=col>&lt;chr&gt;</th><th scope=col>&lt;chr&gt;</th><th scope=col>&lt;chr&gt;</th><th scope=col>&lt;lgl&gt;</th><th scope=col>&lt;lgl&gt;</th><th scope=col>&lt;dbl&gt;</th><th scope=col>&lt;dbl&gt;</th><th scope=col>&lt;dbl&gt;</th><th scope=col>&lt;dbl&gt;</th><th scope=col>&lt;chr&gt;</th><th scope=col>&lt;chr&gt;</th></tr>\n",
       "</thead>\n",
       "<tbody>\n",
       "\t<tr><td>1</td><td>923921</td><td>923922</td><td>ENSG00000187634</td><td>0</td><td>6480000</td><td>AC_DeJager_eQTL</td><td>Bellenguez_2022</td><td>bayes_l</td><td>TRUE</td><td>FALSE</td><td>0.06358278</td><td>4.713139e-10</td><td>-0.5516557</td><td>0.5811842</td><td>eQTL</td><td>chr1_16103_2888443</td></tr>\n",
       "\t<tr><td>1</td><td>923921</td><td>923922</td><td>ENSG00000187634</td><td>0</td><td>6480000</td><td>AC_DeJager_eQTL</td><td>Bellenguez_2022</td><td>bayes_r</td><td>TRUE</td><td> TRUE</td><td>0.09006772</td><td>8.293727e-14</td><td>-0.6079598</td><td>0.5432142</td><td>eQTL</td><td>chr1_16103_2888443</td></tr>\n",
       "\t<tr><td>1</td><td>923921</td><td>923922</td><td>ENSG00000187634</td><td>0</td><td>6480000</td><td>AC_DeJager_eQTL</td><td>Bellenguez_2022</td><td>enet   </td><td>TRUE</td><td>FALSE</td><td>0.07363354</td><td>1.811244e-11</td><td>-0.8264034</td><td>0.4085753</td><td>eQTL</td><td>chr1_16103_2888443</td></tr>\n",
       "\t<tr><td>1</td><td>923921</td><td>923922</td><td>ENSG00000187634</td><td>0</td><td>6480000</td><td>AC_DeJager_eQTL</td><td>Bellenguez_2022</td><td>lasso  </td><td>TRUE</td><td>FALSE</td><td>0.07175097</td><td>3.341192e-11</td><td>-0.7787284</td><td>0.4361397</td><td>eQTL</td><td>chr1_16103_2888443</td></tr>\n",
       "\t<tr><td>1</td><td>923921</td><td>923922</td><td>ENSG00000187634</td><td>0</td><td>6480000</td><td>AC_DeJager_eQTL</td><td>Bellenguez_2022</td><td>mrash  </td><td>TRUE</td><td>FALSE</td><td>0.08157779</td><td>1.353045e-12</td><td>-0.1803822</td><td>0.8568525</td><td>eQTL</td><td>chr1_16103_2888443</td></tr>\n",
       "\t<tr><td>1</td><td>923921</td><td>923922</td><td>ENSG00000187634</td><td>0</td><td>6480000</td><td>AC_DeJager_eQTL</td><td>Bellenguez_2022</td><td>mrmash </td><td>TRUE</td><td>FALSE</td><td>0.07746210</td><td>5.199122e-12</td><td>-1.4978502</td><td>0.1341722</td><td>eQTL</td><td>chr1_16103_2888443</td></tr>\n",
       "</tbody>\n",
       "</table>\n"
      ],
      "text/latex": [
       "A data.table: 6 x 17\n",
       "\\begin{tabular}{lllllllllllllllll}\n",
       " \\#chr & start & end & molecular\\_id & TADB\\_start & TADB\\_end & context & gwas\\_study & method & is\\_imputable & is\\_selected\\_method & rsq\\_cv & pval\\_cv & twas\\_z & twas\\_pval & type & block\\\\\n",
       " <int> & <int> & <int> & <chr> & <int> & <int> & <chr> & <chr> & <chr> & <lgl> & <lgl> & <dbl> & <dbl> & <dbl> & <dbl> & <chr> & <chr>\\\\\n",
       "\\hline\n",
       "\t 1 & 923921 & 923922 & ENSG00000187634 & 0 & 6480000 & AC\\_DeJager\\_eQTL & Bellenguez\\_2022 & bayes\\_l & TRUE & FALSE & 0.06358278 & 4.713139e-10 & -0.5516557 & 0.5811842 & eQTL & chr1\\_16103\\_2888443\\\\\n",
       "\t 1 & 923921 & 923922 & ENSG00000187634 & 0 & 6480000 & AC\\_DeJager\\_eQTL & Bellenguez\\_2022 & bayes\\_r & TRUE &  TRUE & 0.09006772 & 8.293727e-14 & -0.6079598 & 0.5432142 & eQTL & chr1\\_16103\\_2888443\\\\\n",
       "\t 1 & 923921 & 923922 & ENSG00000187634 & 0 & 6480000 & AC\\_DeJager\\_eQTL & Bellenguez\\_2022 & enet    & TRUE & FALSE & 0.07363354 & 1.811244e-11 & -0.8264034 & 0.4085753 & eQTL & chr1\\_16103\\_2888443\\\\\n",
       "\t 1 & 923921 & 923922 & ENSG00000187634 & 0 & 6480000 & AC\\_DeJager\\_eQTL & Bellenguez\\_2022 & lasso   & TRUE & FALSE & 0.07175097 & 3.341192e-11 & -0.7787284 & 0.4361397 & eQTL & chr1\\_16103\\_2888443\\\\\n",
       "\t 1 & 923921 & 923922 & ENSG00000187634 & 0 & 6480000 & AC\\_DeJager\\_eQTL & Bellenguez\\_2022 & mrash   & TRUE & FALSE & 0.08157779 & 1.353045e-12 & -0.1803822 & 0.8568525 & eQTL & chr1\\_16103\\_2888443\\\\\n",
       "\t 1 & 923921 & 923922 & ENSG00000187634 & 0 & 6480000 & AC\\_DeJager\\_eQTL & Bellenguez\\_2022 & mrmash  & TRUE & FALSE & 0.07746210 & 5.199122e-12 & -1.4978502 & 0.1341722 & eQTL & chr1\\_16103\\_2888443\\\\\n",
       "\\end{tabular}\n"
      ],
      "text/markdown": [
       "\n",
       "A data.table: 6 x 17\n",
       "\n",
       "| #chr &lt;int&gt; | start &lt;int&gt; | end &lt;int&gt; | molecular_id &lt;chr&gt; | TADB_start &lt;int&gt; | TADB_end &lt;int&gt; | context &lt;chr&gt; | gwas_study &lt;chr&gt; | method &lt;chr&gt; | is_imputable &lt;lgl&gt; | is_selected_method &lt;lgl&gt; | rsq_cv &lt;dbl&gt; | pval_cv &lt;dbl&gt; | twas_z &lt;dbl&gt; | twas_pval &lt;dbl&gt; | type &lt;chr&gt; | block &lt;chr&gt; |\n",
       "|---|---|---|---|---|---|---|---|---|---|---|---|---|---|---|---|---|\n",
       "| 1 | 923921 | 923922 | ENSG00000187634 | 0 | 6480000 | AC_DeJager_eQTL | Bellenguez_2022 | bayes_l | TRUE | FALSE | 0.06358278 | 4.713139e-10 | -0.5516557 | 0.5811842 | eQTL | chr1_16103_2888443 |\n",
       "| 1 | 923921 | 923922 | ENSG00000187634 | 0 | 6480000 | AC_DeJager_eQTL | Bellenguez_2022 | bayes_r | TRUE |  TRUE | 0.09006772 | 8.293727e-14 | -0.6079598 | 0.5432142 | eQTL | chr1_16103_2888443 |\n",
       "| 1 | 923921 | 923922 | ENSG00000187634 | 0 | 6480000 | AC_DeJager_eQTL | Bellenguez_2022 | enet    | TRUE | FALSE | 0.07363354 | 1.811244e-11 | -0.8264034 | 0.4085753 | eQTL | chr1_16103_2888443 |\n",
       "| 1 | 923921 | 923922 | ENSG00000187634 | 0 | 6480000 | AC_DeJager_eQTL | Bellenguez_2022 | lasso   | TRUE | FALSE | 0.07175097 | 3.341192e-11 | -0.7787284 | 0.4361397 | eQTL | chr1_16103_2888443 |\n",
       "| 1 | 923921 | 923922 | ENSG00000187634 | 0 | 6480000 | AC_DeJager_eQTL | Bellenguez_2022 | mrash   | TRUE | FALSE | 0.08157779 | 1.353045e-12 | -0.1803822 | 0.8568525 | eQTL | chr1_16103_2888443 |\n",
       "| 1 | 923921 | 923922 | ENSG00000187634 | 0 | 6480000 | AC_DeJager_eQTL | Bellenguez_2022 | mrmash  | TRUE | FALSE | 0.07746210 | 5.199122e-12 | -1.4978502 | 0.1341722 | eQTL | chr1_16103_2888443 |\n",
       "\n"
      ],
      "text/plain": [
       "  #chr start  end    molecular_id    TADB_start TADB_end context        \n",
       "1 1    923921 923922 ENSG00000187634 0          6480000  AC_DeJager_eQTL\n",
       "2 1    923921 923922 ENSG00000187634 0          6480000  AC_DeJager_eQTL\n",
       "3 1    923921 923922 ENSG00000187634 0          6480000  AC_DeJager_eQTL\n",
       "4 1    923921 923922 ENSG00000187634 0          6480000  AC_DeJager_eQTL\n",
       "5 1    923921 923922 ENSG00000187634 0          6480000  AC_DeJager_eQTL\n",
       "6 1    923921 923922 ENSG00000187634 0          6480000  AC_DeJager_eQTL\n",
       "  gwas_study      method  is_imputable is_selected_method rsq_cv    \n",
       "1 Bellenguez_2022 bayes_l TRUE         FALSE              0.06358278\n",
       "2 Bellenguez_2022 bayes_r TRUE          TRUE              0.09006772\n",
       "3 Bellenguez_2022 enet    TRUE         FALSE              0.07363354\n",
       "4 Bellenguez_2022 lasso   TRUE         FALSE              0.07175097\n",
       "5 Bellenguez_2022 mrash   TRUE         FALSE              0.08157779\n",
       "6 Bellenguez_2022 mrmash  TRUE         FALSE              0.07746210\n",
       "  pval_cv      twas_z     twas_pval type block             \n",
       "1 4.713139e-10 -0.5516557 0.5811842 eQTL chr1_16103_2888443\n",
       "2 8.293727e-14 -0.6079598 0.5432142 eQTL chr1_16103_2888443\n",
       "3 1.811244e-11 -0.8264034 0.4085753 eQTL chr1_16103_2888443\n",
       "4 3.341192e-11 -0.7787284 0.4361397 eQTL chr1_16103_2888443\n",
       "5 1.353045e-12 -0.1803822 0.8568525 eQTL chr1_16103_2888443\n",
       "6 5.199122e-12 -1.4978502 0.1341722 eQTL chr1_16103_2888443"
      ]
     },
     "metadata": {},
     "output_type": "display_data"
    },
    {
     "data": {
      "text/html": [
       "<style>\n",
       ".list-inline {list-style: none; margin:0; padding: 0}\n",
       ".list-inline>li {display: inline-block}\n",
       ".list-inline>li:not(:last-child)::after {content: \"\\00b7\"; padding: 0 .5ex}\n",
       "</style>\n",
       "<ol class=list-inline><li>9452198</li><li>17</li></ol>\n"
      ],
      "text/latex": [
       "\\begin{enumerate*}\n",
       "\\item 9452198\n",
       "\\item 17\n",
       "\\end{enumerate*}\n"
      ],
      "text/markdown": [
       "1. 9452198\n",
       "2. 17\n",
       "\n",
       "\n"
      ],
      "text/plain": [
       "[1] 9452198      17"
      ]
     },
     "metadata": {},
     "output_type": "display_data"
    },
    {
     "data": {
      "text/html": [
       "16880"
      ],
      "text/latex": [
       "16880"
      ],
      "text/markdown": [
       "16880"
      ],
      "text/plain": [
       "[1] 16880"
      ]
     },
     "metadata": {},
     "output_type": "display_data"
    }
   ],
   "source": [
    "twas %>% head\n",
    "twas %>% dim\n",
    "twas %>% pull(molecular_id) %>% unique %>% length"
   ]
  },
  {
   "cell_type": "code",
   "execution_count": 144,
   "id": "73fa0cf6-cce8-4a6e-a669-41b2385b185f",
   "metadata": {
    "kernel": "R"
   },
   "outputs": [
    {
     "data": {
      "text/html": [
       "1561127"
      ],
      "text/latex": [
       "1561127"
      ],
      "text/markdown": [
       "1561127"
      ],
      "text/plain": [
       "[1] 1561127"
      ]
     },
     "metadata": {},
     "output_type": "display_data"
    }
   ],
   "source": [
    "n_imputable_genes <- twas %>%\n",
    "  filter(is_imputable) %>%                  # keep only imputable rows\n",
    "  distinct(molecular_id, context, gwas_study) %>%         # count unique gene-context pairs\n",
    "  nrow()\n",
    "n_imputable_genes"
   ]
  },
  {
   "cell_type": "code",
   "execution_count": 145,
   "id": "a1e60c4c-b996-4b1d-888c-0ad9307859ca",
   "metadata": {
    "kernel": "R"
   },
   "outputs": [
    {
     "data": {
      "text/html": [
       "3.2028143770494e-08"
      ],
      "text/latex": [
       "3.2028143770494e-08"
      ],
      "text/markdown": [
       "3.2028143770494e-08"
      ],
      "text/plain": [
       "[1] 3.202814e-08"
      ]
     },
     "metadata": {},
     "output_type": "display_data"
    }
   ],
   "source": [
    "# Compute cutoff using Bonferroni-style correction\n",
    "cutoff <- 0.05 / n_imputable_genes\n",
    "cutoff"
   ]
  },
  {
   "cell_type": "code",
   "execution_count": 146,
   "id": "c2e62e32-6e87-41cb-9de7-683571398866",
   "metadata": {
    "kernel": "R"
   },
   "outputs": [
    {
     "data": {
      "text/html": [
       "490"
      ],
      "text/latex": [
       "490"
      ],
      "text/markdown": [
       "490"
      ],
      "text/plain": [
       "[1] 490"
      ]
     },
     "metadata": {},
     "output_type": "display_data"
    }
   ],
   "source": [
    "twas %>% filter(twas_pval < cutoff) %>% pull( molecular_id) %>% unique %>% length"
   ]
  },
  {
   "cell_type": "code",
   "execution_count": 147,
   "id": "fb84f83b-de94-4ad1-bbfa-e9d85747b90d",
   "metadata": {
    "kernel": "R"
   },
   "outputs": [],
   "source": [
    "twas_sig <- twas %>%\n",
    "  mutate(sig = twas_pval < cutoff) %>%\n",
    "  group_by(molecular_id, context, gwas_study) %>%\n",
    "  summarise(\n",
    "    n_methods = n(),\n",
    "    n_sig = sum(sig),\n",
    "    best_sig = any(sig & is_selected_method),\n",
    "    .groups = \"drop\"\n",
    "  ) %>%\n",
    "  mutate(pass = (n_sig / n_methods > 0.5) | best_sig) %>%\n",
    "  mutate(pass_strict = (n_sig / n_methods > 0.5)) %>%\n",
    "  filter(pass)\n"
   ]
  },
  {
   "cell_type": "code",
   "execution_count": 148,
   "id": "08adc237-c6ab-4741-9829-45b03b9e4210",
   "metadata": {
    "kernel": "R",
    "scrolled": true
   },
   "outputs": [
    {
     "data": {
      "text/html": [
       "305"
      ],
      "text/latex": [
       "305"
      ],
      "text/markdown": [
       "305"
      ],
      "text/plain": [
       "[1] 305"
      ]
     },
     "metadata": {},
     "output_type": "display_data"
    }
   ],
   "source": [
    "twas_sig %>% pull(molecular_id) %>% unique %>% length"
   ]
  },
  {
   "cell_type": "code",
   "execution_count": 149,
   "id": "f51e1d49-1f8d-453b-8a1b-12ddc0f63bee",
   "metadata": {
    "kernel": "R"
   },
   "outputs": [
    {
     "data": {
      "text/html": [
       "<table class=\"dataframe\">\n",
       "<caption>A data.table: 6 x 7</caption>\n",
       "<thead>\n",
       "\t<tr><th scope=col>#chr</th><th scope=col>start</th><th scope=col>end</th><th scope=col>gene_id</th><th scope=col>gene_name</th><th scope=col>resources</th><th scope=col>data_resource</th></tr>\n",
       "\t<tr><th scope=col>&lt;chr&gt;</th><th scope=col>&lt;int&gt;</th><th scope=col>&lt;int&gt;</th><th scope=col>&lt;chr&gt;</th><th scope=col>&lt;chr&gt;</th><th scope=col>&lt;chr&gt;</th><th scope=col>&lt;chr&gt;</th></tr>\n",
       "</thead>\n",
       "<tbody>\n",
       "\t<tr><td>chr1</td><td>15976131</td><td>15976132</td><td>ENSG00000116809</td><td>ZBTB17    </td><td>twas</td><td>FunGen_xQTL</td></tr>\n",
       "\t<tr><td>chr1</td><td>26693235</td><td>26693236</td><td>ENSG00000117713</td><td>ARID1A    </td><td>twas</td><td>FunGen_xQTL</td></tr>\n",
       "\t<tr><td>chr1</td><td>42817396</td><td>42817397</td><td>ENSG00000177868</td><td>SVBP      </td><td>twas</td><td>FunGen_xQTL</td></tr>\n",
       "\t<tr><td>chr1</td><td>43389881</td><td>43389882</td><td>ENSG00000198198</td><td>SZT2      </td><td>twas</td><td>FunGen_xQTL</td></tr>\n",
       "\t<tr><td>chr1</td><td>43650148</td><td>43650149</td><td>ENSG00000284989</td><td>KDM4A     </td><td>twas</td><td>FunGen_xQTL</td></tr>\n",
       "\t<tr><td>chr1</td><td>43650148</td><td>43650149</td><td>ENSG00000284989</td><td>AL451062.2</td><td>twas</td><td>FunGen_xQTL</td></tr>\n",
       "</tbody>\n",
       "</table>\n"
      ],
      "text/latex": [
       "A data.table: 6 x 7\n",
       "\\begin{tabular}{lllllll}\n",
       " \\#chr & start & end & gene\\_id & gene\\_name & resources & data\\_resource\\\\\n",
       " <chr> & <int> & <int> & <chr> & <chr> & <chr> & <chr>\\\\\n",
       "\\hline\n",
       "\t chr1 & 15976131 & 15976132 & ENSG00000116809 & ZBTB17     & twas & FunGen\\_xQTL\\\\\n",
       "\t chr1 & 26693235 & 26693236 & ENSG00000117713 & ARID1A     & twas & FunGen\\_xQTL\\\\\n",
       "\t chr1 & 42817396 & 42817397 & ENSG00000177868 & SVBP       & twas & FunGen\\_xQTL\\\\\n",
       "\t chr1 & 43389881 & 43389882 & ENSG00000198198 & SZT2       & twas & FunGen\\_xQTL\\\\\n",
       "\t chr1 & 43650148 & 43650149 & ENSG00000284989 & KDM4A      & twas & FunGen\\_xQTL\\\\\n",
       "\t chr1 & 43650148 & 43650149 & ENSG00000284989 & AL451062.2 & twas & FunGen\\_xQTL\\\\\n",
       "\\end{tabular}\n"
      ],
      "text/markdown": [
       "\n",
       "A data.table: 6 x 7\n",
       "\n",
       "| #chr &lt;chr&gt; | start &lt;int&gt; | end &lt;int&gt; | gene_id &lt;chr&gt; | gene_name &lt;chr&gt; | resources &lt;chr&gt; | data_resource &lt;chr&gt; |\n",
       "|---|---|---|---|---|---|---|\n",
       "| chr1 | 15976131 | 15976132 | ENSG00000116809 | ZBTB17     | twas | FunGen_xQTL |\n",
       "| chr1 | 26693235 | 26693236 | ENSG00000117713 | ARID1A     | twas | FunGen_xQTL |\n",
       "| chr1 | 42817396 | 42817397 | ENSG00000177868 | SVBP       | twas | FunGen_xQTL |\n",
       "| chr1 | 43389881 | 43389882 | ENSG00000198198 | SZT2       | twas | FunGen_xQTL |\n",
       "| chr1 | 43650148 | 43650149 | ENSG00000284989 | KDM4A      | twas | FunGen_xQTL |\n",
       "| chr1 | 43650148 | 43650149 | ENSG00000284989 | AL451062.2 | twas | FunGen_xQTL |\n",
       "\n"
      ],
      "text/plain": [
       "  #chr start    end      gene_id         gene_name  resources data_resource\n",
       "1 chr1 15976131 15976132 ENSG00000116809 ZBTB17     twas      FunGen_xQTL  \n",
       "2 chr1 26693235 26693236 ENSG00000117713 ARID1A     twas      FunGen_xQTL  \n",
       "3 chr1 42817396 42817397 ENSG00000177868 SVBP       twas      FunGen_xQTL  \n",
       "4 chr1 43389881 43389882 ENSG00000198198 SZT2       twas      FunGen_xQTL  \n",
       "5 chr1 43650148 43650149 ENSG00000284989 KDM4A      twas      FunGen_xQTL  \n",
       "6 chr1 43650148 43650149 ENSG00000284989 AL451062.2 twas      FunGen_xQTL  "
      ]
     },
     "metadata": {},
     "output_type": "display_data"
    }
   ],
   "source": [
    "# Extract gene IDs\n",
    "tb7 <- twas_sig %>% select(molecular_id) %>% distinct()\n",
    "\n",
    "# Map gene IDs to gene reference data\n",
    "tb7 <- gene_ref %>% \n",
    "  filter(gene_id %in% tb7$molecular_id) %>% \n",
    "  mutate(resources = 'twas', data_resource = 'FunGen_xQTL')\n",
    "\n",
    "tb7 %>% head()"
   ]
  },
  {
   "cell_type": "markdown",
   "id": "3bfa75be-fad3-449b-9d85-5bc0fc18f47c",
   "metadata": {
    "kernel": "R"
   },
   "source": [
    "## Combining and Standardizing All Data Sources"
   ]
  },
  {
   "cell_type": "code",
   "execution_count": null,
   "id": "b15a9f46-a888-470c-ac56-0ddf79262dd7",
   "metadata": {
    "kernel": "R"
   },
   "outputs": [],
   "source": []
  },
  {
   "cell_type": "code",
   "execution_count": 195,
   "id": "207cb79a-66f0-4c43-8ae7-e1be7fc2ea3a",
   "metadata": {
    "kernel": "R"
   },
   "outputs": [
    {
     "name": "stderr",
     "output_type": "stream",
     "text": [
      "\u001b[1m\u001b[22mJoining with `by = join_by(gene_id)`\n"
     ]
    },
    {
     "data": {
      "text/html": [
       "<table class=\"dataframe\">\n",
       "<caption>A tibble: 6 x 7</caption>\n",
       "<thead>\n",
       "\t<tr><th scope=col>gene_id</th><th scope=col>resource_in_FunGen_xQTL</th><th scope=col>data_resources</th><th scope=col>chr</th><th scope=col>start</th><th scope=col>end</th><th scope=col>gene_name</th></tr>\n",
       "\t<tr><th scope=col>&lt;chr&gt;</th><th scope=col>&lt;chr&gt;</th><th scope=col>&lt;chr&gt;</th><th scope=col>&lt;chr&gt;</th><th scope=col>&lt;int&gt;</th><th scope=col>&lt;int&gt;</th><th scope=col>&lt;chr&gt;</th></tr>\n",
       "</thead>\n",
       "<tbody>\n",
       "\t<tr><td>ENSG00000002919</td><td>ColocBoost</td><td>FunGen_xQTL </td><td>17</td><td> 48103356</td><td> 48103357</td><td>SNX11 </td></tr>\n",
       "\t<tr><td>ENSG00000005100</td><td>ColocBoost</td><td>FunGen_xQTL </td><td>17</td><td>  5468981</td><td>  5468982</td><td>DHX33 </td></tr>\n",
       "\t<tr><td>ENSG00000006530</td><td>ColocBoost</td><td>FunGen_xQTL </td><td>7 </td><td>141551277</td><td>141551278</td><td>AGK   </td></tr>\n",
       "\t<tr><td>ENSG00000008294</td><td>ColocBoost</td><td>FunGen_xQTL </td><td>17</td><td> 51120867</td><td> 51120868</td><td>SPAG9 </td></tr>\n",
       "\t<tr><td>ENSG00000013503</td><td>ColocBoost</td><td>FunGen_xQTL </td><td>12</td><td>106357747</td><td>106357748</td><td>POLR3B</td></tr>\n",
       "\t<tr><td>ENSG00000015592</td><td>          </td><td>FunGen_AD_PI</td><td>8 </td><td> 27258419</td><td> 27258420</td><td>STMN4 </td></tr>\n",
       "</tbody>\n",
       "</table>\n"
      ],
      "text/latex": [
       "A tibble: 6 x 7\n",
       "\\begin{tabular}{lllllll}\n",
       " gene\\_id & resource\\_in\\_FunGen\\_xQTL & data\\_resources & chr & start & end & gene\\_name\\\\\n",
       " <chr> & <chr> & <chr> & <chr> & <int> & <int> & <chr>\\\\\n",
       "\\hline\n",
       "\t ENSG00000002919 & ColocBoost & FunGen\\_xQTL  & 17 &  48103356 &  48103357 & SNX11 \\\\\n",
       "\t ENSG00000005100 & ColocBoost & FunGen\\_xQTL  & 17 &   5468981 &   5468982 & DHX33 \\\\\n",
       "\t ENSG00000006530 & ColocBoost & FunGen\\_xQTL  & 7  & 141551277 & 141551278 & AGK   \\\\\n",
       "\t ENSG00000008294 & ColocBoost & FunGen\\_xQTL  & 17 &  51120867 &  51120868 & SPAG9 \\\\\n",
       "\t ENSG00000013503 & ColocBoost & FunGen\\_xQTL  & 12 & 106357747 & 106357748 & POLR3B\\\\\n",
       "\t ENSG00000015592 &            & FunGen\\_AD\\_PI & 8  &  27258419 &  27258420 & STMN4 \\\\\n",
       "\\end{tabular}\n"
      ],
      "text/markdown": [
       "\n",
       "A tibble: 6 x 7\n",
       "\n",
       "| gene_id &lt;chr&gt; | resource_in_FunGen_xQTL &lt;chr&gt; | data_resources &lt;chr&gt; | chr &lt;chr&gt; | start &lt;int&gt; | end &lt;int&gt; | gene_name &lt;chr&gt; |\n",
       "|---|---|---|---|---|---|---|\n",
       "| ENSG00000002919 | ColocBoost | FunGen_xQTL  | 17 |  48103356 |  48103357 | SNX11  |\n",
       "| ENSG00000005100 | ColocBoost | FunGen_xQTL  | 17 |   5468981 |   5468982 | DHX33  |\n",
       "| ENSG00000006530 | ColocBoost | FunGen_xQTL  | 7  | 141551277 | 141551278 | AGK    |\n",
       "| ENSG00000008294 | ColocBoost | FunGen_xQTL  | 17 |  51120867 |  51120868 | SPAG9  |\n",
       "| ENSG00000013503 | ColocBoost | FunGen_xQTL  | 12 | 106357747 | 106357748 | POLR3B |\n",
       "| ENSG00000015592 | <!----> | FunGen_AD_PI | 8  |  27258419 |  27258420 | STMN4  |\n",
       "\n"
      ],
      "text/plain": [
       "  gene_id         resource_in_FunGen_xQTL data_resources chr start    \n",
       "1 ENSG00000002919 ColocBoost              FunGen_xQTL    17   48103356\n",
       "2 ENSG00000005100 ColocBoost              FunGen_xQTL    17    5468981\n",
       "3 ENSG00000006530 ColocBoost              FunGen_xQTL    7   141551277\n",
       "4 ENSG00000008294 ColocBoost              FunGen_xQTL    17   51120867\n",
       "5 ENSG00000013503 ColocBoost              FunGen_xQTL    12  106357747\n",
       "6 ENSG00000015592                         FunGen_AD_PI   8    27258419\n",
       "  end       gene_name\n",
       "1  48103357 SNX11    \n",
       "2   5468982 DHX33    \n",
       "3 141551278 AGK      \n",
       "4  51120868 SPAG9    \n",
       "5 106357748 POLR3B   \n",
       "6  27258420 STMN4    "
      ]
     },
     "metadata": {},
     "output_type": "display_data"
    },
    {
     "name": "stdout",
     "output_type": "stream",
     "text": [
      "Total unique genes: 287 \n"
     ]
    }
   ],
   "source": [
    "# Combine all data sources\n",
    "tb <- rbind(tb1, tb2, fill = TRUE) %>% \n",
    "  rbind(., tb3, fill = TRUE) %>%\n",
    "  rbind(., tb4, fill = TRUE) %>%\n",
    "  rbind(., tb5, fill = TRUE) %>%\n",
    "  rbind(., tb6, fill = TRUE) \n",
    "\n",
    "# Standardize nomenclature across data sources\n",
    "tb <- tb %>%\n",
    "  mutate(\n",
    "    data_resource = ifelse(data_resource == \"PI_list\", \"FunGen_AD_PI\", data_resource),\n",
    "    resources = gsub(\"single_multicon\", \"single_multi_context\", resources),\n",
    "    data_resource = gsub(\"FunGen_ADSP\", \"ADSP_GVC\", data_resource)\n",
    "  )\n",
    "\n",
    "\n",
    "## Creating the Final Gene List\n",
    "\n",
    "\n",
    "# Create a clean, consolidated gene list\n",
    "tb_clean <- tb %>% \n",
    "  group_by(gene_id) %>% \n",
    "  summarise(\n",
    "    resources = paste(unique(na.omit(unlist(str_split(resources, \",\")))), collapse = \",\"),\n",
    "    data_resources = paste(unique(data_resource), collapse = \",\")\n",
    "  ) %>%        \n",
    "  left_join(tb %>% select(-resources)) %>% \n",
    "  select(-data_resource) %>% \n",
    "  distinct(gene_id, .keep_all = TRUE)\n",
    "\n",
    "# Rename columns for clarity\n",
    "tb_clean <- tb_clean %>% \n",
    "  rename(\n",
    "    'resource_in_FunGen_xQTL' = 'resources', \n",
    "    'chr' = '#chr'\n",
    "  ) %>% mutate(chr = gsub('chr','',chr)) %>% \n",
    "  mutate(resource_in_FunGen_xQTL = ifelse(str_detect(resource_in_FunGen_xQTL, '^,'), sub(',','',resource_in_FunGen_xQTL), resource_in_FunGen_xQTL))\n",
    "\n",
    "# Display sample records and summary statistics\n",
    "tb_clean %>% head()\n",
    "\n",
    "# Count unique genes in the final list\n",
    "unique_gene_count <- tb_clean$gene_id %>% unique() %>% length()\n",
    "cat(\"Total unique genes:\", unique_gene_count, \"\\n\")\n"
   ]
  },
  {
   "cell_type": "code",
   "execution_count": 196,
   "id": "f66249f0-24d4-477d-9ed6-97e999c4ce62",
   "metadata": {
    "kernel": "R"
   },
   "outputs": [
    {
     "data": {
      "text/html": [
       "<style>\n",
       ".list-inline {list-style: none; margin:0; padding: 0}\n",
       ".list-inline>li {display: inline-block}\n",
       ".list-inline>li:not(:last-child)::after {content: \"\\00b7\"; padding: 0 .5ex}\n",
       "</style>\n",
       "<ol class=list-inline><li>'FunGen_xQTL'</li><li>'FunGen_AD_PI'</li><li>'ADSP_GVC,FunGen_AD_PI'</li><li>'ADSP_GVC'</li><li>'FunGen_xQTL,ADSP_GVC'</li><li>'FunGen_xQTL,ADSP_GVC,FunGen_AD_PI'</li><li>'FunGen_xQTL,FunGen_AD_PI'</li><li>'FunGen_AD_PI,FunGen_xQTL'</li></ol>\n"
      ],
      "text/latex": [
       "\\begin{enumerate*}\n",
       "\\item 'FunGen\\_xQTL'\n",
       "\\item 'FunGen\\_AD\\_PI'\n",
       "\\item 'ADSP\\_GVC,FunGen\\_AD\\_PI'\n",
       "\\item 'ADSP\\_GVC'\n",
       "\\item 'FunGen\\_xQTL,ADSP\\_GVC'\n",
       "\\item 'FunGen\\_xQTL,ADSP\\_GVC,FunGen\\_AD\\_PI'\n",
       "\\item 'FunGen\\_xQTL,FunGen\\_AD\\_PI'\n",
       "\\item 'FunGen\\_AD\\_PI,FunGen\\_xQTL'\n",
       "\\end{enumerate*}\n"
      ],
      "text/markdown": [
       "1. 'FunGen_xQTL'\n",
       "2. 'FunGen_AD_PI'\n",
       "3. 'ADSP_GVC,FunGen_AD_PI'\n",
       "4. 'ADSP_GVC'\n",
       "5. 'FunGen_xQTL,ADSP_GVC'\n",
       "6. 'FunGen_xQTL,ADSP_GVC,FunGen_AD_PI'\n",
       "7. 'FunGen_xQTL,FunGen_AD_PI'\n",
       "8. 'FunGen_AD_PI,FunGen_xQTL'\n",
       "\n",
       "\n"
      ],
      "text/plain": [
       "[1] \"FunGen_xQTL\"                       \"FunGen_AD_PI\"                     \n",
       "[3] \"ADSP_GVC,FunGen_AD_PI\"             \"ADSP_GVC\"                         \n",
       "[5] \"FunGen_xQTL,ADSP_GVC\"              \"FunGen_xQTL,ADSP_GVC,FunGen_AD_PI\"\n",
       "[7] \"FunGen_xQTL,FunGen_AD_PI\"          \"FunGen_AD_PI,FunGen_xQTL\"         "
      ]
     },
     "metadata": {},
     "output_type": "display_data"
    }
   ],
   "source": [
    "tb_clean %>% pull(data_resources) %>% unique"
   ]
  },
  {
   "cell_type": "code",
   "execution_count": 197,
   "id": "f8556302-8d86-45ca-bcf7-265001518a4a",
   "metadata": {
    "kernel": "R"
   },
   "outputs": [],
   "source": [
    "fwrite(tb_clean,\"~/data/resource/AD_genes_FunGen_AD_GVC_xQTL_20250325.tsv\", sep = '\\t')"
   ]
  },
  {
   "cell_type": "markdown",
   "id": "21f53de7-57b9-4549-80bb-db623b6765e6",
   "metadata": {
    "kernel": "R"
   },
   "source": [
    "### twas table (optional)"
   ]
  },
  {
   "cell_type": "code",
   "execution_count": 200,
   "id": "bb7f6188-208d-438f-8bb2-9fce55b1fc5c",
   "metadata": {
    "kernel": "R"
   },
   "outputs": [
    {
     "name": "stderr",
     "output_type": "stream",
     "text": [
      "\u001b[1m\u001b[22mJoining with `by = join_by(gene_id)`\n"
     ]
    },
    {
     "data": {
      "text/html": [
       "<table class=\"dataframe\">\n",
       "<caption>A tibble: 6 x 7</caption>\n",
       "<thead>\n",
       "\t<tr><th scope=col>gene_id</th><th scope=col>resource_in_FunGen_xQTL</th><th scope=col>data_resources</th><th scope=col>chr</th><th scope=col>start</th><th scope=col>end</th><th scope=col>gene_name</th></tr>\n",
       "\t<tr><th scope=col>&lt;chr&gt;</th><th scope=col>&lt;chr&gt;</th><th scope=col>&lt;chr&gt;</th><th scope=col>&lt;chr&gt;</th><th scope=col>&lt;int&gt;</th><th scope=col>&lt;int&gt;</th><th scope=col>&lt;chr&gt;</th></tr>\n",
       "</thead>\n",
       "<tbody>\n",
       "\t<tr><td>ENSG00000001617</td><td>twas</td><td>FunGen_xQTL</td><td>3 </td><td> 50155044</td><td> 50155045</td><td>SEMA3F  </td></tr>\n",
       "\t<tr><td>ENSG00000005469</td><td>twas</td><td>FunGen_xQTL</td><td>7 </td><td> 87345663</td><td> 87345664</td><td>CROT    </td></tr>\n",
       "\t<tr><td>ENSG00000006062</td><td>twas</td><td>FunGen_xQTL</td><td>17</td><td> 45317028</td><td> 45317029</td><td>MAP3K14 </td></tr>\n",
       "\t<tr><td>ENSG00000006459</td><td>twas</td><td>FunGen_xQTL</td><td>7 </td><td>140176982</td><td>140176983</td><td>KDM7A   </td></tr>\n",
       "\t<tr><td>ENSG00000006704</td><td>twas</td><td>FunGen_xQTL</td><td>7 </td><td> 74453789</td><td> 74453790</td><td>GTF2IRD1</td></tr>\n",
       "\t<tr><td>ENSG00000007171</td><td>twas</td><td>FunGen_xQTL</td><td>17</td><td> 27800528</td><td> 27800529</td><td>NOS2    </td></tr>\n",
       "</tbody>\n",
       "</table>\n"
      ],
      "text/latex": [
       "A tibble: 6 x 7\n",
       "\\begin{tabular}{lllllll}\n",
       " gene\\_id & resource\\_in\\_FunGen\\_xQTL & data\\_resources & chr & start & end & gene\\_name\\\\\n",
       " <chr> & <chr> & <chr> & <chr> & <int> & <int> & <chr>\\\\\n",
       "\\hline\n",
       "\t ENSG00000001617 & twas & FunGen\\_xQTL & 3  &  50155044 &  50155045 & SEMA3F  \\\\\n",
       "\t ENSG00000005469 & twas & FunGen\\_xQTL & 7  &  87345663 &  87345664 & CROT    \\\\\n",
       "\t ENSG00000006062 & twas & FunGen\\_xQTL & 17 &  45317028 &  45317029 & MAP3K14 \\\\\n",
       "\t ENSG00000006459 & twas & FunGen\\_xQTL & 7  & 140176982 & 140176983 & KDM7A   \\\\\n",
       "\t ENSG00000006704 & twas & FunGen\\_xQTL & 7  &  74453789 &  74453790 & GTF2IRD1\\\\\n",
       "\t ENSG00000007171 & twas & FunGen\\_xQTL & 17 &  27800528 &  27800529 & NOS2    \\\\\n",
       "\\end{tabular}\n"
      ],
      "text/markdown": [
       "\n",
       "A tibble: 6 x 7\n",
       "\n",
       "| gene_id &lt;chr&gt; | resource_in_FunGen_xQTL &lt;chr&gt; | data_resources &lt;chr&gt; | chr &lt;chr&gt; | start &lt;int&gt; | end &lt;int&gt; | gene_name &lt;chr&gt; |\n",
       "|---|---|---|---|---|---|---|\n",
       "| ENSG00000001617 | twas | FunGen_xQTL | 3  |  50155044 |  50155045 | SEMA3F   |\n",
       "| ENSG00000005469 | twas | FunGen_xQTL | 7  |  87345663 |  87345664 | CROT     |\n",
       "| ENSG00000006062 | twas | FunGen_xQTL | 17 |  45317028 |  45317029 | MAP3K14  |\n",
       "| ENSG00000006459 | twas | FunGen_xQTL | 7  | 140176982 | 140176983 | KDM7A    |\n",
       "| ENSG00000006704 | twas | FunGen_xQTL | 7  |  74453789 |  74453790 | GTF2IRD1 |\n",
       "| ENSG00000007171 | twas | FunGen_xQTL | 17 |  27800528 |  27800529 | NOS2     |\n",
       "\n"
      ],
      "text/plain": [
       "  gene_id         resource_in_FunGen_xQTL data_resources chr start    \n",
       "1 ENSG00000001617 twas                    FunGen_xQTL    3    50155044\n",
       "2 ENSG00000005469 twas                    FunGen_xQTL    7    87345663\n",
       "3 ENSG00000006062 twas                    FunGen_xQTL    17   45317028\n",
       "4 ENSG00000006459 twas                    FunGen_xQTL    7   140176982\n",
       "5 ENSG00000006704 twas                    FunGen_xQTL    7    74453789\n",
       "6 ENSG00000007171 twas                    FunGen_xQTL    17   27800528\n",
       "  end       gene_name\n",
       "1  50155045 SEMA3F   \n",
       "2  87345664 CROT     \n",
       "3  45317029 MAP3K14  \n",
       "4 140176983 KDM7A    \n",
       "5  74453790 GTF2IRD1 \n",
       "6  27800529 NOS2     "
      ]
     },
     "metadata": {},
     "output_type": "display_data"
    },
    {
     "name": "stdout",
     "output_type": "stream",
     "text": [
      "Total unique genes: 305 \n"
     ]
    }
   ],
   "source": [
    "# Combine all data sources\n",
    "tb <- rbind(tb1, tb2, fill = TRUE) %>% \n",
    "  rbind(., tb3, fill = TRUE) %>%\n",
    "  rbind(., tb4, fill = TRUE) %>%\n",
    "  rbind(., tb5, fill = TRUE) %>%\n",
    "  rbind(., tb6, fill = TRUE) %>%\n",
    "  rbind(., tb7, fill = TRUE) \n",
    "\n",
    "# Standardize nomenclature across data sources\n",
    "tb <- tb %>%\n",
    "  mutate(\n",
    "    data_resource = ifelse(data_resource == \"PI_list\", \"FunGen_AD_PI\", data_resource),\n",
    "    resources = gsub(\"single_multicon\", \"single_multi_context\", resources),\n",
    "    data_resource = gsub(\"FunGen_ADSP\", \"ADSP_GVC\", data_resource)\n",
    "  )\n",
    "\n",
    "\n",
    "## Creating the Final Gene List\n",
    "\n",
    "\n",
    "# Create a clean, consolidated gene list\n",
    "tb_clean <- tb %>% \n",
    "  group_by(gene_id) %>% \n",
    "  summarise(\n",
    "    resources = paste(unique(na.omit(unlist(str_split(resources, \",\")))), collapse = \",\"),\n",
    "    data_resources = paste(unique(data_resource), collapse = \",\")\n",
    "  ) %>%        \n",
    "  left_join(tb %>% select(-resources)) %>% \n",
    "  select(-data_resource) %>% \n",
    "  distinct(gene_id, .keep_all = TRUE)\n",
    "\n",
    "# Rename columns for clarity\n",
    "tb_clean <- tb_clean %>% \n",
    "  rename(\n",
    "    'resource_in_FunGen_xQTL' = 'resources', \n",
    "    'chr' = '#chr'\n",
    "  ) %>% mutate(chr = gsub('chr','',chr)) %>% \n",
    "  mutate(resource_in_FunGen_xQTL = ifelse(str_detect(resource_in_FunGen_xQTL, '^,'), sub(',','',resource_in_FunGen_xQTL), resource_in_FunGen_xQTL)) %>%\n",
    " filter(str_detect(resource_in_FunGen_xQTL, 'twas'))\n",
    "\n",
    "# Display sample records and summary statistics\n",
    "tb_clean %>% head()\n",
    "\n",
    "# Count unique genes in the final list\n",
    "unique_gene_count <- tb_clean$gene_id %>% unique() %>% length()\n",
    "cat(\"Total unique genes:\", unique_gene_count, \"\\n\")\n"
   ]
  },
  {
   "cell_type": "code",
   "execution_count": 202,
   "id": "737c8154-fd39-4a16-b435-e65e49c8b4d5",
   "metadata": {
    "kernel": "R"
   },
   "outputs": [],
   "source": [
    "fwrite(tb_clean,\"~/data/resource/AD_genes_FunGen_AD_twas_GVC_xQTL_20250325.tsv\", sep = '\\t')"
   ]
  },
  {
   "cell_type": "markdown",
   "id": "93712fab-0864-4810-9189-53a326be2d83",
   "metadata": {
    "kernel": "R"
   },
   "source": [
    "## Summary of Results\n",
    "The final gene list contains 243 genes incorporates evidence from multiple sources including FunGen xQTL analyses, ADSP database, and PI-curated lists. The integration of multi-gene and multi-context analyses provides a comprehensive view of genes potentially involved in Alzheimer's Disease pathology.\n",
    "\n"
   ]
  },
  {
   "cell_type": "code",
   "execution_count": 203,
   "id": "1cf46784-736f-4cd0-a73c-c2327ee05996",
   "metadata": {
    "kernel": "R"
   },
   "outputs": [],
   "source": [
    "tb <- fread(\"~/data/resource/AD_genes_FunGen_AD_GVC_xQTL_20250325.tsv\", sep = '\\t')"
   ]
  },
  {
   "cell_type": "code",
   "execution_count": 204,
   "id": "bef44cb5-2a6e-4467-8e10-b123b2cddcb3",
   "metadata": {
    "kernel": "R"
   },
   "outputs": [
    {
     "data": {
      "text/html": [
       "<style>\n",
       ".list-inline {list-style: none; margin:0; padding: 0}\n",
       ".list-inline>li {display: inline-block}\n",
       ".list-inline>li:not(:last-child)::after {content: \"\\00b7\"; padding: 0 .5ex}\n",
       "</style>\n",
       "<ol class=list-inline><li>287</li><li>7</li></ol>\n"
      ],
      "text/latex": [
       "\\begin{enumerate*}\n",
       "\\item 287\n",
       "\\item 7\n",
       "\\end{enumerate*}\n"
      ],
      "text/markdown": [
       "1. 287\n",
       "2. 7\n",
       "\n",
       "\n"
      ],
      "text/plain": [
       "[1] 287   7"
      ]
     },
     "metadata": {},
     "output_type": "display_data"
    }
   ],
   "source": [
    "dim(tb)"
   ]
  }
 ],
 "metadata": {
  "kernelspec": {
   "display_name": "SoS",
   "language": "sos",
   "name": "sos"
  },
  "language_info": {
   "codemirror_mode": "sos",
   "file_extension": ".sos",
   "mimetype": "text/x-sos",
   "name": "sos",
   "nbconvert_exporter": "sos_notebook.converter.SoS_Exporter",
   "pygments_lexer": "sos"
  },
  "sos": {
   "kernels": [
    [
     "R",
     "ir",
     "R",
     "#DCDCDA",
     "r"
    ]
   ],
   "version": ""
  }
 },
 "nbformat": 4,
 "nbformat_minor": 5
}
