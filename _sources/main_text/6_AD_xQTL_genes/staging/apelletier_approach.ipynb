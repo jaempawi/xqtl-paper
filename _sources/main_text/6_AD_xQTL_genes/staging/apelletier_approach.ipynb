{
 "cells": [
  {
   "cell_type": "markdown",
   "id": "1596ebc5-98f5-42a4-a34f-0facb76e8655",
   "metadata": {},
   "source": [
    "# Reproducing analysis initially performed by A. Pelletier\n",
    "\n",
    "After merging sets sharing \"DeJager_Mic_ENSG00000130203\", \"Kellis_Mic_ENSG00000130203\", \"DeJager_Mic_ENSG00000130208\", \"Kellis_Mic_ENSG00000130208\", we can get a set with 60 variants that including both reported variants in CS3 and CS4."
   ]
  },
  {
   "cell_type": "code",
   "execution_count": 3,
   "id": "b6bb4607-496a-4385-a960-ee4c1a08679c",
   "metadata": {
    "tags": []
   },
   "outputs": [],
   "source": [
    "library(tidyverse)\n",
    "variants <- c(\n",
    "  'chr19:44938353:A:C', 'chr19:44939092:T:C', 'chr19:44939262:A:T', 'chr19:44939831:G:C', 'chr19:44940247:A:G',\n",
    "  'chr19:44940390:T:C', 'chr19:44940660:A:ATTGTT', 'chr19:44941309:G:T', 'chr19:44943014:C:T', 'chr19:44945208:T:G',\n",
    "  'chr19:44946027:T:G', 'chr19:44946776:C:T', 'chr19:44947615:A:G', 'chr19:44947671:T:C', 'chr19:44948185:A:G',\n",
    "  'chr19:44948363:T:A', 'chr19:44949887:C:T', 'chr19:44949894:T:G', 'chr19:44949908:C:T', 'chr19:44950979:G:A',\n",
    "  'chr19:44951106:G:A', 'chr19:44951502:A:G', 'chr19:44951509:G:A', 'chr19:44952201:G:A', 'chr19:44952844:G:A',\n",
    "  'chr19:44952989:T:C', 'chr19:44953240:T:C', 'chr19:44953684:G:A', 'chr19:44953848:A:G', 'chr19:44953923:T:C',\n",
    "  'chr19:44953968:G:A', 'chr19:44954036:C:T', 'chr19:44954049:C:T', 'chr19:44954062:G:A', 'chr19:44954120:G:A',\n",
    "  'chr19:44954150:CA:CAAAAA', 'chr19:44954427:G:C', 'chr19:44962801:T:C', 'chr19:44963328:ATT:AT', 'chr19:44967657:CAA:CA',\n",
    "  'chr19:44980181:A:C', 'chr19:44983921:C:T', 'chr19:44986934:A:G', 'chr19:44987312:A:G', 'chr19:44987378:T:C',\n",
    "  'chr19:44987916:A:G', 'chr19:44989803:T:C', 'chr19:44992424:A:G', 'chr19:44993518:A:G', 'chr19:44996130:T:C',\n",
    "  'chr19:44999110:TAAAA:TAA', 'chr19:45001091:C:G', 'chr19:44951028:TAA:TA', 'chr19:44972443:G:T', 'chr19:44978409:CA:CAAA',\n",
    "  'chr19:44979627:T:C', 'chr19:44989301:G:A', 'chr19:45000581:CT:CTT', 'chr19:44957507:G:A', 'chr19:44967087:C:T'\n",
    ")"
   ]
  },
  {
   "cell_type": "code",
   "execution_count": 22,
   "id": "a4a98416-21d5-4a05-ba36-a9c5cc5eb46d",
   "metadata": {
    "tags": []
   },
   "outputs": [
    {
     "data": {
      "text/html": [
       "TRUE"
      ],
      "text/latex": [
       "TRUE"
      ],
      "text/markdown": [
       "TRUE"
      ],
      "text/plain": [
       "[1] TRUE"
      ]
     },
     "metadata": {},
     "output_type": "display_data"
    }
   ],
   "source": [
    "'chr19:44945208:T:G' %in% variants"
   ]
  },
  {
   "cell_type": "code",
   "execution_count": 5,
   "id": "39ffdf1e-49f0-45df-988b-433203174eea",
   "metadata": {
    "tags": []
   },
   "outputs": [],
   "source": [
    "library(tidyverse)\n",
    "library(data.table)\n",
    "library(vroom)\n",
    "library(vctrs)\n",
    "library(susieR)\n",
    "library(matrixStats)\n",
    "for(file in list.files(\"/home/xc2270/COLOCBoost/pipeline/error/pecotmr\", full.names = T)) {source(file)}"
   ]
  },
  {
   "cell_type": "markdown",
   "id": "c0c91d9f-b29d-4cfe-a2b9-2944dd183b8c",
   "metadata": {},
   "source": [
    "## Loading GWAS sumstat information"
   ]
  },
  {
   "cell_type": "code",
   "execution_count": 6,
   "id": "f28f5978-45ab-4fb4-90c7-2dad46b1fb9b",
   "metadata": {
    "tags": []
   },
   "outputs": [],
   "source": [
    "# - summary statistics\n",
    "studies = c(\"AD_Bellenguez\", \"AD_Kunkle_Stage1_2019\", \"AD_Wightman_Full_2021\", \"AD_Wightman_Excluding23andMe_2021\", \n",
    "                    \"AD_Wightman_ExcludingUKBand23andME_2021\", \"AD_Bellenguez_EADB\")\n",
    "sumstat_path_list = c('/mnt/jast/hpc/gaowang/users/xc2270/colocboost/pipeline/sumstat/AD_Bellenguez_2022.sumstats.tsv.gz',\n",
    "                      '/mnt/jast/hpc/gaowang/users/xc2270/colocboost/pipeline/sumstat/Kunkle_etal_Stage1_results.txt_file_1_hg38.sorted.txt.gz',\n",
    "                      '/mnt/jast/hpc/gaowang/users/xc2270/colocboost/pipeline/sumstat/PGCALZ2full.hg38.sorted.txt.gz',\n",
    "                      '/mnt/jast/hpc/gaowang/users/xc2270/colocboost/pipeline/sumstat/PGCALZ2sumstatsExcluding23andMe.hg38.sorted.txt.gz',\n",
    "                      '/mnt/jast/hpc/gaowang/users/xc2270/colocboost/pipeline/sumstat/PGCALZ2ExcludingUKBand23andME_METALInverseVariance_MetaAnalysis.hg38.sorted.txt.gz',\n",
    "                      '/mnt/jast/hpc/gaowang/users/xc2270/colocboost/pipeline/sumstat/EADB_core.tsv.gz')\n",
    "column_file_path_list = c('/home/xc2270/COLOCBoost/pipeline/Bellenguez_new.yml',\n",
    "                          '/mnt/vast/hpc/csg/data_public/GWAS_sumstats/GWAS_sumstat_column_mapping/Kunkle_stage_1.yml',\n",
    "                          '/mnt/vast/hpc/csg/data_public/GWAS_sumstats/GWAS_sumstat_column_mapping/AD_Wightman_Full_2021.yml',\n",
    "                          '/mnt/vast/hpc/csg/data_public/GWAS_sumstats/GWAS_sumstat_column_mapping/AD_Wightman_Excluding23andMe_2021.yml',\n",
    "                          '/mnt/vast/hpc/csg/data_public/GWAS_sumstats/GWAS_sumstat_column_mapping/AD_Wightman_ExcludingUKBand23andME_2021.yml',\n",
    "                          '/mnt/vast/hpc/csg/data_public/GWAS_sumstats/GWAS_sumstat_column_mapping/EADB.yml')\n",
    "# Replace _regions with _meta_info[1] which is the association window region\n",
    "n_samples = c('0','0','0','0','0','0') %>% as.numeric\n",
    "n_cases = c('111326','21982','90338','86531','39918','20301') %>% as.numeric\n",
    "n_controls = c('677663','41944','1036225','676386','358140','21839') %>% as.numeric\n",
    "\n",
    "gwas_meta <- data.frame(\n",
    "    \"study_id\" = studies,\n",
    "    \"file_path\" = sumstat_path_list,\n",
    "    \"column_mapping_file\" = column_file_path_list,\n",
    "    \"n_sample\" = n_samples,\n",
    "    \"n_case\" = n_cases,\n",
    "    \"n_control\" = n_controls\n",
    ")"
   ]
  },
  {
   "cell_type": "markdown",
   "id": "0614c259-fd68-46ec-887a-2b5a02540068",
   "metadata": {},
   "source": [
    "## Analysis in a larger region - EADB for reproducible analysis"
   ]
  },
  {
   "cell_type": "code",
   "execution_count": 7,
   "id": "3d1a90fc-da53-49b5-989b-df24ca7634f9",
   "metadata": {
    "tags": []
   },
   "outputs": [
    {
     "name": "stderr",
     "output_type": "stream",
     "text": [
      "\u001b[1mRows: \u001b[22m\u001b[34m1\u001b[39m \u001b[1mColumns: \u001b[22m\u001b[34m4\u001b[39m\n",
      "\u001b[36m──\u001b[39m \u001b[1mColumn specification\u001b[22m \u001b[36m────────────────────────────────────────────────────────\u001b[39m\n",
      "\u001b[1mDelimiter:\u001b[22m \"\\t\"\n",
      "\u001b[31mchr\u001b[39m (2): #chrom, path\n",
      "\u001b[32mdbl\u001b[39m (2): start, end\n",
      "\n",
      "\u001b[36mℹ\u001b[39m Use `spec()` to retrieve the full column specification for this data.\n",
      "\u001b[36mℹ\u001b[39m Specify the column types or set `show_col_types = FALSE` to quiet this message.\n"
     ]
    }
   ],
   "source": [
    "ldblock<-load_LD_matrix('/mnt/jast/hpc/gaowang/users/xc2270/transQTL/APOE/in_Iris/ld_meta_file_apoe.tsv',\n",
    "                         region = data.frame(chr='chr19', start=42346101, end=46842901))"
   ]
  },
  {
   "cell_type": "code",
   "execution_count": 8,
   "id": "6edd1114-4017-4e3f-b23d-3e5730ce4c85",
   "metadata": {
    "tags": []
   },
   "outputs": [],
   "source": [
    "impute_opts=list(rcond = 0.01, R2_threshold = 0.6, minimum_ld = 5, lamb = 0.01)\n",
    "qc_method='rss_qc'\n",
    "association_window = \"chr19:42346101-46842901\"\n",
    "sumstats_region_name_col = NULL\n",
    "comment_string = NULL\n",
    "extract_sumstats_region_name = NULL"
   ]
  },
  {
   "cell_type": "code",
   "execution_count": 10,
   "id": "ba0f3c11-1548-4bda-b25c-0b89e19e2149",
   "metadata": {
    "tags": []
   },
   "outputs": [
    {
     "name": "stderr",
     "output_type": "stream",
     "text": [
      "AD_Bellenguez_EADB\n",
      "\n"
     ]
    }
   ],
   "source": [
    "gwas = gwas_meta$study_id[6]\n",
    "sumstat_path=gwas_meta %>% filter(study_id==gwas) %>% pull(file_path)\n",
    "column_file_path=gwas_meta %>% filter(study_id==gwas) %>% pull(column_mapping_file)\n",
    "n_sample=gwas_meta %>% filter(study_id==gwas) %>% pull(n_sample)\n",
    "n_case=gwas_meta %>% filter(study_id==gwas) %>% pull(n_case)\n",
    "n_control=gwas_meta %>% filter(study_id==gwas) %>% pull(n_control)\n",
    "message(gwas)"
   ]
  },
  {
   "cell_type": "code",
   "execution_count": 11,
   "id": "ac628087-592d-43f5-9cdd-4d49a969080a",
   "metadata": {
    "tags": []
   },
   "outputs": [
    {
     "name": "stderr",
     "output_type": "stream",
     "text": [
      "Taking input= as a system command because it contains a space ('zcat /mnt/jast/hpc/gaowang/users/xc2270/colocboost/pipeline/sumstat/EADB_core.tsv.gz | head -1 && tabix /mnt/jast/hpc/gaowang/users/xc2270/colocboost/pipeline/sumstat/EADB_core.tsv.gz 19:42346101-46842901'). If it's a filename please remove the space, or use file= explicitly. A variable is being passed to input= and when this is taken as a system command there is a security concern if you are creating an app, the app could have a malicious user, and the app is not running in a secure environment; e.g. the app is running as root. Please read item 5 in the NEWS file for v1.11.6 for more information and for the option to suppress this message.\n",
      "\n",
      "Region chr19:42346101-46842901 include 36770 in input sumstats.\n",
      "\n",
      "42140\n",
      "\n"
     ]
    },
    {
     "data": {
      "text/html": [
       "63.7703009697287"
      ],
      "text/latex": [
       "63.7703009697287"
      ],
      "text/markdown": [
       "63.7703009697287"
      ],
      "text/plain": [
       "[1] 63.7703"
      ]
     },
     "metadata": {},
     "output_type": "display_data"
    }
   ],
   "source": [
    "sumstat_path=gwas_meta %>% filter(study_id==gwas) %>% pull(file_path)\n",
    "column_file_path=gwas_meta %>% filter(study_id==gwas) %>% pull(column_mapping_file)\n",
    "n_sample=gwas_meta %>% filter(study_id==gwas) %>% pull(n_sample)\n",
    "n_case=gwas_meta %>% filter(study_id==gwas) %>% pull(n_case)\n",
    "n_control=gwas_meta %>% filter(study_id==gwas) %>% pull(n_control)\n",
    "\n",
    "#get summstats\n",
    "rss_input <- load_rss_data(\n",
    "  sumstat_path = sumstat_path, column_file_path = column_file_path,\n",
    "  n_sample = n_sample, n_case = n_case, n_control = n_control,\n",
    "  region = association_window\n",
    ")\n",
    "message(rss_input$n)\n",
    "# Preprocess the input data\n",
    "preprocess_results <- rss_basic_qc(rss_input$sumstats, ldblock)\n",
    "\n",
    "#if zscore =Inf, transform as the max value\n",
    "max(preprocess_results$sumstats$z[!is.infinite(preprocess_results$sumstats$z)])\n",
    "if(any(is.infinite(preprocess_results$sumstats$z))){\n",
    "message(sum(is.infinite(preprocess_results$sumstats$z)),' variants have infinite zscore, exclude them')\n",
    "preprocess_results$sumstats<-preprocess_results$sumstats[!is.infinite(preprocess_results$sumstats$z),]\n",
    "preprocess_results$LD_mat=preprocess_results$LD_mat[preprocess_results$sumstats$variant_id,preprocess_results$sumstats$variant_id]\n",
    "}\n",
    "\n",
    "# Perform Slalom quality control\n",
    "qc_results <- summary_stats_qc(preprocess_results$sumstats, list(combined_LD_matrix=preprocess_results$LD_mat), n = rss_input$n,\n",
    "                             var_y = rss_input$var_y,\n",
    "                             method = qc_method)"
   ]
  },
  {
   "cell_type": "code",
   "execution_count": 13,
   "id": "0cac89dd-f708-4e53-8aaf-4d61837925e6",
   "metadata": {
    "tags": []
   },
   "outputs": [
    {
     "data": {
      "text/html": [
       "<style>\n",
       ".list-inline {list-style: none; margin:0; padding: 0}\n",
       ".list-inline>li {display: inline-block}\n",
       ".list-inline>li:not(:last-child)::after {content: \"\\00b7\"; padding: 0 .5ex}\n",
       "</style>\n",
       "<ol class=list-inline><li>12239</li><li>12240</li><li>12242</li><li>12247</li><li>12253</li><li>12260</li></ol>\n"
      ],
      "text/latex": [
       "\\begin{enumerate*}\n",
       "\\item 12239\n",
       "\\item 12240\n",
       "\\item 12242\n",
       "\\item 12247\n",
       "\\item 12253\n",
       "\\item 12260\n",
       "\\end{enumerate*}\n"
      ],
      "text/markdown": [
       "1. 12239\n",
       "2. 12240\n",
       "3. 12242\n",
       "4. 12247\n",
       "5. 12253\n",
       "6. 12260\n",
       "\n",
       "\n"
      ],
      "text/plain": [
       "[1] 12239 12240 12242 12247 12253 12260"
      ]
     },
     "metadata": {},
     "output_type": "display_data"
    }
   ],
   "source": [
    "pp_cos <- which( paste0(\"chr\", preprocess_results$sumstats$variant_id) %in% variants )\n",
    "pp_cos %>% head"
   ]
  },
  {
   "cell_type": "code",
   "execution_count": 14,
   "id": "4b496b87-4db2-4a71-934f-04f7a36fcd57",
   "metadata": {
    "tags": []
   },
   "outputs": [
    {
     "name": "stderr",
     "output_type": "stream",
     "text": [
      "Processing single LD matrix...\n",
      "\n",
      "IMPUTATION REPORT\n",
      "\n",
      "\n",
      "Variants before filter:                    4166\n",
      "\n",
      "Non-imputed variants:                      0\n",
      "\n",
      "Imputed variants:                          4166\n",
      "\n",
      "Variants filtered because of low LD score: 785\n",
      "\n",
      "Variants filtered because of low R2:       1800\n",
      "\n",
      "Remaining variants after filter:           2366\n",
      "\n"
     ]
    }
   ],
   "source": [
    "# pp_cos <- which( qc_results$sumstats$variant_alternate_id %in% cos_idx )\n",
    "sumstats_obs <- qc_results$sumstats[pp_cos, ]\n",
    "qc_results$sumstats <- qc_results$sumstats[-pp_cos, ]\n",
    "impute_results <- raiss(ldblock$ref_panel, qc_results$sumstats, ldblock$combined_LD_matrix,\n",
    "              rcond = impute_opts$rcond,\n",
    "              R2_threshold = impute_opts$R2_threshold,\n",
    "              minimum_ld = impute_opts$minimum_ld, lamb = impute_opts$lamb)\n",
    "ll <- list(summstats=data.table(impute_results$result_filter),\n",
    "           sumstats_obs = sumstats_obs,\n",
    "           outlier_number=qc_results$outlier_number)"
   ]
  },
  {
   "cell_type": "code",
   "execution_count": 15,
   "id": "aea949ca-ab8e-4958-9d6b-765cd8ec52ac",
   "metadata": {
    "tags": []
   },
   "outputs": [
    {
     "data": {
      "text/html": [
       "<style>\n",
       ".list-inline {list-style: none; margin:0; padding: 0}\n",
       ".list-inline>li {display: inline-block}\n",
       ".list-inline>li:not(:last-child)::after {content: \"\\00b7\"; padding: 0 .5ex}\n",
       "</style>\n",
       "<ol class=list-inline><li>42</li><li>3</li></ol>\n"
      ],
      "text/latex": [
       "\\begin{enumerate*}\n",
       "\\item 42\n",
       "\\item 3\n",
       "\\end{enumerate*}\n"
      ],
      "text/markdown": [
       "1. 42\n",
       "2. 3\n",
       "\n",
       "\n"
      ],
      "text/plain": [
       "[1] 42  3"
      ]
     },
     "metadata": {},
     "output_type": "display_data"
    },
    {
     "data": {
      "text/html": [
       "<table class=\"dataframe\">\n",
       "<caption>A data.frame: 6 × 3</caption>\n",
       "<thead>\n",
       "\t<tr><th></th><th scope=col>variant_id</th><th scope=col>z_imp</th><th scope=col>z_original</th></tr>\n",
       "\t<tr><th></th><th scope=col>&lt;chr&gt;</th><th scope=col>&lt;dbl&gt;</th><th scope=col>&lt;dbl&gt;</th></tr>\n",
       "</thead>\n",
       "<tbody>\n",
       "\t<tr><th scope=row>19:44939092:T:C</th><td>19:44939092:T:C</td><td>9.730234</td><td>9.361135</td></tr>\n",
       "\t<tr><th scope=row>19:44939831:G:C</th><td>19:44939831:G:C</td><td>9.749849</td><td>9.337308</td></tr>\n",
       "\t<tr><th scope=row>19:44940247:A:G</th><td>19:44940247:A:G</td><td>9.552911</td><td>9.281704</td></tr>\n",
       "\t<tr><th scope=row>19:44941309:G:T</th><td>19:44941309:G:T</td><td>9.536545</td><td>9.277907</td></tr>\n",
       "\t<tr><th scope=row>19:44943014:C:T</th><td>19:44943014:C:T</td><td>9.491535</td><td>9.180963</td></tr>\n",
       "\t<tr><th scope=row>19:44945208:T:G</th><td>19:44945208:T:G</td><td>9.576777</td><td>9.652020</td></tr>\n",
       "</tbody>\n",
       "</table>\n"
      ],
      "text/latex": [
       "A data.frame: 6 × 3\n",
       "\\begin{tabular}{r|lll}\n",
       "  & variant\\_id & z\\_imp & z\\_original\\\\\n",
       "  & <chr> & <dbl> & <dbl>\\\\\n",
       "\\hline\n",
       "\t19:44939092:T:C & 19:44939092:T:C & 9.730234 & 9.361135\\\\\n",
       "\t19:44939831:G:C & 19:44939831:G:C & 9.749849 & 9.337308\\\\\n",
       "\t19:44940247:A:G & 19:44940247:A:G & 9.552911 & 9.281704\\\\\n",
       "\t19:44941309:G:T & 19:44941309:G:T & 9.536545 & 9.277907\\\\\n",
       "\t19:44943014:C:T & 19:44943014:C:T & 9.491535 & 9.180963\\\\\n",
       "\t19:44945208:T:G & 19:44945208:T:G & 9.576777 & 9.652020\\\\\n",
       "\\end{tabular}\n"
      ],
      "text/markdown": [
       "\n",
       "A data.frame: 6 × 3\n",
       "\n",
       "| <!--/--> | variant_id &lt;chr&gt; | z_imp &lt;dbl&gt; | z_original &lt;dbl&gt; |\n",
       "|---|---|---|---|\n",
       "| 19:44939092:T:C | 19:44939092:T:C | 9.730234 | 9.361135 |\n",
       "| 19:44939831:G:C | 19:44939831:G:C | 9.749849 | 9.337308 |\n",
       "| 19:44940247:A:G | 19:44940247:A:G | 9.552911 | 9.281704 |\n",
       "| 19:44941309:G:T | 19:44941309:G:T | 9.536545 | 9.277907 |\n",
       "| 19:44943014:C:T | 19:44943014:C:T | 9.491535 | 9.180963 |\n",
       "| 19:44945208:T:G | 19:44945208:T:G | 9.576777 | 9.652020 |\n",
       "\n"
      ],
      "text/plain": [
       "                variant_id      z_imp    z_original\n",
       "19:44939092:T:C 19:44939092:T:C 9.730234 9.361135  \n",
       "19:44939831:G:C 19:44939831:G:C 9.749849 9.337308  \n",
       "19:44940247:A:G 19:44940247:A:G 9.552911 9.281704  \n",
       "19:44941309:G:T 19:44941309:G:T 9.536545 9.277907  \n",
       "19:44943014:C:T 19:44943014:C:T 9.491535 9.180963  \n",
       "19:44945208:T:G 19:44945208:T:G 9.576777 9.652020  "
      ]
     },
     "metadata": {},
     "output_type": "display_data"
    }
   ],
   "source": [
    "z_imp <- impute_results$result_filter %>% filter(paste0(\"chr\", variant_id) %in% variants ) %>% pull(z)\n",
    "names(z_imp) <- impute_results$result_filter %>% filter(paste0(\"chr\", variant_id) %in% variants) %>% pull(variant_id)\n",
    "z_original <- sumstats_obs %>% pull(z)\n",
    "names(z_original) <- sumstats_obs %>% pull(variant_id)\n",
    "ov <- intersect(names(z_imp), names(z_original))\n",
    "imp_data <- data.frame(\n",
    "    variant_id = ov,\n",
    "    z_imp = z_imp[match(ov, names(z_imp))],\n",
    "    z_original = z_original[match(ov, names(z_original))]\n",
    ")\n",
    "imp_data %>% dim\n",
    "imp_data %>% head"
   ]
  },
  {
   "cell_type": "code",
   "execution_count": 16,
   "id": "4934505e-318d-4d0d-adce-9a7b68d1ec01",
   "metadata": {
    "tags": []
   },
   "outputs": [
    {
     "data": {
      "image/png": "[encoded data removed]",
      "text/plain": [
       "plot without title"
      ]
     },
     "metadata": {
      "image/png": {
       "height": 420,
       "width": 420
      }
     },
     "output_type": "display_data"
    }
   ],
   "source": [
    "plot(imp_data$z_imp, imp_data$z_original)"
   ]
  },
  {
   "cell_type": "code",
   "execution_count": 24,
   "id": "51a46926-e311-46c8-ab52-8003bcca7333",
   "metadata": {
    "tags": []
   },
   "outputs": [
    {
     "data": {
      "text/html": [
       "TRUE"
      ],
      "text/latex": [
       "TRUE"
      ],
      "text/markdown": [
       "TRUE"
      ],
      "text/plain": [
       "[1] TRUE"
      ]
     },
     "metadata": {},
     "output_type": "display_data"
    },
    {
     "data": {
      "text/html": [
       "<table class=\"dataframe\">\n",
       "<caption>A data.frame: 1 × 3</caption>\n",
       "<thead>\n",
       "\t<tr><th></th><th scope=col>variant_id</th><th scope=col>z_imp</th><th scope=col>z_original</th></tr>\n",
       "\t<tr><th></th><th scope=col>&lt;chr&gt;</th><th scope=col>&lt;dbl&gt;</th><th scope=col>&lt;dbl&gt;</th></tr>\n",
       "</thead>\n",
       "<tbody>\n",
       "\t<tr><th scope=row>19:44945208:T:G</th><td>19:44945208:T:G</td><td>9.576777</td><td>9.65202</td></tr>\n",
       "</tbody>\n",
       "</table>\n"
      ],
      "text/latex": [
       "A data.frame: 1 × 3\n",
       "\\begin{tabular}{r|lll}\n",
       "  & variant\\_id & z\\_imp & z\\_original\\\\\n",
       "  & <chr> & <dbl> & <dbl>\\\\\n",
       "\\hline\n",
       "\t19:44945208:T:G & 19:44945208:T:G & 9.576777 & 9.65202\\\\\n",
       "\\end{tabular}\n"
      ],
      "text/markdown": [
       "\n",
       "A data.frame: 1 × 3\n",
       "\n",
       "| <!--/--> | variant_id &lt;chr&gt; | z_imp &lt;dbl&gt; | z_original &lt;dbl&gt; |\n",
       "|---|---|---|---|\n",
       "| 19:44945208:T:G | 19:44945208:T:G | 9.576777 | 9.65202 |\n",
       "\n"
      ],
      "text/plain": [
       "                variant_id      z_imp    z_original\n",
       "19:44945208:T:G 19:44945208:T:G 9.576777 9.65202   "
      ]
     },
     "metadata": {},
     "output_type": "display_data"
    }
   ],
   "source": [
    "'19:44945208:T:G' %in% ov\n",
    "imp_data %>% filter(variant_id == '19:44945208:T:G')"
   ]
  },
  {
   "cell_type": "markdown",
   "id": "a8dbb899-c8f7-45d1-b4f5-10faed86432e",
   "metadata": {},
   "source": [
    "## Analysis under +- 50kb region"
   ]
  },
  {
   "cell_type": "code",
   "execution_count": 26,
   "id": "f43430f3-c8d7-4c44-b2c4-fd9aac978234",
   "metadata": {
    "tags": []
   },
   "outputs": [
    {
     "data": {
      "text/html": [
       "'chr19:44855791-44959393'"
      ],
      "text/latex": [
       "'chr19:44855791-44959393'"
      ],
      "text/markdown": [
       "'chr19:44855791-44959393'"
      ],
      "text/plain": [
       "[1] \"chr19:44855791-44959393\""
      ]
     },
     "metadata": {},
     "output_type": "display_data"
    }
   ],
   "source": [
    "start.reg=44905791-50000\n",
    "end.reg=44909393+50000\n",
    "reg=paste('chr19',start.reg,end.reg,sep='-')\n",
    "association_window = paste0(\"chr19:\", start.reg, \"-\", end.reg)\n",
    "association_window"
   ]
  },
  {
   "cell_type": "code",
   "execution_count": 27,
   "id": "e06e6a52-063f-47f2-8252-843d3a22f9a8",
   "metadata": {
    "tags": []
   },
   "outputs": [
    {
     "name": "stderr",
     "output_type": "stream",
     "text": [
      "Taking input= as a system command because it contains a space ('zcat /mnt/jast/hpc/gaowang/users/xc2270/colocboost/pipeline/sumstat/EADB_core.tsv.gz | head -1 && tabix /mnt/jast/hpc/gaowang/users/xc2270/colocboost/pipeline/sumstat/EADB_core.tsv.gz 19:44855791-44959393'). If it's a filename please remove the space, or use file= explicitly. A variable is being passed to input= and when this is taken as a system command there is a security concern if you are creating an app, the app could have a malicious user, and the app is not running in a secure environment; e.g. the app is running as root. Please read item 5 in the NEWS file for v1.11.6 for more information and for the option to suppress this message.\n",
      "\n",
      "Region chr19:44855791-44959393 include 917 in input sumstats.\n",
      "\n",
      "42140\n",
      "\n"
     ]
    },
    {
     "data": {
      "text/html": [
       "63.7703009697287"
      ],
      "text/latex": [
       "63.7703009697287"
      ],
      "text/markdown": [
       "63.7703009697287"
      ],
      "text/plain": [
       "[1] 63.7703"
      ]
     },
     "metadata": {},
     "output_type": "display_data"
    }
   ],
   "source": [
    "#get summstats\n",
    "rss_input <- load_rss_data(\n",
    "  sumstat_path = sumstat_path, column_file_path = column_file_path,\n",
    "  n_sample = n_sample, n_case = n_case, n_control = n_control,\n",
    "  region = association_window\n",
    ")\n",
    "message(rss_input$n)\n",
    "# Preprocess the input data\n",
    "preprocess_results <- rss_basic_qc(rss_input$sumstats, ldblock)\n",
    "\n",
    "#if zscore =Inf, transform as the max value\n",
    "max(preprocess_results$sumstats$z[!is.infinite(preprocess_results$sumstats$z)])\n",
    "if(any(is.infinite(preprocess_results$sumstats$z))){\n",
    "message(sum(is.infinite(preprocess_results$sumstats$z)),' variants have infinite zscore, exclude them')\n",
    "preprocess_results$sumstats<-preprocess_results$sumstats[!is.infinite(preprocess_results$sumstats$z),]\n",
    "preprocess_results$LD_mat=preprocess_results$LD_mat[preprocess_results$sumstats$variant_id,preprocess_results$sumstats$variant_id]\n",
    "}\n",
    "\n",
    "# Perform Slalom quality control\n",
    "qc_results <- summary_stats_qc(preprocess_results$sumstats, list(combined_LD_matrix=preprocess_results$LD_mat), n = rss_input$n,\n",
    "                             var_y = rss_input$var_y,\n",
    "                             method = qc_method)"
   ]
  },
  {
   "cell_type": "code",
   "execution_count": 28,
   "id": "7f97991d-84be-46ff-a120-77d1705a42bb",
   "metadata": {
    "tags": []
   },
   "outputs": [
    {
     "data": {
      "text/html": [
       "<style>\n",
       ".list-inline {list-style: none; margin:0; padding: 0}\n",
       ".list-inline>li {display: inline-block}\n",
       ".list-inline>li:not(:last-child)::after {content: \"\\00b7\"; padding: 0 .5ex}\n",
       "</style>\n",
       "<ol class=list-inline><li>383</li><li>384</li><li>386</li><li>391</li><li>397</li><li>404</li></ol>\n"
      ],
      "text/latex": [
       "\\begin{enumerate*}\n",
       "\\item 383\n",
       "\\item 384\n",
       "\\item 386\n",
       "\\item 391\n",
       "\\item 397\n",
       "\\item 404\n",
       "\\end{enumerate*}\n"
      ],
      "text/markdown": [
       "1. 383\n",
       "2. 384\n",
       "3. 386\n",
       "4. 391\n",
       "5. 397\n",
       "6. 404\n",
       "\n",
       "\n"
      ],
      "text/plain": [
       "[1] 383 384 386 391 397 404"
      ]
     },
     "metadata": {},
     "output_type": "display_data"
    }
   ],
   "source": [
    "pp_cos <- which( paste0(\"chr\", preprocess_results$sumstats$variant_id) %in% variants )\n",
    "pp_cos %>% head"
   ]
  },
  {
   "cell_type": "code",
   "execution_count": 29,
   "id": "e8f0b237-f5b1-4af4-99c1-dabf66ad0f2c",
   "metadata": {
    "tags": []
   },
   "outputs": [
    {
     "name": "stderr",
     "output_type": "stream",
     "text": [
      "Processing single LD matrix...\n",
      "\n",
      "IMPUTATION REPORT\n",
      "\n",
      "\n",
      "Variants before filter:                    23974\n",
      "\n",
      "Non-imputed variants:                      0\n",
      "\n",
      "Imputed variants:                          23974\n",
      "\n",
      "Variants filtered because of low LD score: 23758\n",
      "\n",
      "Variants filtered because of low R2:       23662\n",
      "\n",
      "Remaining variants after filter:           210\n",
      "\n"
     ]
    }
   ],
   "source": [
    "# pp_cos <- which( qc_results$sumstats$variant_alternate_id %in% cos_idx )\n",
    "sumstats_obs <- qc_results$sumstats[pp_cos, ]\n",
    "qc_results$sumstats <- qc_results$sumstats[-pp_cos, ]\n",
    "impute_results <- raiss(ldblock$ref_panel, qc_results$sumstats, ldblock$combined_LD_matrix,\n",
    "              rcond = impute_opts$rcond,\n",
    "              R2_threshold = impute_opts$R2_threshold,\n",
    "              minimum_ld = impute_opts$minimum_ld, lamb = impute_opts$lamb)\n",
    "ll <- list(summstats=data.table(impute_results$result_filter),\n",
    "           sumstats_obs = sumstats_obs,\n",
    "           outlier_number=qc_results$outlier_number)"
   ]
  },
  {
   "cell_type": "code",
   "execution_count": 30,
   "id": "4095b61a-7592-44af-a796-0efeef842c02",
   "metadata": {
    "tags": []
   },
   "outputs": [
    {
     "data": {
      "text/html": [
       "<style>\n",
       ".list-inline {list-style: none; margin:0; padding: 0}\n",
       ".list-inline>li {display: inline-block}\n",
       ".list-inline>li:not(:last-child)::after {content: \"\\00b7\"; padding: 0 .5ex}\n",
       "</style>\n",
       "<ol class=list-inline><li>28</li><li>3</li></ol>\n"
      ],
      "text/latex": [
       "\\begin{enumerate*}\n",
       "\\item 28\n",
       "\\item 3\n",
       "\\end{enumerate*}\n"
      ],
      "text/markdown": [
       "1. 28\n",
       "2. 3\n",
       "\n",
       "\n"
      ],
      "text/plain": [
       "[1] 28  3"
      ]
     },
     "metadata": {},
     "output_type": "display_data"
    },
    {
     "data": {
      "text/html": [
       "<table class=\"dataframe\">\n",
       "<caption>A data.frame: 6 × 3</caption>\n",
       "<thead>\n",
       "\t<tr><th></th><th scope=col>variant_id</th><th scope=col>z_imp</th><th scope=col>z_original</th></tr>\n",
       "\t<tr><th></th><th scope=col>&lt;chr&gt;</th><th scope=col>&lt;dbl&gt;</th><th scope=col>&lt;dbl&gt;</th></tr>\n",
       "</thead>\n",
       "<tbody>\n",
       "\t<tr><th scope=row>19:44939092:T:C</th><td>19:44939092:T:C</td><td>9.764637</td><td>9.361135</td></tr>\n",
       "\t<tr><th scope=row>19:44939831:G:C</th><td>19:44939831:G:C</td><td>9.838674</td><td>9.337308</td></tr>\n",
       "\t<tr><th scope=row>19:44940247:A:G</th><td>19:44940247:A:G</td><td>9.751125</td><td>9.281704</td></tr>\n",
       "\t<tr><th scope=row>19:44941309:G:T</th><td>19:44941309:G:T</td><td>9.677477</td><td>9.277907</td></tr>\n",
       "\t<tr><th scope=row>19:44943014:C:T</th><td>19:44943014:C:T</td><td>9.707709</td><td>9.180963</td></tr>\n",
       "\t<tr><th scope=row>19:44945208:T:G</th><td>19:44945208:T:G</td><td>9.608020</td><td>9.652020</td></tr>\n",
       "</tbody>\n",
       "</table>\n"
      ],
      "text/latex": [
       "A data.frame: 6 × 3\n",
       "\\begin{tabular}{r|lll}\n",
       "  & variant\\_id & z\\_imp & z\\_original\\\\\n",
       "  & <chr> & <dbl> & <dbl>\\\\\n",
       "\\hline\n",
       "\t19:44939092:T:C & 19:44939092:T:C & 9.764637 & 9.361135\\\\\n",
       "\t19:44939831:G:C & 19:44939831:G:C & 9.838674 & 9.337308\\\\\n",
       "\t19:44940247:A:G & 19:44940247:A:G & 9.751125 & 9.281704\\\\\n",
       "\t19:44941309:G:T & 19:44941309:G:T & 9.677477 & 9.277907\\\\\n",
       "\t19:44943014:C:T & 19:44943014:C:T & 9.707709 & 9.180963\\\\\n",
       "\t19:44945208:T:G & 19:44945208:T:G & 9.608020 & 9.652020\\\\\n",
       "\\end{tabular}\n"
      ],
      "text/markdown": [
       "\n",
       "A data.frame: 6 × 3\n",
       "\n",
       "| <!--/--> | variant_id &lt;chr&gt; | z_imp &lt;dbl&gt; | z_original &lt;dbl&gt; |\n",
       "|---|---|---|---|\n",
       "| 19:44939092:T:C | 19:44939092:T:C | 9.764637 | 9.361135 |\n",
       "| 19:44939831:G:C | 19:44939831:G:C | 9.838674 | 9.337308 |\n",
       "| 19:44940247:A:G | 19:44940247:A:G | 9.751125 | 9.281704 |\n",
       "| 19:44941309:G:T | 19:44941309:G:T | 9.677477 | 9.277907 |\n",
       "| 19:44943014:C:T | 19:44943014:C:T | 9.707709 | 9.180963 |\n",
       "| 19:44945208:T:G | 19:44945208:T:G | 9.608020 | 9.652020 |\n",
       "\n"
      ],
      "text/plain": [
       "                variant_id      z_imp    z_original\n",
       "19:44939092:T:C 19:44939092:T:C 9.764637 9.361135  \n",
       "19:44939831:G:C 19:44939831:G:C 9.838674 9.337308  \n",
       "19:44940247:A:G 19:44940247:A:G 9.751125 9.281704  \n",
       "19:44941309:G:T 19:44941309:G:T 9.677477 9.277907  \n",
       "19:44943014:C:T 19:44943014:C:T 9.707709 9.180963  \n",
       "19:44945208:T:G 19:44945208:T:G 9.608020 9.652020  "
      ]
     },
     "metadata": {},
     "output_type": "display_data"
    }
   ],
   "source": [
    "z_imp <- impute_results$result_filter %>% filter(paste0(\"chr\", variant_id) %in% variants ) %>% pull(z)\n",
    "names(z_imp) <- impute_results$result_filter %>% filter(paste0(\"chr\", variant_id) %in% variants) %>% pull(variant_id)\n",
    "z_original <- sumstats_obs %>% pull(z)\n",
    "names(z_original) <- sumstats_obs %>% pull(variant_id)\n",
    "ov <- intersect(names(z_imp), names(z_original))\n",
    "imp_data <- data.frame(\n",
    "    variant_id = ov,\n",
    "    z_imp = z_imp[match(ov, names(z_imp))],\n",
    "    z_original = z_original[match(ov, names(z_original))]\n",
    ")\n",
    "imp_data %>% dim\n",
    "imp_data %>% head"
   ]
  },
  {
   "cell_type": "code",
   "execution_count": 31,
   "id": "f4cd3106-dde5-4ba2-98ae-3c71e3eeab30",
   "metadata": {
    "tags": []
   },
   "outputs": [
    {
     "data": {
      "image/png": "[encoded data removed]",
      "text/plain": [
       "plot without title"
      ]
     },
     "metadata": {
      "image/png": {
       "height": 420,
       "width": 420
      }
     },
     "output_type": "display_data"
    }
   ],
   "source": [
    "plot(imp_data$z_imp, imp_data$z_original)"
   ]
  },
  {
   "cell_type": "code",
   "execution_count": 32,
   "id": "c25a8973-b774-4c73-a1c9-7c24940369a2",
   "metadata": {
    "tags": []
   },
   "outputs": [
    {
     "data": {
      "text/html": [
       "TRUE"
      ],
      "text/latex": [
       "TRUE"
      ],
      "text/markdown": [
       "TRUE"
      ],
      "text/plain": [
       "[1] TRUE"
      ]
     },
     "metadata": {},
     "output_type": "display_data"
    },
    {
     "data": {
      "text/html": [
       "<table class=\"dataframe\">\n",
       "<caption>A data.frame: 1 × 3</caption>\n",
       "<thead>\n",
       "\t<tr><th></th><th scope=col>variant_id</th><th scope=col>z_imp</th><th scope=col>z_original</th></tr>\n",
       "\t<tr><th></th><th scope=col>&lt;chr&gt;</th><th scope=col>&lt;dbl&gt;</th><th scope=col>&lt;dbl&gt;</th></tr>\n",
       "</thead>\n",
       "<tbody>\n",
       "\t<tr><th scope=row>19:44945208:T:G</th><td>19:44945208:T:G</td><td>9.60802</td><td>9.65202</td></tr>\n",
       "</tbody>\n",
       "</table>\n"
      ],
      "text/latex": [
       "A data.frame: 1 × 3\n",
       "\\begin{tabular}{r|lll}\n",
       "  & variant\\_id & z\\_imp & z\\_original\\\\\n",
       "  & <chr> & <dbl> & <dbl>\\\\\n",
       "\\hline\n",
       "\t19:44945208:T:G & 19:44945208:T:G & 9.60802 & 9.65202\\\\\n",
       "\\end{tabular}\n"
      ],
      "text/markdown": [
       "\n",
       "A data.frame: 1 × 3\n",
       "\n",
       "| <!--/--> | variant_id &lt;chr&gt; | z_imp &lt;dbl&gt; | z_original &lt;dbl&gt; |\n",
       "|---|---|---|---|\n",
       "| 19:44945208:T:G | 19:44945208:T:G | 9.60802 | 9.65202 |\n",
       "\n"
      ],
      "text/plain": [
       "                variant_id      z_imp   z_original\n",
       "19:44945208:T:G 19:44945208:T:G 9.60802 9.65202   "
      ]
     },
     "metadata": {},
     "output_type": "display_data"
    }
   ],
   "source": [
    "'19:44945208:T:G' %in% ov\n",
    "imp_data %>% filter(variant_id == '19:44945208:T:G')"
   ]
  },
  {
   "cell_type": "code",
   "execution_count": null,
   "id": "35832798-7d02-4acc-a562-f8c9e201b494",
   "metadata": {},
   "outputs": [],
   "source": []
  }
 ],
 "metadata": {
  "kernelspec": {
   "display_name": "R",
   "language": "R",
   "name": "ir"
  },
  "language_info": {
   "codemirror_mode": "r",
   "file_extension": ".r",
   "mimetype": "text/x-r-source",
   "name": "R",
   "pygments_lexer": "r",
   "version": "4.4.3"
  }
 },
 "nbformat": 4,
 "nbformat_minor": 5
}
