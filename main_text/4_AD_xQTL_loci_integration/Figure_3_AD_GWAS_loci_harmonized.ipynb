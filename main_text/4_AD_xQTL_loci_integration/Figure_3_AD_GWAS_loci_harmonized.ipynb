{
 "cells": [
  {
   "cell_type": "markdown",
   "id": "notebook-title",
   "metadata": {},
   "source": [
    "# AD GWAS loci harmonization and refinement"
   ]
  },
  {
   "cell_type": "markdown",
   "id": "author-header",
   "metadata": {},
   "source": [
    "**Author:** Jenny Empawi"
   ]
  },
  {
   "cell_type": "markdown",
   "id": "motivation-header",
   "metadata": {},
   "source": [
    "## Motivation"
   ]
  },
  {
   "cell_type": "markdown",
   "id": "methods-header",
   "metadata": {},
   "source": [
    "## Methods Overview"
   ]
  },
  {
   "cell_type": "markdown",
   "id": "conclusions-header",
   "metadata": {},
   "source": [
    "## Main Conclusions"
   ]
  },
  {
   "cell_type": "markdown",
   "id": "implementation-header",
   "metadata": {},
   "source": [
    "## Implementation"
   ]
  },
  {
   "cell_type": "markdown",
   "id": "expected-outcome-header",
   "metadata": {},
   "source": [
    "## Expected outcome"
   ]
  },
  {
   "cell_type": "markdown",
   "id": "expected-outcome-content",
   "metadata": {},
   "source": [
    "This analysis will generate an Upset plot that displays intersection patterns from fine-mapping results across different Alzheimer's disease meta-analysis GWAS cohorts. The visualization will help identify cross-cohort consistencies and differences by showing which fine-mapped variants are shared between cohorts and which are unique to specific studies, providing insights into the reproducibility and robustness of fine-mapping signals across different AD GWAS datasets."
   ]
  },
  {
   "cell_type": "markdown",
   "id": "rss-qc-header",
   "metadata": {},
   "source": [
    "### AD GWAS fine-mapping with RSS QC approach"
   ]
  },
  {
   "cell_type": "markdown",
   "id": "colocalization-header",
   "metadata": {},
   "source": [
    "### Post-QC AD GWAS colocalization"
   ]
  }
 ],
 "metadata": {
  "kernelspec": {
   "display_name": "R",
   "language": "R",
   "name": "ir"
  },
  "language_info": {
   "codemirror_mode": "r",
   "file_extension": ".r",
   "mimetype": "text/x-r-source",
   "name": "R",
   "pygments_lexer": "r",
   "version": "4.1.0"
  }
 },
 "nbformat": 4,
 "nbformat_minor": 5
}