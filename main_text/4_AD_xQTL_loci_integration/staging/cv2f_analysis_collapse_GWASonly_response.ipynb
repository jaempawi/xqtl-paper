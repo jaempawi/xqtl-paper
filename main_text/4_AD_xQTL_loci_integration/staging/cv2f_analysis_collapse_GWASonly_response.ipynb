{
 "cells": [
  {
   "cell_type": "markdown",
   "id": "e8f12e16-dedf-4ebf-8bcb-e7a512030c76",
   "metadata": {},
   "source": [
    "# FunGen xQTL cv2f analysis"
   ]
  },
  {
   "cell_type": "markdown",
   "id": "bf5f75d0-d087-474d-90f3-bca80028008b",
   "metadata": {},
   "source": [
    "This notebook documents the process of **cv2f analysis**, which includes the following key steps:\n",
    "\n",
    "Here the response would be GWAS signals only, and xQTL related information is in feature set. \n",
    "\n",
    "---\n",
    "\n",
    "**1. Preparing the Feature Sets**\n",
    "\n",
    "We aggregate the feature sets from the v2g project by Fabiha, where each row represents a SNP–gene pair. For cv2f, we remove the gene information to obtain SNP-level features. The steps are:\n",
    "\n",
    "- **Map variants to rsIDs** – Required for referencing minor allele frequencies (MAF).  \n",
    "- **Retain SNP-only entries** – Extract unique SNPs and aggregate their features by taking the **maximum value across rows**.\n",
    "- **Combine with cv2f feature sets**  - Keep **only** the variants that appear in the xQTL feature sets.\n",
    "- No aggreagtion among different contexts in this feature set. \n",
    "- `exon` feature was removed because cv2f drops the first four columns.. \n",
    "\n",
    "---\n",
    "\n",
    "**2. Generating Positive and Negative Sets for cv2f**\n",
    "\n",
    "**NOTE: We do not consider any xQTL dataset in those trainning datasets to avoid information linkage, no matter for positive or negative, and no matter from fine-mapping or colocalization**\n",
    "\n",
    "We evaluated different thresholds when defining the positive feature sets but ultimately reported results using the following criteria.  \n",
    "The threshold combinations we considered included:\n",
    "\n",
    "- **Fine-mapping thresholds**\n",
    "  - PIP > 0.9 with mappable CS size ≤ 3  \n",
    "  - PIP > 0.7 with mappable CS size ≤ 10  \n",
    "  - PIP > 0.6 with mappable CS size ≤ 10  \n",
    "  - PIP > 0.7 with no CS size restriction (all variants in CS)\n",
    "\n",
    "- **Colocalization from ColocBoost thresholds**\n",
    "  - VCP > 0.9 with mappable CoS size ≤ 3  \n",
    "  - VCP > 0.8 with mappable CoS size ≤ 10  \n",
    "  - VCP > 0.6 with mappable CoS size ≤ 10  \n",
    "  - VCP > 0.8 with no CoS size restriction (all variants in CoS)\n",
    "\n",
    "**(1) Positive Set**\n",
    "- Variants with **PIP > 0.7** in any **AD GWAS fine-mapping** analysis.  \n",
    "- All variants within the **95% credible sets (CS)** from AD GWAS.  \n",
    "- All variants within **CoS** and **uCoS** from **GWAS-only colocalization** results (no xQTL input).  \n",
    "\n",
    "> Note: The criterion *“Variants with VCP > 0.8 from GWAS-only colocalization results”* is effectively redundant,  \n",
    "> since including all variants within CoS and uCoS already encompasses all high-VCP variants from colocalization.\n",
    "\n",
    "**(2) Negative Set**  \n",
    "- Get **NON-NEGATIVE**: Identify variants from the 6 Alzheimer’s disease (AD) (no Jansen or Bellenguez_EDAI) contexts with **PIP > 0.025** (relaxed from the original 0.01 because of upstream finemapping analysis deafult), and those with **VCP > 0.01** from **GWAS-only colocalization**.  \n",
    "- From the feature set, **exclude** variants in these NON-NEGATIVE AD-related sets and the positive set to define the negative set.\n",
    "\n",
    "---\n",
    "\n",
    "**3. Submit Jobs for cv2f Analysis**\n",
    "\n",
    "The code is adapted from the [cv2f GitHub repository](https://github.com/Deylab999MSKCC/cv2f).\n",
    "\n",
    "Minimal debugging edits are adapted to original script. These changes were primarily to address:\n",
    "\n",
    "- Incorrect vector names  \n",
    "- Errors caused by inconsistent column numbers across feature sets (as noted in Section 1)  \n",
    "- Minor issues with file suffixes\n",
    "\n",
    "---\n",
    "\n",
    "**4. Visualization of Results**"
   ]
  },
  {
   "cell_type": "markdown",
   "id": "87868d90-f7ec-4699-a750-1acba6e096f3",
   "metadata": {},
   "source": [
    "## 1. Preparing the Feature Sets"
   ]
  },
  {
   "cell_type": "markdown",
   "id": "44cd732e-5da0-47ee-95e4-4b3384833015",
   "metadata": {},
   "source": [
    "### reformat the feature sets\n",
    "from Fabiha's v2g project to v2f, following the below format"
   ]
  },
  {
   "cell_type": "markdown",
   "id": "4271915b-a885-4773-8505-09802a3474f8",
   "metadata": {},
   "source": [
    "```\n",
    "head baseline.13.txt|cut -f 1-10\n",
    "CHR\tBP\tSNP\tCM\tbase\tCoding_UCSC\tCoding_UCSC.flanking.500Conserved_LindbladToh\tConserved_LindbladToh.flanking.500\tCTCF_Hoffman\n",
    "13\t18445955\trs140871821\t0.0\t1\t0\t0\t0\t00\n",
    "13\t18446201\trs184229798\t0.0\t1\t0\t0\t0\t00\n",
    "13\t18446487\trs12018140\t0.0\t1\t0\t0\t0\t00\n",
    "13\t18446697\trs182776109\t0.0\t1\t0\t0\t0\t00\n",
    "13\t18446716\trs140166094\t0.0\t1\t0\t0\t0\t00\n",
    "13\t18446749\trs149988745\t0.0\t1\t0\t0\t0\t00\n",
    "13\t18446776\trs12017981\t0.0\t1\t0\t0\t0\t00\n",
    "13\t18446878\trs12381094\t0.0\t1\t0\t0\t0\t00\n",
    "13\t18446879\trs12381056\t0.0\t1\t0\t0\t0\t00\n",
    "```"
   ]
  },
  {
   "cell_type": "code",
   "execution_count": null,
   "id": "d253a22c-4c50-47c9-8284-78da49e39f54",
   "metadata": {},
   "outputs": [],
   "source": [
    "library(data.table)\n",
    "library(tidyverse)"
   ]
  },
  {
   "cell_type": "code",
   "execution_count": null,
   "id": "ae56a16f-5d43-460d-8c91-1ee1c82c40fc",
   "metadata": {},
   "outputs": [],
   "source": [
    "snp_ref_path <- '/lila/data/deyk/ftp_fgc_xqtl/references/00-All.variants.gz' #dnSNP database"
   ]
  },
  {
   "cell_type": "markdown",
   "id": "08ca8287-f2ee-4dcf-aa27-1de90dbc5eb9",
   "metadata": {},
   "source": [
    "### load feature set data\n",
    "I would use one chromosome to test the codes and prepare batch script and commands\n"
   ]
  },
  {
   "cell_type": "code",
   "execution_count": null,
   "id": "d373aa32-597b-4475-b577-4c7e9914671a",
   "metadata": {},
   "outputs": [],
   "source": [
    "chr=1"
   ]
  },
  {
   "cell_type": "code",
   "execution_count": 3,
   "id": "8bcf0bac-d50e-4b7b-bac5-d78868e6ee78",
   "metadata": {},
   "outputs": [],
   "source": [
    "file_path = paste0('/data/deyk/ftp_fgc_xqtl/v2f/xqtl_features/xqtl_features_v2g/xqtl_feat.',chr,'.txt.gz')"
   ]
  },
  {
   "cell_type": "code",
   "execution_count": 6,
   "id": "f6f47f30-f2c7-4584-9aa8-11c12e29c7c0",
   "metadata": {},
   "outputs": [],
   "source": [
    "feat_set <- fread(file_path)"
   ]
  },
  {
   "cell_type": "code",
   "execution_count": 65,
   "id": "0ae462f7-f174-4dfb-8455-27f4e7ae3375",
   "metadata": {},
   "outputs": [
    {
     "data": {
      "text/html": [
       "<table class=\"dataframe\">\n",
       "<caption>A data.table: 6 × 269</caption>\n",
       "<thead>\n",
       "\t<tr><th scope=col>s2g</th><th scope=col>snp</th><th scope=col>gene_id</th><th scope=col>snp_bp</th><th scope=col>exon</th><th scope=col>s_in_g</th><th scope=col>same_tad</th><th scope=col>proximal_tad</th><th scope=col>g_closest_tss</th><th scope=col>single_context.Inh_mega_eQTL.PIP</th><th scope=col>⋯</th><th scope=col>trans.MSBB_eQTL_BM10.weight</th><th scope=col>EpiRaction.EPIraction_Brain_Alzheimer_Control_thresholded_predictions_0.026</th><th scope=col>ABC_dpfc</th><th scope=col>EpiMap</th><th scope=col>Baseline_Predss.dist_to_tss</th><th scope=col>Baseline_Predss.nearest_expressed_gene</th><th scope=col>EpiRaction.EPIraction_Brain_Alzheimer_Disease_thresholded_predictions_0.026</th><th scope=col>EpiRaction.EPIraction_Brain_Alzheimer_Encode_thresholded_predictions_0.026</th><th scope=col>xqtl_only_colocboost_export_filtered_MSBB.VCP</th><th scope=col>xqtl_only_colocboost_export_filtered_ROSMAP.VCP</th></tr>\n",
       "\t<tr><th scope=col>&lt;chr&gt;</th><th scope=col>&lt;chr&gt;</th><th scope=col>&lt;chr&gt;</th><th scope=col>&lt;int&gt;</th><th scope=col>&lt;int&gt;</th><th scope=col>&lt;int&gt;</th><th scope=col>&lt;int&gt;</th><th scope=col>&lt;int&gt;</th><th scope=col>&lt;int&gt;</th><th scope=col>&lt;dbl&gt;</th><th scope=col>⋯</th><th scope=col>&lt;dbl&gt;</th><th scope=col>&lt;dbl&gt;</th><th scope=col>&lt;dbl&gt;</th><th scope=col>&lt;dbl&gt;</th><th scope=col>&lt;dbl&gt;</th><th scope=col>&lt;dbl&gt;</th><th scope=col>&lt;dbl&gt;</th><th scope=col>&lt;dbl&gt;</th><th scope=col>&lt;dbl&gt;</th><th scope=col>&lt;dbl&gt;</th></tr>\n",
       "</thead>\n",
       "<tbody>\n",
       "\t<tr><td>chr1:10000044_ENSG00000049239</td><td>chr1:10000044</td><td>ENSG00000049239</td><td>10000044</td><td>0</td><td>0</td><td>0</td><td>0</td><td>0</td><td>0</td><td>⋯</td><td>0</td><td>0</td><td>0</td><td>0</td><td>0</td><td>0</td><td>0</td><td>0</td><td>0</td><td>0</td></tr>\n",
       "\t<tr><td>chr1:10000044_ENSG00000054523</td><td>chr1:10000044</td><td>ENSG00000054523</td><td>10000044</td><td>0</td><td>0</td><td>1</td><td>1</td><td>0</td><td>0</td><td>⋯</td><td>0</td><td>0</td><td>0</td><td>0</td><td>0</td><td>0</td><td>0</td><td>0</td><td>0</td><td>0</td></tr>\n",
       "\t<tr><td>chr1:10000044_ENSG00000130939</td><td>chr1:10000044</td><td>ENSG00000130939</td><td>10000044</td><td>0</td><td>0</td><td>1</td><td>1</td><td>0</td><td>0</td><td>⋯</td><td>0</td><td>0</td><td>0</td><td>0</td><td>0</td><td>0</td><td>0</td><td>0</td><td>0</td><td>0</td></tr>\n",
       "\t<tr><td>chr1:10000044_ENSG00000130940</td><td>chr1:10000044</td><td>ENSG00000130940</td><td>10000044</td><td>0</td><td>0</td><td>0</td><td>0</td><td>0</td><td>0</td><td>⋯</td><td>0</td><td>0</td><td>0</td><td>0</td><td>0</td><td>0</td><td>0</td><td>0</td><td>0</td><td>0</td></tr>\n",
       "\t<tr><td>chr1:10000044_ENSG00000142583</td><td>chr1:10000044</td><td>ENSG00000142583</td><td>10000044</td><td>0</td><td>0</td><td>0</td><td>0</td><td>0</td><td>0</td><td>⋯</td><td>0</td><td>0</td><td>0</td><td>0</td><td>0</td><td>0</td><td>0</td><td>0</td><td>0</td><td>0</td></tr>\n",
       "\t<tr><td>chr1:10000044_ENSG00000142655</td><td>chr1:10000044</td><td>ENSG00000142655</td><td>10000044</td><td>0</td><td>0</td><td>1</td><td>1</td><td>0</td><td>0</td><td>⋯</td><td>0</td><td>0</td><td>0</td><td>0</td><td>0</td><td>0</td><td>0</td><td>0</td><td>0</td><td>0</td></tr>\n",
       "</tbody>\n",
       "</table>\n"
      ],
      "text/latex": [
       "A data.table: 6 × 269\n",
       "\\begin{tabular}{lllllllllllllllllllll}\n",
       " s2g & snp & gene\\_id & snp\\_bp & exon & s\\_in\\_g & same\\_tad & proximal\\_tad & g\\_closest\\_tss & single\\_context.Inh\\_mega\\_eQTL.PIP & ⋯ & trans.MSBB\\_eQTL\\_BM10.weight & EpiRaction.EPIraction\\_Brain\\_Alzheimer\\_Control\\_thresholded\\_predictions\\_0.026 & ABC\\_dpfc & EpiMap & Baseline\\_Predss.dist\\_to\\_tss & Baseline\\_Predss.nearest\\_expressed\\_gene & EpiRaction.EPIraction\\_Brain\\_Alzheimer\\_Disease\\_thresholded\\_predictions\\_0.026 & EpiRaction.EPIraction\\_Brain\\_Alzheimer\\_Encode\\_thresholded\\_predictions\\_0.026 & xqtl\\_only\\_colocboost\\_export\\_filtered\\_MSBB.VCP & xqtl\\_only\\_colocboost\\_export\\_filtered\\_ROSMAP.VCP\\\\\n",
       " <chr> & <chr> & <chr> & <int> & <int> & <int> & <int> & <int> & <int> & <dbl> & ⋯ & <dbl> & <dbl> & <dbl> & <dbl> & <dbl> & <dbl> & <dbl> & <dbl> & <dbl> & <dbl>\\\\\n",
       "\\hline\n",
       "\t chr1:10000044\\_ENSG00000049239 & chr1:10000044 & ENSG00000049239 & 10000044 & 0 & 0 & 0 & 0 & 0 & 0 & ⋯ & 0 & 0 & 0 & 0 & 0 & 0 & 0 & 0 & 0 & 0\\\\\n",
       "\t chr1:10000044\\_ENSG00000054523 & chr1:10000044 & ENSG00000054523 & 10000044 & 0 & 0 & 1 & 1 & 0 & 0 & ⋯ & 0 & 0 & 0 & 0 & 0 & 0 & 0 & 0 & 0 & 0\\\\\n",
       "\t chr1:10000044\\_ENSG00000130939 & chr1:10000044 & ENSG00000130939 & 10000044 & 0 & 0 & 1 & 1 & 0 & 0 & ⋯ & 0 & 0 & 0 & 0 & 0 & 0 & 0 & 0 & 0 & 0\\\\\n",
       "\t chr1:10000044\\_ENSG00000130940 & chr1:10000044 & ENSG00000130940 & 10000044 & 0 & 0 & 0 & 0 & 0 & 0 & ⋯ & 0 & 0 & 0 & 0 & 0 & 0 & 0 & 0 & 0 & 0\\\\\n",
       "\t chr1:10000044\\_ENSG00000142583 & chr1:10000044 & ENSG00000142583 & 10000044 & 0 & 0 & 0 & 0 & 0 & 0 & ⋯ & 0 & 0 & 0 & 0 & 0 & 0 & 0 & 0 & 0 & 0\\\\\n",
       "\t chr1:10000044\\_ENSG00000142655 & chr1:10000044 & ENSG00000142655 & 10000044 & 0 & 0 & 1 & 1 & 0 & 0 & ⋯ & 0 & 0 & 0 & 0 & 0 & 0 & 0 & 0 & 0 & 0\\\\\n",
       "\\end{tabular}\n"
      ],
      "text/markdown": [
       "\n",
       "A data.table: 6 × 269\n",
       "\n",
       "| s2g &lt;chr&gt; | snp &lt;chr&gt; | gene_id &lt;chr&gt; | snp_bp &lt;int&gt; | exon &lt;int&gt; | s_in_g &lt;int&gt; | same_tad &lt;int&gt; | proximal_tad &lt;int&gt; | g_closest_tss &lt;int&gt; | single_context.Inh_mega_eQTL.PIP &lt;dbl&gt; | ⋯ ⋯ | trans.MSBB_eQTL_BM10.weight &lt;dbl&gt; | EpiRaction.EPIraction_Brain_Alzheimer_Control_thresholded_predictions_0.026 &lt;dbl&gt; | ABC_dpfc &lt;dbl&gt; | EpiMap &lt;dbl&gt; | Baseline_Predss.dist_to_tss &lt;dbl&gt; | Baseline_Predss.nearest_expressed_gene &lt;dbl&gt; | EpiRaction.EPIraction_Brain_Alzheimer_Disease_thresholded_predictions_0.026 &lt;dbl&gt; | EpiRaction.EPIraction_Brain_Alzheimer_Encode_thresholded_predictions_0.026 &lt;dbl&gt; | xqtl_only_colocboost_export_filtered_MSBB.VCP &lt;dbl&gt; | xqtl_only_colocboost_export_filtered_ROSMAP.VCP &lt;dbl&gt; |\n",
       "|---|---|---|---|---|---|---|---|---|---|---|---|---|---|---|---|---|---|---|---|---|\n",
       "| chr1:10000044_ENSG00000049239 | chr1:10000044 | ENSG00000049239 | 10000044 | 0 | 0 | 0 | 0 | 0 | 0 | ⋯ | 0 | 0 | 0 | 0 | 0 | 0 | 0 | 0 | 0 | 0 |\n",
       "| chr1:10000044_ENSG00000054523 | chr1:10000044 | ENSG00000054523 | 10000044 | 0 | 0 | 1 | 1 | 0 | 0 | ⋯ | 0 | 0 | 0 | 0 | 0 | 0 | 0 | 0 | 0 | 0 |\n",
       "| chr1:10000044_ENSG00000130939 | chr1:10000044 | ENSG00000130939 | 10000044 | 0 | 0 | 1 | 1 | 0 | 0 | ⋯ | 0 | 0 | 0 | 0 | 0 | 0 | 0 | 0 | 0 | 0 |\n",
       "| chr1:10000044_ENSG00000130940 | chr1:10000044 | ENSG00000130940 | 10000044 | 0 | 0 | 0 | 0 | 0 | 0 | ⋯ | 0 | 0 | 0 | 0 | 0 | 0 | 0 | 0 | 0 | 0 |\n",
       "| chr1:10000044_ENSG00000142583 | chr1:10000044 | ENSG00000142583 | 10000044 | 0 | 0 | 0 | 0 | 0 | 0 | ⋯ | 0 | 0 | 0 | 0 | 0 | 0 | 0 | 0 | 0 | 0 |\n",
       "| chr1:10000044_ENSG00000142655 | chr1:10000044 | ENSG00000142655 | 10000044 | 0 | 0 | 1 | 1 | 0 | 0 | ⋯ | 0 | 0 | 0 | 0 | 0 | 0 | 0 | 0 | 0 | 0 |\n",
       "\n"
      ],
      "text/plain": [
       "  s2g                           snp           gene_id         snp_bp   exon\n",
       "1 chr1:10000044_ENSG00000049239 chr1:10000044 ENSG00000049239 10000044 0   \n",
       "2 chr1:10000044_ENSG00000054523 chr1:10000044 ENSG00000054523 10000044 0   \n",
       "3 chr1:10000044_ENSG00000130939 chr1:10000044 ENSG00000130939 10000044 0   \n",
       "4 chr1:10000044_ENSG00000130940 chr1:10000044 ENSG00000130940 10000044 0   \n",
       "5 chr1:10000044_ENSG00000142583 chr1:10000044 ENSG00000142583 10000044 0   \n",
       "6 chr1:10000044_ENSG00000142655 chr1:10000044 ENSG00000142655 10000044 0   \n",
       "  s_in_g same_tad proximal_tad g_closest_tss single_context.Inh_mega_eQTL.PIP ⋯\n",
       "1 0      0        0            0             0                                ⋯\n",
       "2 0      1        1            0             0                                ⋯\n",
       "3 0      1        1            0             0                                ⋯\n",
       "4 0      0        0            0             0                                ⋯\n",
       "5 0      0        0            0             0                                ⋯\n",
       "6 0      1        1            0             0                                ⋯\n",
       "  trans.MSBB_eQTL_BM10.weight\n",
       "1 0                          \n",
       "2 0                          \n",
       "3 0                          \n",
       "4 0                          \n",
       "5 0                          \n",
       "6 0                          \n",
       "  EpiRaction.EPIraction_Brain_Alzheimer_Control_thresholded_predictions_0.026\n",
       "1 0                                                                          \n",
       "2 0                                                                          \n",
       "3 0                                                                          \n",
       "4 0                                                                          \n",
       "5 0                                                                          \n",
       "6 0                                                                          \n",
       "  ABC_dpfc EpiMap Baseline_Predss.dist_to_tss\n",
       "1 0        0      0                          \n",
       "2 0        0      0                          \n",
       "3 0        0      0                          \n",
       "4 0        0      0                          \n",
       "5 0        0      0                          \n",
       "6 0        0      0                          \n",
       "  Baseline_Predss.nearest_expressed_gene\n",
       "1 0                                     \n",
       "2 0                                     \n",
       "3 0                                     \n",
       "4 0                                     \n",
       "5 0                                     \n",
       "6 0                                     \n",
       "  EpiRaction.EPIraction_Brain_Alzheimer_Disease_thresholded_predictions_0.026\n",
       "1 0                                                                          \n",
       "2 0                                                                          \n",
       "3 0                                                                          \n",
       "4 0                                                                          \n",
       "5 0                                                                          \n",
       "6 0                                                                          \n",
       "  EpiRaction.EPIraction_Brain_Alzheimer_Encode_thresholded_predictions_0.026\n",
       "1 0                                                                         \n",
       "2 0                                                                         \n",
       "3 0                                                                         \n",
       "4 0                                                                         \n",
       "5 0                                                                         \n",
       "6 0                                                                         \n",
       "  xqtl_only_colocboost_export_filtered_MSBB.VCP\n",
       "1 0                                            \n",
       "2 0                                            \n",
       "3 0                                            \n",
       "4 0                                            \n",
       "5 0                                            \n",
       "6 0                                            \n",
       "  xqtl_only_colocboost_export_filtered_ROSMAP.VCP\n",
       "1 0                                              \n",
       "2 0                                              \n",
       "3 0                                              \n",
       "4 0                                              \n",
       "5 0                                              \n",
       "6 0                                              "
      ]
     },
     "metadata": {},
     "output_type": "display_data"
    }
   ],
   "source": [
    "feat_set %>% head"
   ]
  },
  {
   "cell_type": "markdown",
   "id": "d2359f10-e701-48cd-b492-bacc87713105",
   "metadata": {
    "tags": []
   },
   "source": [
    "### NOTE: Different columns per chromosome\n",
    "\n",
    "In practice, I found that only chromosome 1 has 269 columns, while the other chromosomes are missing 4 columns—all of which are trans-related. These trans features may have been too sparse and were likely removed earlier."
   ]
  },
  {
   "cell_type": "code",
   "execution_count": null,
   "id": "7747585d-bdc9-4146-917f-bddc701983ee",
   "metadata": {},
   "outputs": [],
   "source": []
  },
  {
   "cell_type": "markdown",
   "id": "2909d575-fb6d-4c95-b18a-3e72c13a374a",
   "metadata": {},
   "source": [
    "### load rsid reference"
   ]
  },
  {
   "cell_type": "code",
   "execution_count": 66,
   "id": "afee31df-5932-41b7-8e41-b621553ab635",
   "metadata": {},
   "outputs": [
    {
     "data": {
      "text/html": [
       "<style>\n",
       ".list-inline {list-style: none; margin:0; padding: 0}\n",
       ".list-inline>li {display: inline-block}\n",
       ".list-inline>li:not(:last-child)::after {content: \"\\00b7\"; padding: 0 .5ex}\n",
       "</style>\n",
       "<ol class=list-inline><li>'1\\t10019\\t10020\\trs775809821'</li><li>'1\\t10039\\t10039\\trs978760828'</li><li>'1\\t10043\\t10043\\trs1008829651'</li><li>'1\\t10051\\t10051\\trs1052373574'</li><li>'1\\t10055\\t10056\\trs768019142'</li><li>'1\\t10055\\t10055\\trs892501864'</li></ol>\n"
      ],
      "text/latex": [
       "\\begin{enumerate*}\n",
       "\\item '1\\textbackslash{}t10019\\textbackslash{}t10020\\textbackslash{}trs775809821'\n",
       "\\item '1\\textbackslash{}t10039\\textbackslash{}t10039\\textbackslash{}trs978760828'\n",
       "\\item '1\\textbackslash{}t10043\\textbackslash{}t10043\\textbackslash{}trs1008829651'\n",
       "\\item '1\\textbackslash{}t10051\\textbackslash{}t10051\\textbackslash{}trs1052373574'\n",
       "\\item '1\\textbackslash{}t10055\\textbackslash{}t10056\\textbackslash{}trs768019142'\n",
       "\\item '1\\textbackslash{}t10055\\textbackslash{}t10055\\textbackslash{}trs892501864'\n",
       "\\end{enumerate*}\n"
      ],
      "text/markdown": [
       "1. '1\\t10019\\t10020\\trs775809821'\n",
       "2. '1\\t10039\\t10039\\trs978760828'\n",
       "3. '1\\t10043\\t10043\\trs1008829651'\n",
       "4. '1\\t10051\\t10051\\trs1052373574'\n",
       "5. '1\\t10055\\t10056\\trs768019142'\n",
       "6. '1\\t10055\\t10055\\trs892501864'\n",
       "\n",
       "\n"
      ],
      "text/plain": [
       "[1] \"1\\t10019\\t10020\\trs775809821\"  \"1\\t10039\\t10039\\trs978760828\" \n",
       "[3] \"1\\t10043\\t10043\\trs1008829651\" \"1\\t10051\\t10051\\trs1052373574\"\n",
       "[5] \"1\\t10055\\t10056\\trs768019142\"  \"1\\t10055\\t10055\\trs892501864\" "
      ]
     },
     "metadata": {},
     "output_type": "display_data"
    }
   ],
   "source": [
    "# Run tabix command directly in shell via R\n",
    "snp_ref <- system(paste(\"tabix \",snp_ref_path, chr), intern = TRUE)\n",
    "\n",
    "# Show output\n",
    "head(snp_ref)"
   ]
  },
  {
   "cell_type": "code",
   "execution_count": 67,
   "id": "e92e8630-f53f-4af4-9a70-8c6210a05038",
   "metadata": {},
   "outputs": [],
   "source": [
    "# Use read.table with textConnection\n",
    "snp_ref_df <- read.table(text = snp_ref, sep = \"\\t\", header = FALSE,\n",
    "                 col.names = c(\"chr\", \"start\", \"end\", \"rsid\"))\n"
   ]
  },
  {
   "cell_type": "code",
   "execution_count": 68,
   "id": "f4b23199-dad5-48bc-9340-d474bdd8a341",
   "metadata": {},
   "outputs": [],
   "source": [
    "snp_ref_df <- snp_ref_df %>% mutate(snp = paste0('chr',chr, \":\", start))"
   ]
  },
  {
   "cell_type": "code",
   "execution_count": 69,
   "id": "f119b942-1bce-4a85-a218-ed889e458503",
   "metadata": {},
   "outputs": [
    {
     "data": {
      "text/html": [
       "<table class=\"dataframe\">\n",
       "<caption>A data.frame: 6 × 5</caption>\n",
       "<thead>\n",
       "\t<tr><th></th><th scope=col>chr</th><th scope=col>start</th><th scope=col>end</th><th scope=col>rsid</th><th scope=col>snp</th></tr>\n",
       "\t<tr><th></th><th scope=col>&lt;int&gt;</th><th scope=col>&lt;int&gt;</th><th scope=col>&lt;int&gt;</th><th scope=col>&lt;chr&gt;</th><th scope=col>&lt;chr&gt;</th></tr>\n",
       "</thead>\n",
       "<tbody>\n",
       "\t<tr><th scope=row>1</th><td>1</td><td>10019</td><td>10020</td><td>rs775809821 </td><td>chr1:10019</td></tr>\n",
       "\t<tr><th scope=row>2</th><td>1</td><td>10039</td><td>10039</td><td>rs978760828 </td><td>chr1:10039</td></tr>\n",
       "\t<tr><th scope=row>3</th><td>1</td><td>10043</td><td>10043</td><td>rs1008829651</td><td>chr1:10043</td></tr>\n",
       "\t<tr><th scope=row>4</th><td>1</td><td>10051</td><td>10051</td><td>rs1052373574</td><td>chr1:10051</td></tr>\n",
       "\t<tr><th scope=row>5</th><td>1</td><td>10055</td><td>10056</td><td>rs768019142 </td><td>chr1:10055</td></tr>\n",
       "\t<tr><th scope=row>6</th><td>1</td><td>10055</td><td>10055</td><td>rs892501864 </td><td>chr1:10055</td></tr>\n",
       "</tbody>\n",
       "</table>\n"
      ],
      "text/latex": [
       "A data.frame: 6 × 5\n",
       "\\begin{tabular}{r|lllll}\n",
       "  & chr & start & end & rsid & snp\\\\\n",
       "  & <int> & <int> & <int> & <chr> & <chr>\\\\\n",
       "\\hline\n",
       "\t1 & 1 & 10019 & 10020 & rs775809821  & chr1:10019\\\\\n",
       "\t2 & 1 & 10039 & 10039 & rs978760828  & chr1:10039\\\\\n",
       "\t3 & 1 & 10043 & 10043 & rs1008829651 & chr1:10043\\\\\n",
       "\t4 & 1 & 10051 & 10051 & rs1052373574 & chr1:10051\\\\\n",
       "\t5 & 1 & 10055 & 10056 & rs768019142  & chr1:10055\\\\\n",
       "\t6 & 1 & 10055 & 10055 & rs892501864  & chr1:10055\\\\\n",
       "\\end{tabular}\n"
      ],
      "text/markdown": [
       "\n",
       "A data.frame: 6 × 5\n",
       "\n",
       "| <!--/--> | chr &lt;int&gt; | start &lt;int&gt; | end &lt;int&gt; | rsid &lt;chr&gt; | snp &lt;chr&gt; |\n",
       "|---|---|---|---|---|---|\n",
       "| 1 | 1 | 10019 | 10020 | rs775809821  | chr1:10019 |\n",
       "| 2 | 1 | 10039 | 10039 | rs978760828  | chr1:10039 |\n",
       "| 3 | 1 | 10043 | 10043 | rs1008829651 | chr1:10043 |\n",
       "| 4 | 1 | 10051 | 10051 | rs1052373574 | chr1:10051 |\n",
       "| 5 | 1 | 10055 | 10056 | rs768019142  | chr1:10055 |\n",
       "| 6 | 1 | 10055 | 10055 | rs892501864  | chr1:10055 |\n",
       "\n"
      ],
      "text/plain": [
       "  chr start end   rsid         snp       \n",
       "1 1   10019 10020 rs775809821  chr1:10019\n",
       "2 1   10039 10039 rs978760828  chr1:10039\n",
       "3 1   10043 10043 rs1008829651 chr1:10043\n",
       "4 1   10051 10051 rs1052373574 chr1:10051\n",
       "5 1   10055 10056 rs768019142  chr1:10055\n",
       "6 1   10055 10055 rs892501864  chr1:10055"
      ]
     },
     "metadata": {},
     "output_type": "display_data"
    }
   ],
   "source": [
    "snp_ref_df %>% head"
   ]
  },
  {
   "cell_type": "markdown",
   "id": "2eed2c82-4b3f-4548-a254-b33f702260bc",
   "metadata": {},
   "source": [
    "### map rsid to chr_pos"
   ]
  },
  {
   "cell_type": "code",
   "execution_count": 70,
   "id": "d6f535c9-c7ea-4dcd-bf16-d1eb87c0576e",
   "metadata": {},
   "outputs": [
    {
     "data": {
      "text/html": [
       "<style>\n",
       ".list-inline {list-style: none; margin:0; padding: 0}\n",
       ".list-inline>li {display: inline-block}\n",
       ".list-inline>li:not(:last-child)::after {content: \"\\00b7\"; padding: 0 .5ex}\n",
       "</style>\n",
       "<ol class=list-inline><li>21551170</li><li>269</li></ol>\n"
      ],
      "text/latex": [
       "\\begin{enumerate*}\n",
       "\\item 21551170\n",
       "\\item 269\n",
       "\\end{enumerate*}\n"
      ],
      "text/markdown": [
       "1. 21551170\n",
       "2. 269\n",
       "\n",
       "\n"
      ],
      "text/plain": [
       "[1] 21551170      269"
      ]
     },
     "metadata": {},
     "output_type": "display_data"
    }
   ],
   "source": [
    "feat_set %>% dim"
   ]
  },
  {
   "cell_type": "code",
   "execution_count": 71,
   "id": "592b7d4e-dc23-4e04-b52c-35cf76571f0e",
   "metadata": {},
   "outputs": [],
   "source": [
    "feat_set_snp <- merge(feat_set, snp_ref_df, by = 'snp')"
   ]
  },
  {
   "cell_type": "code",
   "execution_count": 72,
   "id": "29b44e0c-1745-4210-8a25-c3fa980757ff",
   "metadata": {},
   "outputs": [],
   "source": [
    "feat_set_snp %>% select(snp, rsid) %>% distinct %>% fwrite(.,\n",
    "       paste0('/data/deyk/ftp_fgc_xqtl/v2f/xqtl_features/xqtl_features_v2f/xqtl_feature.var_list.', chr, '.txt.gz'), sep = '\\t')\n",
    "# save variant list as intermediate file for preparing pos and neg sets "
   ]
  },
  {
   "cell_type": "code",
   "execution_count": 73,
   "id": "bb53a1bd-f7b2-4fcc-8f8d-84c8aa1ada3b",
   "metadata": {
    "tags": []
   },
   "outputs": [],
   "source": [
    "feat_set_snp <- feat_set_snp %>% select(chr, start, rsid, colnames(feat_set)[-c(1:4)]) %>% rename(CHR=chr, BP = start, SNP = rsid) "
   ]
  },
  {
   "cell_type": "code",
   "execution_count": 74,
   "id": "ce4eaeeb-c9b1-4aa8-8f94-09c27c70c1a5",
   "metadata": {},
   "outputs": [],
   "source": [
    "# Save mapped feature set\n",
    "fwrite(distinct(feat_set_snp),\n",
    "       paste0('/data/deyk/ftp_fgc_xqtl/v2f/xqtl_features/xqtl_features_v2f/xqtl_feature.', chr, '.txt.gz'), sep = '\\t')\n"
   ]
  },
  {
   "cell_type": "code",
   "execution_count": 7,
   "id": "3dfad64c-7cc3-4bd0-a206-6ec98b6688fb",
   "metadata": {},
   "outputs": [],
   "source": [
    "agg_snp_max <- feat_set_snp %>% head %>% # add head here for quick check, would remove in script \n",
    "  group_by(SNP) %>%\n",
    "  summarise(across(where(is.numeric), max, na.rm = TRUE)) %>% select(colnames(feat_set_snp))\n"
   ]
  },
  {
   "cell_type": "code",
   "execution_count": 14,
   "id": "368ad6a9-2c98-4a41-9293-736720fee205",
   "metadata": {},
   "outputs": [
    {
     "data": {
      "text/html": [
       "267"
      ],
      "text/latex": [
       "267"
      ],
      "text/markdown": [
       "267"
      ],
      "text/plain": [
       "[1] 267"
      ]
     },
     "metadata": {},
     "output_type": "display_data"
    },
    {
     "data": {
      "text/html": [
       "266"
      ],
      "text/latex": [
       "266"
      ],
      "text/markdown": [
       "266"
      ],
      "text/plain": [
       "[1] 266"
      ]
     },
     "metadata": {},
     "output_type": "display_data"
    }
   ],
   "source": [
    "impacted_cols <- feat_set_snp %>%\n",
    "  select(where(is.numeric)) %>%\n",
    "  colnames()\n",
    "ncol(feat_set_snp)\n",
    "length(impacted_cols)"
   ]
  },
  {
   "cell_type": "markdown",
   "id": "2d264fb5-2688-4120-bbc1-8fcd3ec4f699",
   "metadata": {},
   "source": [
    "That means all columns are aggregated except for the SNP ID column, which is as expected."
   ]
  },
  {
   "cell_type": "code",
   "execution_count": 8,
   "id": "1b509c48-b4ac-47f9-bcc4-e7a0958873a3",
   "metadata": {},
   "outputs": [
    {
     "data": {
      "text/html": [
       "<table class=\"dataframe\">\n",
       "<caption>A tibble: 3 × 267</caption>\n",
       "<thead>\n",
       "\t<tr><th scope=col>CHR</th><th scope=col>BP</th><th scope=col>SNP</th><th scope=col>exon</th><th scope=col>s_in_g</th><th scope=col>same_tad</th><th scope=col>proximal_tad</th><th scope=col>g_closest_tss</th><th scope=col>single_context.Inh_mega_eQTL.PIP</th><th scope=col>single_context.Inh_mega_eQTL.conditional_effect</th><th scope=col>⋯</th><th scope=col>trans.MSBB_eQTL_BM10.weight</th><th scope=col>EpiRaction.EPIraction_Brain_Alzheimer_Control_thresholded_predictions_0.026</th><th scope=col>ABC_dpfc</th><th scope=col>EpiMap</th><th scope=col>Baseline_Predss.dist_to_tss</th><th scope=col>Baseline_Predss.nearest_expressed_gene</th><th scope=col>EpiRaction.EPIraction_Brain_Alzheimer_Disease_thresholded_predictions_0.026</th><th scope=col>EpiRaction.EPIraction_Brain_Alzheimer_Encode_thresholded_predictions_0.026</th><th scope=col>xqtl_only_colocboost_export_filtered_MSBB.VCP</th><th scope=col>xqtl_only_colocboost_export_filtered_ROSMAP.VCP</th></tr>\n",
       "\t<tr><th scope=col>&lt;int&gt;</th><th scope=col>&lt;int&gt;</th><th scope=col>&lt;chr&gt;</th><th scope=col>&lt;int&gt;</th><th scope=col>&lt;int&gt;</th><th scope=col>&lt;int&gt;</th><th scope=col>&lt;int&gt;</th><th scope=col>&lt;int&gt;</th><th scope=col>&lt;dbl&gt;</th><th scope=col>&lt;dbl&gt;</th><th scope=col>⋯</th><th scope=col>&lt;int&gt;</th><th scope=col>&lt;int&gt;</th><th scope=col>&lt;int&gt;</th><th scope=col>&lt;int&gt;</th><th scope=col>&lt;int&gt;</th><th scope=col>&lt;int&gt;</th><th scope=col>&lt;int&gt;</th><th scope=col>&lt;int&gt;</th><th scope=col>&lt;dbl&gt;</th><th scope=col>&lt;dbl&gt;</th></tr>\n",
       "</thead>\n",
       "<tbody>\n",
       "\t<tr><td>21</td><td>10006045</td><td>rs540071081</td><td>0</td><td>0</td><td>0</td><td>0</td><td>1</td><td>0</td><td>0</td><td>⋯</td><td>0</td><td>0</td><td>0</td><td>0</td><td>0</td><td>0</td><td>0</td><td>0</td><td>0</td><td>0</td></tr>\n",
       "\t<tr><td>21</td><td>10009651</td><td>rs866528671</td><td>0</td><td>0</td><td>0</td><td>0</td><td>1</td><td>0</td><td>0</td><td>⋯</td><td>0</td><td>0</td><td>0</td><td>0</td><td>0</td><td>0</td><td>0</td><td>0</td><td>0</td><td>0</td></tr>\n",
       "\t<tr><td>21</td><td>10001433</td><td>rs867788656</td><td>0</td><td>0</td><td>0</td><td>0</td><td>1</td><td>0</td><td>0</td><td>⋯</td><td>0</td><td>0</td><td>0</td><td>0</td><td>0</td><td>0</td><td>0</td><td>0</td><td>0</td><td>0</td></tr>\n",
       "</tbody>\n",
       "</table>\n"
      ],
      "text/latex": [
       "A tibble: 3 × 267\n",
       "\\begin{tabular}{lllllllllllllllllllll}\n",
       " CHR & BP & SNP & exon & s\\_in\\_g & same\\_tad & proximal\\_tad & g\\_closest\\_tss & single\\_context.Inh\\_mega\\_eQTL.PIP & single\\_context.Inh\\_mega\\_eQTL.conditional\\_effect & ⋯ & trans.MSBB\\_eQTL\\_BM10.weight & EpiRaction.EPIraction\\_Brain\\_Alzheimer\\_Control\\_thresholded\\_predictions\\_0.026 & ABC\\_dpfc & EpiMap & Baseline\\_Predss.dist\\_to\\_tss & Baseline\\_Predss.nearest\\_expressed\\_gene & EpiRaction.EPIraction\\_Brain\\_Alzheimer\\_Disease\\_thresholded\\_predictions\\_0.026 & EpiRaction.EPIraction\\_Brain\\_Alzheimer\\_Encode\\_thresholded\\_predictions\\_0.026 & xqtl\\_only\\_colocboost\\_export\\_filtered\\_MSBB.VCP & xqtl\\_only\\_colocboost\\_export\\_filtered\\_ROSMAP.VCP\\\\\n",
       " <int> & <int> & <chr> & <int> & <int> & <int> & <int> & <int> & <dbl> & <dbl> & ⋯ & <int> & <int> & <int> & <int> & <int> & <int> & <int> & <int> & <dbl> & <dbl>\\\\\n",
       "\\hline\n",
       "\t 21 & 10006045 & rs540071081 & 0 & 0 & 0 & 0 & 1 & 0 & 0 & ⋯ & 0 & 0 & 0 & 0 & 0 & 0 & 0 & 0 & 0 & 0\\\\\n",
       "\t 21 & 10009651 & rs866528671 & 0 & 0 & 0 & 0 & 1 & 0 & 0 & ⋯ & 0 & 0 & 0 & 0 & 0 & 0 & 0 & 0 & 0 & 0\\\\\n",
       "\t 21 & 10001433 & rs867788656 & 0 & 0 & 0 & 0 & 1 & 0 & 0 & ⋯ & 0 & 0 & 0 & 0 & 0 & 0 & 0 & 0 & 0 & 0\\\\\n",
       "\\end{tabular}\n"
      ],
      "text/markdown": [
       "\n",
       "A tibble: 3 × 267\n",
       "\n",
       "| CHR &lt;int&gt; | BP &lt;int&gt; | SNP &lt;chr&gt; | exon &lt;int&gt; | s_in_g &lt;int&gt; | same_tad &lt;int&gt; | proximal_tad &lt;int&gt; | g_closest_tss &lt;int&gt; | single_context.Inh_mega_eQTL.PIP &lt;dbl&gt; | single_context.Inh_mega_eQTL.conditional_effect &lt;dbl&gt; | ⋯ ⋯ | trans.MSBB_eQTL_BM10.weight &lt;int&gt; | EpiRaction.EPIraction_Brain_Alzheimer_Control_thresholded_predictions_0.026 &lt;int&gt; | ABC_dpfc &lt;int&gt; | EpiMap &lt;int&gt; | Baseline_Predss.dist_to_tss &lt;int&gt; | Baseline_Predss.nearest_expressed_gene &lt;int&gt; | EpiRaction.EPIraction_Brain_Alzheimer_Disease_thresholded_predictions_0.026 &lt;int&gt; | EpiRaction.EPIraction_Brain_Alzheimer_Encode_thresholded_predictions_0.026 &lt;int&gt; | xqtl_only_colocboost_export_filtered_MSBB.VCP &lt;dbl&gt; | xqtl_only_colocboost_export_filtered_ROSMAP.VCP &lt;dbl&gt; |\n",
       "|---|---|---|---|---|---|---|---|---|---|---|---|---|---|---|---|---|---|---|---|---|\n",
       "| 21 | 10006045 | rs540071081 | 0 | 0 | 0 | 0 | 1 | 0 | 0 | ⋯ | 0 | 0 | 0 | 0 | 0 | 0 | 0 | 0 | 0 | 0 |\n",
       "| 21 | 10009651 | rs866528671 | 0 | 0 | 0 | 0 | 1 | 0 | 0 | ⋯ | 0 | 0 | 0 | 0 | 0 | 0 | 0 | 0 | 0 | 0 |\n",
       "| 21 | 10001433 | rs867788656 | 0 | 0 | 0 | 0 | 1 | 0 | 0 | ⋯ | 0 | 0 | 0 | 0 | 0 | 0 | 0 | 0 | 0 | 0 |\n",
       "\n"
      ],
      "text/plain": [
       "  CHR BP       SNP         exon s_in_g same_tad proximal_tad g_closest_tss\n",
       "1 21  10006045 rs540071081 0    0      0        0            1            \n",
       "2 21  10009651 rs866528671 0    0      0        0            1            \n",
       "3 21  10001433 rs867788656 0    0      0        0            1            \n",
       "  single_context.Inh_mega_eQTL.PIP\n",
       "1 0                               \n",
       "2 0                               \n",
       "3 0                               \n",
       "  single_context.Inh_mega_eQTL.conditional_effect ⋯ trans.MSBB_eQTL_BM10.weight\n",
       "1 0                                               ⋯ 0                          \n",
       "2 0                                               ⋯ 0                          \n",
       "3 0                                               ⋯ 0                          \n",
       "  EpiRaction.EPIraction_Brain_Alzheimer_Control_thresholded_predictions_0.026\n",
       "1 0                                                                          \n",
       "2 0                                                                          \n",
       "3 0                                                                          \n",
       "  ABC_dpfc EpiMap Baseline_Predss.dist_to_tss\n",
       "1 0        0      0                          \n",
       "2 0        0      0                          \n",
       "3 0        0      0                          \n",
       "  Baseline_Predss.nearest_expressed_gene\n",
       "1 0                                     \n",
       "2 0                                     \n",
       "3 0                                     \n",
       "  EpiRaction.EPIraction_Brain_Alzheimer_Disease_thresholded_predictions_0.026\n",
       "1 0                                                                          \n",
       "2 0                                                                          \n",
       "3 0                                                                          \n",
       "  EpiRaction.EPIraction_Brain_Alzheimer_Encode_thresholded_predictions_0.026\n",
       "1 0                                                                         \n",
       "2 0                                                                         \n",
       "3 0                                                                         \n",
       "  xqtl_only_colocboost_export_filtered_MSBB.VCP\n",
       "1 0                                            \n",
       "2 0                                            \n",
       "3 0                                            \n",
       "  xqtl_only_colocboost_export_filtered_ROSMAP.VCP\n",
       "1 0                                              \n",
       "2 0                                              \n",
       "3 0                                              "
      ]
     },
     "metadata": {},
     "output_type": "display_data"
    }
   ],
   "source": [
    "agg_snp_max"
   ]
  },
  {
   "cell_type": "code",
   "execution_count": null,
   "id": "730b3de6-0ba9-4d0c-ae7c-921439494312",
   "metadata": {},
   "outputs": [],
   "source": [
    "fwrite(agg_snp_mean, paste0('/data/deyk/ftp_fgc_xqtl/v2f/xqtl_features/xqtl_features_v2f/xqtl_feat.',chr,'.txt.gz'))"
   ]
  },
  {
   "cell_type": "markdown",
   "id": "1f299c90-e3ac-4953-a1c7-7a0033e5b257",
   "metadata": {},
   "source": [
    "aggreate above steps into R script and submit batch jobs:\n",
    "```\n",
    "#!/usr/bin/env Rscript\n",
    "\n",
    "# Load required libraries\n",
    "library(data.table)\n",
    "library(tidyverse)\n",
    "\n",
    "# Get chromosome from command line argument\n",
    "args <- commandArgs(trailingOnly = TRUE)\n",
    "chr <- as.integer(args[1])\n",
    "\n",
    "# Define paths\n",
    "snp_ref_path <- '/lila/data/deyk/ftp_fgc_xqtl/references/00-All.variants.gz'\n",
    "file_path <- paste0('/data/deyk/ftp_fgc_xqtl/v2f/xqtl_features/xqtl_features_v2g/xqtl_feat.', chr, '.txt.gz')\n",
    "\n",
    "# Load feature set data\n",
    "feat_set <- fread(file_path)\n",
    "\n",
    "# Load rsid reference using tabix\n",
    "snp_ref <- system(paste(\"tabix\", snp_ref_path, chr), intern = TRUE)\n",
    "snp_ref_df <- read.table(text = snp_ref, sep = \"\\t\", header = FALSE,\n",
    "                         col.names = c(\"chr\", \"start\", \"end\", \"rsid\")) %>%\n",
    "  mutate(snp = paste0('chr', chr, \":\", start))\n",
    "\n",
    "# Map rsid to chr_pos\n",
    "feat_set_snp <- merge(feat_set, snp_ref_df, by = 'snp') \n",
    "# feat_set_snp %>% select(snp, rsid) %>% distinct %>% fwrite(.,\n",
    "#        paste0('/data/deyk/ftp_fgc_xqtl/v2f/xqtl_features/xqtl_features_v2f/xqtl_feature.var_list.', chr, '.txt.gz'), sep = '\\t')\n",
    "\n",
    "feat_set_snp <- feat_set_snp %>%\n",
    "  select(chr, start, rsid, all_of(colnames(feat_set)[-c(1:4)])) %>%\n",
    "  rename(CHR = chr, BP = start, SNP = rsid)\n",
    "\n",
    "# Save mapped feature set\n",
    "fwrite(distinct(feat_set_snp),\n",
    "       paste0('/data/deyk/ftp_fgc_xqtl/v2f/xqtl_features/xqtl_features_v2f/xqtl_feature.', chr, '.txt.gz'), sep = '\\t')\n",
    "\n",
    "# Aggregate SNP max\n",
    "agg_snp_max <- feat_set_snp %>%\n",
    "  group_by(SNP) %>%\n",
    "  summarise(across(where(is.numeric), max, na.rm = TRUE)) %>% \n",
    "  select(colnames(feat_set_snp))\n",
    "\n",
    "\n",
    "# Save aggregated feature set\n",
    "fwrite(agg_snp_max,\n",
    "       paste0('/data/deyk/ftp_fgc_xqtl/v2f/xqtl_features/xqtl_features_v2f/agg_snp_max/xqtl_feature_max.', chr, '.txt.gz'), sep = '\\t')\n",
    "```"
   ]
  },
  {
   "cell_type": "code",
   "execution_count": null,
   "id": "dff9f481-f2a7-4daa-87ee-b585fafe34cc",
   "metadata": {},
   "outputs": [],
   "source": [
    "#!/bin/bash\n",
    "\n",
    "for chr in {1..22}; do\n",
    "  bsub -q cpuqueue -n 1 -M 200GB -W 10:00 \\\n",
    "    -o /home/fengr1/Work/v2f/logs/aggfeat_chr${chr}.out -e /home/fengr1/Work/v2f/logs/aggfeat_chr${chr}.err \\\n",
    "    \"Rscript ~/Work/v2f/analysis/aggregate_xqtl_features.R ${chr}\"\n",
    "done"
   ]
  },
  {
   "cell_type": "markdown",
   "id": "24a1f4eb-190f-4303-bc40-94e2b58f46c6",
   "metadata": {},
   "source": [
    "### Combine with cv2f feature sets"
   ]
  },
  {
   "cell_type": "code",
   "execution_count": null,
   "id": "5f0fd34a-178c-4ac8-a070-9723aabb7f5c",
   "metadata": {},
   "outputs": [],
   "source": [
    "library(tidyverse)\n",
    "library(data.table)\n",
    "setwd('~/deyk/ru/Work/v2f/analysis')\n",
    "cv2f_files <- list.files(\"/data/deyk/ftp_fgc_xqtl/v2f/xqtl_features/cv2f_features/cv2f_features/\", full.names = T)\n",
    "agg_xqtl_files <- list.files(\"/data/deyk/ftp_fgc_xqtl/v2f/xqtl_features/xqtl_features_v2f/agg_snp_max/\", full.names = T)\n",
    "#### Main loop #### \n",
    "\n",
    "for(i in 1:22){\n",
    "  cat(i)\n",
    "  cv2f <- fread(paste0('/data/deyk/ftp_fgc_xqtl/v2f/xqtl_features/cv2f_features/cv2f_features/annotation_chrmbpnet_BRAIN.', i, '.txt'))\n",
    "  s2g <- fread(paste0('/data/deyk/ftp_fgc_xqtl/v2f/xqtl_features/xqtl_features_v2f/agg_snp_max//xqtl_feature_max.', i, '.txt.gz'))\n",
    "  \n",
    "  #### add cv2f feature #### \n",
    "  \n",
    "  # Extract cv2f features (skip first 4 columns)\n",
    "  cv2f_features <- colnames(cv2f)[5:ncol(cv2f)]\n",
    "  \n",
    "  # Create snp column\n",
    "  cv2f <- cv2f %>%\n",
    "    mutate(snp = paste0(\"chr\", CHR, \":\", BP))\n",
    "  # Merge s2g with cv2f features\n",
    "  s2g <- s2g %>%\n",
    "    mutate(snp = paste0(\"chr\", CHR, \":\", BP)) %>%\n",
    "    left_join(cv2f %>% select(all_of(cv2f_features), snp), by = \"snp\") %>%\n",
    "    mutate(across(all_of(cv2f_features), ~replace_na(., 0))) %>% select(-snp)\n",
    "  \n",
    "  fwrite(s2g, paste0('/data/deyk/ftp_fgc_xqtl/v2f/xqtl_features/xqtl_features_v2f/agg_snp_max_cv2f/xqtl_feature_max_cv2f.', i, '.txt.gz'), sep = '\\t')\n",
    "}\n"
   ]
  },
  {
   "cell_type": "markdown",
   "id": "d3cdd98c-200b-498e-bec7-6f34bbd99953",
   "metadata": {
    "tags": []
   },
   "source": [
    "#### check feature sets"
   ]
  },
  {
   "cell_type": "code",
   "execution_count": 41,
   "id": "32f9e745-7d7b-472e-bef7-e42c4b2895ee",
   "metadata": {},
   "outputs": [],
   "source": [
    "feat_tmp <- fread('/data/deyk/ftp_fgc_xqtl/v2f/xqtl_features/xqtl_features_v2f/agg_snp_max_cv2f/xqtl_feature_max_cv2f.22.txt.gz')"
   ]
  },
  {
   "cell_type": "code",
   "execution_count": 42,
   "id": "90ba8538-73dd-47ec-b565-7a7f4fdb343d",
   "metadata": {
    "tags": []
   },
   "outputs": [
    {
     "data": {
      "text/html": [
       "<style>\n",
       ".list-inline {list-style: none; margin:0; padding: 0}\n",
       ".list-inline>li {display: inline-block}\n",
       ".list-inline>li:not(:last-child)::after {content: \"\\00b7\"; padding: 0 .5ex}\n",
       "</style>\n",
       "<ol class=list-inline><li>'CHR'</li><li>'BP'</li><li>'SNP'</li><li>'exon'</li><li>'s_in_g'</li><li>'same_tad'</li><li>'proximal_tad'</li><li>'g_closest_tss'</li><li>'single_context.Inh_mega_eQTL.PIP'</li><li>'single_context.Inh_mega_eQTL.conditional_effect'</li><li>'single_context.Inh_mega_eQTL.weight'</li><li>'single_context.Inh_Kellis_eQTL.PIP'</li><li>'single_context.Inh_Kellis_eQTL.conditional_effect'</li><li>'single_context.Inh_Kellis_eQTL.weight'</li><li>'single_context.ROSMAP_PCC_sQTL.PIP'</li><li>'single_context.ROSMAP_PCC_sQTL.conditional_effect'</li><li>'single_context.ROSMAP_PCC_sQTL.weight'</li><li>'single_context.MiGA_GTS_eQTL.PIP'</li><li>'single_context.MiGA_GTS_eQTL.conditional_effect'</li><li>'single_context.MiGA_GTS_eQTL.weight'</li><li>'single_context.monocyte_ROSMAP_eQTL.PIP'</li><li>'single_context.monocyte_ROSMAP_eQTL.conditional_effect'</li><li>'single_context.monocyte_ROSMAP_eQTL.weight'</li><li>'single_context.Ast_DeJager_eQTL.PIP'</li><li>'single_context.Ast_DeJager_eQTL.conditional_effect'</li><li>'single_context.Ast_DeJager_eQTL.weight'</li><li>'single_context.Ast_mega_eQTL.PIP'</li><li>'single_context.Ast_mega_eQTL.conditional_effect'</li><li>'single_context.Ast_mega_eQTL.weight'</li><li>'single_context.BM_10_MSBB_eQTL.PIP'</li><li>'single_context.BM_10_MSBB_eQTL.conditional_effect'</li><li>'single_context.BM_10_MSBB_eQTL.weight'</li><li>'single_context.Mic_DeJager_eQTL.PIP'</li><li>'single_context.Mic_DeJager_eQTL.conditional_effect'</li><li>'single_context.Mic_DeJager_eQTL.weight'</li><li>'single_context.Knight_pQTL_brain.PIP'</li><li>'single_context.Knight_pQTL_brain.conditional_effect'</li><li>'single_context.Knight_pQTL_brain.weight'</li><li>'single_context.STARNET_eQTL_Mac.PIP'</li><li>'single_context.STARNET_eQTL_Mac.conditional_effect'</li><li>'single_context.STARNET_eQTL_Mac.weight'</li><li>'single_context.DLPFC_Klein_gpQTL_adjusted.PIP'</li><li>'single_context.DLPFC_Klein_gpQTL_adjusted.conditional_effect'</li><li>'single_context.DLPFC_Klein_gpQTL_adjusted.weight'</li><li>'single_context.MiGA_SVZ_eQTL.PIP'</li><li>'single_context.MiGA_SVZ_eQTL.conditional_effect'</li><li>'single_context.MiGA_SVZ_eQTL.weight'</li><li>'single_context.BM_36_MSBB_eQTL.PIP'</li><li>'single_context.BM_36_MSBB_eQTL.conditional_effect'</li><li>'single_context.BM_36_MSBB_eQTL.weight'</li><li>'single_context.OPC_mega_eQTL.PIP'</li><li>'single_context.OPC_mega_eQTL.conditional_effect'</li><li>'single_context.OPC_mega_eQTL.weight'</li><li>'single_context.BM_44_MSBB_eQTL.PIP'</li><li>'single_context.BM_44_MSBB_eQTL.conditional_effect'</li><li>'single_context.BM_44_MSBB_eQTL.weight'</li><li>'single_context.Mic_mega_eQTL.PIP'</li><li>'single_context.Mic_mega_eQTL.conditional_effect'</li><li>'single_context.Mic_mega_eQTL.weight'</li><li>'single_context.Exc_mega_eQTL.PIP'</li><li>'single_context.Exc_mega_eQTL.conditional_effect'</li><li>'single_context.Exc_mega_eQTL.weight'</li><li>'single_context.AC_DeJager_eQTL.PIP'</li><li>'single_context.AC_DeJager_eQTL.conditional_effect'</li><li>'single_context.AC_DeJager_eQTL.weight'</li><li>'single_context.Exc_DeJager_eQTL.PIP'</li><li>'single_context.Exc_DeJager_eQTL.conditional_effect'</li><li>'single_context.Exc_DeJager_eQTL.weight'</li><li>'single_context.ROSMAP_AC_sQTL.PIP'</li><li>'single_context.ROSMAP_AC_sQTL.conditional_effect'</li><li>'single_context.ROSMAP_AC_sQTL.weight'</li><li>'single_context.Metabrain_Cortex.PIP'</li><li>'single_context.Metabrain_Cortex.conditional_effect'</li><li>'single_context.Metabrain_Cortex.weight'</li><li>'single_context.Mic_12_Kellis_eQTL.PIP'</li><li>'single_context.Mic_12_Kellis_eQTL.conditional_effect'</li><li>'single_context.Mic_12_Kellis_eQTL.weight'</li><li>'single_context.Knight_eQTL_brain.PIP'</li><li>'single_context.Knight_eQTL_brain.conditional_effect'</li><li>'single_context.Knight_eQTL_brain.weight'</li><li>'single_context.BM_22_MSBB_eQTL.PIP'</li><li>'single_context.BM_22_MSBB_eQTL.conditional_effect'</li><li>'single_context.BM_22_MSBB_eQTL.weight'</li><li>'single_context.DLPFC_Bennett_pQTL.PIP'</li><li>'single_context.DLPFC_Bennett_pQTL.conditional_effect'</li><li>'single_context.DLPFC_Bennett_pQTL.weight'</li><li>'single_context.Oli_Kellis_eQTL.PIP'</li><li>'single_context.Oli_Kellis_eQTL.conditional_effect'</li><li>'single_context.Oli_Kellis_eQTL.weight'</li><li>'single_context.Ast_10_Kellis_eQTL.PIP'</li><li>'single_context.Ast_10_Kellis_eQTL.conditional_effect'</li><li>'single_context.Ast_10_Kellis_eQTL.weight'</li><li>'single_context.OPC_DeJager_eQTL.PIP'</li><li>'single_context.OPC_DeJager_eQTL.conditional_effect'</li><li>'single_context.OPC_DeJager_eQTL.weight'</li><li>'single_context.Mic_13_Kellis_eQTL.PIP'</li><li>'single_context.Mic_13_Kellis_eQTL.conditional_effect'</li><li>'single_context.Mic_13_Kellis_eQTL.weight'</li><li>'single_context.Oli_DeJager_eQTL.PIP'</li><li>'single_context.Oli_DeJager_eQTL.conditional_effect'</li><li>'single_context.Oli_DeJager_eQTL.weight'</li><li>'single_context.Oli_mega_eQTL.PIP'</li><li>'single_context.Oli_mega_eQTL.conditional_effect'</li><li>'single_context.Oli_mega_eQTL.weight'</li><li>'single_context.Mic_Kellis_eQTL.PIP'</li><li>'single_context.Mic_Kellis_eQTL.conditional_effect'</li><li>'single_context.Mic_Kellis_eQTL.weight'</li><li>'single_context.PCC_DeJager_eQTL.PIP'</li><li>'single_context.PCC_DeJager_eQTL.conditional_effect'</li><li>'single_context.PCC_DeJager_eQTL.weight'</li><li>'single_context.MiGA_GFM_eQTL.PIP'</li><li>'single_context.MiGA_GFM_eQTL.conditional_effect'</li><li>'single_context.MiGA_GFM_eQTL.weight'</li><li>'single_context.DLPFC_DeJager_eQTL.PIP'</li><li>'single_context.DLPFC_DeJager_eQTL.conditional_effect'</li><li>'single_context.DLPFC_DeJager_eQTL.weight'</li><li>'single_context.DLPFC_Klein_gpQTL_unadjusted.PIP'</li><li>'single_context.DLPFC_Klein_gpQTL_unadjusted.conditional_effect'</li><li>'single_context.DLPFC_Klein_gpQTL_unadjusted.weight'</li><li>'single_context.Metabrain_Basalganglia.PIP'</li><li>'single_context.Metabrain_Basalganglia.conditional_effect'</li><li>'single_context.Metabrain_Basalganglia.weight'</li><li>'single_context.OPC_Kellis_eQTL.PIP'</li><li>'single_context.OPC_Kellis_eQTL.conditional_effect'</li><li>'single_context.OPC_Kellis_eQTL.weight'</li><li>'single_context.MiGA_THA_eQTL.PIP'</li><li>'single_context.MiGA_THA_eQTL.conditional_effect'</li><li>'single_context.MiGA_THA_eQTL.weight'</li><li>'single_context.Ast_Kellis_eQTL.PIP'</li><li>'single_context.Ast_Kellis_eQTL.conditional_effect'</li><li>'single_context.Ast_Kellis_eQTL.weight'</li><li>'single_context.ROSMAP_DLPFC_sQTL.PIP'</li><li>'single_context.ROSMAP_DLPFC_sQTL.conditional_effect'</li><li>'single_context.ROSMAP_DLPFC_sQTL.weight'</li><li>'single_context.Inh_DeJager_eQTL.PIP'</li><li>'single_context.Inh_DeJager_eQTL.conditional_effect'</li><li>'single_context.Inh_DeJager_eQTL.weight'</li><li>'single_context.Metabrain_Cerebellum.PIP'</li><li>'single_context.Metabrain_Cerebellum.conditional_effect'</li><li>'single_context.Metabrain_Cerebellum.weight'</li><li>'single_context.Exc_Kellis_eQTL.PIP'</li><li>'single_context.Exc_Kellis_eQTL.conditional_effect'</li><li>'single_context.Exc_Kellis_eQTL.weight'</li><li>'single_context.MSBB_BM36_pQTL.PIP'</li><li>'single_context.MSBB_BM36_pQTL.conditional_effect'</li><li>'single_context.MSBB_BM36_pQTL.weight'</li><li>'single_context.Metabrain_Spinalcord.PIP'</li><li>'single_context.Metabrain_Spinalcord.conditional_effect'</li><li>'single_context.Metabrain_Spinalcord.weight'</li><li>'single_context.Metabrain_Hippocampus.PIP'</li><li>'single_context.Metabrain_Hippocampus.conditional_effect'</li><li>'single_context.Metabrain_Hippocampus.weight'</li><li>'multi_context.MSBB.PIP'</li><li>'multi_context.MSBB.BM_10_MSBB_eQTL.conditional_effect'</li><li>'multi_context.MSBB.BM_10_MSBB_eQTL.weight'</li><li>'multi_context.MSBB.BM_22_MSBB_eQTL.conditional_effect'</li><li>'multi_context.MSBB.BM_22_MSBB_eQTL.weight'</li><li>'multi_context.MSBB.BM_44_MSBB_eQTL.conditional_effect'</li><li>'multi_context.MSBB.BM_44_MSBB_eQTL.weight'</li><li>'multi_context.MSBB.BM_36_MSBB_eQTL.conditional_effect'</li><li>'multi_context.MSBB.BM_36_MSBB_eQTL.weight'</li><li>'multi_context.ROSMAP.PIP'</li><li>'multi_context.ROSMAP.OPC_DeJager_eQTL.conditional_effect'</li><li>'multi_context.ROSMAP.OPC_DeJager_eQTL.weight'</li><li>'multi_context.ROSMAP.Exc_DeJager_eQTL.conditional_effect'</li><li>'multi_context.ROSMAP.Exc_DeJager_eQTL.weight'</li><li>'multi_context.ROSMAP.DLPFC_DeJager_eQTL.conditional_effect'</li><li>'multi_context.ROSMAP.DLPFC_DeJager_eQTL.weight'</li><li>'multi_context.ROSMAP.DLPFC_Bennett_pQTL.conditional_effect'</li><li>'multi_context.ROSMAP.DLPFC_Bennett_pQTL.weight'</li><li>'multi_context.ROSMAP.Mic_DeJager_eQTL.conditional_effect'</li><li>'multi_context.ROSMAP.Mic_DeJager_eQTL.weight'</li><li>'multi_context.ROSMAP.Inh_DeJager_eQTL.conditional_effect'</li><li>'multi_context.ROSMAP.Inh_DeJager_eQTL.weight'</li><li>'multi_context.ROSMAP.Oli_DeJager_eQTL.conditional_effect'</li><li>'multi_context.ROSMAP.Oli_DeJager_eQTL.weight'</li><li>'multi_context.ROSMAP.Ast_DeJager_eQTL.conditional_effect'</li><li>'multi_context.ROSMAP.Ast_DeJager_eQTL.weight'</li><li>'multi_context.ROSMAP.monocyte_ROSMAP_eQTL.conditional_effect'</li><li>'multi_context.ROSMAP.monocyte_ROSMAP_eQTL.weight'</li><li>'multi_context.ROSMAP.PCC_DeJager_eQTL.conditional_effect'</li><li>'multi_context.ROSMAP.PCC_DeJager_eQTL.weight'</li><li>'multi_context.ROSMAP.AC_DeJager_eQTL.conditional_effect'</li><li>'multi_context.ROSMAP.AC_DeJager_eQTL.weight'</li><li>'multi_gene.ROSMAP_Mic_DeJager_eQTL.PIP'</li><li>'multi_gene.ROSMAP_Mic_DeJager_eQTL.conditional_effect'</li><li>'multi_gene.ROSMAP_Mic_DeJager_eQTL.weight'</li><li>'multi_gene.ROSMAP_Exc_mega_eQTL.PIP'</li><li>'multi_gene.ROSMAP_Exc_mega_eQTL.conditional_effect'</li><li>'multi_gene.ROSMAP_Exc_mega_eQTL.weight'</li><li>'multi_gene.ROSMAP_PCC_DeJager_eQTL.PIP'</li><li>'multi_gene.ROSMAP_PCC_DeJager_eQTL.conditional_effect'</li><li>'multi_gene.ROSMAP_PCC_DeJager_eQTL.weight'</li><li>'multi_gene.ROSMAP_Ast_DeJager_eQTL.PIP'</li><li>'multi_gene.ROSMAP_Ast_DeJager_eQTL.conditional_effect'</li><li>'multi_gene.ROSMAP_Ast_DeJager_eQTL.weight'</li><li>'multi_gene.MSBB_BM_44_eQTL.PIP'</li><li>'multi_gene.MSBB_BM_44_eQTL.conditional_effect'</li><li>'multi_gene.MSBB_BM_44_eQTL.weight'</li><li>'multi_gene.ROSMAP_Oli_DeJager_eQTL.PIP'</li><li>'multi_gene.ROSMAP_Oli_DeJager_eQTL.conditional_effect'</li><li>'multi_gene.ROSMAP_Oli_DeJager_eQTL.weight'</li><li>'multi_gene.MSBB_BM_22_eQTL.PIP'</li><li>'multi_gene.MSBB_BM_22_eQTL.conditional_effect'</li><li>'multi_gene.MSBB_BM_22_eQTL.weight'</li><li>'multi_gene.MSBB_BM_10_eQTL.PIP'</li><li>'multi_gene.MSBB_BM_10_eQTL.conditional_effect'</li><li>'multi_gene.MSBB_BM_10_eQTL.weight'</li><li>'multi_gene.ROSMAP_Oli_mega_eQTL.PIP'</li><li>'multi_gene.ROSMAP_Oli_mega_eQTL.conditional_effect'</li><li>'multi_gene.ROSMAP_Oli_mega_eQTL.weight'</li><li>'multi_gene.ROSMAP_Ast_mega_eQTL.PIP'</li><li>'multi_gene.ROSMAP_Ast_mega_eQTL.conditional_effect'</li><li>'multi_gene.ROSMAP_Ast_mega_eQTL.weight'</li><li>'multi_gene.ROSMAP_monocyte_ROSMAP_eQTL.PIP'</li><li>'multi_gene.ROSMAP_monocyte_ROSMAP_eQTL.conditional_effect'</li><li>'multi_gene.ROSMAP_monocyte_ROSMAP_eQTL.weight'</li><li>'multi_gene.MSBB_BM_36_eQTL.PIP'</li><li>'multi_gene.MSBB_BM_36_eQTL.conditional_effect'</li><li>'multi_gene.MSBB_BM_36_eQTL.weight'</li><li>'multi_gene.ROSMAP_Mic_mega_eQTL.PIP'</li><li>'multi_gene.ROSMAP_Mic_mega_eQTL.conditional_effect'</li><li>'multi_gene.ROSMAP_Mic_mega_eQTL.weight'</li><li>'multi_gene.ROSMAP_Inh_DeJager_eQTL.PIP'</li><li>'multi_gene.ROSMAP_Inh_DeJager_eQTL.conditional_effect'</li><li>'multi_gene.ROSMAP_Inh_DeJager_eQTL.weight'</li><li>'multi_gene.ROSMAP_AC_DeJager_eQTL.PIP'</li><li>'multi_gene.ROSMAP_AC_DeJager_eQTL.conditional_effect'</li><li>'multi_gene.ROSMAP_AC_DeJager_eQTL.weight'</li><li>'multi_gene.ROSMAP_Inh_mega_eQTL.PIP'</li><li>'multi_gene.ROSMAP_Inh_mega_eQTL.conditional_effect'</li><li>'multi_gene.ROSMAP_Inh_mega_eQTL.weight'</li><li>'multi_gene.ROSMAP_OPC_DeJager_eQTL.PIP'</li><li>'multi_gene.ROSMAP_OPC_DeJager_eQTL.conditional_effect'</li><li>'multi_gene.ROSMAP_OPC_DeJager_eQTL.weight'</li><li>'multi_gene.ROSMAP_DLPFC_DeJager_eQTL.PIP'</li><li>'multi_gene.ROSMAP_DLPFC_DeJager_eQTL.conditional_effect'</li><li>'multi_gene.ROSMAP_DLPFC_DeJager_eQTL.weight'</li><li>'multi_gene.ROSMAP_Exc_DeJager_eQTL.PIP'</li><li>'multi_gene.ROSMAP_Exc_DeJager_eQTL.conditional_effect'</li><li>'multi_gene.ROSMAP_Exc_DeJager_eQTL.weight'</li><li>'multi_gene.ROSMAP_DLPFC_Bennett_pQTL.PIP'</li><li>'multi_gene.ROSMAP_DLPFC_Bennett_pQTL.conditional_effect'</li><li>'multi_gene.ROSMAP_DLPFC_Bennett_pQTL.weight'</li><li>'multi_gene.ROSMAP_OPC_mega_eQTL.PIP'</li><li>'multi_gene.ROSMAP_OPC_mega_eQTL.conditional_effect'</li><li>'multi_gene.ROSMAP_OPC_mega_eQTL.weight'</li><li>'trans.Knight_pQTL.PIP'</li><li>'trans.Knight_pQTL.conditional_effect'</li><li>'trans.MSBB_eQTL_BM22.PIP'</li><li>'trans.MSBB_eQTL_BM22.conditional_effect'</li><li>'trans.Knight_eQTL.PIP'</li><li>'trans.Knight_eQTL.conditional_effect'</li><li>'trans.MSBB_eQTL_BM10.PIP'</li><li>'trans.MSBB_eQTL_BM10.conditional_effect'</li><li>'EpiRaction.EPIraction_Brain_Alzheimer_Control_thresholded_predictions_0.026'</li><li>'ABC_dpfc'</li><li>'EpiMap'</li><li>'Baseline_Predss.dist_to_tss'</li><li>'Baseline_Predss.nearest_expressed_gene'</li><li>'EpiRaction.EPIraction_Brain_Alzheimer_Disease_thresholded_predictions_0.026'</li><li>'EpiRaction.EPIraction_Brain_Alzheimer_Encode_thresholded_predictions_0.026'</li><li>'xqtl_only_colocboost_export_filtered_MSBB.VCP'</li><li>'xqtl_only_colocboost_export_filtered_ROSMAP.VCP'</li><li>'ABC_ENCODE_E2G_2022.ABC_DNaseH3K27ac_BRN'</li><li>'ADASTRA2021_BillCipher.ADASTRA_UseAvgOnNonTested_brain'</li><li>'Altius_2024_DNase.annotations.rsids_FDR10_Brain'</li><li>'Altius_2024_DNase.annotations.rsids_Nominal_Brain'</li><li>'Enformer.Enformer_brain_CAGE'</li><li>'Enformer.Enformer_brain_CHIP'</li><li>'Enformer.Enformer_brain_DNASE'</li><li>'Enformer.Enformer_brain_H3K27ac'</li><li>'Enformer.Enformer_brain_H3K4me1'</li><li>'Enformer.Enformer_brain_H3K4me3'</li><li>'Enformer.Enformer_brain_all'</li><li>'GTEx_Flagship.GTEx_Finemap_PIP_10_brain'</li><li>'GTEx_Flagship.GTEx_Finemap_PIP_50_brain'</li><li>'cCREv4_Human_CellType.BRN_PLS'</li><li>'cCREv4_Human_CellType.BRN_dELS'</li><li>'cCREv4_Human_CellType.BRN_pELS'</li><li>'chrmbpnet_brain_abs_logfc_x_jsd_x_max_percentile'</li><li>'chrmbpnet_brain_abs_logfc_x_max_percentile'</li><li>'chrmbpnet_brain_jsd_x_max_percentile'</li></ol>\n"
      ],
      "text/latex": [
       "\\begin{enumerate*}\n",
       "\\item 'CHR'\n",
       "\\item 'BP'\n",
       "\\item 'SNP'\n",
       "\\item 'exon'\n",
       "\\item 's\\_in\\_g'\n",
       "\\item 'same\\_tad'\n",
       "\\item 'proximal\\_tad'\n",
       "\\item 'g\\_closest\\_tss'\n",
       "\\item 'single\\_context.Inh\\_mega\\_eQTL.PIP'\n",
       "\\item 'single\\_context.Inh\\_mega\\_eQTL.conditional\\_effect'\n",
       "\\item 'single\\_context.Inh\\_mega\\_eQTL.weight'\n",
       "\\item 'single\\_context.Inh\\_Kellis\\_eQTL.PIP'\n",
       "\\item 'single\\_context.Inh\\_Kellis\\_eQTL.conditional\\_effect'\n",
       "\\item 'single\\_context.Inh\\_Kellis\\_eQTL.weight'\n",
       "\\item 'single\\_context.ROSMAP\\_PCC\\_sQTL.PIP'\n",
       "\\item 'single\\_context.ROSMAP\\_PCC\\_sQTL.conditional\\_effect'\n",
       "\\item 'single\\_context.ROSMAP\\_PCC\\_sQTL.weight'\n",
       "\\item 'single\\_context.MiGA\\_GTS\\_eQTL.PIP'\n",
       "\\item 'single\\_context.MiGA\\_GTS\\_eQTL.conditional\\_effect'\n",
       "\\item 'single\\_context.MiGA\\_GTS\\_eQTL.weight'\n",
       "\\item 'single\\_context.monocyte\\_ROSMAP\\_eQTL.PIP'\n",
       "\\item 'single\\_context.monocyte\\_ROSMAP\\_eQTL.conditional\\_effect'\n",
       "\\item 'single\\_context.monocyte\\_ROSMAP\\_eQTL.weight'\n",
       "\\item 'single\\_context.Ast\\_DeJager\\_eQTL.PIP'\n",
       "\\item 'single\\_context.Ast\\_DeJager\\_eQTL.conditional\\_effect'\n",
       "\\item 'single\\_context.Ast\\_DeJager\\_eQTL.weight'\n",
       "\\item 'single\\_context.Ast\\_mega\\_eQTL.PIP'\n",
       "\\item 'single\\_context.Ast\\_mega\\_eQTL.conditional\\_effect'\n",
       "\\item 'single\\_context.Ast\\_mega\\_eQTL.weight'\n",
       "\\item 'single\\_context.BM\\_10\\_MSBB\\_eQTL.PIP'\n",
       "\\item 'single\\_context.BM\\_10\\_MSBB\\_eQTL.conditional\\_effect'\n",
       "\\item 'single\\_context.BM\\_10\\_MSBB\\_eQTL.weight'\n",
       "\\item 'single\\_context.Mic\\_DeJager\\_eQTL.PIP'\n",
       "\\item 'single\\_context.Mic\\_DeJager\\_eQTL.conditional\\_effect'\n",
       "\\item 'single\\_context.Mic\\_DeJager\\_eQTL.weight'\n",
       "\\item 'single\\_context.Knight\\_pQTL\\_brain.PIP'\n",
       "\\item 'single\\_context.Knight\\_pQTL\\_brain.conditional\\_effect'\n",
       "\\item 'single\\_context.Knight\\_pQTL\\_brain.weight'\n",
       "\\item 'single\\_context.STARNET\\_eQTL\\_Mac.PIP'\n",
       "\\item 'single\\_context.STARNET\\_eQTL\\_Mac.conditional\\_effect'\n",
       "\\item 'single\\_context.STARNET\\_eQTL\\_Mac.weight'\n",
       "\\item 'single\\_context.DLPFC\\_Klein\\_gpQTL\\_adjusted.PIP'\n",
       "\\item 'single\\_context.DLPFC\\_Klein\\_gpQTL\\_adjusted.conditional\\_effect'\n",
       "\\item 'single\\_context.DLPFC\\_Klein\\_gpQTL\\_adjusted.weight'\n",
       "\\item 'single\\_context.MiGA\\_SVZ\\_eQTL.PIP'\n",
       "\\item 'single\\_context.MiGA\\_SVZ\\_eQTL.conditional\\_effect'\n",
       "\\item 'single\\_context.MiGA\\_SVZ\\_eQTL.weight'\n",
       "\\item 'single\\_context.BM\\_36\\_MSBB\\_eQTL.PIP'\n",
       "\\item 'single\\_context.BM\\_36\\_MSBB\\_eQTL.conditional\\_effect'\n",
       "\\item 'single\\_context.BM\\_36\\_MSBB\\_eQTL.weight'\n",
       "\\item 'single\\_context.OPC\\_mega\\_eQTL.PIP'\n",
       "\\item 'single\\_context.OPC\\_mega\\_eQTL.conditional\\_effect'\n",
       "\\item 'single\\_context.OPC\\_mega\\_eQTL.weight'\n",
       "\\item 'single\\_context.BM\\_44\\_MSBB\\_eQTL.PIP'\n",
       "\\item 'single\\_context.BM\\_44\\_MSBB\\_eQTL.conditional\\_effect'\n",
       "\\item 'single\\_context.BM\\_44\\_MSBB\\_eQTL.weight'\n",
       "\\item 'single\\_context.Mic\\_mega\\_eQTL.PIP'\n",
       "\\item 'single\\_context.Mic\\_mega\\_eQTL.conditional\\_effect'\n",
       "\\item 'single\\_context.Mic\\_mega\\_eQTL.weight'\n",
       "\\item 'single\\_context.Exc\\_mega\\_eQTL.PIP'\n",
       "\\item 'single\\_context.Exc\\_mega\\_eQTL.conditional\\_effect'\n",
       "\\item 'single\\_context.Exc\\_mega\\_eQTL.weight'\n",
       "\\item 'single\\_context.AC\\_DeJager\\_eQTL.PIP'\n",
       "\\item 'single\\_context.AC\\_DeJager\\_eQTL.conditional\\_effect'\n",
       "\\item 'single\\_context.AC\\_DeJager\\_eQTL.weight'\n",
       "\\item 'single\\_context.Exc\\_DeJager\\_eQTL.PIP'\n",
       "\\item 'single\\_context.Exc\\_DeJager\\_eQTL.conditional\\_effect'\n",
       "\\item 'single\\_context.Exc\\_DeJager\\_eQTL.weight'\n",
       "\\item 'single\\_context.ROSMAP\\_AC\\_sQTL.PIP'\n",
       "\\item 'single\\_context.ROSMAP\\_AC\\_sQTL.conditional\\_effect'\n",
       "\\item 'single\\_context.ROSMAP\\_AC\\_sQTL.weight'\n",
       "\\item 'single\\_context.Metabrain\\_Cortex.PIP'\n",
       "\\item 'single\\_context.Metabrain\\_Cortex.conditional\\_effect'\n",
       "\\item 'single\\_context.Metabrain\\_Cortex.weight'\n",
       "\\item 'single\\_context.Mic\\_12\\_Kellis\\_eQTL.PIP'\n",
       "\\item 'single\\_context.Mic\\_12\\_Kellis\\_eQTL.conditional\\_effect'\n",
       "\\item 'single\\_context.Mic\\_12\\_Kellis\\_eQTL.weight'\n",
       "\\item 'single\\_context.Knight\\_eQTL\\_brain.PIP'\n",
       "\\item 'single\\_context.Knight\\_eQTL\\_brain.conditional\\_effect'\n",
       "\\item 'single\\_context.Knight\\_eQTL\\_brain.weight'\n",
       "\\item 'single\\_context.BM\\_22\\_MSBB\\_eQTL.PIP'\n",
       "\\item 'single\\_context.BM\\_22\\_MSBB\\_eQTL.conditional\\_effect'\n",
       "\\item 'single\\_context.BM\\_22\\_MSBB\\_eQTL.weight'\n",
       "\\item 'single\\_context.DLPFC\\_Bennett\\_pQTL.PIP'\n",
       "\\item 'single\\_context.DLPFC\\_Bennett\\_pQTL.conditional\\_effect'\n",
       "\\item 'single\\_context.DLPFC\\_Bennett\\_pQTL.weight'\n",
       "\\item 'single\\_context.Oli\\_Kellis\\_eQTL.PIP'\n",
       "\\item 'single\\_context.Oli\\_Kellis\\_eQTL.conditional\\_effect'\n",
       "\\item 'single\\_context.Oli\\_Kellis\\_eQTL.weight'\n",
       "\\item 'single\\_context.Ast\\_10\\_Kellis\\_eQTL.PIP'\n",
       "\\item 'single\\_context.Ast\\_10\\_Kellis\\_eQTL.conditional\\_effect'\n",
       "\\item 'single\\_context.Ast\\_10\\_Kellis\\_eQTL.weight'\n",
       "\\item 'single\\_context.OPC\\_DeJager\\_eQTL.PIP'\n",
       "\\item 'single\\_context.OPC\\_DeJager\\_eQTL.conditional\\_effect'\n",
       "\\item 'single\\_context.OPC\\_DeJager\\_eQTL.weight'\n",
       "\\item 'single\\_context.Mic\\_13\\_Kellis\\_eQTL.PIP'\n",
       "\\item 'single\\_context.Mic\\_13\\_Kellis\\_eQTL.conditional\\_effect'\n",
       "\\item 'single\\_context.Mic\\_13\\_Kellis\\_eQTL.weight'\n",
       "\\item 'single\\_context.Oli\\_DeJager\\_eQTL.PIP'\n",
       "\\item 'single\\_context.Oli\\_DeJager\\_eQTL.conditional\\_effect'\n",
       "\\item 'single\\_context.Oli\\_DeJager\\_eQTL.weight'\n",
       "\\item 'single\\_context.Oli\\_mega\\_eQTL.PIP'\n",
       "\\item 'single\\_context.Oli\\_mega\\_eQTL.conditional\\_effect'\n",
       "\\item 'single\\_context.Oli\\_mega\\_eQTL.weight'\n",
       "\\item 'single\\_context.Mic\\_Kellis\\_eQTL.PIP'\n",
       "\\item 'single\\_context.Mic\\_Kellis\\_eQTL.conditional\\_effect'\n",
       "\\item 'single\\_context.Mic\\_Kellis\\_eQTL.weight'\n",
       "\\item 'single\\_context.PCC\\_DeJager\\_eQTL.PIP'\n",
       "\\item 'single\\_context.PCC\\_DeJager\\_eQTL.conditional\\_effect'\n",
       "\\item 'single\\_context.PCC\\_DeJager\\_eQTL.weight'\n",
       "\\item 'single\\_context.MiGA\\_GFM\\_eQTL.PIP'\n",
       "\\item 'single\\_context.MiGA\\_GFM\\_eQTL.conditional\\_effect'\n",
       "\\item 'single\\_context.MiGA\\_GFM\\_eQTL.weight'\n",
       "\\item 'single\\_context.DLPFC\\_DeJager\\_eQTL.PIP'\n",
       "\\item 'single\\_context.DLPFC\\_DeJager\\_eQTL.conditional\\_effect'\n",
       "\\item 'single\\_context.DLPFC\\_DeJager\\_eQTL.weight'\n",
       "\\item 'single\\_context.DLPFC\\_Klein\\_gpQTL\\_unadjusted.PIP'\n",
       "\\item 'single\\_context.DLPFC\\_Klein\\_gpQTL\\_unadjusted.conditional\\_effect'\n",
       "\\item 'single\\_context.DLPFC\\_Klein\\_gpQTL\\_unadjusted.weight'\n",
       "\\item 'single\\_context.Metabrain\\_Basalganglia.PIP'\n",
       "\\item 'single\\_context.Metabrain\\_Basalganglia.conditional\\_effect'\n",
       "\\item 'single\\_context.Metabrain\\_Basalganglia.weight'\n",
       "\\item 'single\\_context.OPC\\_Kellis\\_eQTL.PIP'\n",
       "\\item 'single\\_context.OPC\\_Kellis\\_eQTL.conditional\\_effect'\n",
       "\\item 'single\\_context.OPC\\_Kellis\\_eQTL.weight'\n",
       "\\item 'single\\_context.MiGA\\_THA\\_eQTL.PIP'\n",
       "\\item 'single\\_context.MiGA\\_THA\\_eQTL.conditional\\_effect'\n",
       "\\item 'single\\_context.MiGA\\_THA\\_eQTL.weight'\n",
       "\\item 'single\\_context.Ast\\_Kellis\\_eQTL.PIP'\n",
       "\\item 'single\\_context.Ast\\_Kellis\\_eQTL.conditional\\_effect'\n",
       "\\item 'single\\_context.Ast\\_Kellis\\_eQTL.weight'\n",
       "\\item 'single\\_context.ROSMAP\\_DLPFC\\_sQTL.PIP'\n",
       "\\item 'single\\_context.ROSMAP\\_DLPFC\\_sQTL.conditional\\_effect'\n",
       "\\item 'single\\_context.ROSMAP\\_DLPFC\\_sQTL.weight'\n",
       "\\item 'single\\_context.Inh\\_DeJager\\_eQTL.PIP'\n",
       "\\item 'single\\_context.Inh\\_DeJager\\_eQTL.conditional\\_effect'\n",
       "\\item 'single\\_context.Inh\\_DeJager\\_eQTL.weight'\n",
       "\\item 'single\\_context.Metabrain\\_Cerebellum.PIP'\n",
       "\\item 'single\\_context.Metabrain\\_Cerebellum.conditional\\_effect'\n",
       "\\item 'single\\_context.Metabrain\\_Cerebellum.weight'\n",
       "\\item 'single\\_context.Exc\\_Kellis\\_eQTL.PIP'\n",
       "\\item 'single\\_context.Exc\\_Kellis\\_eQTL.conditional\\_effect'\n",
       "\\item 'single\\_context.Exc\\_Kellis\\_eQTL.weight'\n",
       "\\item 'single\\_context.MSBB\\_BM36\\_pQTL.PIP'\n",
       "\\item 'single\\_context.MSBB\\_BM36\\_pQTL.conditional\\_effect'\n",
       "\\item 'single\\_context.MSBB\\_BM36\\_pQTL.weight'\n",
       "\\item 'single\\_context.Metabrain\\_Spinalcord.PIP'\n",
       "\\item 'single\\_context.Metabrain\\_Spinalcord.conditional\\_effect'\n",
       "\\item 'single\\_context.Metabrain\\_Spinalcord.weight'\n",
       "\\item 'single\\_context.Metabrain\\_Hippocampus.PIP'\n",
       "\\item 'single\\_context.Metabrain\\_Hippocampus.conditional\\_effect'\n",
       "\\item 'single\\_context.Metabrain\\_Hippocampus.weight'\n",
       "\\item 'multi\\_context.MSBB.PIP'\n",
       "\\item 'multi\\_context.MSBB.BM\\_10\\_MSBB\\_eQTL.conditional\\_effect'\n",
       "\\item 'multi\\_context.MSBB.BM\\_10\\_MSBB\\_eQTL.weight'\n",
       "\\item 'multi\\_context.MSBB.BM\\_22\\_MSBB\\_eQTL.conditional\\_effect'\n",
       "\\item 'multi\\_context.MSBB.BM\\_22\\_MSBB\\_eQTL.weight'\n",
       "\\item 'multi\\_context.MSBB.BM\\_44\\_MSBB\\_eQTL.conditional\\_effect'\n",
       "\\item 'multi\\_context.MSBB.BM\\_44\\_MSBB\\_eQTL.weight'\n",
       "\\item 'multi\\_context.MSBB.BM\\_36\\_MSBB\\_eQTL.conditional\\_effect'\n",
       "\\item 'multi\\_context.MSBB.BM\\_36\\_MSBB\\_eQTL.weight'\n",
       "\\item 'multi\\_context.ROSMAP.PIP'\n",
       "\\item 'multi\\_context.ROSMAP.OPC\\_DeJager\\_eQTL.conditional\\_effect'\n",
       "\\item 'multi\\_context.ROSMAP.OPC\\_DeJager\\_eQTL.weight'\n",
       "\\item 'multi\\_context.ROSMAP.Exc\\_DeJager\\_eQTL.conditional\\_effect'\n",
       "\\item 'multi\\_context.ROSMAP.Exc\\_DeJager\\_eQTL.weight'\n",
       "\\item 'multi\\_context.ROSMAP.DLPFC\\_DeJager\\_eQTL.conditional\\_effect'\n",
       "\\item 'multi\\_context.ROSMAP.DLPFC\\_DeJager\\_eQTL.weight'\n",
       "\\item 'multi\\_context.ROSMAP.DLPFC\\_Bennett\\_pQTL.conditional\\_effect'\n",
       "\\item 'multi\\_context.ROSMAP.DLPFC\\_Bennett\\_pQTL.weight'\n",
       "\\item 'multi\\_context.ROSMAP.Mic\\_DeJager\\_eQTL.conditional\\_effect'\n",
       "\\item 'multi\\_context.ROSMAP.Mic\\_DeJager\\_eQTL.weight'\n",
       "\\item 'multi\\_context.ROSMAP.Inh\\_DeJager\\_eQTL.conditional\\_effect'\n",
       "\\item 'multi\\_context.ROSMAP.Inh\\_DeJager\\_eQTL.weight'\n",
       "\\item 'multi\\_context.ROSMAP.Oli\\_DeJager\\_eQTL.conditional\\_effect'\n",
       "\\item 'multi\\_context.ROSMAP.Oli\\_DeJager\\_eQTL.weight'\n",
       "\\item 'multi\\_context.ROSMAP.Ast\\_DeJager\\_eQTL.conditional\\_effect'\n",
       "\\item 'multi\\_context.ROSMAP.Ast\\_DeJager\\_eQTL.weight'\n",
       "\\item 'multi\\_context.ROSMAP.monocyte\\_ROSMAP\\_eQTL.conditional\\_effect'\n",
       "\\item 'multi\\_context.ROSMAP.monocyte\\_ROSMAP\\_eQTL.weight'\n",
       "\\item 'multi\\_context.ROSMAP.PCC\\_DeJager\\_eQTL.conditional\\_effect'\n",
       "\\item 'multi\\_context.ROSMAP.PCC\\_DeJager\\_eQTL.weight'\n",
       "\\item 'multi\\_context.ROSMAP.AC\\_DeJager\\_eQTL.conditional\\_effect'\n",
       "\\item 'multi\\_context.ROSMAP.AC\\_DeJager\\_eQTL.weight'\n",
       "\\item 'multi\\_gene.ROSMAP\\_Mic\\_DeJager\\_eQTL.PIP'\n",
       "\\item 'multi\\_gene.ROSMAP\\_Mic\\_DeJager\\_eQTL.conditional\\_effect'\n",
       "\\item 'multi\\_gene.ROSMAP\\_Mic\\_DeJager\\_eQTL.weight'\n",
       "\\item 'multi\\_gene.ROSMAP\\_Exc\\_mega\\_eQTL.PIP'\n",
       "\\item 'multi\\_gene.ROSMAP\\_Exc\\_mega\\_eQTL.conditional\\_effect'\n",
       "\\item 'multi\\_gene.ROSMAP\\_Exc\\_mega\\_eQTL.weight'\n",
       "\\item 'multi\\_gene.ROSMAP\\_PCC\\_DeJager\\_eQTL.PIP'\n",
       "\\item 'multi\\_gene.ROSMAP\\_PCC\\_DeJager\\_eQTL.conditional\\_effect'\n",
       "\\item 'multi\\_gene.ROSMAP\\_PCC\\_DeJager\\_eQTL.weight'\n",
       "\\item 'multi\\_gene.ROSMAP\\_Ast\\_DeJager\\_eQTL.PIP'\n",
       "\\item 'multi\\_gene.ROSMAP\\_Ast\\_DeJager\\_eQTL.conditional\\_effect'\n",
       "\\item 'multi\\_gene.ROSMAP\\_Ast\\_DeJager\\_eQTL.weight'\n",
       "\\item 'multi\\_gene.MSBB\\_BM\\_44\\_eQTL.PIP'\n",
       "\\item 'multi\\_gene.MSBB\\_BM\\_44\\_eQTL.conditional\\_effect'\n",
       "\\item 'multi\\_gene.MSBB\\_BM\\_44\\_eQTL.weight'\n",
       "\\item 'multi\\_gene.ROSMAP\\_Oli\\_DeJager\\_eQTL.PIP'\n",
       "\\item 'multi\\_gene.ROSMAP\\_Oli\\_DeJager\\_eQTL.conditional\\_effect'\n",
       "\\item 'multi\\_gene.ROSMAP\\_Oli\\_DeJager\\_eQTL.weight'\n",
       "\\item 'multi\\_gene.MSBB\\_BM\\_22\\_eQTL.PIP'\n",
       "\\item 'multi\\_gene.MSBB\\_BM\\_22\\_eQTL.conditional\\_effect'\n",
       "\\item 'multi\\_gene.MSBB\\_BM\\_22\\_eQTL.weight'\n",
       "\\item 'multi\\_gene.MSBB\\_BM\\_10\\_eQTL.PIP'\n",
       "\\item 'multi\\_gene.MSBB\\_BM\\_10\\_eQTL.conditional\\_effect'\n",
       "\\item 'multi\\_gene.MSBB\\_BM\\_10\\_eQTL.weight'\n",
       "\\item 'multi\\_gene.ROSMAP\\_Oli\\_mega\\_eQTL.PIP'\n",
       "\\item 'multi\\_gene.ROSMAP\\_Oli\\_mega\\_eQTL.conditional\\_effect'\n",
       "\\item 'multi\\_gene.ROSMAP\\_Oli\\_mega\\_eQTL.weight'\n",
       "\\item 'multi\\_gene.ROSMAP\\_Ast\\_mega\\_eQTL.PIP'\n",
       "\\item 'multi\\_gene.ROSMAP\\_Ast\\_mega\\_eQTL.conditional\\_effect'\n",
       "\\item 'multi\\_gene.ROSMAP\\_Ast\\_mega\\_eQTL.weight'\n",
       "\\item 'multi\\_gene.ROSMAP\\_monocyte\\_ROSMAP\\_eQTL.PIP'\n",
       "\\item 'multi\\_gene.ROSMAP\\_monocyte\\_ROSMAP\\_eQTL.conditional\\_effect'\n",
       "\\item 'multi\\_gene.ROSMAP\\_monocyte\\_ROSMAP\\_eQTL.weight'\n",
       "\\item 'multi\\_gene.MSBB\\_BM\\_36\\_eQTL.PIP'\n",
       "\\item 'multi\\_gene.MSBB\\_BM\\_36\\_eQTL.conditional\\_effect'\n",
       "\\item 'multi\\_gene.MSBB\\_BM\\_36\\_eQTL.weight'\n",
       "\\item 'multi\\_gene.ROSMAP\\_Mic\\_mega\\_eQTL.PIP'\n",
       "\\item 'multi\\_gene.ROSMAP\\_Mic\\_mega\\_eQTL.conditional\\_effect'\n",
       "\\item 'multi\\_gene.ROSMAP\\_Mic\\_mega\\_eQTL.weight'\n",
       "\\item 'multi\\_gene.ROSMAP\\_Inh\\_DeJager\\_eQTL.PIP'\n",
       "\\item 'multi\\_gene.ROSMAP\\_Inh\\_DeJager\\_eQTL.conditional\\_effect'\n",
       "\\item 'multi\\_gene.ROSMAP\\_Inh\\_DeJager\\_eQTL.weight'\n",
       "\\item 'multi\\_gene.ROSMAP\\_AC\\_DeJager\\_eQTL.PIP'\n",
       "\\item 'multi\\_gene.ROSMAP\\_AC\\_DeJager\\_eQTL.conditional\\_effect'\n",
       "\\item 'multi\\_gene.ROSMAP\\_AC\\_DeJager\\_eQTL.weight'\n",
       "\\item 'multi\\_gene.ROSMAP\\_Inh\\_mega\\_eQTL.PIP'\n",
       "\\item 'multi\\_gene.ROSMAP\\_Inh\\_mega\\_eQTL.conditional\\_effect'\n",
       "\\item 'multi\\_gene.ROSMAP\\_Inh\\_mega\\_eQTL.weight'\n",
       "\\item 'multi\\_gene.ROSMAP\\_OPC\\_DeJager\\_eQTL.PIP'\n",
       "\\item 'multi\\_gene.ROSMAP\\_OPC\\_DeJager\\_eQTL.conditional\\_effect'\n",
       "\\item 'multi\\_gene.ROSMAP\\_OPC\\_DeJager\\_eQTL.weight'\n",
       "\\item 'multi\\_gene.ROSMAP\\_DLPFC\\_DeJager\\_eQTL.PIP'\n",
       "\\item 'multi\\_gene.ROSMAP\\_DLPFC\\_DeJager\\_eQTL.conditional\\_effect'\n",
       "\\item 'multi\\_gene.ROSMAP\\_DLPFC\\_DeJager\\_eQTL.weight'\n",
       "\\item 'multi\\_gene.ROSMAP\\_Exc\\_DeJager\\_eQTL.PIP'\n",
       "\\item 'multi\\_gene.ROSMAP\\_Exc\\_DeJager\\_eQTL.conditional\\_effect'\n",
       "\\item 'multi\\_gene.ROSMAP\\_Exc\\_DeJager\\_eQTL.weight'\n",
       "\\item 'multi\\_gene.ROSMAP\\_DLPFC\\_Bennett\\_pQTL.PIP'\n",
       "\\item 'multi\\_gene.ROSMAP\\_DLPFC\\_Bennett\\_pQTL.conditional\\_effect'\n",
       "\\item 'multi\\_gene.ROSMAP\\_DLPFC\\_Bennett\\_pQTL.weight'\n",
       "\\item 'multi\\_gene.ROSMAP\\_OPC\\_mega\\_eQTL.PIP'\n",
       "\\item 'multi\\_gene.ROSMAP\\_OPC\\_mega\\_eQTL.conditional\\_effect'\n",
       "\\item 'multi\\_gene.ROSMAP\\_OPC\\_mega\\_eQTL.weight'\n",
       "\\item 'trans.Knight\\_pQTL.PIP'\n",
       "\\item 'trans.Knight\\_pQTL.conditional\\_effect'\n",
       "\\item 'trans.MSBB\\_eQTL\\_BM22.PIP'\n",
       "\\item 'trans.MSBB\\_eQTL\\_BM22.conditional\\_effect'\n",
       "\\item 'trans.Knight\\_eQTL.PIP'\n",
       "\\item 'trans.Knight\\_eQTL.conditional\\_effect'\n",
       "\\item 'trans.MSBB\\_eQTL\\_BM10.PIP'\n",
       "\\item 'trans.MSBB\\_eQTL\\_BM10.conditional\\_effect'\n",
       "\\item 'EpiRaction.EPIraction\\_Brain\\_Alzheimer\\_Control\\_thresholded\\_predictions\\_0.026'\n",
       "\\item 'ABC\\_dpfc'\n",
       "\\item 'EpiMap'\n",
       "\\item 'Baseline\\_Predss.dist\\_to\\_tss'\n",
       "\\item 'Baseline\\_Predss.nearest\\_expressed\\_gene'\n",
       "\\item 'EpiRaction.EPIraction\\_Brain\\_Alzheimer\\_Disease\\_thresholded\\_predictions\\_0.026'\n",
       "\\item 'EpiRaction.EPIraction\\_Brain\\_Alzheimer\\_Encode\\_thresholded\\_predictions\\_0.026'\n",
       "\\item 'xqtl\\_only\\_colocboost\\_export\\_filtered\\_MSBB.VCP'\n",
       "\\item 'xqtl\\_only\\_colocboost\\_export\\_filtered\\_ROSMAP.VCP'\n",
       "\\item 'ABC\\_ENCODE\\_E2G\\_2022.ABC\\_DNaseH3K27ac\\_BRN'\n",
       "\\item 'ADASTRA2021\\_BillCipher.ADASTRA\\_UseAvgOnNonTested\\_brain'\n",
       "\\item 'Altius\\_2024\\_DNase.annotations.rsids\\_FDR10\\_Brain'\n",
       "\\item 'Altius\\_2024\\_DNase.annotations.rsids\\_Nominal\\_Brain'\n",
       "\\item 'Enformer.Enformer\\_brain\\_CAGE'\n",
       "\\item 'Enformer.Enformer\\_brain\\_CHIP'\n",
       "\\item 'Enformer.Enformer\\_brain\\_DNASE'\n",
       "\\item 'Enformer.Enformer\\_brain\\_H3K27ac'\n",
       "\\item 'Enformer.Enformer\\_brain\\_H3K4me1'\n",
       "\\item 'Enformer.Enformer\\_brain\\_H3K4me3'\n",
       "\\item 'Enformer.Enformer\\_brain\\_all'\n",
       "\\item 'GTEx\\_Flagship.GTEx\\_Finemap\\_PIP\\_10\\_brain'\n",
       "\\item 'GTEx\\_Flagship.GTEx\\_Finemap\\_PIP\\_50\\_brain'\n",
       "\\item 'cCREv4\\_Human\\_CellType.BRN\\_PLS'\n",
       "\\item 'cCREv4\\_Human\\_CellType.BRN\\_dELS'\n",
       "\\item 'cCREv4\\_Human\\_CellType.BRN\\_pELS'\n",
       "\\item 'chrmbpnet\\_brain\\_abs\\_logfc\\_x\\_jsd\\_x\\_max\\_percentile'\n",
       "\\item 'chrmbpnet\\_brain\\_abs\\_logfc\\_x\\_max\\_percentile'\n",
       "\\item 'chrmbpnet\\_brain\\_jsd\\_x\\_max\\_percentile'\n",
       "\\end{enumerate*}\n"
      ],
      "text/markdown": [
       "1. 'CHR'\n",
       "2. 'BP'\n",
       "3. 'SNP'\n",
       "4. 'exon'\n",
       "5. 's_in_g'\n",
       "6. 'same_tad'\n",
       "7. 'proximal_tad'\n",
       "8. 'g_closest_tss'\n",
       "9. 'single_context.Inh_mega_eQTL.PIP'\n",
       "10. 'single_context.Inh_mega_eQTL.conditional_effect'\n",
       "11. 'single_context.Inh_mega_eQTL.weight'\n",
       "12. 'single_context.Inh_Kellis_eQTL.PIP'\n",
       "13. 'single_context.Inh_Kellis_eQTL.conditional_effect'\n",
       "14. 'single_context.Inh_Kellis_eQTL.weight'\n",
       "15. 'single_context.ROSMAP_PCC_sQTL.PIP'\n",
       "16. 'single_context.ROSMAP_PCC_sQTL.conditional_effect'\n",
       "17. 'single_context.ROSMAP_PCC_sQTL.weight'\n",
       "18. 'single_context.MiGA_GTS_eQTL.PIP'\n",
       "19. 'single_context.MiGA_GTS_eQTL.conditional_effect'\n",
       "20. 'single_context.MiGA_GTS_eQTL.weight'\n",
       "21. 'single_context.monocyte_ROSMAP_eQTL.PIP'\n",
       "22. 'single_context.monocyte_ROSMAP_eQTL.conditional_effect'\n",
       "23. 'single_context.monocyte_ROSMAP_eQTL.weight'\n",
       "24. 'single_context.Ast_DeJager_eQTL.PIP'\n",
       "25. 'single_context.Ast_DeJager_eQTL.conditional_effect'\n",
       "26. 'single_context.Ast_DeJager_eQTL.weight'\n",
       "27. 'single_context.Ast_mega_eQTL.PIP'\n",
       "28. 'single_context.Ast_mega_eQTL.conditional_effect'\n",
       "29. 'single_context.Ast_mega_eQTL.weight'\n",
       "30. 'single_context.BM_10_MSBB_eQTL.PIP'\n",
       "31. 'single_context.BM_10_MSBB_eQTL.conditional_effect'\n",
       "32. 'single_context.BM_10_MSBB_eQTL.weight'\n",
       "33. 'single_context.Mic_DeJager_eQTL.PIP'\n",
       "34. 'single_context.Mic_DeJager_eQTL.conditional_effect'\n",
       "35. 'single_context.Mic_DeJager_eQTL.weight'\n",
       "36. 'single_context.Knight_pQTL_brain.PIP'\n",
       "37. 'single_context.Knight_pQTL_brain.conditional_effect'\n",
       "38. 'single_context.Knight_pQTL_brain.weight'\n",
       "39. 'single_context.STARNET_eQTL_Mac.PIP'\n",
       "40. 'single_context.STARNET_eQTL_Mac.conditional_effect'\n",
       "41. 'single_context.STARNET_eQTL_Mac.weight'\n",
       "42. 'single_context.DLPFC_Klein_gpQTL_adjusted.PIP'\n",
       "43. 'single_context.DLPFC_Klein_gpQTL_adjusted.conditional_effect'\n",
       "44. 'single_context.DLPFC_Klein_gpQTL_adjusted.weight'\n",
       "45. 'single_context.MiGA_SVZ_eQTL.PIP'\n",
       "46. 'single_context.MiGA_SVZ_eQTL.conditional_effect'\n",
       "47. 'single_context.MiGA_SVZ_eQTL.weight'\n",
       "48. 'single_context.BM_36_MSBB_eQTL.PIP'\n",
       "49. 'single_context.BM_36_MSBB_eQTL.conditional_effect'\n",
       "50. 'single_context.BM_36_MSBB_eQTL.weight'\n",
       "51. 'single_context.OPC_mega_eQTL.PIP'\n",
       "52. 'single_context.OPC_mega_eQTL.conditional_effect'\n",
       "53. 'single_context.OPC_mega_eQTL.weight'\n",
       "54. 'single_context.BM_44_MSBB_eQTL.PIP'\n",
       "55. 'single_context.BM_44_MSBB_eQTL.conditional_effect'\n",
       "56. 'single_context.BM_44_MSBB_eQTL.weight'\n",
       "57. 'single_context.Mic_mega_eQTL.PIP'\n",
       "58. 'single_context.Mic_mega_eQTL.conditional_effect'\n",
       "59. 'single_context.Mic_mega_eQTL.weight'\n",
       "60. 'single_context.Exc_mega_eQTL.PIP'\n",
       "61. 'single_context.Exc_mega_eQTL.conditional_effect'\n",
       "62. 'single_context.Exc_mega_eQTL.weight'\n",
       "63. 'single_context.AC_DeJager_eQTL.PIP'\n",
       "64. 'single_context.AC_DeJager_eQTL.conditional_effect'\n",
       "65. 'single_context.AC_DeJager_eQTL.weight'\n",
       "66. 'single_context.Exc_DeJager_eQTL.PIP'\n",
       "67. 'single_context.Exc_DeJager_eQTL.conditional_effect'\n",
       "68. 'single_context.Exc_DeJager_eQTL.weight'\n",
       "69. 'single_context.ROSMAP_AC_sQTL.PIP'\n",
       "70. 'single_context.ROSMAP_AC_sQTL.conditional_effect'\n",
       "71. 'single_context.ROSMAP_AC_sQTL.weight'\n",
       "72. 'single_context.Metabrain_Cortex.PIP'\n",
       "73. 'single_context.Metabrain_Cortex.conditional_effect'\n",
       "74. 'single_context.Metabrain_Cortex.weight'\n",
       "75. 'single_context.Mic_12_Kellis_eQTL.PIP'\n",
       "76. 'single_context.Mic_12_Kellis_eQTL.conditional_effect'\n",
       "77. 'single_context.Mic_12_Kellis_eQTL.weight'\n",
       "78. 'single_context.Knight_eQTL_brain.PIP'\n",
       "79. 'single_context.Knight_eQTL_brain.conditional_effect'\n",
       "80. 'single_context.Knight_eQTL_brain.weight'\n",
       "81. 'single_context.BM_22_MSBB_eQTL.PIP'\n",
       "82. 'single_context.BM_22_MSBB_eQTL.conditional_effect'\n",
       "83. 'single_context.BM_22_MSBB_eQTL.weight'\n",
       "84. 'single_context.DLPFC_Bennett_pQTL.PIP'\n",
       "85. 'single_context.DLPFC_Bennett_pQTL.conditional_effect'\n",
       "86. 'single_context.DLPFC_Bennett_pQTL.weight'\n",
       "87. 'single_context.Oli_Kellis_eQTL.PIP'\n",
       "88. 'single_context.Oli_Kellis_eQTL.conditional_effect'\n",
       "89. 'single_context.Oli_Kellis_eQTL.weight'\n",
       "90. 'single_context.Ast_10_Kellis_eQTL.PIP'\n",
       "91. 'single_context.Ast_10_Kellis_eQTL.conditional_effect'\n",
       "92. 'single_context.Ast_10_Kellis_eQTL.weight'\n",
       "93. 'single_context.OPC_DeJager_eQTL.PIP'\n",
       "94. 'single_context.OPC_DeJager_eQTL.conditional_effect'\n",
       "95. 'single_context.OPC_DeJager_eQTL.weight'\n",
       "96. 'single_context.Mic_13_Kellis_eQTL.PIP'\n",
       "97. 'single_context.Mic_13_Kellis_eQTL.conditional_effect'\n",
       "98. 'single_context.Mic_13_Kellis_eQTL.weight'\n",
       "99. 'single_context.Oli_DeJager_eQTL.PIP'\n",
       "100. 'single_context.Oli_DeJager_eQTL.conditional_effect'\n",
       "101. 'single_context.Oli_DeJager_eQTL.weight'\n",
       "102. 'single_context.Oli_mega_eQTL.PIP'\n",
       "103. 'single_context.Oli_mega_eQTL.conditional_effect'\n",
       "104. 'single_context.Oli_mega_eQTL.weight'\n",
       "105. 'single_context.Mic_Kellis_eQTL.PIP'\n",
       "106. 'single_context.Mic_Kellis_eQTL.conditional_effect'\n",
       "107. 'single_context.Mic_Kellis_eQTL.weight'\n",
       "108. 'single_context.PCC_DeJager_eQTL.PIP'\n",
       "109. 'single_context.PCC_DeJager_eQTL.conditional_effect'\n",
       "110. 'single_context.PCC_DeJager_eQTL.weight'\n",
       "111. 'single_context.MiGA_GFM_eQTL.PIP'\n",
       "112. 'single_context.MiGA_GFM_eQTL.conditional_effect'\n",
       "113. 'single_context.MiGA_GFM_eQTL.weight'\n",
       "114. 'single_context.DLPFC_DeJager_eQTL.PIP'\n",
       "115. 'single_context.DLPFC_DeJager_eQTL.conditional_effect'\n",
       "116. 'single_context.DLPFC_DeJager_eQTL.weight'\n",
       "117. 'single_context.DLPFC_Klein_gpQTL_unadjusted.PIP'\n",
       "118. 'single_context.DLPFC_Klein_gpQTL_unadjusted.conditional_effect'\n",
       "119. 'single_context.DLPFC_Klein_gpQTL_unadjusted.weight'\n",
       "120. 'single_context.Metabrain_Basalganglia.PIP'\n",
       "121. 'single_context.Metabrain_Basalganglia.conditional_effect'\n",
       "122. 'single_context.Metabrain_Basalganglia.weight'\n",
       "123. 'single_context.OPC_Kellis_eQTL.PIP'\n",
       "124. 'single_context.OPC_Kellis_eQTL.conditional_effect'\n",
       "125. 'single_context.OPC_Kellis_eQTL.weight'\n",
       "126. 'single_context.MiGA_THA_eQTL.PIP'\n",
       "127. 'single_context.MiGA_THA_eQTL.conditional_effect'\n",
       "128. 'single_context.MiGA_THA_eQTL.weight'\n",
       "129. 'single_context.Ast_Kellis_eQTL.PIP'\n",
       "130. 'single_context.Ast_Kellis_eQTL.conditional_effect'\n",
       "131. 'single_context.Ast_Kellis_eQTL.weight'\n",
       "132. 'single_context.ROSMAP_DLPFC_sQTL.PIP'\n",
       "133. 'single_context.ROSMAP_DLPFC_sQTL.conditional_effect'\n",
       "134. 'single_context.ROSMAP_DLPFC_sQTL.weight'\n",
       "135. 'single_context.Inh_DeJager_eQTL.PIP'\n",
       "136. 'single_context.Inh_DeJager_eQTL.conditional_effect'\n",
       "137. 'single_context.Inh_DeJager_eQTL.weight'\n",
       "138. 'single_context.Metabrain_Cerebellum.PIP'\n",
       "139. 'single_context.Metabrain_Cerebellum.conditional_effect'\n",
       "140. 'single_context.Metabrain_Cerebellum.weight'\n",
       "141. 'single_context.Exc_Kellis_eQTL.PIP'\n",
       "142. 'single_context.Exc_Kellis_eQTL.conditional_effect'\n",
       "143. 'single_context.Exc_Kellis_eQTL.weight'\n",
       "144. 'single_context.MSBB_BM36_pQTL.PIP'\n",
       "145. 'single_context.MSBB_BM36_pQTL.conditional_effect'\n",
       "146. 'single_context.MSBB_BM36_pQTL.weight'\n",
       "147. 'single_context.Metabrain_Spinalcord.PIP'\n",
       "148. 'single_context.Metabrain_Spinalcord.conditional_effect'\n",
       "149. 'single_context.Metabrain_Spinalcord.weight'\n",
       "150. 'single_context.Metabrain_Hippocampus.PIP'\n",
       "151. 'single_context.Metabrain_Hippocampus.conditional_effect'\n",
       "152. 'single_context.Metabrain_Hippocampus.weight'\n",
       "153. 'multi_context.MSBB.PIP'\n",
       "154. 'multi_context.MSBB.BM_10_MSBB_eQTL.conditional_effect'\n",
       "155. 'multi_context.MSBB.BM_10_MSBB_eQTL.weight'\n",
       "156. 'multi_context.MSBB.BM_22_MSBB_eQTL.conditional_effect'\n",
       "157. 'multi_context.MSBB.BM_22_MSBB_eQTL.weight'\n",
       "158. 'multi_context.MSBB.BM_44_MSBB_eQTL.conditional_effect'\n",
       "159. 'multi_context.MSBB.BM_44_MSBB_eQTL.weight'\n",
       "160. 'multi_context.MSBB.BM_36_MSBB_eQTL.conditional_effect'\n",
       "161. 'multi_context.MSBB.BM_36_MSBB_eQTL.weight'\n",
       "162. 'multi_context.ROSMAP.PIP'\n",
       "163. 'multi_context.ROSMAP.OPC_DeJager_eQTL.conditional_effect'\n",
       "164. 'multi_context.ROSMAP.OPC_DeJager_eQTL.weight'\n",
       "165. 'multi_context.ROSMAP.Exc_DeJager_eQTL.conditional_effect'\n",
       "166. 'multi_context.ROSMAP.Exc_DeJager_eQTL.weight'\n",
       "167. 'multi_context.ROSMAP.DLPFC_DeJager_eQTL.conditional_effect'\n",
       "168. 'multi_context.ROSMAP.DLPFC_DeJager_eQTL.weight'\n",
       "169. 'multi_context.ROSMAP.DLPFC_Bennett_pQTL.conditional_effect'\n",
       "170. 'multi_context.ROSMAP.DLPFC_Bennett_pQTL.weight'\n",
       "171. 'multi_context.ROSMAP.Mic_DeJager_eQTL.conditional_effect'\n",
       "172. 'multi_context.ROSMAP.Mic_DeJager_eQTL.weight'\n",
       "173. 'multi_context.ROSMAP.Inh_DeJager_eQTL.conditional_effect'\n",
       "174. 'multi_context.ROSMAP.Inh_DeJager_eQTL.weight'\n",
       "175. 'multi_context.ROSMAP.Oli_DeJager_eQTL.conditional_effect'\n",
       "176. 'multi_context.ROSMAP.Oli_DeJager_eQTL.weight'\n",
       "177. 'multi_context.ROSMAP.Ast_DeJager_eQTL.conditional_effect'\n",
       "178. 'multi_context.ROSMAP.Ast_DeJager_eQTL.weight'\n",
       "179. 'multi_context.ROSMAP.monocyte_ROSMAP_eQTL.conditional_effect'\n",
       "180. 'multi_context.ROSMAP.monocyte_ROSMAP_eQTL.weight'\n",
       "181. 'multi_context.ROSMAP.PCC_DeJager_eQTL.conditional_effect'\n",
       "182. 'multi_context.ROSMAP.PCC_DeJager_eQTL.weight'\n",
       "183. 'multi_context.ROSMAP.AC_DeJager_eQTL.conditional_effect'\n",
       "184. 'multi_context.ROSMAP.AC_DeJager_eQTL.weight'\n",
       "185. 'multi_gene.ROSMAP_Mic_DeJager_eQTL.PIP'\n",
       "186. 'multi_gene.ROSMAP_Mic_DeJager_eQTL.conditional_effect'\n",
       "187. 'multi_gene.ROSMAP_Mic_DeJager_eQTL.weight'\n",
       "188. 'multi_gene.ROSMAP_Exc_mega_eQTL.PIP'\n",
       "189. 'multi_gene.ROSMAP_Exc_mega_eQTL.conditional_effect'\n",
       "190. 'multi_gene.ROSMAP_Exc_mega_eQTL.weight'\n",
       "191. 'multi_gene.ROSMAP_PCC_DeJager_eQTL.PIP'\n",
       "192. 'multi_gene.ROSMAP_PCC_DeJager_eQTL.conditional_effect'\n",
       "193. 'multi_gene.ROSMAP_PCC_DeJager_eQTL.weight'\n",
       "194. 'multi_gene.ROSMAP_Ast_DeJager_eQTL.PIP'\n",
       "195. 'multi_gene.ROSMAP_Ast_DeJager_eQTL.conditional_effect'\n",
       "196. 'multi_gene.ROSMAP_Ast_DeJager_eQTL.weight'\n",
       "197. 'multi_gene.MSBB_BM_44_eQTL.PIP'\n",
       "198. 'multi_gene.MSBB_BM_44_eQTL.conditional_effect'\n",
       "199. 'multi_gene.MSBB_BM_44_eQTL.weight'\n",
       "200. 'multi_gene.ROSMAP_Oli_DeJager_eQTL.PIP'\n",
       "201. 'multi_gene.ROSMAP_Oli_DeJager_eQTL.conditional_effect'\n",
       "202. 'multi_gene.ROSMAP_Oli_DeJager_eQTL.weight'\n",
       "203. 'multi_gene.MSBB_BM_22_eQTL.PIP'\n",
       "204. 'multi_gene.MSBB_BM_22_eQTL.conditional_effect'\n",
       "205. 'multi_gene.MSBB_BM_22_eQTL.weight'\n",
       "206. 'multi_gene.MSBB_BM_10_eQTL.PIP'\n",
       "207. 'multi_gene.MSBB_BM_10_eQTL.conditional_effect'\n",
       "208. 'multi_gene.MSBB_BM_10_eQTL.weight'\n",
       "209. 'multi_gene.ROSMAP_Oli_mega_eQTL.PIP'\n",
       "210. 'multi_gene.ROSMAP_Oli_mega_eQTL.conditional_effect'\n",
       "211. 'multi_gene.ROSMAP_Oli_mega_eQTL.weight'\n",
       "212. 'multi_gene.ROSMAP_Ast_mega_eQTL.PIP'\n",
       "213. 'multi_gene.ROSMAP_Ast_mega_eQTL.conditional_effect'\n",
       "214. 'multi_gene.ROSMAP_Ast_mega_eQTL.weight'\n",
       "215. 'multi_gene.ROSMAP_monocyte_ROSMAP_eQTL.PIP'\n",
       "216. 'multi_gene.ROSMAP_monocyte_ROSMAP_eQTL.conditional_effect'\n",
       "217. 'multi_gene.ROSMAP_monocyte_ROSMAP_eQTL.weight'\n",
       "218. 'multi_gene.MSBB_BM_36_eQTL.PIP'\n",
       "219. 'multi_gene.MSBB_BM_36_eQTL.conditional_effect'\n",
       "220. 'multi_gene.MSBB_BM_36_eQTL.weight'\n",
       "221. 'multi_gene.ROSMAP_Mic_mega_eQTL.PIP'\n",
       "222. 'multi_gene.ROSMAP_Mic_mega_eQTL.conditional_effect'\n",
       "223. 'multi_gene.ROSMAP_Mic_mega_eQTL.weight'\n",
       "224. 'multi_gene.ROSMAP_Inh_DeJager_eQTL.PIP'\n",
       "225. 'multi_gene.ROSMAP_Inh_DeJager_eQTL.conditional_effect'\n",
       "226. 'multi_gene.ROSMAP_Inh_DeJager_eQTL.weight'\n",
       "227. 'multi_gene.ROSMAP_AC_DeJager_eQTL.PIP'\n",
       "228. 'multi_gene.ROSMAP_AC_DeJager_eQTL.conditional_effect'\n",
       "229. 'multi_gene.ROSMAP_AC_DeJager_eQTL.weight'\n",
       "230. 'multi_gene.ROSMAP_Inh_mega_eQTL.PIP'\n",
       "231. 'multi_gene.ROSMAP_Inh_mega_eQTL.conditional_effect'\n",
       "232. 'multi_gene.ROSMAP_Inh_mega_eQTL.weight'\n",
       "233. 'multi_gene.ROSMAP_OPC_DeJager_eQTL.PIP'\n",
       "234. 'multi_gene.ROSMAP_OPC_DeJager_eQTL.conditional_effect'\n",
       "235. 'multi_gene.ROSMAP_OPC_DeJager_eQTL.weight'\n",
       "236. 'multi_gene.ROSMAP_DLPFC_DeJager_eQTL.PIP'\n",
       "237. 'multi_gene.ROSMAP_DLPFC_DeJager_eQTL.conditional_effect'\n",
       "238. 'multi_gene.ROSMAP_DLPFC_DeJager_eQTL.weight'\n",
       "239. 'multi_gene.ROSMAP_Exc_DeJager_eQTL.PIP'\n",
       "240. 'multi_gene.ROSMAP_Exc_DeJager_eQTL.conditional_effect'\n",
       "241. 'multi_gene.ROSMAP_Exc_DeJager_eQTL.weight'\n",
       "242. 'multi_gene.ROSMAP_DLPFC_Bennett_pQTL.PIP'\n",
       "243. 'multi_gene.ROSMAP_DLPFC_Bennett_pQTL.conditional_effect'\n",
       "244. 'multi_gene.ROSMAP_DLPFC_Bennett_pQTL.weight'\n",
       "245. 'multi_gene.ROSMAP_OPC_mega_eQTL.PIP'\n",
       "246. 'multi_gene.ROSMAP_OPC_mega_eQTL.conditional_effect'\n",
       "247. 'multi_gene.ROSMAP_OPC_mega_eQTL.weight'\n",
       "248. 'trans.Knight_pQTL.PIP'\n",
       "249. 'trans.Knight_pQTL.conditional_effect'\n",
       "250. 'trans.MSBB_eQTL_BM22.PIP'\n",
       "251. 'trans.MSBB_eQTL_BM22.conditional_effect'\n",
       "252. 'trans.Knight_eQTL.PIP'\n",
       "253. 'trans.Knight_eQTL.conditional_effect'\n",
       "254. 'trans.MSBB_eQTL_BM10.PIP'\n",
       "255. 'trans.MSBB_eQTL_BM10.conditional_effect'\n",
       "256. 'EpiRaction.EPIraction_Brain_Alzheimer_Control_thresholded_predictions_0.026'\n",
       "257. 'ABC_dpfc'\n",
       "258. 'EpiMap'\n",
       "259. 'Baseline_Predss.dist_to_tss'\n",
       "260. 'Baseline_Predss.nearest_expressed_gene'\n",
       "261. 'EpiRaction.EPIraction_Brain_Alzheimer_Disease_thresholded_predictions_0.026'\n",
       "262. 'EpiRaction.EPIraction_Brain_Alzheimer_Encode_thresholded_predictions_0.026'\n",
       "263. 'xqtl_only_colocboost_export_filtered_MSBB.VCP'\n",
       "264. 'xqtl_only_colocboost_export_filtered_ROSMAP.VCP'\n",
       "265. 'ABC_ENCODE_E2G_2022.ABC_DNaseH3K27ac_BRN'\n",
       "266. 'ADASTRA2021_BillCipher.ADASTRA_UseAvgOnNonTested_brain'\n",
       "267. 'Altius_2024_DNase.annotations.rsids_FDR10_Brain'\n",
       "268. 'Altius_2024_DNase.annotations.rsids_Nominal_Brain'\n",
       "269. 'Enformer.Enformer_brain_CAGE'\n",
       "270. 'Enformer.Enformer_brain_CHIP'\n",
       "271. 'Enformer.Enformer_brain_DNASE'\n",
       "272. 'Enformer.Enformer_brain_H3K27ac'\n",
       "273. 'Enformer.Enformer_brain_H3K4me1'\n",
       "274. 'Enformer.Enformer_brain_H3K4me3'\n",
       "275. 'Enformer.Enformer_brain_all'\n",
       "276. 'GTEx_Flagship.GTEx_Finemap_PIP_10_brain'\n",
       "277. 'GTEx_Flagship.GTEx_Finemap_PIP_50_brain'\n",
       "278. 'cCREv4_Human_CellType.BRN_PLS'\n",
       "279. 'cCREv4_Human_CellType.BRN_dELS'\n",
       "280. 'cCREv4_Human_CellType.BRN_pELS'\n",
       "281. 'chrmbpnet_brain_abs_logfc_x_jsd_x_max_percentile'\n",
       "282. 'chrmbpnet_brain_abs_logfc_x_max_percentile'\n",
       "283. 'chrmbpnet_brain_jsd_x_max_percentile'\n",
       "\n",
       "\n"
      ],
      "text/plain": [
       "  [1] \"CHR\"                                                                        \n",
       "  [2] \"BP\"                                                                         \n",
       "  [3] \"SNP\"                                                                        \n",
       "  [4] \"exon\"                                                                       \n",
       "  [5] \"s_in_g\"                                                                     \n",
       "  [6] \"same_tad\"                                                                   \n",
       "  [7] \"proximal_tad\"                                                               \n",
       "  [8] \"g_closest_tss\"                                                              \n",
       "  [9] \"single_context.Inh_mega_eQTL.PIP\"                                           \n",
       " [10] \"single_context.Inh_mega_eQTL.conditional_effect\"                            \n",
       " [11] \"single_context.Inh_mega_eQTL.weight\"                                        \n",
       " [12] \"single_context.Inh_Kellis_eQTL.PIP\"                                         \n",
       " [13] \"single_context.Inh_Kellis_eQTL.conditional_effect\"                          \n",
       " [14] \"single_context.Inh_Kellis_eQTL.weight\"                                      \n",
       " [15] \"single_context.ROSMAP_PCC_sQTL.PIP\"                                         \n",
       " [16] \"single_context.ROSMAP_PCC_sQTL.conditional_effect\"                          \n",
       " [17] \"single_context.ROSMAP_PCC_sQTL.weight\"                                      \n",
       " [18] \"single_context.MiGA_GTS_eQTL.PIP\"                                           \n",
       " [19] \"single_context.MiGA_GTS_eQTL.conditional_effect\"                            \n",
       " [20] \"single_context.MiGA_GTS_eQTL.weight\"                                        \n",
       " [21] \"single_context.monocyte_ROSMAP_eQTL.PIP\"                                    \n",
       " [22] \"single_context.monocyte_ROSMAP_eQTL.conditional_effect\"                     \n",
       " [23] \"single_context.monocyte_ROSMAP_eQTL.weight\"                                 \n",
       " [24] \"single_context.Ast_DeJager_eQTL.PIP\"                                        \n",
       " [25] \"single_context.Ast_DeJager_eQTL.conditional_effect\"                         \n",
       " [26] \"single_context.Ast_DeJager_eQTL.weight\"                                     \n",
       " [27] \"single_context.Ast_mega_eQTL.PIP\"                                           \n",
       " [28] \"single_context.Ast_mega_eQTL.conditional_effect\"                            \n",
       " [29] \"single_context.Ast_mega_eQTL.weight\"                                        \n",
       " [30] \"single_context.BM_10_MSBB_eQTL.PIP\"                                         \n",
       " [31] \"single_context.BM_10_MSBB_eQTL.conditional_effect\"                          \n",
       " [32] \"single_context.BM_10_MSBB_eQTL.weight\"                                      \n",
       " [33] \"single_context.Mic_DeJager_eQTL.PIP\"                                        \n",
       " [34] \"single_context.Mic_DeJager_eQTL.conditional_effect\"                         \n",
       " [35] \"single_context.Mic_DeJager_eQTL.weight\"                                     \n",
       " [36] \"single_context.Knight_pQTL_brain.PIP\"                                       \n",
       " [37] \"single_context.Knight_pQTL_brain.conditional_effect\"                        \n",
       " [38] \"single_context.Knight_pQTL_brain.weight\"                                    \n",
       " [39] \"single_context.STARNET_eQTL_Mac.PIP\"                                        \n",
       " [40] \"single_context.STARNET_eQTL_Mac.conditional_effect\"                         \n",
       " [41] \"single_context.STARNET_eQTL_Mac.weight\"                                     \n",
       " [42] \"single_context.DLPFC_Klein_gpQTL_adjusted.PIP\"                              \n",
       " [43] \"single_context.DLPFC_Klein_gpQTL_adjusted.conditional_effect\"               \n",
       " [44] \"single_context.DLPFC_Klein_gpQTL_adjusted.weight\"                           \n",
       " [45] \"single_context.MiGA_SVZ_eQTL.PIP\"                                           \n",
       " [46] \"single_context.MiGA_SVZ_eQTL.conditional_effect\"                            \n",
       " [47] \"single_context.MiGA_SVZ_eQTL.weight\"                                        \n",
       " [48] \"single_context.BM_36_MSBB_eQTL.PIP\"                                         \n",
       " [49] \"single_context.BM_36_MSBB_eQTL.conditional_effect\"                          \n",
       " [50] \"single_context.BM_36_MSBB_eQTL.weight\"                                      \n",
       " [51] \"single_context.OPC_mega_eQTL.PIP\"                                           \n",
       " [52] \"single_context.OPC_mega_eQTL.conditional_effect\"                            \n",
       " [53] \"single_context.OPC_mega_eQTL.weight\"                                        \n",
       " [54] \"single_context.BM_44_MSBB_eQTL.PIP\"                                         \n",
       " [55] \"single_context.BM_44_MSBB_eQTL.conditional_effect\"                          \n",
       " [56] \"single_context.BM_44_MSBB_eQTL.weight\"                                      \n",
       " [57] \"single_context.Mic_mega_eQTL.PIP\"                                           \n",
       " [58] \"single_context.Mic_mega_eQTL.conditional_effect\"                            \n",
       " [59] \"single_context.Mic_mega_eQTL.weight\"                                        \n",
       " [60] \"single_context.Exc_mega_eQTL.PIP\"                                           \n",
       " [61] \"single_context.Exc_mega_eQTL.conditional_effect\"                            \n",
       " [62] \"single_context.Exc_mega_eQTL.weight\"                                        \n",
       " [63] \"single_context.AC_DeJager_eQTL.PIP\"                                         \n",
       " [64] \"single_context.AC_DeJager_eQTL.conditional_effect\"                          \n",
       " [65] \"single_context.AC_DeJager_eQTL.weight\"                                      \n",
       " [66] \"single_context.Exc_DeJager_eQTL.PIP\"                                        \n",
       " [67] \"single_context.Exc_DeJager_eQTL.conditional_effect\"                         \n",
       " [68] \"single_context.Exc_DeJager_eQTL.weight\"                                     \n",
       " [69] \"single_context.ROSMAP_AC_sQTL.PIP\"                                          \n",
       " [70] \"single_context.ROSMAP_AC_sQTL.conditional_effect\"                           \n",
       " [71] \"single_context.ROSMAP_AC_sQTL.weight\"                                       \n",
       " [72] \"single_context.Metabrain_Cortex.PIP\"                                        \n",
       " [73] \"single_context.Metabrain_Cortex.conditional_effect\"                         \n",
       " [74] \"single_context.Metabrain_Cortex.weight\"                                     \n",
       " [75] \"single_context.Mic_12_Kellis_eQTL.PIP\"                                      \n",
       " [76] \"single_context.Mic_12_Kellis_eQTL.conditional_effect\"                       \n",
       " [77] \"single_context.Mic_12_Kellis_eQTL.weight\"                                   \n",
       " [78] \"single_context.Knight_eQTL_brain.PIP\"                                       \n",
       " [79] \"single_context.Knight_eQTL_brain.conditional_effect\"                        \n",
       " [80] \"single_context.Knight_eQTL_brain.weight\"                                    \n",
       " [81] \"single_context.BM_22_MSBB_eQTL.PIP\"                                         \n",
       " [82] \"single_context.BM_22_MSBB_eQTL.conditional_effect\"                          \n",
       " [83] \"single_context.BM_22_MSBB_eQTL.weight\"                                      \n",
       " [84] \"single_context.DLPFC_Bennett_pQTL.PIP\"                                      \n",
       " [85] \"single_context.DLPFC_Bennett_pQTL.conditional_effect\"                       \n",
       " [86] \"single_context.DLPFC_Bennett_pQTL.weight\"                                   \n",
       " [87] \"single_context.Oli_Kellis_eQTL.PIP\"                                         \n",
       " [88] \"single_context.Oli_Kellis_eQTL.conditional_effect\"                          \n",
       " [89] \"single_context.Oli_Kellis_eQTL.weight\"                                      \n",
       " [90] \"single_context.Ast_10_Kellis_eQTL.PIP\"                                      \n",
       " [91] \"single_context.Ast_10_Kellis_eQTL.conditional_effect\"                       \n",
       " [92] \"single_context.Ast_10_Kellis_eQTL.weight\"                                   \n",
       " [93] \"single_context.OPC_DeJager_eQTL.PIP\"                                        \n",
       " [94] \"single_context.OPC_DeJager_eQTL.conditional_effect\"                         \n",
       " [95] \"single_context.OPC_DeJager_eQTL.weight\"                                     \n",
       " [96] \"single_context.Mic_13_Kellis_eQTL.PIP\"                                      \n",
       " [97] \"single_context.Mic_13_Kellis_eQTL.conditional_effect\"                       \n",
       " [98] \"single_context.Mic_13_Kellis_eQTL.weight\"                                   \n",
       " [99] \"single_context.Oli_DeJager_eQTL.PIP\"                                        \n",
       "[100] \"single_context.Oli_DeJager_eQTL.conditional_effect\"                         \n",
       "[101] \"single_context.Oli_DeJager_eQTL.weight\"                                     \n",
       "[102] \"single_context.Oli_mega_eQTL.PIP\"                                           \n",
       "[103] \"single_context.Oli_mega_eQTL.conditional_effect\"                            \n",
       "[104] \"single_context.Oli_mega_eQTL.weight\"                                        \n",
       "[105] \"single_context.Mic_Kellis_eQTL.PIP\"                                         \n",
       "[106] \"single_context.Mic_Kellis_eQTL.conditional_effect\"                          \n",
       "[107] \"single_context.Mic_Kellis_eQTL.weight\"                                      \n",
       "[108] \"single_context.PCC_DeJager_eQTL.PIP\"                                        \n",
       "[109] \"single_context.PCC_DeJager_eQTL.conditional_effect\"                         \n",
       "[110] \"single_context.PCC_DeJager_eQTL.weight\"                                     \n",
       "[111] \"single_context.MiGA_GFM_eQTL.PIP\"                                           \n",
       "[112] \"single_context.MiGA_GFM_eQTL.conditional_effect\"                            \n",
       "[113] \"single_context.MiGA_GFM_eQTL.weight\"                                        \n",
       "[114] \"single_context.DLPFC_DeJager_eQTL.PIP\"                                      \n",
       "[115] \"single_context.DLPFC_DeJager_eQTL.conditional_effect\"                       \n",
       "[116] \"single_context.DLPFC_DeJager_eQTL.weight\"                                   \n",
       "[117] \"single_context.DLPFC_Klein_gpQTL_unadjusted.PIP\"                            \n",
       "[118] \"single_context.DLPFC_Klein_gpQTL_unadjusted.conditional_effect\"             \n",
       "[119] \"single_context.DLPFC_Klein_gpQTL_unadjusted.weight\"                         \n",
       "[120] \"single_context.Metabrain_Basalganglia.PIP\"                                  \n",
       "[121] \"single_context.Metabrain_Basalganglia.conditional_effect\"                   \n",
       "[122] \"single_context.Metabrain_Basalganglia.weight\"                               \n",
       "[123] \"single_context.OPC_Kellis_eQTL.PIP\"                                         \n",
       "[124] \"single_context.OPC_Kellis_eQTL.conditional_effect\"                          \n",
       "[125] \"single_context.OPC_Kellis_eQTL.weight\"                                      \n",
       "[126] \"single_context.MiGA_THA_eQTL.PIP\"                                           \n",
       "[127] \"single_context.MiGA_THA_eQTL.conditional_effect\"                            \n",
       "[128] \"single_context.MiGA_THA_eQTL.weight\"                                        \n",
       "[129] \"single_context.Ast_Kellis_eQTL.PIP\"                                         \n",
       "[130] \"single_context.Ast_Kellis_eQTL.conditional_effect\"                          \n",
       "[131] \"single_context.Ast_Kellis_eQTL.weight\"                                      \n",
       "[132] \"single_context.ROSMAP_DLPFC_sQTL.PIP\"                                       \n",
       "[133] \"single_context.ROSMAP_DLPFC_sQTL.conditional_effect\"                        \n",
       "[134] \"single_context.ROSMAP_DLPFC_sQTL.weight\"                                    \n",
       "[135] \"single_context.Inh_DeJager_eQTL.PIP\"                                        \n",
       "[136] \"single_context.Inh_DeJager_eQTL.conditional_effect\"                         \n",
       "[137] \"single_context.Inh_DeJager_eQTL.weight\"                                     \n",
       "[138] \"single_context.Metabrain_Cerebellum.PIP\"                                    \n",
       "[139] \"single_context.Metabrain_Cerebellum.conditional_effect\"                     \n",
       "[140] \"single_context.Metabrain_Cerebellum.weight\"                                 \n",
       "[141] \"single_context.Exc_Kellis_eQTL.PIP\"                                         \n",
       "[142] \"single_context.Exc_Kellis_eQTL.conditional_effect\"                          \n",
       "[143] \"single_context.Exc_Kellis_eQTL.weight\"                                      \n",
       "[144] \"single_context.MSBB_BM36_pQTL.PIP\"                                          \n",
       "[145] \"single_context.MSBB_BM36_pQTL.conditional_effect\"                           \n",
       "[146] \"single_context.MSBB_BM36_pQTL.weight\"                                       \n",
       "[147] \"single_context.Metabrain_Spinalcord.PIP\"                                    \n",
       "[148] \"single_context.Metabrain_Spinalcord.conditional_effect\"                     \n",
       "[149] \"single_context.Metabrain_Spinalcord.weight\"                                 \n",
       "[150] \"single_context.Metabrain_Hippocampus.PIP\"                                   \n",
       "[151] \"single_context.Metabrain_Hippocampus.conditional_effect\"                    \n",
       "[152] \"single_context.Metabrain_Hippocampus.weight\"                                \n",
       "[153] \"multi_context.MSBB.PIP\"                                                     \n",
       "[154] \"multi_context.MSBB.BM_10_MSBB_eQTL.conditional_effect\"                      \n",
       "[155] \"multi_context.MSBB.BM_10_MSBB_eQTL.weight\"                                  \n",
       "[156] \"multi_context.MSBB.BM_22_MSBB_eQTL.conditional_effect\"                      \n",
       "[157] \"multi_context.MSBB.BM_22_MSBB_eQTL.weight\"                                  \n",
       "[158] \"multi_context.MSBB.BM_44_MSBB_eQTL.conditional_effect\"                      \n",
       "[159] \"multi_context.MSBB.BM_44_MSBB_eQTL.weight\"                                  \n",
       "[160] \"multi_context.MSBB.BM_36_MSBB_eQTL.conditional_effect\"                      \n",
       "[161] \"multi_context.MSBB.BM_36_MSBB_eQTL.weight\"                                  \n",
       "[162] \"multi_context.ROSMAP.PIP\"                                                   \n",
       "[163] \"multi_context.ROSMAP.OPC_DeJager_eQTL.conditional_effect\"                   \n",
       "[164] \"multi_context.ROSMAP.OPC_DeJager_eQTL.weight\"                               \n",
       "[165] \"multi_context.ROSMAP.Exc_DeJager_eQTL.conditional_effect\"                   \n",
       "[166] \"multi_context.ROSMAP.Exc_DeJager_eQTL.weight\"                               \n",
       "[167] \"multi_context.ROSMAP.DLPFC_DeJager_eQTL.conditional_effect\"                 \n",
       "[168] \"multi_context.ROSMAP.DLPFC_DeJager_eQTL.weight\"                             \n",
       "[169] \"multi_context.ROSMAP.DLPFC_Bennett_pQTL.conditional_effect\"                 \n",
       "[170] \"multi_context.ROSMAP.DLPFC_Bennett_pQTL.weight\"                             \n",
       "[171] \"multi_context.ROSMAP.Mic_DeJager_eQTL.conditional_effect\"                   \n",
       "[172] \"multi_context.ROSMAP.Mic_DeJager_eQTL.weight\"                               \n",
       "[173] \"multi_context.ROSMAP.Inh_DeJager_eQTL.conditional_effect\"                   \n",
       "[174] \"multi_context.ROSMAP.Inh_DeJager_eQTL.weight\"                               \n",
       "[175] \"multi_context.ROSMAP.Oli_DeJager_eQTL.conditional_effect\"                   \n",
       "[176] \"multi_context.ROSMAP.Oli_DeJager_eQTL.weight\"                               \n",
       "[177] \"multi_context.ROSMAP.Ast_DeJager_eQTL.conditional_effect\"                   \n",
       "[178] \"multi_context.ROSMAP.Ast_DeJager_eQTL.weight\"                               \n",
       "[179] \"multi_context.ROSMAP.monocyte_ROSMAP_eQTL.conditional_effect\"               \n",
       "[180] \"multi_context.ROSMAP.monocyte_ROSMAP_eQTL.weight\"                           \n",
       "[181] \"multi_context.ROSMAP.PCC_DeJager_eQTL.conditional_effect\"                   \n",
       "[182] \"multi_context.ROSMAP.PCC_DeJager_eQTL.weight\"                               \n",
       "[183] \"multi_context.ROSMAP.AC_DeJager_eQTL.conditional_effect\"                    \n",
       "[184] \"multi_context.ROSMAP.AC_DeJager_eQTL.weight\"                                \n",
       "[185] \"multi_gene.ROSMAP_Mic_DeJager_eQTL.PIP\"                                     \n",
       "[186] \"multi_gene.ROSMAP_Mic_DeJager_eQTL.conditional_effect\"                      \n",
       "[187] \"multi_gene.ROSMAP_Mic_DeJager_eQTL.weight\"                                  \n",
       "[188] \"multi_gene.ROSMAP_Exc_mega_eQTL.PIP\"                                        \n",
       "[189] \"multi_gene.ROSMAP_Exc_mega_eQTL.conditional_effect\"                         \n",
       "[190] \"multi_gene.ROSMAP_Exc_mega_eQTL.weight\"                                     \n",
       "[191] \"multi_gene.ROSMAP_PCC_DeJager_eQTL.PIP\"                                     \n",
       "[192] \"multi_gene.ROSMAP_PCC_DeJager_eQTL.conditional_effect\"                      \n",
       "[193] \"multi_gene.ROSMAP_PCC_DeJager_eQTL.weight\"                                  \n",
       "[194] \"multi_gene.ROSMAP_Ast_DeJager_eQTL.PIP\"                                     \n",
       "[195] \"multi_gene.ROSMAP_Ast_DeJager_eQTL.conditional_effect\"                      \n",
       "[196] \"multi_gene.ROSMAP_Ast_DeJager_eQTL.weight\"                                  \n",
       "[197] \"multi_gene.MSBB_BM_44_eQTL.PIP\"                                             \n",
       "[198] \"multi_gene.MSBB_BM_44_eQTL.conditional_effect\"                              \n",
       "[199] \"multi_gene.MSBB_BM_44_eQTL.weight\"                                          \n",
       "[200] \"multi_gene.ROSMAP_Oli_DeJager_eQTL.PIP\"                                     \n",
       "[201] \"multi_gene.ROSMAP_Oli_DeJager_eQTL.conditional_effect\"                      \n",
       "[202] \"multi_gene.ROSMAP_Oli_DeJager_eQTL.weight\"                                  \n",
       "[203] \"multi_gene.MSBB_BM_22_eQTL.PIP\"                                             \n",
       "[204] \"multi_gene.MSBB_BM_22_eQTL.conditional_effect\"                              \n",
       "[205] \"multi_gene.MSBB_BM_22_eQTL.weight\"                                          \n",
       "[206] \"multi_gene.MSBB_BM_10_eQTL.PIP\"                                             \n",
       "[207] \"multi_gene.MSBB_BM_10_eQTL.conditional_effect\"                              \n",
       "[208] \"multi_gene.MSBB_BM_10_eQTL.weight\"                                          \n",
       "[209] \"multi_gene.ROSMAP_Oli_mega_eQTL.PIP\"                                        \n",
       "[210] \"multi_gene.ROSMAP_Oli_mega_eQTL.conditional_effect\"                         \n",
       "[211] \"multi_gene.ROSMAP_Oli_mega_eQTL.weight\"                                     \n",
       "[212] \"multi_gene.ROSMAP_Ast_mega_eQTL.PIP\"                                        \n",
       "[213] \"multi_gene.ROSMAP_Ast_mega_eQTL.conditional_effect\"                         \n",
       "[214] \"multi_gene.ROSMAP_Ast_mega_eQTL.weight\"                                     \n",
       "[215] \"multi_gene.ROSMAP_monocyte_ROSMAP_eQTL.PIP\"                                 \n",
       "[216] \"multi_gene.ROSMAP_monocyte_ROSMAP_eQTL.conditional_effect\"                  \n",
       "[217] \"multi_gene.ROSMAP_monocyte_ROSMAP_eQTL.weight\"                              \n",
       "[218] \"multi_gene.MSBB_BM_36_eQTL.PIP\"                                             \n",
       "[219] \"multi_gene.MSBB_BM_36_eQTL.conditional_effect\"                              \n",
       "[220] \"multi_gene.MSBB_BM_36_eQTL.weight\"                                          \n",
       "[221] \"multi_gene.ROSMAP_Mic_mega_eQTL.PIP\"                                        \n",
       "[222] \"multi_gene.ROSMAP_Mic_mega_eQTL.conditional_effect\"                         \n",
       "[223] \"multi_gene.ROSMAP_Mic_mega_eQTL.weight\"                                     \n",
       "[224] \"multi_gene.ROSMAP_Inh_DeJager_eQTL.PIP\"                                     \n",
       "[225] \"multi_gene.ROSMAP_Inh_DeJager_eQTL.conditional_effect\"                      \n",
       "[226] \"multi_gene.ROSMAP_Inh_DeJager_eQTL.weight\"                                  \n",
       "[227] \"multi_gene.ROSMAP_AC_DeJager_eQTL.PIP\"                                      \n",
       "[228] \"multi_gene.ROSMAP_AC_DeJager_eQTL.conditional_effect\"                       \n",
       "[229] \"multi_gene.ROSMAP_AC_DeJager_eQTL.weight\"                                   \n",
       "[230] \"multi_gene.ROSMAP_Inh_mega_eQTL.PIP\"                                        \n",
       "[231] \"multi_gene.ROSMAP_Inh_mega_eQTL.conditional_effect\"                         \n",
       "[232] \"multi_gene.ROSMAP_Inh_mega_eQTL.weight\"                                     \n",
       "[233] \"multi_gene.ROSMAP_OPC_DeJager_eQTL.PIP\"                                     \n",
       "[234] \"multi_gene.ROSMAP_OPC_DeJager_eQTL.conditional_effect\"                      \n",
       "[235] \"multi_gene.ROSMAP_OPC_DeJager_eQTL.weight\"                                  \n",
       "[236] \"multi_gene.ROSMAP_DLPFC_DeJager_eQTL.PIP\"                                   \n",
       "[237] \"multi_gene.ROSMAP_DLPFC_DeJager_eQTL.conditional_effect\"                    \n",
       "[238] \"multi_gene.ROSMAP_DLPFC_DeJager_eQTL.weight\"                                \n",
       "[239] \"multi_gene.ROSMAP_Exc_DeJager_eQTL.PIP\"                                     \n",
       "[240] \"multi_gene.ROSMAP_Exc_DeJager_eQTL.conditional_effect\"                      \n",
       "[241] \"multi_gene.ROSMAP_Exc_DeJager_eQTL.weight\"                                  \n",
       "[242] \"multi_gene.ROSMAP_DLPFC_Bennett_pQTL.PIP\"                                   \n",
       "[243] \"multi_gene.ROSMAP_DLPFC_Bennett_pQTL.conditional_effect\"                    \n",
       "[244] \"multi_gene.ROSMAP_DLPFC_Bennett_pQTL.weight\"                                \n",
       "[245] \"multi_gene.ROSMAP_OPC_mega_eQTL.PIP\"                                        \n",
       "[246] \"multi_gene.ROSMAP_OPC_mega_eQTL.conditional_effect\"                         \n",
       "[247] \"multi_gene.ROSMAP_OPC_mega_eQTL.weight\"                                     \n",
       "[248] \"trans.Knight_pQTL.PIP\"                                                      \n",
       "[249] \"trans.Knight_pQTL.conditional_effect\"                                       \n",
       "[250] \"trans.MSBB_eQTL_BM22.PIP\"                                                   \n",
       "[251] \"trans.MSBB_eQTL_BM22.conditional_effect\"                                    \n",
       "[252] \"trans.Knight_eQTL.PIP\"                                                      \n",
       "[253] \"trans.Knight_eQTL.conditional_effect\"                                       \n",
       "[254] \"trans.MSBB_eQTL_BM10.PIP\"                                                   \n",
       "[255] \"trans.MSBB_eQTL_BM10.conditional_effect\"                                    \n",
       "[256] \"EpiRaction.EPIraction_Brain_Alzheimer_Control_thresholded_predictions_0.026\"\n",
       "[257] \"ABC_dpfc\"                                                                   \n",
       "[258] \"EpiMap\"                                                                     \n",
       "[259] \"Baseline_Predss.dist_to_tss\"                                                \n",
       "[260] \"Baseline_Predss.nearest_expressed_gene\"                                     \n",
       "[261] \"EpiRaction.EPIraction_Brain_Alzheimer_Disease_thresholded_predictions_0.026\"\n",
       "[262] \"EpiRaction.EPIraction_Brain_Alzheimer_Encode_thresholded_predictions_0.026\" \n",
       "[263] \"xqtl_only_colocboost_export_filtered_MSBB.VCP\"                              \n",
       "[264] \"xqtl_only_colocboost_export_filtered_ROSMAP.VCP\"                            \n",
       "[265] \"ABC_ENCODE_E2G_2022.ABC_DNaseH3K27ac_BRN\"                                   \n",
       "[266] \"ADASTRA2021_BillCipher.ADASTRA_UseAvgOnNonTested_brain\"                     \n",
       "[267] \"Altius_2024_DNase.annotations.rsids_FDR10_Brain\"                            \n",
       "[268] \"Altius_2024_DNase.annotations.rsids_Nominal_Brain\"                          \n",
       "[269] \"Enformer.Enformer_brain_CAGE\"                                               \n",
       "[270] \"Enformer.Enformer_brain_CHIP\"                                               \n",
       "[271] \"Enformer.Enformer_brain_DNASE\"                                              \n",
       "[272] \"Enformer.Enformer_brain_H3K27ac\"                                            \n",
       "[273] \"Enformer.Enformer_brain_H3K4me1\"                                            \n",
       "[274] \"Enformer.Enformer_brain_H3K4me3\"                                            \n",
       "[275] \"Enformer.Enformer_brain_all\"                                                \n",
       "[276] \"GTEx_Flagship.GTEx_Finemap_PIP_10_brain\"                                    \n",
       "[277] \"GTEx_Flagship.GTEx_Finemap_PIP_50_brain\"                                    \n",
       "[278] \"cCREv4_Human_CellType.BRN_PLS\"                                              \n",
       "[279] \"cCREv4_Human_CellType.BRN_dELS\"                                             \n",
       "[280] \"cCREv4_Human_CellType.BRN_pELS\"                                             \n",
       "[281] \"chrmbpnet_brain_abs_logfc_x_jsd_x_max_percentile\"                           \n",
       "[282] \"chrmbpnet_brain_abs_logfc_x_max_percentile\"                                 \n",
       "[283] \"chrmbpnet_brain_jsd_x_max_percentile\"                                       "
      ]
     },
     "metadata": {},
     "output_type": "display_data"
    }
   ],
   "source": [
    "feat_tmp %>% colnames"
   ]
  },
  {
   "cell_type": "code",
   "execution_count": 44,
   "id": "fe821108-c361-432c-b247-593262610090",
   "metadata": {},
   "outputs": [
    {
     "data": {
      "text/html": [
       "236695"
      ],
      "text/latex": [
       "236695"
      ],
      "text/markdown": [
       "236695"
      ],
      "text/plain": [
       "[1] 236695"
      ]
     },
     "metadata": {},
     "output_type": "display_data"
    }
   ],
   "source": [
    "feat_tmp %>% nrow"
   ]
  },
  {
   "cell_type": "code",
   "execution_count": 46,
   "id": "705dfb14-8e5b-47df-8fcd-870518006980",
   "metadata": {},
   "outputs": [
    {
     "data": {
      "text/html": [
       "<style>\n",
       ".list-inline {list-style: none; margin:0; padding: 0}\n",
       ".list-inline>li {display: inline-block}\n",
       ".list-inline>li:not(:last-child)::after {content: \"\\00b7\"; padding: 0 .5ex}\n",
       "</style>\n",
       "<ol class=list-inline><li>236695</li><li>283</li></ol>\n"
      ],
      "text/latex": [
       "\\begin{enumerate*}\n",
       "\\item 236695\n",
       "\\item 283\n",
       "\\end{enumerate*}\n"
      ],
      "text/markdown": [
       "1. 236695\n",
       "2. 283\n",
       "\n",
       "\n"
      ],
      "text/plain": [
       "[1] 236695    283"
      ]
     },
     "metadata": {},
     "output_type": "display_data"
    }
   ],
   "source": [
    "dim(feat_tmp) ## chrom 22"
   ]
  },
  {
   "cell_type": "code",
   "execution_count": null,
   "id": "782cf603-7dba-407f-8e4f-81890f96d689",
   "metadata": {},
   "outputs": [],
   "source": []
  },
  {
   "cell_type": "markdown",
   "id": "c20a50b3-7e15-498b-8866-9ca7e7a21823",
   "metadata": {},
   "source": [
    "## 2. Generating Positive and Negative Sets"
   ]
  },
  {
   "cell_type": "code",
   "execution_count": 1,
   "id": "991f150f-6043-429b-a069-f2e09d86059d",
   "metadata": {},
   "outputs": [
    {
     "name": "stderr",
     "output_type": "stream",
     "text": [
      "── \u001b[1mAttaching core tidyverse packages\u001b[22m ──────────────────────── tidyverse 2.0.0 ──\n",
      "\u001b[32m✔\u001b[39m \u001b[34mdplyr    \u001b[39m 1.1.4     \u001b[32m✔\u001b[39m \u001b[34mreadr    \u001b[39m 2.1.5\n",
      "\u001b[32m✔\u001b[39m \u001b[34mforcats  \u001b[39m 1.0.0     \u001b[32m✔\u001b[39m \u001b[34mstringr  \u001b[39m 1.5.1\n",
      "\u001b[32m✔\u001b[39m \u001b[34mggplot2  \u001b[39m 3.5.2     \u001b[32m✔\u001b[39m \u001b[34mtibble   \u001b[39m 3.3.0\n",
      "\u001b[32m✔\u001b[39m \u001b[34mlubridate\u001b[39m 1.9.4     \u001b[32m✔\u001b[39m \u001b[34mtidyr    \u001b[39m 1.3.1\n",
      "\u001b[32m✔\u001b[39m \u001b[34mpurrr    \u001b[39m 1.1.0     \n",
      "── \u001b[1mConflicts\u001b[22m ────────────────────────────────────────── tidyverse_conflicts() ──\n",
      "\u001b[31m✖\u001b[39m \u001b[34mdplyr\u001b[39m::\u001b[32mbetween()\u001b[39m     masks \u001b[34mdata.table\u001b[39m::between()\n",
      "\u001b[31m✖\u001b[39m \u001b[34mdplyr\u001b[39m::\u001b[32mfilter()\u001b[39m      masks \u001b[34mstats\u001b[39m::filter()\n",
      "\u001b[31m✖\u001b[39m \u001b[34mdplyr\u001b[39m::\u001b[32mfirst()\u001b[39m       masks \u001b[34mdata.table\u001b[39m::first()\n",
      "\u001b[31m✖\u001b[39m \u001b[34mlubridate\u001b[39m::\u001b[32mhour()\u001b[39m    masks \u001b[34mdata.table\u001b[39m::hour()\n",
      "\u001b[31m✖\u001b[39m \u001b[34mlubridate\u001b[39m::\u001b[32misoweek()\u001b[39m masks \u001b[34mdata.table\u001b[39m::isoweek()\n",
      "\u001b[31m✖\u001b[39m \u001b[34mdplyr\u001b[39m::\u001b[32mlag()\u001b[39m         masks \u001b[34mstats\u001b[39m::lag()\n",
      "\u001b[31m✖\u001b[39m \u001b[34mdplyr\u001b[39m::\u001b[32mlast()\u001b[39m        masks \u001b[34mdata.table\u001b[39m::last()\n",
      "\u001b[31m✖\u001b[39m \u001b[34mlubridate\u001b[39m::\u001b[32mmday()\u001b[39m    masks \u001b[34mdata.table\u001b[39m::mday()\n",
      "\u001b[31m✖\u001b[39m \u001b[34mlubridate\u001b[39m::\u001b[32mminute()\u001b[39m  masks \u001b[34mdata.table\u001b[39m::minute()\n",
      "\u001b[31m✖\u001b[39m \u001b[34mlubridate\u001b[39m::\u001b[32mmonth()\u001b[39m   masks \u001b[34mdata.table\u001b[39m::month()\n",
      "\u001b[31m✖\u001b[39m \u001b[34mlubridate\u001b[39m::\u001b[32mquarter()\u001b[39m masks \u001b[34mdata.table\u001b[39m::quarter()\n",
      "\u001b[31m✖\u001b[39m \u001b[34mlubridate\u001b[39m::\u001b[32msecond()\u001b[39m  masks \u001b[34mdata.table\u001b[39m::second()\n",
      "\u001b[31m✖\u001b[39m \u001b[34mpurrr\u001b[39m::\u001b[32mtranspose()\u001b[39m   masks \u001b[34mdata.table\u001b[39m::transpose()\n",
      "\u001b[31m✖\u001b[39m \u001b[34mlubridate\u001b[39m::\u001b[32mwday()\u001b[39m    masks \u001b[34mdata.table\u001b[39m::wday()\n",
      "\u001b[31m✖\u001b[39m \u001b[34mlubridate\u001b[39m::\u001b[32mweek()\u001b[39m    masks \u001b[34mdata.table\u001b[39m::week()\n",
      "\u001b[31m✖\u001b[39m \u001b[34mlubridate\u001b[39m::\u001b[32myday()\u001b[39m    masks \u001b[34mdata.table\u001b[39m::yday()\n",
      "\u001b[31m✖\u001b[39m \u001b[34mlubridate\u001b[39m::\u001b[32myear()\u001b[39m    masks \u001b[34mdata.table\u001b[39m::year()\n",
      "\u001b[36mℹ\u001b[39m Use the conflicted package (\u001b[3m\u001b[34m<http://conflicted.r-lib.org/>\u001b[39m\u001b[23m) to force all conflicts to become errors\n"
     ]
    }
   ],
   "source": [
    "library(data.table)\n",
    "library(tidyverse)"
   ]
  },
  {
   "cell_type": "code",
   "execution_count": 2,
   "id": "78708a27-af12-42eb-9cf4-df3e55fcdb5c",
   "metadata": {},
   "outputs": [],
   "source": [
    "fmp_paths <- list.files('/home/fengr1/fungen_xQTL/', 'toploci.bed.gz$', full.names = T, recursive = T)"
   ]
  },
  {
   "cell_type": "markdown",
   "id": "90e9a27b-07f8-45f0-a5f6-fc6f88d13674",
   "metadata": {},
   "source": [
    "### generate variant list from feature set "
   ]
  },
  {
   "cell_type": "code",
   "execution_count": 3,
   "id": "5f1db84e-257a-49d0-bf52-d569243f699d",
   "metadata": {},
   "outputs": [],
   "source": [
    "# var_paths <- list.files('/home/fengr1/v2f_data/xqtl_features/xqtl_features_v2f', 'var_list', full.names = T) # the intermediate files from last step\n",
    "# var_paths %>% length\n",
    "\n",
    "# var_list <- data.frame()\n",
    "# for(var_path in var_paths){\n",
    "#     var_list <- rbind(var_list, fread(var_path))\n",
    "# }\n",
    "# fwrite(var_list, '/home/fengr1/v2f_data/xqtl_features/xqtl_features_v2f/variant_list.txt.gz', sep = '\\t')"
   ]
  },
  {
   "cell_type": "code",
   "execution_count": 4,
   "id": "581c0dee-206e-44d1-b5c3-24746b9d2105",
   "metadata": {},
   "outputs": [],
   "source": [
    "var_list <- fread('/home/fengr1/v2f_data/xqtl_features/xqtl_features_v2f/variant_list.txt.gz', sep = '\\t')"
   ]
  },
  {
   "cell_type": "code",
   "execution_count": 5,
   "id": "fa77bf2d-2b84-448e-a57e-45727e3b4a38",
   "metadata": {},
   "outputs": [
    {
     "data": {
      "text/html": [
       "<table class=\"dataframe\">\n",
       "<caption>A data.table: 6 × 2</caption>\n",
       "<thead>\n",
       "\t<tr><th scope=col>snp</th><th scope=col>rsid</th></tr>\n",
       "\t<tr><th scope=col>&lt;chr&gt;</th><th scope=col>&lt;chr&gt;</th></tr>\n",
       "</thead>\n",
       "<tbody>\n",
       "\t<tr><td>chr1:10000044 </td><td>rs112409036</td></tr>\n",
       "\t<tr><td>chr1:100000723</td><td>rs11166389 </td></tr>\n",
       "\t<tr><td>chr1:100000839</td><td>rs116740877</td></tr>\n",
       "\t<tr><td>chr1:100000874</td><td>rs550182761</td></tr>\n",
       "\t<tr><td>chr1:100000874</td><td>rs549210756</td></tr>\n",
       "\t<tr><td>chr1:100000874</td><td>rs796619774</td></tr>\n",
       "</tbody>\n",
       "</table>\n"
      ],
      "text/latex": [
       "A data.table: 6 × 2\n",
       "\\begin{tabular}{ll}\n",
       " snp & rsid\\\\\n",
       " <chr> & <chr>\\\\\n",
       "\\hline\n",
       "\t chr1:10000044  & rs112409036\\\\\n",
       "\t chr1:100000723 & rs11166389 \\\\\n",
       "\t chr1:100000839 & rs116740877\\\\\n",
       "\t chr1:100000874 & rs550182761\\\\\n",
       "\t chr1:100000874 & rs549210756\\\\\n",
       "\t chr1:100000874 & rs796619774\\\\\n",
       "\\end{tabular}\n"
      ],
      "text/markdown": [
       "\n",
       "A data.table: 6 × 2\n",
       "\n",
       "| snp &lt;chr&gt; | rsid &lt;chr&gt; |\n",
       "|---|---|\n",
       "| chr1:10000044  | rs112409036 |\n",
       "| chr1:100000723 | rs11166389  |\n",
       "| chr1:100000839 | rs116740877 |\n",
       "| chr1:100000874 | rs550182761 |\n",
       "| chr1:100000874 | rs549210756 |\n",
       "| chr1:100000874 | rs796619774 |\n",
       "\n"
      ],
      "text/plain": [
       "  snp            rsid       \n",
       "1 chr1:10000044  rs112409036\n",
       "2 chr1:100000723 rs11166389 \n",
       "3 chr1:100000839 rs116740877\n",
       "4 chr1:100000874 rs550182761\n",
       "5 chr1:100000874 rs549210756\n",
       "6 chr1:100000874 rs796619774"
      ]
     },
     "metadata": {},
     "output_type": "display_data"
    }
   ],
   "source": [
    "var_list %>% head"
   ]
  },
  {
   "cell_type": "code",
   "execution_count": 6,
   "id": "58dbe9cc-6f8b-481d-8e14-10338225ed88",
   "metadata": {},
   "outputs": [
    {
     "data": {
      "text/html": [
       "<style>\n",
       ".list-inline {list-style: none; margin:0; padding: 0}\n",
       ".list-inline>li {display: inline-block}\n",
       ".list-inline>li:not(:last-child)::after {content: \"\\00b7\"; padding: 0 .5ex}\n",
       "</style>\n",
       "<ol class=list-inline><li>16194875</li><li>2</li></ol>\n"
      ],
      "text/latex": [
       "\\begin{enumerate*}\n",
       "\\item 16194875\n",
       "\\item 2\n",
       "\\end{enumerate*}\n"
      ],
      "text/markdown": [
       "1. 16194875\n",
       "2. 2\n",
       "\n",
       "\n"
      ],
      "text/plain": [
       "[1] 16194875        2"
      ]
     },
     "metadata": {},
     "output_type": "display_data"
    }
   ],
   "source": [
    "var_list %>% dim"
   ]
  },
  {
   "cell_type": "markdown",
   "id": "e1934089-8e3e-4ebc-a8ff-434e94aa8ef6",
   "metadata": {},
   "source": [
    "### positive set"
   ]
  },
  {
   "cell_type": "markdown",
   "id": "02355756-c9e8-4904-830d-71190847b123",
   "metadata": {},
   "source": [
    "#### Define parameter sets"
   ]
  },
  {
   "cell_type": "code",
   "execution_count": 2,
   "id": "d9893035-ba30-4785-afec-0a1de5d417ba",
   "metadata": {},
   "outputs": [],
   "source": [
    "param_list <- list(\n",
    "  strict = list(PIP = 0.9, VCP = 0.9, CS_size = 3, CoS_size = 3),\n",
    "  intermediate = list(PIP = 0.7, VCP = 0.8, CS_size = 10, CoS_size = 10),\n",
    "  loose = list(PIP = 0.6, VCP = 0.6, CS_size = 10, CoS_size = 10),\n",
    "  superloose = list(PIP = 0.6, VCP = 0.6, CS_size = 0, CoS_size = 0)\n",
    "\n",
    ")"
   ]
  },
  {
   "cell_type": "code",
   "execution_count": null,
   "id": "2596a85d-78b6-4960-819f-8fb9ba4059ad",
   "metadata": {},
   "outputs": [],
   "source": []
  },
  {
   "cell_type": "code",
   "execution_count": null,
   "id": "2d85fc1b-644a-45d5-94b7-d3694ee999d6",
   "metadata": {},
   "outputs": [],
   "source": [
    "### File paths\n",
    "AD_fmp_paths <- file_paths %>% .[str_detect(., 'GWAS')] %>% .[!str_detect(., '_Jansen|_EADI')]\n",
    "AD_cb_paths <- c(\"/data/deyk/ftp_fgc_xqtl/fungen_xQTL/colocboost/ad_meta_colocboost_export_filtered.bed\")"
   ]
  },
  {
   "cell_type": "code",
   "execution_count": null,
   "id": "e62bbb8e-c1e6-40d6-aaa4-01b75bc7a491",
   "metadata": {},
   "outputs": [],
   "source": [
    "### Function: process fine-mapping\n",
    "process_finemapping <- function(paths, pip_threshold, cs_size_threshold) {\n",
    "  fmp_positive <- data.frame()\n",
    "  for (path in paths) {\n",
    "    dat <- fread(path)\n",
    "    if (!all(c(\"gene_ID\", \"event_ID\", \"cs_coverage_0.95\") %in% colnames(dat))) next\n",
    "    dat_cs <- dat %>%\n",
    "      filter(cs_coverage_0.95 > 0) %>%\n",
    "      mutate(cs_id = paste0(gene_ID, event_ID, cs_coverage_0.95))\n",
    "    \n",
    "    dat_map <- dat_cs %>%\n",
    "      group_by(cs_id) %>%\n",
    "      summarise(cs_size = n_distinct(variant_ID), .groups = \"drop\")\n",
    "    \n",
    "    # Only filter cs_size if threshold > 0\n",
    "    if (cs_size_threshold > 0) {\n",
    "      dat_map <- dat_map %>% filter(cs_size <= cs_size_threshold)\n",
    "    }\n",
    "    \n",
    "    dat_map <- dat_map %>%\n",
    "      left_join(dat_cs, by = \"cs_id\") %>%\n",
    "      mutate(category = 'Mappable')\n",
    "    \n",
    "    dat_pip <- dat %>% filter(PIP > pip_threshold) %>% mutate(category = 'PIP')\n",
    "    \n",
    "    pos <- rbind(dat_pip,\n",
    "                 dat_map %>% select(-cs_id, -cs_size))\n",
    "    fmp_positive <- plyr::rbind.fill(fmp_positive, pos)\n",
    "  }\n",
    "  cat(\"Positive set from fine-mapping mappable sets:\", \n",
    "      fmp_positive %>% filter(category == 'Mappable') %>% pull(variant_ID) %>% unique %>% length, \"\\n\")\n",
    "  cat(\"Positive set from fine-mapping high PIP:\", \n",
    "      fmp_positive %>% filter(category == 'PIP') %>% pull(variant_ID) %>% unique %>% length, \"\\n\")\n",
    "  return(fmp_positive)\n",
    "}\n",
    "\n",
    "\n",
    "### Function: process colocboost\n",
    "process_coloc <- function(paths, vcp_threshold, cos_size_threshold) {\n",
    "  cb_positive <- data.frame()\n",
    "  for (path in paths) {\n",
    "    dat <- fread(path)\n",
    "    dat_map <- dat %>%\n",
    "      group_by(cos_ID) %>%\n",
    "      summarise(cos_size = n_distinct(variant_ID), .groups = \"drop\")\n",
    "    \n",
    "    # Only filter cos_size if threshold > 0\n",
    "    if (cos_size_threshold > 0) {\n",
    "      dat_map <- dat_map %>% filter(cos_size <= cos_size_threshold)\n",
    "    }\n",
    "    \n",
    "    dat_map <- dat_map %>%\n",
    "      left_join(dat, by = \"cos_ID\") %>%\n",
    "      mutate(category = 'Mappable')\n",
    "    \n",
    "    dat_vcp <- dat %>% filter(vcp > vcp_threshold) %>% mutate(category = 'VCP')\n",
    "    \n",
    "    pos <- rbind(dat_vcp,\n",
    "                 dat_map %>% select(-cos_size))\n",
    "    cb_positive <- plyr::rbind.fill(cb_positive, pos)\n",
    "    \n",
    "    cat(\"Positive set from colocboost mappable sets:\", \n",
    "        cb_positive %>% filter(category == 'Mappable') %>% pull(variant_ID) %>% unique %>% length, \"\\n\")\n",
    "    cat(\"Positive set from colocboost high VCP:\", \n",
    "        cb_positive %>% filter(category == 'VCP') %>% pull(variant_ID) %>% unique %>% length, \"\\n\")\n",
    "  }\n",
    "  return(cb_positive)\n",
    "}\n",
    "\n",
    "\n",
    "### Function: extract non-negative\n",
    "extract_non_negative <- function(fmp_paths, cb_paths) {\n",
    "  nonneg <- data.frame()\n",
    "  for (path in fmp_paths) {\n",
    "    dat <- fread(path)\n",
    "    if (\"PIP\" %in% colnames(dat))\n",
    "      nonneg <- plyr::rbind.fill(nonneg, dat %>% filter(PIP >= 0.01) %>% mutate(category = 'Fine-mapping'))\n",
    "  }\n",
    "  cat(\"NON-Negative set from fine-maping:\", \n",
    "      nonneg %>% filter(category == 'Fine-mapping') %>% pull(variant_ID) %>% unique %>% length, \"\\n\")\n",
    "  \n",
    "  for (path in cb_paths) {\n",
    "    dat <- fread(path)\n",
    "    if (\"vcp\" %in% colnames(dat))\n",
    "      nonneg <- plyr::rbind.fill(nonneg, dat %>% filter(vcp >= 0.01) %>% mutate(category = 'colocboost'))\n",
    "  }\n",
    "  cat(\"NON-Negative set from colocboost:\", \n",
    "      nonneg %>% filter(category == 'colocboost') %>% pull(variant_ID) %>% unique %>% length, \"\\n\")\n",
    "  \n",
    "  return(nonneg)\n",
    "}"
   ]
  },
  {
   "cell_type": "code",
   "execution_count": 135,
   "id": "26c36f83-cc4c-4c61-9d21-e9402450ef5c",
   "metadata": {},
   "outputs": [
    {
     "name": "stderr",
     "output_type": "stream",
     "text": [
      "Processing: Postive fine-mapping PIP as 0.9 & mappble cs size as 3; ColocBoost VCP as 0.9 & mappable cos size as 3\n",
      "\n",
      "\n"
     ]
    },
    {
     "name": "stdout",
     "output_type": "stream",
     "text": [
      "Positive set from fine-mapping mappable sets: 57 \n",
      "Positive set from fine-mapping high PIP: 28 \n",
      "Positive set from colocboost mappable sets: 45 \n",
      "Positive set from colocboost high VCP: 17 \n",
      "NON-Negative set from fine-maping: 3490 \n",
      "NON-Negative set from colocboost: 880 \n",
      "=== Summary for strict set ===\n",
      "Positive set (variants): 79 \n",
      "Positive set (intersected with feature set):** 52 **\n",
      "NON-Negative set (finemapping + colocboost + positive): 3633 \n",
      "NON-Negative set (intersected with feature set): 3389 \n",
      "Negative set (intersected with feature set):** 16191486 **\n",
      "\n"
     ]
    },
    {
     "name": "stderr",
     "output_type": "stream",
     "text": [
      "Processing: Postive fine-mapping PIP as 0.7 & mappble cs size as 10; ColocBoost VCP as 0.8 & mappable cos size as 10\n",
      "\n",
      "\n"
     ]
    },
    {
     "name": "stdout",
     "output_type": "stream",
     "text": [
      "Positive set from fine-mapping mappable sets: 200 \n",
      "Positive set from fine-mapping high PIP: 48 \n",
      "Positive set from colocboost mappable sets: 146 \n",
      "Positive set from colocboost high VCP: 20 \n",
      "NON-Negative set from fine-maping: 3490 \n",
      "NON-Negative set from colocboost: 880 \n",
      "=== Summary for intermediate set ===\n",
      "Positive set (variants): 277 \n",
      "Positive set (intersected with feature set):** 212 **\n",
      "NON-Negative set (finemapping + colocboost + positive): 3643 \n",
      "NON-Negative set (intersected with feature set): 3389 \n",
      "Negative set (intersected with feature set):** 16191486 **\n",
      "\n"
     ]
    },
    {
     "name": "stderr",
     "output_type": "stream",
     "text": [
      "Processing: Postive fine-mapping PIP as 0.6 & mappble cs size as 10; ColocBoost VCP as 0.6 & mappable cos size as 10\n",
      "\n",
      "\n"
     ]
    },
    {
     "name": "stdout",
     "output_type": "stream",
     "text": [
      "Positive set from fine-mapping mappable sets: 200 \n",
      "Positive set from fine-mapping high PIP: 59 \n",
      "Positive set from colocboost mappable sets: 146 \n",
      "Positive set from colocboost high VCP: 28 \n",
      "NON-Negative set from fine-maping: 3490 \n",
      "NON-Negative set from colocboost: 880 \n",
      "=== Summary for loose set ===\n",
      "Positive set (variants): 284 \n",
      "Positive set (intersected with feature set):** 219 **\n",
      "NON-Negative set (finemapping + colocboost + positive): 3643 \n",
      "NON-Negative set (intersected with feature set): 3389 \n",
      "Negative set (intersected with feature set):** 16191486 **\n",
      "\n"
     ]
    }
   ],
   "source": [
    "### Run all parameter sets\n",
    "for (label in names(param_list)) {\n",
    "  param <- param_list[[label]]\n",
    "  message(\"Processing: Postive fine-mapping PIP as \", param$PIP, \" & mappble cs size as \", param$CS_size, \"; ColocBoost VCP as \", param$VCP, \" & mappable cos size as \", param$CoS_size, \"\\n\")\n",
    "  status_name <- paste0(\"PIP\", param$PIP, \"_CS\", param$CS_size, \"_VCP\", param$VCP, \"_COS\", param$CoS_size)\n",
    "    \n",
    "  # Positive set\n",
    "  fmp_positive <- process_finemapping(AD_fmp_paths, param$PIP, param$CS_size)\n",
    "  cb_positive <- process_coloc(AD_cb_paths, param$VCP, param$CoS_size)\n",
    "  positive <- plyr::rbind.fill(fmp_positive, cb_positive)\n",
    "  fwrite(positive, paste0('~/Work/v2f/results/posneg_process/positive.', status_name, '.df.csv.gz'))\n",
    "\n",
    "  # RSID for positive\n",
    "  positive_rs <- positive %>%\n",
    "    mutate(snp = paste0(\"chr\", `#chr`, \":\", end)) %>%\n",
    "    merge(var_list)\n",
    "  writeLines(unique(positive_rs$rsid),\n",
    "             paste0('~/Work/v2f/results/posneg_process/positive_set.', status_name, '.txt'))\n",
    "\n",
    "  # Non-negative: includes positive + PIP ≥ 0.01 or VCP ≥ 0.01\n",
    "  non_negative <- extract_non_negative(AD_fmp_paths, AD_cb_paths)\n",
    "  non_negative <- plyr::rbind.fill(non_negative, positive) # actually not necessary that the non_negative must contain positive set by PIP or VCP\n",
    "  fwrite(non_negative, paste0('~/Work/v2f/results/posneg_process/non_negative.', status_name, '.df.csv.gz'))\n",
    "\n",
    "  # RSID for non-negative\n",
    "  non_negative_rs <- non_negative %>%\n",
    "    mutate(snp = paste0(\"chr\", `#chr`, \":\", end)) %>%\n",
    "    merge(var_list)\n",
    "\n",
    "  # Negative set\n",
    "  negative_rs <- setdiff(var_list$rsid, non_negative_rs$rsid)\n",
    "  writeLines(negative_rs,\n",
    "             paste0('~/Work/v2f/results/posneg_process/negative_set.', status_name, '.txt'))\n",
    "    cat(\"=== Summary for\", label, \"set ===\\n\")\n",
    "    cat(\"Positive set (variants):\", length(unique(positive$variant_ID)), \"\\n\")\n",
    "    cat(\"Positive set (intersected with feature set):**\", length(unique(positive_rs$rsid)), \"**\\n\")\n",
    "    cat(\"NON-Negative set (finemapping + colocboost + positive):\", length(unique(non_negative$variant_ID)), \"\\n\")\n",
    "    cat(\"NON-Negative set (intersected with feature set):\", length(unique(non_negative_rs$rsid)), \"\\n\")\n",
    "    cat(\"Negative set (intersected with feature set):**\", length(negative_rs), \"**\\n\\n\")\n",
    "}"
   ]
  },
  {
   "cell_type": "markdown",
   "id": "438c1ded-42e2-424e-8026-aa88d4937edd",
   "metadata": {},
   "source": [
    "Additionally check the set of super loose set only, which is new and generated in R studio;\n",
    "\n",
    "copy and paste the output information from Rstudio, so I don't have to cover the exsiting information above"
   ]
  },
  {
   "cell_type": "markdown",
   "id": "3a44cdac-0d61-4b72-8f88-7526eb01231f",
   "metadata": {},
   "source": [
    "```\n",
    "Processing: Positive fine-mapping PIP as 0.7 & mappable cs size as 0; ColocBoost VCP as 0.8 & mappable cos size as 0\n",
    "\n",
    "Positive set from fine-mapping mappable sets: 1817 \n",
    "Positive set from fine-mapping high PIP: 48 \n",
    "Positive set from colocboost mappable sets: 5212 \n",
    "Positive set from colocboost high VCP: 20 \n",
    "NON-Negative set from fine-maping: 3490 \n",
    "NON-Negative set from colocboost: 880 \n",
    "=== Summary for intermediate set ===\n",
    "Positive set (variants): 5798 \n",
    "Positive set (intersected with feature set):** 1787 **\n",
    "NON-Negative set (finemapping + colocboost + positive): 7755 \n",
    "NON-Negative set (intersected with feature set): 4150 \n",
    "Negative set (intersected with feature set):** 16190725 **\n",
    "```"
   ]
  },
  {
   "cell_type": "markdown",
   "id": "776a0645-51c1-407a-89d3-ed4406cac048",
   "metadata": {},
   "source": [
    "## 3. Submit Jobs for cv2f Analysis\n"
   ]
  },
  {
   "cell_type": "code",
   "execution_count": null,
   "id": "4fcc5326-4463-4ee6-9523-6424554317f5",
   "metadata": {},
   "outputs": [],
   "source": [
    "#!/bin/bash\n",
    "\n",
    "# Parameter sets\n",
    "param_sets=(\n",
    "  \"PIP0.7_CS0_VCP0.8_COS0\"\n",
    "  \"PIP0.7_CS10_VCP0.8_COS10\"\n",
    "  \"PIP0.9_CS3_VCP0.9_COS3\"\n",
    "  \"PIP0.6_CS10_VCP0.6_COS10\"\n",
    ")\n",
    "\n",
    "# Feature sets\n",
    "feature_sets=(\n",
    "  \"/lila/data/deyk/ftp_fgc_xqtl/v2f/xqtl_features/xqtl_features_v2f/agg_snp_max_cv2f/xqtl_feature_max_cv2f.\"\n",
    ")\n",
    "\n",
    "# Shared input files\n",
    "bimpath=\"/home/fengr1/deyk/ftp_fgc_xqtl/v2f/1000G_BIMS_hg38/1000G.EUR.QC.\"\n",
    "mafpath=\"/data/deyk/extras/MAF_features_Aug032022.txt\"\n",
    "ldblockspath=\"/home/fengr1/deyk/ftp_fgc_xqtl/v2f/LAVA_LDblocks_published.txt\"\n",
    "\n",
    "# Create directories\n",
    "mkdir -p /home/fengr1/Work/v2f/results/score/FunGen_xQTL\n",
    "mkdir -p /home/fengr1/Work/v2f/results/metric/FunGen_xQTL\n",
    "mkdir -p /home/fengr1/Work/v2f/logs\n",
    "\n",
    "for status in \"${param_sets[@]}\"; do\n",
    "  for feat in \"${feature_sets[@]}\"; do\n",
    "    feat_label=$(basename ${feat%.*})\n",
    "    mkdir -p /home/fengr1/Work/v2f/results/score/FunGen_xQTL/${status}/${feat_label}\n",
    "    mkdir -p /home/fengr1/Work/v2f/results/metric/FunGen_xQTL/${status}/${feat_label}\n",
    "\n",
    "    positive_set=\"/lila/data/deyk/ru/Work/v2f/results/posneg_process/positive_set.${status}.txt\"\n",
    "    negative_set=\"/lila/data/deyk/ru/Work/v2f/results/posneg_process/negative_set.${status}.txt\"\n",
    "    output_metrics=\"/home/fengr1/Work/v2f/results/metric/FunGen_xQTL/${status}/${feat_label}/FunGen_xQTL.${status}.${feat_label}.metrics\"\n",
    "\n",
    "    echo \">>> Running metrics: $status with $feat_label\"\n",
    "    Rscript /lila/home/fengr1/codes/cv2f/metric/run_cv2f_MAF5LDmatch_metrics.R \\\n",
    "      --positive_set $positive_set \\\n",
    "      --negative_set $negative_set \\\n",
    "      --feature_file $feat \\\n",
    "      --bimpath $bimpath \\\n",
    "      --mafpath $mafpath \\\n",
    "      --ldblockspath $ldblockspath \\\n",
    "      --output_metrics $output_metrics > /home/fengr1/Work/v2f/logs/xqtl_metric.${status}.${feat_label}.log 2>&1\n",
    "\n",
    "    for chrm in {1..22}; do\n",
    "      output_cv2f=\"/home/fengr1/Work/v2f/results/score/FunGen_xQTL/${status}/${feat_label}/FunGen_xQTL.${status}.${feat_label}.chr${chrm}.cv2f\"\n",
    "\n",
    "      echo \">>> Running score: $status, $feat_label, chr${chrm}\"\n",
    "      Rscript /lila/home/fengr1/codes/cv2f/score/run_cv2f_MAF5LDmatch_cv2f_scores.R \\\n",
    "        --positive_set $positive_set \\\n",
    "        --negative_set $negative_set \\\n",
    "        --feature_file $feat \\\n",
    "        --bimpath $bimpath \\\n",
    "        --mafpath $mafpath \\\n",
    "        --ldblockspath $ldblockspath \\\n",
    "        --output_cv2f $output_cv2f \\\n",
    "        --chrm $chrm > /home/fengr1/Work/v2f/logs/xqtl_score.${status}.${feat_label}.chr${chrm}.log 2>&1\n",
    "    done\n",
    "  done\n",
    "done"
   ]
  },
  {
   "cell_type": "markdown",
   "id": "25a07879-ea84-43e2-b9a3-8d4fa4dda982",
   "metadata": {},
   "source": [
    "#### Check the time stamp of input files"
   ]
  },
  {
   "cell_type": "markdown",
   "id": "df762a48-bc6d-4956-94ee-68ea0338c8f8",
   "metadata": {},
   "source": [
    "```\n",
    "ls positive_set.* -hl\n",
    "-rw-r--r-- 1 fengr1 deyk 2.3K Jul 25 15:41 positive_set.PIP0.6_CS10_VCP0.6_COS10.txt\n",
    "-rw-r--r-- 1 fengr1 deyk  19K Jul 29 10:26 positive_set.PIP0.7_CS0_VCP0.8_COS0.txt\n",
    "-rw-r--r-- 1 fengr1 deyk 2.3K Jul 25 15:41 positive_set.PIP0.7_CS10_VCP0.8_COS10.txt\n",
    "-rw-r--r-- 1 fengr1 deyk  560 Jul 25 15:40 positive_set.PIP0.9_CS3_VCP0.9_COS3.txt\n",
    "\n",
    "ls negative_set.* -hl\n",
    "-rw-r--r-- 1 fengr1 deyk 174M Jul 25 15:41 negative_set.PIP0.6_CS10_VCP0.6_COS10.txt\n",
    "-rw-r--r-- 1 fengr1 deyk 174M Jul 29 10:27 negative_set.PIP0.7_CS0_VCP0.8_COS0.txt\n",
    "-rw-r--r-- 1 fengr1 deyk 174M Jul 25 15:41 negative_set.PIP0.7_CS10_VCP0.8_COS10.txt\n",
    "-rw-r--r-- 1 fengr1 deyk 174M Jul 25 15:41 negative_set.PIP0.9_CS3_VCP0.9_COS3.txt\n",
    "```"
   ]
  },
  {
   "cell_type": "markdown",
   "id": "f1c282b3-8d89-4e1a-8187-fa9282291670",
   "metadata": {},
   "source": [
    "```\n",
    "ls -hl /data/deyk/ftp_fgc_xqtl/v2f/xqtl_features/xqtl_features_v2f/agg_snp_max_cv2f/*\n",
    "-rw-r--r-- 1 fengr1 deyk 51M Jul 28 21:20 /data/deyk/ftp_fgc_xqtl/v2f/xqtl_features/xqtl_features_v2f/agg_snp_max_cv2f/xqtl_feature_max_cv2f.10.txt.gz\n",
    "-rw-r--r-- 1 fengr1 deyk 50M Jul 28 21:20 /data/deyk/ftp_fgc_xqtl/v2f/xqtl_features/xqtl_features_v2f/agg_snp_max_cv2f/xqtl_feature_max_cv2f.11.txt.gz\n",
    "-rw-r--r-- 1 fengr1 deyk 50M Jul 28 21:21 /data/deyk/ftp_fgc_xqtl/v2f/xqtl_features/xqtl_features_v2f/agg_snp_max_cv2f/xqtl_feature_max_cv2f.12.txt.gz\n",
    "-rw-r--r-- 1 fengr1 deyk 33M Jul 28 21:21 /data/deyk/ftp_fgc_xqtl/v2f/xqtl_features/xqtl_features_v2f/agg_snp_max_cv2f/xqtl_feature_max_cv2f.13.txt.gz\n",
    "\n",
    "```"
   ]
  },
  {
   "cell_type": "markdown",
   "id": "85aa66cc-021b-4b1e-b09c-f4d9c51def8a",
   "metadata": {
    "tags": []
   },
   "source": [
    "## 4. Visualization of Results"
   ]
  },
  {
   "cell_type": "markdown",
   "id": "fc9379fc-a854-4e36-8094-be4009308e86",
   "metadata": {},
   "source": [
    "```\n",
    "ls */xqtl_feature_max_cv2f/*metrics -hl\n",
    "-rw-r--r-- 1 fengr1 deyk 116 Jul 29 17:01 PIP0.7_CS0_VCP0.8_COS0/xqtl_feature_max_cv2f/FunGen_xQTL.PIP0.7_CS0_VCP0.8_COS0.xqtl_feature_max_cv2f.metrics\n",
    "-rw-r--r-- 1 fengr1 deyk 113 Jul 29 15:10 PIP0.7_CS10_VCP0.8_COS10/xqtl_feature_max_cv2f/FunGen_xQTL.PIP0.7_CS10_VCP0.8_COS10.xqtl_feature_max_cv2f.metrics\n",
    "-rw-r--r-- 1 fengr1 deyk  52 Jul 28 23:27 PIP0.9_CS3_VCP0.9_COS3/xqtl_feature_max_cv2f/FunGen_xQTL.PIP0.9_CS3_VCP0.9_COS3.xqtl_feature_max_cv2f.metrics\n",
    "```"
   ]
  },
  {
   "cell_type": "code",
   "execution_count": 69,
   "id": "5c4130c5-8803-4b44-9a95-50765a77e6c6",
   "metadata": {
    "tags": []
   },
   "outputs": [
    {
     "name": "stderr",
     "output_type": "stream",
     "text": [
      "Processing status: PIP0.9_CS3_VCP0.9_COS3\n",
      "\n",
      "Processing status: PIP0.7_CS10_VCP0.8_COS10\n",
      "\n",
      "Processing status: PIP0.7_CS0_VCP0.8_COS0\n",
      "\n"
     ]
    }
   ],
   "source": [
    "library(data.table)\n",
    "library(ggplot2)\n",
    "library(dplyr)\n",
    "library(stringr)\n",
    "\n",
    "# Define statuses (adjust to match your naming scheme)\n",
    "statuses <- c(\"PIP0.9_CS3_VCP0.9_COS3\", \"PIP0.7_CS10_VCP0.8_COS10\", \"PIP0.7_CS0_VCP0.8_COS0\")\n",
    "\n",
    "# Output folder for plots\n",
    "plot_dir <- \"/lila/data/deyk/ru/Work/v2f/results/metric/FunGen_xQTL/\"\n",
    "dir.create(plot_dir, recursive = TRUE, showWarnings = FALSE)\n",
    "metric_list = figure_list = list()\n",
    "\n",
    "for (status in statuses) {\n",
    "  message(\"Processing status: \", status)\n",
    "  \n",
    "  ### Load metrics\n",
    "  metric_file <- paste0(plot_dir, status, \"/xqtl_feature_max_cv2f/FunGen_xQTL.\", status, \".xqtl_feature_max_cv2f.metrics\")\n",
    "  shap_file   <- paste0(plot_dir, status, \"/xqtl_feature_max_cv2f/FunGen_xQTL.\", status, \".xqtl_feature_max_cv2f.shap_values.csv\")\n",
    "  \n",
    "  if (!file.exists(metric_file) | !file.exists(shap_file)) {\n",
    "    warning(\"Missing file(s) for status: \", status)\n",
    "    next\n",
    "  }\n",
    "  \n",
    "  metric_list[[status]] <- fread(metric_file)\n",
    "  shap_dt <- fread(shap_file)\n",
    "  \n",
    "  ### Aggregate SHAP values\n",
    "  shap_summary <- shap_dt[, .(\n",
    "    mean_abs_rfvalue = mean(abs(rfvalue)),\n",
    "    max_rfvalue = max(abs(rfvalue)),\n",
    "    n = .N\n",
    "  ), by = variable] %>% \n",
    "    arrange(desc(mean_abs_rfvalue))\n",
    "  \n",
    "  ### Plot: Top 20 Features\n",
    "  figure_list[[status]]$p1 <- ggplot(shap_summary[1:20], aes(x = reorder(variable, mean_abs_rfvalue), y = mean_abs_rfvalue)) +\n",
    "    geom_col() +\n",
    "    coord_flip() +\n",
    "    labs(title = paste(\"Top 20 Features by Mean |SHAP| -\", status),\n",
    "         x = \"Feature\", y = \"Mean |SHAP| Value\") +\n",
    "    theme_minimal()\n",
    "  \n",
    "  # ggsave(filename = paste0(plot_dir, \"Top20_SHAP_\", status, \".png\"), plot = p1, width = 10, height = 6)\n",
    "  \n",
    "  ### Plot: Top 20 Non-dominant Non-sQTL Features\n",
    "  figure_list[[status]]$p2 <- shap_summary %>%\n",
    "    slice(-(1:4)) %>% \n",
    "    filter(!str_detect(variable, \"sQTL\")) %>% \n",
    "    slice_max(order_by = mean_abs_rfvalue, n = 20) %>%\n",
    "    ggplot(aes(x = reorder(variable, mean_abs_rfvalue), y = mean_abs_rfvalue)) +\n",
    "    geom_col() +\n",
    "    coord_flip() +\n",
    "    labs(title = paste(\"Top 20 Non-dominant Non-sQTL Features -\", status),\n",
    "         x = \"Feature\", y = \"Mean |SHAP| Value\") +\n",
    "    theme_minimal()\n",
    "  \n",
    "  # ggsave(filename = paste0(plot_dir, \"Top20_NonSQTLSHAP_\", status, \".png\"), plot = p2, width = 10, height = 6)\n",
    "\n",
    "}\n",
    "     "
   ]
  },
  {
   "cell_type": "markdown",
   "id": "93d06080-deaf-49b8-a741-de4329f7d54e",
   "metadata": {},
   "source": [
    "### PIP0.9_CS3_VCP0.9_COS3\n"
   ]
  },
  {
   "cell_type": "code",
   "execution_count": 72,
   "id": "3d7b3865-849e-4a86-80d1-c5c3730fb358",
   "metadata": {},
   "outputs": [
    {
     "data": {
      "text/html": [
       "<table class=\"dataframe\">\n",
       "<caption>A data.table: 1 × 4</caption>\n",
       "<thead>\n",
       "\t<tr><th scope=col>AUROC.mean</th><th scope=col>AUROC.sd</th><th scope=col>AUPRC.mean</th><th scope=col>AUPRC.sd</th></tr>\n",
       "\t<tr><th scope=col>&lt;dbl&gt;</th><th scope=col>&lt;int&gt;</th><th scope=col>&lt;dbl&gt;</th><th scope=col>&lt;int&gt;</th></tr>\n",
       "</thead>\n",
       "<tbody>\n",
       "\t<tr><td>0.5</td><td>0</td><td>0.5</td><td>0</td></tr>\n",
       "</tbody>\n",
       "</table>\n"
      ],
      "text/latex": [
       "A data.table: 1 × 4\n",
       "\\begin{tabular}{llll}\n",
       " AUROC.mean & AUROC.sd & AUPRC.mean & AUPRC.sd\\\\\n",
       " <dbl> & <int> & <dbl> & <int>\\\\\n",
       "\\hline\n",
       "\t 0.5 & 0 & 0.5 & 0\\\\\n",
       "\\end{tabular}\n"
      ],
      "text/markdown": [
       "\n",
       "A data.table: 1 × 4\n",
       "\n",
       "| AUROC.mean &lt;dbl&gt; | AUROC.sd &lt;int&gt; | AUPRC.mean &lt;dbl&gt; | AUPRC.sd &lt;int&gt; |\n",
       "|---|---|---|---|\n",
       "| 0.5 | 0 | 0.5 | 0 |\n",
       "\n"
      ],
      "text/plain": [
       "  AUROC.mean AUROC.sd AUPRC.mean AUPRC.sd\n",
       "1 0.5        0        0.5        0       "
      ]
     },
     "metadata": {},
     "output_type": "display_data"
    }
   ],
   "source": [
    "metric_list$PIP0.9_CS3_VCP0.9_COS3"
   ]
  },
  {
   "cell_type": "code",
   "execution_count": 75,
   "id": "3e13e4aa-3eae-4e2d-84c1-d75dbe823787",
   "metadata": {},
   "outputs": [
    {
     "data": {
      "image/png": "[encoded data removed]",
      "text/plain": [
       "plot without title"
      ]
     },
     "metadata": {
      "image/png": {
       "height": 360,
       "width": 720
      }
     },
     "output_type": "display_data"
    }
   ],
   "source": [
    "figure_list$PIP0.9_CS3_VCP0.9_COS3$p1"
   ]
  },
  {
   "cell_type": "markdown",
   "id": "74d610fa-5ce2-4fac-9b05-097dbf5d64fe",
   "metadata": {},
   "source": [
    "### PIP0.7_CS10_VCP0.8_COS10\n"
   ]
  },
  {
   "cell_type": "code",
   "execution_count": 71,
   "id": "18b1c2e9-54c0-4b52-9ce0-a8ecd86a4553",
   "metadata": {},
   "outputs": [
    {
     "data": {
      "text/html": [
       "<table class=\"dataframe\">\n",
       "<caption>A data.table: 1 × 4</caption>\n",
       "<thead>\n",
       "\t<tr><th scope=col>AUROC.mean</th><th scope=col>AUROC.sd</th><th scope=col>AUPRC.mean</th><th scope=col>AUPRC.sd</th></tr>\n",
       "\t<tr><th scope=col>&lt;dbl&gt;</th><th scope=col>&lt;dbl&gt;</th><th scope=col>&lt;dbl&gt;</th><th scope=col>&lt;dbl&gt;</th></tr>\n",
       "</thead>\n",
       "<tbody>\n",
       "\t<tr><td>0.637931</td><td>0.0472005</td><td>0.6370735</td><td>0.04029303</td></tr>\n",
       "</tbody>\n",
       "</table>\n"
      ],
      "text/latex": [
       "A data.table: 1 × 4\n",
       "\\begin{tabular}{llll}\n",
       " AUROC.mean & AUROC.sd & AUPRC.mean & AUPRC.sd\\\\\n",
       " <dbl> & <dbl> & <dbl> & <dbl>\\\\\n",
       "\\hline\n",
       "\t 0.637931 & 0.0472005 & 0.6370735 & 0.04029303\\\\\n",
       "\\end{tabular}\n"
      ],
      "text/markdown": [
       "\n",
       "A data.table: 1 × 4\n",
       "\n",
       "| AUROC.mean &lt;dbl&gt; | AUROC.sd &lt;dbl&gt; | AUPRC.mean &lt;dbl&gt; | AUPRC.sd &lt;dbl&gt; |\n",
       "|---|---|---|---|\n",
       "| 0.637931 | 0.0472005 | 0.6370735 | 0.04029303 |\n",
       "\n"
      ],
      "text/plain": [
       "  AUROC.mean AUROC.sd  AUPRC.mean AUPRC.sd  \n",
       "1 0.637931   0.0472005 0.6370735  0.04029303"
      ]
     },
     "metadata": {},
     "output_type": "display_data"
    }
   ],
   "source": [
    "metric_list$PIP0.7_CS10_VCP0.8_COS10"
   ]
  },
  {
   "cell_type": "code",
   "execution_count": 76,
   "id": "a8c284cb-7ebf-4aaf-aaba-bbbed08b74d9",
   "metadata": {},
   "outputs": [
    {
     "data": {
      "image/png": "[encoded data removed]",
      "text/plain": [
       "plot without title"
      ]
     },
     "metadata": {
      "image/png": {
       "height": 360,
       "width": 720
      }
     },
     "output_type": "display_data"
    }
   ],
   "source": [
    "figure_list$PIP0.7_CS10_VCP0.8_COS10$p1"
   ]
  },
  {
   "cell_type": "markdown",
   "id": "8ce40f3b-818a-40ca-99e4-706d93c2f27d",
   "metadata": {},
   "source": [
    "### PIP0.7_CS0_VCP0.8_COS0"
   ]
  },
  {
   "cell_type": "code",
   "execution_count": 70,
   "id": "3ad209b9-7b6a-4bd9-a7ab-118f178d2d3b",
   "metadata": {},
   "outputs": [
    {
     "data": {
      "text/html": [
       "<table class=\"dataframe\">\n",
       "<caption>A data.table: 1 × 4</caption>\n",
       "<thead>\n",
       "\t<tr><th scope=col>AUROC.mean</th><th scope=col>AUROC.sd</th><th scope=col>AUPRC.mean</th><th scope=col>AUPRC.sd</th></tr>\n",
       "\t<tr><th scope=col>&lt;dbl&gt;</th><th scope=col>&lt;dbl&gt;</th><th scope=col>&lt;dbl&gt;</th><th scope=col>&lt;dbl&gt;</th></tr>\n",
       "</thead>\n",
       "<tbody>\n",
       "\t<tr><td>0.8920172</td><td>0.00872623</td><td>0.9086363</td><td>0.009549607</td></tr>\n",
       "</tbody>\n",
       "</table>\n"
      ],
      "text/latex": [
       "A data.table: 1 × 4\n",
       "\\begin{tabular}{llll}\n",
       " AUROC.mean & AUROC.sd & AUPRC.mean & AUPRC.sd\\\\\n",
       " <dbl> & <dbl> & <dbl> & <dbl>\\\\\n",
       "\\hline\n",
       "\t 0.8920172 & 0.00872623 & 0.9086363 & 0.009549607\\\\\n",
       "\\end{tabular}\n"
      ],
      "text/markdown": [
       "\n",
       "A data.table: 1 × 4\n",
       "\n",
       "| AUROC.mean &lt;dbl&gt; | AUROC.sd &lt;dbl&gt; | AUPRC.mean &lt;dbl&gt; | AUPRC.sd &lt;dbl&gt; |\n",
       "|---|---|---|---|\n",
       "| 0.8920172 | 0.00872623 | 0.9086363 | 0.009549607 |\n",
       "\n"
      ],
      "text/plain": [
       "  AUROC.mean AUROC.sd   AUPRC.mean AUPRC.sd   \n",
       "1 0.8920172  0.00872623 0.9086363  0.009549607"
      ]
     },
     "metadata": {},
     "output_type": "display_data"
    }
   ],
   "source": [
    "metric_list$PIP0.7_CS0_VCP0.8_COS0"
   ]
  },
  {
   "cell_type": "code",
   "execution_count": 73,
   "id": "730e6269-d12c-46d4-bbe2-2a0fd67b4222",
   "metadata": {},
   "outputs": [
    {
     "data": {
      "image/png": "[encoded data removed]",
      "text/plain": [
       "plot without title"
      ]
     },
     "metadata": {
      "image/png": {
       "height": 360,
       "width": 720
      }
     },
     "output_type": "display_data"
    }
   ],
   "source": [
    "figure_list$PIP0.7_CS0_VCP0.8_COS0$p1"
   ]
  },
  {
   "cell_type": "code",
   "execution_count": 58,
   "id": "1cce69b8-5a5a-4aac-8486-0c381b8c7982",
   "metadata": {},
   "outputs": [
    {
     "data": {
      "image/png": "[encoded data removed]",
      "text/plain": [
       "plot without title"
      ]
     },
     "metadata": {
      "image/png": {
       "height": 360,
       "width": 720
      }
     },
     "output_type": "display_data"
    }
   ],
   "source": [
    "library(png)\n",
    "library(grid)\n",
    "\n",
    "img <- readPNG(\"/lila/data/deyk/ru/Work/v2f/results/metric/FunGen_xQTL/PIP0.7_CS0_VCP0.8_COS0/xqtl_feature_max_cv2f/FunGen_xQTL.PIP0.7_CS0_VCP0.8_COS0.xqtl_feature_max_cv2f.png\")\n",
    "grid.raster(img)"
   ]
  },
  {
   "cell_type": "markdown",
   "id": "64d4064f-dfe8-4fe6-99d8-68c58c051da8",
   "metadata": {},
   "source": [
    "## (Optional) Experiment"
   ]
  },
  {
   "cell_type": "markdown",
   "id": "728af20a-1469-4d43-85d3-b52e09f12462",
   "metadata": {},
   "source": [
    "### Additional Experiment (Suggestion from Gao)\n",
    "\n",
    "As suggested by Gao, a valuable experiment to strengthen our findings is to assess model performance when excluding all xQTL features.  \n",
    "Specifically, we would train the model on the same positive and negative sets described above  \n",
    "(using **PIP > 0.7 with no CS size restriction** and **VCP > 0.8 with no CoS size restriction**).  \n",
    "\n",
    "In this setting, the feature set would consist only of Fabiha’s annotations, without any xQTL-derived features.  \n",
    "This approach mirrors strategies used in prior studies, where sources of annotation were systematically removed to evaluate their individual contributions. \n",
    "\n",
    "We anticipate a similar outcome here: removing xQTL features is expected to substantially reduce the AUC compared to the full model,  \n",
    "thereby highlighting the unique and critical contribution of xQTL information."
   ]
  },
  {
   "cell_type": "markdown",
   "id": "da02daec-f299-4c86-8e87-61c4c362c98d",
   "metadata": {},
   "source": [
    "experiment by taking out xQTL information from feature sets to check AUC"
   ]
  },
  {
   "cell_type": "markdown",
   "id": "4013a2ac-24db-4cff-9fed-e0fab537682f",
   "metadata": {},
   "source": [
    "### prepare new feature sets without xQTL"
   ]
  },
  {
   "cell_type": "code",
   "execution_count": null,
   "id": "621505b5-2867-4af8-babd-41a6548d54d7",
   "metadata": {},
   "outputs": [],
   "source": [
    "library(tidyverse)\n",
    "library(data.table)\n",
    "setwd('~/deyk/ru/Work/v2f/analysis')\n",
    "cv2f_files <- list.files(\"/data/deyk/ftp_fgc_xqtl/v2f/xqtl_features/cv2f_features/cv2f_features/\", full.names = T)\n",
    "agg_xqtl_files <- list.files(\"/data/deyk/ftp_fgc_xqtl/v2f/xqtl_features/xqtl_features_v2f/agg_snp_max/\", full.names = T)\n",
    "\n",
    "\n",
    "#### Main loop #### \n",
    "\n",
    "for(i in 1:22){\n",
    "  cat(i)\n",
    "  cv2f <- fread(paste0('/data/deyk/ftp_fgc_xqtl/v2f/xqtl_features/cv2f_features/cv2f_features/annotation_chrmbpnet_BRAIN.', i, '.txt'))\n",
    "  s2g <- fread(paste0('/data/deyk/ftp_fgc_xqtl/v2f/xqtl_features/xqtl_features_v2f/agg_snp_max//xqtl_feature_max.', i, '.txt.gz'))\n",
    "  \n",
    "  #### add cv2f feature #### \n",
    "  \n",
    "  # Extract cv2f features (skip first 4 columns)\n",
    "  cv2f_features <- colnames(cv2f)[5:ncol(cv2f)]\n",
    "  \n",
    "  # Create snp column\n",
    "  cv2f <- cv2f %>%\n",
    "    mutate(snp = paste0(\"chr\", CHR, \":\", BP))\n",
    "  # Merge s2g with cv2f features\n",
    "  s2g <- s2g %>%\n",
    "    mutate(snp = paste0(\"chr\", CHR, \":\", BP)) %>%\n",
    "    left_join(cv2f %>% select(all_of(cv2f_features), snp), by = \"snp\") %>%\n",
    "    mutate(across(all_of(cv2f_features), ~replace_na(., 0))) %>% select(-snp)\n",
    "  s2g_xqtl_elements <- colnames(s2g) %>% .[str_detect(., 'QTL|qtl|Metabrain|single_context|multi_context')]\n",
    "  # remove all xqtl feature\n",
    "  s2g_noxqtl <- s2g %>%\n",
    "    select(-any_of(s2g_xqtl_elements)) \n",
    "  # s2g_noxqtl %>% mutate(snp=paste0('chr', CHR, ':', BP), rsid=SNP) %>% select(snp, rsid) %>% \n",
    "  #   fwrite(paste0('/data/deyk/ftp_fgc_xqtl/v2f/xqtl_features/agg_snp_max_cv2f_noxqtl/var_list.', i, '.txt'), sep = '\\t')\n",
    "  fwrite(s2g_noxqtl, paste0('/data/deyk/ftp_fgc_xqtl/v2f/xqtl_features/xqtl_features_v2f/agg_snp_max_cv2f_noxqtl/xqtl_feature_max_cv2f_noxqtl.', i, '.txt.gz'), sep = '\\t')\n",
    "   ## the difference with v2f/xqtl_features/no_xqtl_features_v2f is this does not remain the variants in cv2f only and that one does\n",
    "}\n",
    "\n"
   ]
  },
  {
   "cell_type": "markdown",
   "id": "3175f00a-55e6-495b-923e-200f61f033d9",
   "metadata": {
    "tags": []
   },
   "source": [
    "#### check new feature sets"
   ]
  },
  {
   "cell_type": "code",
   "execution_count": 28,
   "id": "544aba3c-05c3-45ad-a0f6-6e7abf7a2324",
   "metadata": {},
   "outputs": [],
   "source": [
    "feat_tmp <- fread('/data/deyk/ftp_fgc_xqtl/v2f/xqtl_features/xqtl_features_v2f/agg_snp_max_cv2f_noxqtl/xqtl_feature_max_cv2f_noxqtl.22.txt.gz')"
   ]
  },
  {
   "cell_type": "code",
   "execution_count": 29,
   "id": "008049a3-456e-4394-b347-78d4a2253efb",
   "metadata": {},
   "outputs": [
    {
     "data": {
      "text/html": [
       "<style>\n",
       ".list-inline {list-style: none; margin:0; padding: 0}\n",
       ".list-inline>li {display: inline-block}\n",
       ".list-inline>li:not(:last-child)::after {content: \"\\00b7\"; padding: 0 .5ex}\n",
       "</style>\n",
       "<ol class=list-inline><li>'CHR'</li><li>'BP'</li><li>'SNP'</li><li>'exon'</li><li>'s_in_g'</li><li>'same_tad'</li><li>'proximal_tad'</li><li>'g_closest_tss'</li><li>'EpiRaction.EPIraction_Brain_Alzheimer_Control_thresholded_predictions_0.026'</li><li>'ABC_dpfc'</li><li>'EpiMap'</li><li>'Baseline_Predss.dist_to_tss'</li><li>'Baseline_Predss.nearest_expressed_gene'</li><li>'EpiRaction.EPIraction_Brain_Alzheimer_Disease_thresholded_predictions_0.026'</li><li>'EpiRaction.EPIraction_Brain_Alzheimer_Encode_thresholded_predictions_0.026'</li><li>'ABC_ENCODE_E2G_2022.ABC_DNaseH3K27ac_BRN'</li><li>'ADASTRA2021_BillCipher.ADASTRA_UseAvgOnNonTested_brain'</li><li>'Altius_2024_DNase.annotations.rsids_FDR10_Brain'</li><li>'Altius_2024_DNase.annotations.rsids_Nominal_Brain'</li><li>'Enformer.Enformer_brain_CAGE'</li><li>'Enformer.Enformer_brain_CHIP'</li><li>'Enformer.Enformer_brain_DNASE'</li><li>'Enformer.Enformer_brain_H3K27ac'</li><li>'Enformer.Enformer_brain_H3K4me1'</li><li>'Enformer.Enformer_brain_H3K4me3'</li><li>'Enformer.Enformer_brain_all'</li><li>'GTEx_Flagship.GTEx_Finemap_PIP_10_brain'</li><li>'GTEx_Flagship.GTEx_Finemap_PIP_50_brain'</li><li>'cCREv4_Human_CellType.BRN_PLS'</li><li>'cCREv4_Human_CellType.BRN_dELS'</li><li>'cCREv4_Human_CellType.BRN_pELS'</li><li>'chrmbpnet_brain_abs_logfc_x_jsd_x_max_percentile'</li><li>'chrmbpnet_brain_abs_logfc_x_max_percentile'</li><li>'chrmbpnet_brain_jsd_x_max_percentile'</li></ol>\n"
      ],
      "text/latex": [
       "\\begin{enumerate*}\n",
       "\\item 'CHR'\n",
       "\\item 'BP'\n",
       "\\item 'SNP'\n",
       "\\item 'exon'\n",
       "\\item 's\\_in\\_g'\n",
       "\\item 'same\\_tad'\n",
       "\\item 'proximal\\_tad'\n",
       "\\item 'g\\_closest\\_tss'\n",
       "\\item 'EpiRaction.EPIraction\\_Brain\\_Alzheimer\\_Control\\_thresholded\\_predictions\\_0.026'\n",
       "\\item 'ABC\\_dpfc'\n",
       "\\item 'EpiMap'\n",
       "\\item 'Baseline\\_Predss.dist\\_to\\_tss'\n",
       "\\item 'Baseline\\_Predss.nearest\\_expressed\\_gene'\n",
       "\\item 'EpiRaction.EPIraction\\_Brain\\_Alzheimer\\_Disease\\_thresholded\\_predictions\\_0.026'\n",
       "\\item 'EpiRaction.EPIraction\\_Brain\\_Alzheimer\\_Encode\\_thresholded\\_predictions\\_0.026'\n",
       "\\item 'ABC\\_ENCODE\\_E2G\\_2022.ABC\\_DNaseH3K27ac\\_BRN'\n",
       "\\item 'ADASTRA2021\\_BillCipher.ADASTRA\\_UseAvgOnNonTested\\_brain'\n",
       "\\item 'Altius\\_2024\\_DNase.annotations.rsids\\_FDR10\\_Brain'\n",
       "\\item 'Altius\\_2024\\_DNase.annotations.rsids\\_Nominal\\_Brain'\n",
       "\\item 'Enformer.Enformer\\_brain\\_CAGE'\n",
       "\\item 'Enformer.Enformer\\_brain\\_CHIP'\n",
       "\\item 'Enformer.Enformer\\_brain\\_DNASE'\n",
       "\\item 'Enformer.Enformer\\_brain\\_H3K27ac'\n",
       "\\item 'Enformer.Enformer\\_brain\\_H3K4me1'\n",
       "\\item 'Enformer.Enformer\\_brain\\_H3K4me3'\n",
       "\\item 'Enformer.Enformer\\_brain\\_all'\n",
       "\\item 'GTEx\\_Flagship.GTEx\\_Finemap\\_PIP\\_10\\_brain'\n",
       "\\item 'GTEx\\_Flagship.GTEx\\_Finemap\\_PIP\\_50\\_brain'\n",
       "\\item 'cCREv4\\_Human\\_CellType.BRN\\_PLS'\n",
       "\\item 'cCREv4\\_Human\\_CellType.BRN\\_dELS'\n",
       "\\item 'cCREv4\\_Human\\_CellType.BRN\\_pELS'\n",
       "\\item 'chrmbpnet\\_brain\\_abs\\_logfc\\_x\\_jsd\\_x\\_max\\_percentile'\n",
       "\\item 'chrmbpnet\\_brain\\_abs\\_logfc\\_x\\_max\\_percentile'\n",
       "\\item 'chrmbpnet\\_brain\\_jsd\\_x\\_max\\_percentile'\n",
       "\\end{enumerate*}\n"
      ],
      "text/markdown": [
       "1. 'CHR'\n",
       "2. 'BP'\n",
       "3. 'SNP'\n",
       "4. 'exon'\n",
       "5. 's_in_g'\n",
       "6. 'same_tad'\n",
       "7. 'proximal_tad'\n",
       "8. 'g_closest_tss'\n",
       "9. 'EpiRaction.EPIraction_Brain_Alzheimer_Control_thresholded_predictions_0.026'\n",
       "10. 'ABC_dpfc'\n",
       "11. 'EpiMap'\n",
       "12. 'Baseline_Predss.dist_to_tss'\n",
       "13. 'Baseline_Predss.nearest_expressed_gene'\n",
       "14. 'EpiRaction.EPIraction_Brain_Alzheimer_Disease_thresholded_predictions_0.026'\n",
       "15. 'EpiRaction.EPIraction_Brain_Alzheimer_Encode_thresholded_predictions_0.026'\n",
       "16. 'ABC_ENCODE_E2G_2022.ABC_DNaseH3K27ac_BRN'\n",
       "17. 'ADASTRA2021_BillCipher.ADASTRA_UseAvgOnNonTested_brain'\n",
       "18. 'Altius_2024_DNase.annotations.rsids_FDR10_Brain'\n",
       "19. 'Altius_2024_DNase.annotations.rsids_Nominal_Brain'\n",
       "20. 'Enformer.Enformer_brain_CAGE'\n",
       "21. 'Enformer.Enformer_brain_CHIP'\n",
       "22. 'Enformer.Enformer_brain_DNASE'\n",
       "23. 'Enformer.Enformer_brain_H3K27ac'\n",
       "24. 'Enformer.Enformer_brain_H3K4me1'\n",
       "25. 'Enformer.Enformer_brain_H3K4me3'\n",
       "26. 'Enformer.Enformer_brain_all'\n",
       "27. 'GTEx_Flagship.GTEx_Finemap_PIP_10_brain'\n",
       "28. 'GTEx_Flagship.GTEx_Finemap_PIP_50_brain'\n",
       "29. 'cCREv4_Human_CellType.BRN_PLS'\n",
       "30. 'cCREv4_Human_CellType.BRN_dELS'\n",
       "31. 'cCREv4_Human_CellType.BRN_pELS'\n",
       "32. 'chrmbpnet_brain_abs_logfc_x_jsd_x_max_percentile'\n",
       "33. 'chrmbpnet_brain_abs_logfc_x_max_percentile'\n",
       "34. 'chrmbpnet_brain_jsd_x_max_percentile'\n",
       "\n",
       "\n"
      ],
      "text/plain": [
       " [1] \"CHR\"                                                                        \n",
       " [2] \"BP\"                                                                         \n",
       " [3] \"SNP\"                                                                        \n",
       " [4] \"exon\"                                                                       \n",
       " [5] \"s_in_g\"                                                                     \n",
       " [6] \"same_tad\"                                                                   \n",
       " [7] \"proximal_tad\"                                                               \n",
       " [8] \"g_closest_tss\"                                                              \n",
       " [9] \"EpiRaction.EPIraction_Brain_Alzheimer_Control_thresholded_predictions_0.026\"\n",
       "[10] \"ABC_dpfc\"                                                                   \n",
       "[11] \"EpiMap\"                                                                     \n",
       "[12] \"Baseline_Predss.dist_to_tss\"                                                \n",
       "[13] \"Baseline_Predss.nearest_expressed_gene\"                                     \n",
       "[14] \"EpiRaction.EPIraction_Brain_Alzheimer_Disease_thresholded_predictions_0.026\"\n",
       "[15] \"EpiRaction.EPIraction_Brain_Alzheimer_Encode_thresholded_predictions_0.026\" \n",
       "[16] \"ABC_ENCODE_E2G_2022.ABC_DNaseH3K27ac_BRN\"                                   \n",
       "[17] \"ADASTRA2021_BillCipher.ADASTRA_UseAvgOnNonTested_brain\"                     \n",
       "[18] \"Altius_2024_DNase.annotations.rsids_FDR10_Brain\"                            \n",
       "[19] \"Altius_2024_DNase.annotations.rsids_Nominal_Brain\"                          \n",
       "[20] \"Enformer.Enformer_brain_CAGE\"                                               \n",
       "[21] \"Enformer.Enformer_brain_CHIP\"                                               \n",
       "[22] \"Enformer.Enformer_brain_DNASE\"                                              \n",
       "[23] \"Enformer.Enformer_brain_H3K27ac\"                                            \n",
       "[24] \"Enformer.Enformer_brain_H3K4me1\"                                            \n",
       "[25] \"Enformer.Enformer_brain_H3K4me3\"                                            \n",
       "[26] \"Enformer.Enformer_brain_all\"                                                \n",
       "[27] \"GTEx_Flagship.GTEx_Finemap_PIP_10_brain\"                                    \n",
       "[28] \"GTEx_Flagship.GTEx_Finemap_PIP_50_brain\"                                    \n",
       "[29] \"cCREv4_Human_CellType.BRN_PLS\"                                              \n",
       "[30] \"cCREv4_Human_CellType.BRN_dELS\"                                             \n",
       "[31] \"cCREv4_Human_CellType.BRN_pELS\"                                             \n",
       "[32] \"chrmbpnet_brain_abs_logfc_x_jsd_x_max_percentile\"                           \n",
       "[33] \"chrmbpnet_brain_abs_logfc_x_max_percentile\"                                 \n",
       "[34] \"chrmbpnet_brain_jsd_x_max_percentile\"                                       "
      ]
     },
     "metadata": {},
     "output_type": "display_data"
    }
   ],
   "source": [
    "feat_tmp %>% colnames"
   ]
  },
  {
   "cell_type": "code",
   "execution_count": 30,
   "id": "3e563521-8ba2-4dc1-844c-ebf2c4049d2d",
   "metadata": {},
   "outputs": [
    {
     "data": {
      "text/html": [
       "<style>\n",
       ".list-inline {list-style: none; margin:0; padding: 0}\n",
       ".list-inline>li {display: inline-block}\n",
       ".list-inline>li:not(:last-child)::after {content: \"\\00b7\"; padding: 0 .5ex}\n",
       "</style>\n",
       "<ol class=list-inline><li>236695</li><li>34</li></ol>\n"
      ],
      "text/latex": [
       "\\begin{enumerate*}\n",
       "\\item 236695\n",
       "\\item 34\n",
       "\\end{enumerate*}\n"
      ],
      "text/markdown": [
       "1. 236695\n",
       "2. 34\n",
       "\n",
       "\n"
      ],
      "text/plain": [
       "[1] 236695     34"
      ]
     },
     "metadata": {},
     "output_type": "display_data"
    }
   ],
   "source": [
    "feat_tmp %>% dim #chrom 22"
   ]
  },
  {
   "cell_type": "markdown",
   "id": "554606e3-e099-4d0e-a793-ddcd8b0250ab",
   "metadata": {},
   "source": [
    "### submit jobs"
   ]
  },
  {
   "cell_type": "code",
   "execution_count": null,
   "id": "647b15f9-a74e-4afe-82eb-5d954f13b412",
   "metadata": {},
   "outputs": [],
   "source": [
    "#!/bin/bash\n",
    "\n",
    "# Parameter sets\n",
    "param_sets=(\n",
    "  \"PIP0.7_CS0_VCP0.8_COS0\"\n",
    ")\n",
    "\n",
    "# Feature sets\n",
    "feature_sets=(\n",
    "  \"/lila/data/deyk/ftp_fgc_xqtl/v2f/xqtl_features/xqtl_features_v2f/agg_snp_max_cv2f_noxqtl/xqtl_feature_max_cv2f_noxqtl.\"\n",
    ")\n",
    "\n",
    "# Shared input files\n",
    "bimpath=\"/home/fengr1/deyk/ftp_fgc_xqtl/v2f/1000G_BIMS_hg38/1000G.EUR.QC.\"\n",
    "mafpath=\"/data/deyk/extras/MAF_features_Aug032022.txt\"\n",
    "ldblockspath=\"/home/fengr1/deyk/ftp_fgc_xqtl/v2f/LAVA_LDblocks_published.txt\"\n",
    "\n",
    "# Create directories\n",
    "mkdir -p /home/fengr1/Work/v2f/results/score/FunGen_xQTL\n",
    "mkdir -p /home/fengr1/Work/v2f/results/metric/FunGen_xQTL\n",
    "mkdir -p /home/fengr1/Work/v2f/logs\n",
    "\n",
    "for status in \"${param_sets[@]}\"; do\n",
    "  for feat in \"${feature_sets[@]}\"; do\n",
    "    feat_label=$(basename ${feat%.*})\n",
    "    mkdir -p /home/fengr1/Work/v2f/results/score/FunGen_xQTL/${status}/${feat_label}\n",
    "    mkdir -p /home/fengr1/Work/v2f/results/metric/FunGen_xQTL/${status}/${feat_label}\n",
    "\n",
    "    positive_set=\"/lila/data/deyk/ru/Work/v2f/results/posneg_process/positive_set.${status}.txt\"\n",
    "    negative_set=\"/lila/data/deyk/ru/Work/v2f/results/posneg_process/negative_set.${status}.txt\"\n",
    "    output_metrics=\"/home/fengr1/Work/v2f/results/metric/FunGen_xQTL/${status}/${feat_label}/FunGen_xQTL.${status}.${feat_label}.metrics\"\n",
    "\n",
    "    echo \">>> Running metrics: $status with $feat_label\"\n",
    "    Rscript /lila/home/fengr1/codes/cv2f/metric/run_cv2f_MAF5LDmatch_metrics.R \\\n",
    "      --positive_set $positive_set \\\n",
    "      --negative_set $negative_set \\\n",
    "      --feature_file $feat \\\n",
    "      --bimpath $bimpath \\\n",
    "      --mafpath $mafpath \\\n",
    "      --ldblockspath $ldblockspath \\\n",
    "      --output_metrics $output_metrics > /home/fengr1/Work/v2f/logs/xqtl_metric.${status}.${feat_label}.log 2>&1\n",
    "\n",
    "    # for chrm in {1..22}; do\n",
    "    #   output_cv2f=\"/home/fengr1/Work/v2f/results/score/FunGen_xQTL/${status}/${feat_label}/FunGen_xQTL.GWASonly_response.${status}.${feat_label}.chr${chrm}.cv2f\"\n",
    "\n",
    "    #   echo \">>> Running score: $status, $feat_label, chr${chrm}\"\n",
    "    #   Rscript /lila/home/fengr1/codes/cv2f/score/run_cv2f_MAF5LDmatch_cv2f_scores.R \\\n",
    "    #     --positive_set $positive_set \\\n",
    "    #     --negative_set $negative_set \\\n",
    "    #     --feature_file $feat \\\n",
    "    #     --bimpath $bimpath \\\n",
    "    #     --mafpath $mafpath \\\n",
    "    #     --ldblockspath $ldblockspath \\\n",
    "    #     --output_cv2f $output_cv2f \\\n",
    "    #     --chrm $chrm > /home/fengr1/Work/v2f/logs/xqtl_score.${status}.${feat_label}.chr${chrm}.log 2>&1\n",
    "    # done\n",
    "  done\n",
    "done"
   ]
  },
  {
   "cell_type": "markdown",
   "id": "273af081-bb93-4b16-aba7-085218166308",
   "metadata": {
    "tags": []
   },
   "source": [
    "### Visualization of Results "
   ]
  },
  {
   "cell_type": "code",
   "execution_count": 86,
   "id": "e22ef80a-45e2-44be-abee-5e8376184e54",
   "metadata": {},
   "outputs": [
    {
     "name": "stderr",
     "output_type": "stream",
     "text": [
      "Processing status: PIP0.7_CS0_VCP0.8_COS0\n",
      "\n"
     ]
    }
   ],
   "source": [
    "library(data.table)\n",
    "library(ggplot2)\n",
    "library(dplyr)\n",
    "library(stringr)\n",
    "\n",
    "# Define statuses (adjust to match your naming scheme)\n",
    "statuses <- c(\"PIP0.7_CS0_VCP0.8_COS0\")\n",
    "\n",
    "# Output folder for plots\n",
    "plot_dir <- \"/lila/data/deyk/ru/Work/v2f/results/metric/FunGen_xQTL/\"\n",
    "dir.create(plot_dir, recursive = TRUE, showWarnings = FALSE)\n",
    "metric_list = figure_list = list()\n",
    "\n",
    "for (status in statuses) {\n",
    "  message(\"Processing status: \", status)\n",
    "  \n",
    "  ### Load metrics\n",
    "  metric_file <- paste0(plot_dir, status, \"/xqtl_feature_max_cv2f_noxqtl/FunGen_xQTL.\", status, \".xqtl_feature_max_cv2f_noxqtl.metrics\")\n",
    "  shap_file   <- paste0(plot_dir, status, \"/xqtl_feature_max_cv2f_noxqtl/FunGen_xQTL.\", status, \".xqtl_feature_max_cv2f_noxqtl.shap_values.csv\")\n",
    "  \n",
    "  if (!file.exists(metric_file) | !file.exists(shap_file)) {\n",
    "    warning(\"Missing file(s) for status: \", status)\n",
    "    next\n",
    "  }\n",
    "  \n",
    "  metric_list[[status]] <- fread(metric_file)\n",
    "  shap_dt <- fread(shap_file)\n",
    "  \n",
    "  ### Aggregate SHAP values\n",
    "  shap_summary <- shap_dt[, .(\n",
    "    mean_abs_rfvalue = mean(abs(rfvalue)),\n",
    "    max_rfvalue = max(abs(rfvalue)),\n",
    "    n = .N\n",
    "  ), by = variable] %>% \n",
    "    arrange(desc(mean_abs_rfvalue))\n",
    "  \n",
    "  ### Plot: Top 20 Features\n",
    "  figure_list[[status]]$p1 <- ggplot(shap_summary[1:20], aes(x = reorder(variable, mean_abs_rfvalue), y = mean_abs_rfvalue)) +\n",
    "    geom_col() +\n",
    "    coord_flip() +\n",
    "    labs(title = paste(\"Top 20 Features by Mean |SHAP| -\", status),\n",
    "         x = \"Feature\", y = \"Mean |SHAP| Value\") +\n",
    "    theme_minimal()\n",
    "  \n",
    "  # ggsave(filename = paste0(plot_dir, \"Top20_SHAP_\", status, \".png\"), plot = p1, width = 10, height = 6)\n",
    "  \n",
    "  ### Plot: Top 20 Non-dominant Non-sQTL Features\n",
    "  figure_list[[status]]$p2 <- shap_summary %>%\n",
    "    slice(-(1:4)) %>% \n",
    "    filter(!str_detect(variable, \"sQTL\")) %>% \n",
    "    slice_max(order_by = mean_abs_rfvalue, n = 20) %>%\n",
    "    ggplot(aes(x = reorder(variable, mean_abs_rfvalue), y = mean_abs_rfvalue)) +\n",
    "    geom_col() +\n",
    "    coord_flip() +\n",
    "    labs(title = paste(\"Top 20 Non-dominant Non-sQTL Features -\", status),\n",
    "         x = \"Feature\", y = \"Mean |SHAP| Value\") +\n",
    "    theme_minimal()\n",
    "  \n",
    "  # ggsave(filename = paste0(plot_dir, \"Top20_NonSQTLSHAP_\", status, \".png\"), plot = p2, width = 10, height = 6)\n",
    "\n",
    "}\n",
    "     "
   ]
  },
  {
   "cell_type": "code",
   "execution_count": 87,
   "id": "4e0ae932-2a63-4faf-9609-728e729ca229",
   "metadata": {},
   "outputs": [
    {
     "data": {
      "text/html": [
       "<table class=\"dataframe\">\n",
       "<caption>A data.table: 1 × 4</caption>\n",
       "<thead>\n",
       "\t<tr><th scope=col>AUROC.mean</th><th scope=col>AUROC.sd</th><th scope=col>AUPRC.mean</th><th scope=col>AUPRC.sd</th></tr>\n",
       "\t<tr><th scope=col>&lt;dbl&gt;</th><th scope=col>&lt;dbl&gt;</th><th scope=col>&lt;dbl&gt;</th><th scope=col>&lt;dbl&gt;</th></tr>\n",
       "</thead>\n",
       "<tbody>\n",
       "\t<tr><td>0.6634502</td><td>0.01618427</td><td>0.6411786</td><td>0.02079641</td></tr>\n",
       "</tbody>\n",
       "</table>\n"
      ],
      "text/latex": [
       "A data.table: 1 × 4\n",
       "\\begin{tabular}{llll}\n",
       " AUROC.mean & AUROC.sd & AUPRC.mean & AUPRC.sd\\\\\n",
       " <dbl> & <dbl> & <dbl> & <dbl>\\\\\n",
       "\\hline\n",
       "\t 0.6634502 & 0.01618427 & 0.6411786 & 0.02079641\\\\\n",
       "\\end{tabular}\n"
      ],
      "text/markdown": [
       "\n",
       "A data.table: 1 × 4\n",
       "\n",
       "| AUROC.mean &lt;dbl&gt; | AUROC.sd &lt;dbl&gt; | AUPRC.mean &lt;dbl&gt; | AUPRC.sd &lt;dbl&gt; |\n",
       "|---|---|---|---|\n",
       "| 0.6634502 | 0.01618427 | 0.6411786 | 0.02079641 |\n",
       "\n"
      ],
      "text/plain": [
       "  AUROC.mean AUROC.sd   AUPRC.mean AUPRC.sd  \n",
       "1 0.6634502  0.01618427 0.6411786  0.02079641"
      ]
     },
     "metadata": {},
     "output_type": "display_data"
    }
   ],
   "source": [
    "metric_list$PIP0.7_CS0_VCP0.8_COS0"
   ]
  },
  {
   "cell_type": "code",
   "execution_count": 88,
   "id": "500b26ac-2b5a-4f52-9ed0-55dc447f24ed",
   "metadata": {},
   "outputs": [
    {
     "data": {
      "image/png": "[encoded data removed]",
      "text/plain": [
       "plot without title"
      ]
     },
     "metadata": {
      "image/png": {
       "height": 360,
       "width": 720
      }
     },
     "output_type": "display_data"
    }
   ],
   "source": [
    "figure_list$PIP0.7_CS0_VCP0.8_COS0$p1"
   ]
  },
  {
   "cell_type": "code",
   "execution_count": 59,
   "id": "8b689088-1849-468d-acc5-29f9b7d2a95b",
   "metadata": {},
   "outputs": [
    {
     "data": {
      "image/png": "[encoded data removed]",
      "text/plain": [
       "plot without title"
      ]
     },
     "metadata": {
      "image/png": {
       "height": 360,
       "width": 720
      }
     },
     "output_type": "display_data"
    }
   ],
   "source": [
    "library(png)\n",
    "library(grid)\n",
    "\n",
    "img <- readPNG(\"/lila/data/deyk/ru/Work/v2f/results/metric/FunGen_xQTL/PIP0.7_CS0_VCP0.8_COS0/xqtl_feature_max_cv2f_noxqtl/FunGen_xQTL.PIP0.7_CS0_VCP0.8_COS0.xqtl_feature_max_cv2f_noxqtl.png\")\n",
    "grid.raster(img)"
   ]
  },
  {
   "cell_type": "markdown",
   "id": "2a55b9a7-a48b-476b-8af9-1d366f7e55eb",
   "metadata": {},
   "source": [
    "### Summary\n",
    "By including all variants from CS, CoS, and uCoS, along with high-PIP variants (PIP > 0.7) outside the CS, we obtained a positive set of over 1,700 variants.  \n",
    "The resulting model achieved an AUC of **0.89**, with xQTL features contributing substantially to this performance.  \n",
    "\n",
    "As a comparative experiment, we removed all xQTL features and trained the model using only Fabiha’s feature set.  \n",
    "In this setting, the AUC dropped to **0.66**, underscoring the critical contribution of xQTL features to predictive accuracy."
   ]
  }
 ],
 "metadata": {
  "kernelspec": {
   "display_name": "R",
   "language": "R",
   "name": "ir"
  },
  "language_info": {
   "codemirror_mode": "r",
   "file_extension": ".r",
   "mimetype": "text/x-r-source",
   "name": "R",
   "pygments_lexer": "r",
   "version": "4.4.3"
  }
 },
 "nbformat": 4,
 "nbformat_minor": 5
}
