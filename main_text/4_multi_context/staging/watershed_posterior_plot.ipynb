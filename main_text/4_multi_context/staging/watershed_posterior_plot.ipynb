{
 "cells": [
  {
   "cell_type": "code",
   "execution_count": 2,
   "id": "a330c24b-a7a6-4ca0-830c-ce7139cd3ec2",
   "metadata": {},
   "outputs": [
    {
     "name": "stderr",
     "output_type": "stream",
     "text": [
      "Loading required package: sysfonts\n",
      "\n",
      "Loading required package: showtextdb\n",
      "\n",
      "── \u001b[1mAttaching core tidyverse packages\u001b[22m ───────────────────────────────────────────────────────────────────────────────────────────────────────────────────────────────────────────────────────────────────────────────────────────────────────────────────────────────────────────────────────────────────────────────────────────────────────────────── tidyverse 2.0.0 ──\n",
      "\u001b[32m✔\u001b[39m \u001b[34mdplyr    \u001b[39m 1.1.4     \u001b[32m✔\u001b[39m \u001b[34mreadr    \u001b[39m 2.1.5\n",
      "\u001b[32m✔\u001b[39m \u001b[34mforcats  \u001b[39m 1.0.1     \u001b[32m✔\u001b[39m \u001b[34mstringr  \u001b[39m 1.5.2\n",
      "\u001b[32m✔\u001b[39m \u001b[34mggplot2  \u001b[39m 4.0.0     \u001b[32m✔\u001b[39m \u001b[34mtibble   \u001b[39m 3.3.0\n",
      "\u001b[32m✔\u001b[39m \u001b[34mlubridate\u001b[39m 1.9.4     \u001b[32m✔\u001b[39m \u001b[34mtidyr    \u001b[39m 1.3.1\n",
      "\u001b[32m✔\u001b[39m \u001b[34mpurrr    \u001b[39m 1.1.0     \n",
      "── \u001b[1mConflicts\u001b[22m ─────────────────────────────────────────────────────────────────────────────────────────────────────────────────────────────────────────────────────────────────────────────────────────────────────────────────────────────────────────────────────────────────────────────────────────────────────────────────────────────────── tidyverse_conflicts() ──\n",
      "\u001b[31m✖\u001b[39m \u001b[34mdplyr\u001b[39m::\u001b[32mfilter()\u001b[39m masks \u001b[34mstats\u001b[39m::filter()\n",
      "\u001b[31m✖\u001b[39m \u001b[34mdplyr\u001b[39m::\u001b[32mlag()\u001b[39m    masks \u001b[34mstats\u001b[39m::lag()\n",
      "\u001b[36mℹ\u001b[39m Use the conflicted package (\u001b[3m\u001b[34m<http://conflicted.r-lib.org/>\u001b[39m\u001b[23m) to force all conflicts to become errors\n"
     ]
    }
   ],
   "source": [
    "library(showtext)\n",
    "library(tidyverse)\n",
    "\n",
    "font_add_google(\"Noto Sans\", \"Noto Sans\")\n",
    "showtext_auto()"
   ]
  },
  {
   "cell_type": "code",
   "execution_count": 3,
   "id": "8130acd3-22ec-4011-b5ae-b55c84fdff44",
   "metadata": {},
   "outputs": [],
   "source": [
    "full_posterior_filter <- read_rds(\"full_posterior_filter.rds\")\n",
    "posterior_plot <- ggplot(full_posterior_filter, aes(posterior, fill = ome)) +\n",
    "    geom_histogram() +\n",
    "    scale_y_log10() +\n",
    "    geom_vline(xintercept = 0.5, color = \"red\") +\n",
    "    facet_wrap(~ ome, ncol = 3) +\n",
    "    theme_classic() +\n",
    "    xlim(c(0,1)) +\n",
    "    ylab(\"Subject-gene pairs\") +\n",
    "    xlab(\"Watershed posterior\") +\n",
    "    theme(text = element_text(family = \"Noto Sans\"),\n",
    "        legend.position = \"none\",\n",
    "        strip.background = element_blank(),\n",
    "        strip.text = element_text(face = \"bold\"),\n",
    "        panel.background = element_rect(fill = NA)\n",
    "    )"
   ]
  },
  {
   "cell_type": "code",
   "execution_count": 4,
   "id": "d3d5fabe-7e50-4771-948f-93a61fde810c",
   "metadata": {},
   "outputs": [
    {
     "name": "stderr",
     "output_type": "stream",
     "text": [
      "\u001b[1m\u001b[22m`stat_bin()` using `bins = 30`. Pick better value `binwidth`.\n",
      "Warning message in scale_y_log10():\n",
      "“\u001b[1m\u001b[22m\u001b[32mlog-10\u001b[39m transformation introduced infinite values.”\n",
      "Warning message:\n",
      "“\u001b[1m\u001b[22mRemoved 16 rows containing missing values or values outside the scale range (`geom_bar()`).”\n"
     ]
    },
    {
     "data": {
      "image/png": "[encoded data removed]",
      "text/plain": [
       "plot without title"
      ]
     },
     "metadata": {
      "image/png": {
       "height": 120,
       "width": 420
      }
     },
     "output_type": "display_data"
    }
   ],
   "source": [
    "options(repr.plot.width = 7, repr.plot.height = 2)\n",
    "posterior_plot"
   ]
  },
  {
   "cell_type": "markdown",
   "id": "032345a5-6ee4-40cb-9610-c4a337e32754",
   "metadata": {},
   "source": [
    "Main figure panel caption:  Bar plot of distribution of Watershed posterior values for expression (eOutliers), proteomic (pOutliers) and splicing (sOutliers) outliers. "
   ]
  }
 ],
 "metadata": {
  "kernelspec": {
   "display_name": "R",
   "language": "R",
   "name": "ir"
  },
  "language_info": {
   "codemirror_mode": "r",
   "file_extension": ".r",
   "mimetype": "text/x-r-source",
   "name": "R",
   "pygments_lexer": "r",
   "version": "4.4.3"
  }
 },
 "nbformat": 4,
 "nbformat_minor": 5
}
